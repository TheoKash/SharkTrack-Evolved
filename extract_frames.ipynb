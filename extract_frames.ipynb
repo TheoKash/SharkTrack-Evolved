{
 "cells": [
  {
   "cell_type": "code",
   "execution_count": 1,
   "metadata": {},
   "outputs": [],
   "source": [
    "import cv2"
   ]
  },
  {
   "cell_type": "code",
   "execution_count": 28,
   "metadata": {},
   "outputs": [],
   "source": [
    "video = '/Users/filippovarini/Desktop/University/year_4/FYP/data/youtube sample/cropped3.mp4'\n",
    "frame_directory = '../images_raw/bkg/'"
   ]
  },
  {
   "cell_type": "code",
   "execution_count": 29,
   "metadata": {},
   "outputs": [
    {
     "name": "stdout",
     "output_type": "stream",
     "text": [
      "Saved frame 0\n",
      "Saved frame 25\n",
      "Saved frame 50\n",
      "Saved frame 75\n",
      "Saved frame 100\n",
      "Saved frame 125\n",
      "Saved frame 150\n",
      "Saved frame 175\n",
      "Saved frame 200\n",
      "Saved frame 225\n",
      "Saved frame 250\n",
      "Saved frame 275\n",
      "Saved frame 300\n",
      "Saved frame 325\n"
     ]
    }
   ],
   "source": [
    "# Extract frames (2ps) from video and save them as images in frame_directory\n",
    "# FILEPATH: /Volumes/TOSHIBA EXT/data/scripts/extract_frames.ipynb\n",
    "# Extract frames (1 per second) from video and save them as images in frame_directory\n",
    "\n",
    "vidcap = cv2.VideoCapture(video)\n",
    "success, image = vidcap.read()\n",
    "count = 0\n",
    "fps = vidcap.get(cv2.CAP_PROP_FPS)  # Get the frames per second (fps) of the video\n",
    "\n",
    "while success:\n",
    "  if count % int(fps) == 0:  # Save one frame per second\n",
    "    cv2.imwrite(frame_directory + \"frame%d.jpg\" % count, image)  # Save frame as JPEG file\n",
    "    print('Saved frame %d' % count)\n",
    "  success, image = vidcap.read()\n",
    "  count += 1"
   ]
  },
  {
   "cell_type": "code",
   "execution_count": 11,
   "metadata": {},
   "outputs": [
    {
     "data": {
      "text/plain": [
       "15"
      ]
     },
     "execution_count": 11,
     "metadata": {},
     "output_type": "execute_result"
    }
   ],
   "source": [
    "15 % 30"
   ]
  },
  {
   "cell_type": "code",
   "execution_count": null,
   "metadata": {},
   "outputs": [],
   "source": []
  }
 ],
 "metadata": {
  "kernelspec": {
   "display_name": "compvision_torch",
   "language": "python",
   "name": "python3"
  },
  "language_info": {
   "codemirror_mode": {
    "name": "ipython",
    "version": 3
   },
   "file_extension": ".py",
   "mimetype": "text/x-python",
   "name": "python",
   "nbconvert_exporter": "python",
   "pygments_lexer": "ipython3",
   "version": "3.10.13"
  }
 },
 "nbformat": 4,
 "nbformat_minor": 2
}
