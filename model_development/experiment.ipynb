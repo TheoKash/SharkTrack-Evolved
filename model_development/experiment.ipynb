{
 "cells": [
  {
   "cell_type": "markdown",
   "metadata": {},
   "source": [
    "# Model Experimentation\n",
    "This notebook is designed to streamline experimentation with different models.\n",
    "\n",
    "1. Selecting a model, dataset, tracker and hyperparameters\n",
    "2. Training the model and evaluating both object detection and tracking performance\n",
    "3. Saving the results in wandb\n",
    "4. Storing the model and evaluation annotations in a folder\n",
    "5. **Investigation** of the results, detection of failure cases and model improvement\n",
    "6. **Iterating** over steps 1-5\n",
    "\n"
   ]
  },
  {
   "cell_type": "code",
   "execution_count": 18,
   "metadata": {},
   "outputs": [],
   "source": [
    "from architectures import yolov8\n",
    "# import wandb"
   ]
  },
  {
   "cell_type": "markdown",
   "metadata": {},
   "source": [
    "> run `wandb login` in terminal before running this notebook"
   ]
  },
  {
   "cell_type": "markdown",
   "metadata": {},
   "source": [
    "### Select a model, dataset, tracker and hyperparameters"
   ]
  },
  {
   "cell_type": "code",
   "execution_count": null,
   "metadata": {},
   "outputs": [],
   "source": [
    "architectures = {\n",
    "  \"YOLOv8\": YOLOv8\n",
    "  }   # map model name to model class\n",
    "dataset_mapping = {} # map dataset name to dataset class"
   ]
  },
  {
   "cell_type": "code",
   "execution_count": null,
   "metadata": {},
   "outputs": [],
   "source": []
  },
  {
   "cell_type": "code",
   "execution_count": null,
   "metadata": {},
   "outputs": [],
   "source": [
    "def model_experimentation(hyperparameters):\n",
    "  run = wandb.init(project=\"SharkTrack\", config=hyperparameters)\n",
    "\n",
    "  model_name = hyperparameters['model_name']\n",
    "  dataset_name = hyperparameters['dataset_name']\n",
    "\n",
    "  model = model_mapping[model_name]\n",
    "  dataset = dataset_mapping[dataset_name]\n",
    "\n",
    "  model.fit(dataset)\n",
    "  mAP, f1, mota, motp, idf1, graph, annotations =  model.evaluate(dataset)\n",
    "\n",
    "  wandb.log({\"mAP\": mAP, \"F1\": f1, \"MOTA\": mota, \"MOTP\": motp, \"IDF1\": idf1})\n",
    "\n",
    "  # also save path where store model and annotations\n",
    "\n",
    "  # Save model and annotations in hyperparameters[save_path]\n"
   ]
  }
 ],
 "metadata": {
  "kernelspec": {
   "display_name": "default_ml_pytorch",
   "language": "python",
   "name": "python3"
  },
  "language_info": {
   "codemirror_mode": {
    "name": "ipython",
    "version": 3
   },
   "file_extension": ".py",
   "mimetype": "text/x-python",
   "name": "python",
   "nbconvert_exporter": "python",
   "pygments_lexer": "ipython3",
   "version": "3.10.12"
  }
 },
 "nbformat": 4,
 "nbformat_minor": 2
}
