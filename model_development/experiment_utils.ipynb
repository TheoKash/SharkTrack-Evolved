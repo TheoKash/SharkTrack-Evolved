{
 "cells": [
  {
   "cell_type": "code",
   "execution_count": 1,
   "metadata": {},
   "outputs": [],
   "source": [
    "import json\n",
    "import os"
   ]
  },
  {
   "cell_type": "markdown",
   "metadata": {},
   "source": [
    "> run `wandb login` in terminal before running this notebook"
   ]
  },
  {
   "cell_type": "markdown",
   "metadata": {},
   "source": [
    "### Delete model"
   ]
  },
  {
   "cell_type": "code",
   "execution_count": 5,
   "metadata": {},
   "outputs": [],
   "source": [
    "# Delete folder from model_development/models\n",
    "# Delete entry from trained_models.json\n",
    "\n",
    "def delete_model(model_name):\n",
    "  model_path = f\"{STD_MODEL_FOLDER}/{model_name}\"\n",
    "  assert os.path.exists(model_path), f\"Model {model_name} does not exist.\"\n",
    "  os.system(f\"rm -rf {model_path}\")\n",
    "  with open(\"./assets/trained_models.json\", \"r+\") as file:\n",
    "    trained_models = json.load(file)\n",
    "    if model_name in trained_models:\n",
    "      del trained_models[model_name]\n",
    "      file.seek(0)\n",
    "      json.dump(trained_models, file, indent=4)\n",
    "      file.truncate()"
   ]
  }
 ],
 "metadata": {
  "kernelspec": {
   "display_name": "default_ml_pytorch",
   "language": "python",
   "name": "python3"
  },
  "language_info": {
   "codemirror_mode": {
    "name": "ipython",
    "version": 3
   },
   "file_extension": ".py",
   "mimetype": "text/x-python",
   "name": "python",
   "nbconvert_exporter": "python",
   "pygments_lexer": "ipython3",
   "version": "3.10.12"
  }
 },
 "nbformat": 4,
 "nbformat_minor": 2
}
