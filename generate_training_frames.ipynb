{
 "cells": [
  {
   "cell_type": "markdown",
   "metadata": {},
   "source": [
    "# Generate Training Frames with Pretrained Model\n",
    "This is a workflow to use a pretrained YOLO shark tracker to exrtact shark frames from a youtube video, double check them and use them as training frames for a more advanced model.\n",
    "\n",
    "1. Run yolo with source=youtube video\n",
    "2. Generate 1fps annotations from yolo results\n",
    "3. Extract 1fps frames from video\n",
    "4. Upload video and annotations on VIAME\n",
    "5. Double check them [local]\n",
    "6. Download new annotations [local]"
   ]
  },
  {
   "cell_type": "code",
   "execution_count": 1,
   "metadata": {},
   "outputs": [],
   "source": [
    "from ultralytics import YOLO"
   ]
  },
  {
   "cell_type": "markdown",
   "metadata": {},
   "source": [
    "## 1. Run yolo with source=youtube video"
   ]
  },
  {
   "cell_type": "code",
   "execution_count": null,
   "metadata": {},
   "outputs": [],
   "source": [
    "video = 'https://www.youtube.com/watch?v=A8vxE1PdrU8'\n",
    "model_path = '/vol/biomedic3/bglocker/ugproj2324/fv220/dev/shark_locator_tests/runs/detect/train4/weights/best.pt'\n",
    "CONF_TRESHOLD = 0.2"
   ]
  },
  {
   "cell_type": "code",
   "execution_count": null,
   "metadata": {},
   "outputs": [],
   "source": [
    "model_path = '/vol/biomedic3/bglocker/ugproj2324/fv220/dev/shark_locator_tests/runs/detect/train4/weights/best.pt'\n",
    "model = YOLO(model_path)\n",
    "results = model.track(source=video, persist=True)"
   ]
  }
 ],
 "metadata": {
  "kernelspec": {
   "display_name": "default_ml_pytorch",
   "language": "python",
   "name": "python3"
  },
  "language_info": {
   "codemirror_mode": {
    "name": "ipython",
    "version": 3
   },
   "file_extension": ".py",
   "mimetype": "text/x-python",
   "name": "python",
   "nbconvert_exporter": "python",
   "pygments_lexer": "ipython3",
   "version": "3.10.12"
  }
 },
 "nbformat": 4,
 "nbformat_minor": 2
}
