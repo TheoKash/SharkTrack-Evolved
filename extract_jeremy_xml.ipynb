{
 "cells": [
  {
   "cell_type": "code",
   "execution_count": 1,
   "metadata": {},
   "outputs": [],
   "source": [
    "import os\n",
    "import xml.etree.ElementTree as ET\n",
    "import pandas as pd"
   ]
  },
  {
   "cell_type": "code",
   "execution_count": 5,
   "metadata": {},
   "outputs": [],
   "source": [
    "# Define the path to the folder containing the images and annotations\n",
    "folder_path = '../raw/sl/all_annotations/'\n",
    "jpg_folder = '../images/jeremy/'\n",
    "# Initialize an empty list to store the data\n",
    "data = []\n",
    "\n",
    "# Loop through all files in the folder\n",
    "for filename in os.listdir(folder_path):\n",
    "    if filename.endswith('.xml'):  # Check if the file is an XML file\n",
    "        file_path = os.path.join(folder_path, filename)\n",
    "        tree = ET.parse(file_path)\n",
    "        root = tree.getroot()\n",
    "\n",
    "        # Extract the necessary information\n",
    "        jpg_filename = root.find('filename').text\n",
    "\n",
    "        if jpg_filename in os.listdir(jpg_folder):\n",
    "          for obj in root.findall('object'):\n",
    "              name = obj.find('name').text.lower()\n",
    "              if name == 'shark':\n",
    "                bndbox = obj.find('bndbox')\n",
    "                xmin = bndbox.find('xmin').text\n",
    "                xmax = bndbox.find('xmax').text\n",
    "                ymin = bndbox.find('ymin').text\n",
    "                ymax = bndbox.find('ymax').text\n",
    "\n",
    "                # Append the data to the list\n",
    "                data.append({\n",
    "                    'Filename': jpg_filename,\n",
    "                    'Family': 'shark',\n",
    "                    'Genus': None,\n",
    "                    'Species': None,\n",
    "                    'ymin': ymin,\n",
    "                    'xmin': xmin,\n",
    "                    'xmax': xmax,\n",
    "                    'ymax': ymax,\n",
    "                    'Augmentation': None,\n",
    "                    'Source': 'SL'\n",
    "                })\n",
    "              else:\n",
    "                print('Not shark, ' + name)\n",
    "\n",
    "# Create a DataFrame from the data\n",
    "df = pd.DataFrame(data)"
   ]
  },
  {
   "cell_type": "code",
   "execution_count": 7,
   "metadata": {},
   "outputs": [],
   "source": [
    "df.to_csv('../annotations/shark_locator.csv', index=False)"
   ]
  },
  {
   "cell_type": "code",
   "execution_count": null,
   "metadata": {},
   "outputs": [],
   "source": []
  }
 ],
 "metadata": {
  "kernelspec": {
   "display_name": "compvision_torch",
   "language": "python",
   "name": "python3"
  },
  "language_info": {
   "codemirror_mode": {
    "name": "ipython",
    "version": 3
   },
   "file_extension": ".py",
   "mimetype": "text/x-python",
   "name": "python",
   "nbconvert_exporter": "python",
   "pygments_lexer": "ipython3",
   "version": "3.10.13"
  }
 },
 "nbformat": 4,
 "nbformat_minor": 2
}
