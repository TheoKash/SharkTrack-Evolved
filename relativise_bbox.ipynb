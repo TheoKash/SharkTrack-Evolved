{
 "cells": [
  {
   "cell_type": "code",
   "execution_count": 29,
   "metadata": {},
   "outputs": [],
   "source": [
    "import pandas as pd\n",
    "import cv2\n",
    "import os"
   ]
  },
  {
   "cell_type": "code",
   "execution_count": 40,
   "metadata": {},
   "outputs": [],
   "source": [
    "images_folder = '../images/augmented/'\n",
    "annotations_path = '../annotations/augmented_annotations.csv'"
   ]
  },
  {
   "cell_type": "code",
   "execution_count": 41,
   "metadata": {},
   "outputs": [],
   "source": [
    "# I want to convert the xmin, ymin, xmax, ymax in the annotations folder to \n",
    "# relative coordinates. I will do this by dividing by the image width and height\n",
    "# respectively. I will then save these new coordinates in a new csv file.\n",
    "# The annotations file does not have width and height, so I will have to read in\n",
    "# each image and get the width and height from there.\n",
    "\n",
    "# Read in the annotations file\n",
    "annotations_df = pd.read_csv(annotations_path)\n",
    "\n",
    "# Get the image names\n",
    "image_names = annotations_df['Filename'].unique()\n",
    "\n",
    "# Create a new dataframe to store the new coordinates\n",
    "new_df = annotations_df.copy()\n",
    "\n",
    "all_images = os.listdir(images_folder)\n",
    "\n",
    "# Loop through the images\n",
    "for image_name in image_names:\n",
    "    if image_name in all_images:\n",
    "        # Read in the image\n",
    "        image = cv2.imread(images_folder + image_name)\n",
    "        \n",
    "        # Get the width and height\n",
    "        width = image.shape[1]\n",
    "        height = image.shape[0]\n",
    "\n",
    "        # Change type of xmin, ymin, xmax, ymax to float\n",
    "        new_df['xmin'] = new_df['xmin'].astype(float)\n",
    "        new_df['ymin'] = new_df['ymin'].astype(float)\n",
    "        new_df['xmax'] = new_df['xmax'].astype(float)\n",
    "        new_df['ymax'] = new_df['ymax'].astype(float)\n",
    "        \n",
    "        # relative coordinates\n",
    "        xmin = annotations_df.loc[annotations_df['Filename'] == image_name, 'xmin'] / width\n",
    "        ymin = annotations_df.loc[annotations_df['Filename'] == image_name, 'ymin'] / height\n",
    "        xmax = annotations_df.loc[annotations_df['Filename'] == image_name, 'xmax'] / width\n",
    "        ymax = annotations_df.loc[annotations_df['Filename'] == image_name, 'ymax'] / height\n",
    "\n",
    "        # Save the new coordinates\n",
    "        new_df.loc[new_df['Filename'] == image_name, 'xmin'] = xmin\n",
    "        new_df.loc[new_df['Filename'] == image_name, 'ymin'] = ymin\n",
    "        new_df.loc[new_df['Filename'] == image_name, 'xmax'] = xmax\n",
    "        new_df.loc[new_df['Filename'] == image_name, 'ymax'] = ymax\n",
    "    else:\n",
    "        # remove row in new_df with image_name\n",
    "        new_df = new_df[new_df.Filename != image_name]\n"
   ]
  },
  {
   "cell_type": "code",
   "execution_count": 42,
   "metadata": {},
   "outputs": [
    {
     "data": {
      "text/plain": [
       "Filename        878\n",
       "Family          878\n",
       "Genus           878\n",
       "Species         878\n",
       "ymin            878\n",
       "xmin            878\n",
       "xmax            878\n",
       "ymax            878\n",
       "Augmentation    878\n",
       "dtype: int64"
      ]
     },
     "execution_count": 42,
     "metadata": {},
     "output_type": "execute_result"
    }
   ],
   "source": [
    "new_df.count()"
   ]
  },
  {
   "cell_type": "code",
   "execution_count": 43,
   "metadata": {},
   "outputs": [],
   "source": [
    "new_df.to_csv(annotations_path, index=False)"
   ]
  },
  {
   "cell_type": "code",
   "execution_count": null,
   "metadata": {},
   "outputs": [],
   "source": []
  }
 ],
 "metadata": {
  "kernelspec": {
   "display_name": "compvision_torch",
   "language": "python",
   "name": "python3"
  },
  "language_info": {
   "codemirror_mode": {
    "name": "ipython",
    "version": 3
   },
   "file_extension": ".py",
   "mimetype": "text/x-python",
   "name": "python",
   "nbconvert_exporter": "python",
   "pygments_lexer": "ipython3",
   "version": "3.10.13"
  }
 },
 "nbformat": 4,
 "nbformat_minor": 2
}
