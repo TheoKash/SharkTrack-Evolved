{
 "cells": [
  {
   "cell_type": "code",
   "execution_count": 1,
   "metadata": {},
   "outputs": [],
   "source": [
    "import os"
   ]
  },
  {
   "cell_type": "markdown",
   "metadata": {},
   "source": [
    "## Assess no frames per source and macro_source"
   ]
  },
  {
   "cell_type": "code",
   "execution_count": 3,
   "metadata": {},
   "outputs": [],
   "source": [
    "dataset = '/vol/biomedic3/bglocker/ugproj2324/fv220/datasets/phase2'\n",
    "\n",
    "macro_sources = {\n",
    "  'shlife': 0,\n",
    "  'sp': 0,\n",
    "  'gfp': 0,\n",
    "  'val1': 0\n",
    "}\n",
    "\n",
    "sources = {}\n",
    "\n",
    "for folder in os.listdir(dataset):\n",
    "  macro_source = folder.split('_')[0]\n",
    "\n",
    "  images = len(os.listdir(os.path.join(dataset, folder))) - 1\n",
    "  macro_sources[macro_source] += images\n",
    "  sources[folder] = images\n",
    "\n"
   ]
  },
  {
   "cell_type": "code",
   "execution_count": 5,
   "metadata": {},
   "outputs": [
    {
     "name": "stdout",
     "output_type": "stream",
     "text": [
      "{'shlife': 829, 'sp': 588, 'gfp': 5198, 'val1': 120}\n",
      "{'gfp_caledonia1': 236, 'gfp_tonga1': 72, 'gfp_bahamas1': 111, 'shlife_scalloped2': 43, 'gfp_rand3': 15, 'gfp_tiger1': 193, 'gfp_rand9': 252, 'shlife_grey1': 102, 'gfp_tobago1': 201, 'shlife_bull1': 12, 'gfp_fiji1': 226, 'gfp_nwa1': 130, 'gfp_png1': 94, 'shlife_bull6': 27, 'shlife_smooth3': 10, 'gfp_rand4': 78, 'gfp_cuba1': 182, 'gfp_polynesia1': 310, 'shlife_scalloped5': 118, 'gfp_rand11': 33, 'gfp_palau1': 32, 'shlife_scalloped1': 13, 'gfp_bahamas2': 97, 'shlife_grey2': 92, 'sp_palau3': 35, 'shlife_bull2': 86, 'shlife_bull5': 11, 'gfp_jamaica1': 160, 'gfp_solomon1': 51, 'gfp_nwa2': 140, 'gfp_ferdinand1': 145, 'sp_palau4': 180, 'sp_palau': 103, 'gfp_barbados1': 160, 'gfp_rand7': 89, 'gfp_madagascar1': 239, 'gfp_rand5': 176, 'shlife_scalloped4': 75, 'val1_easy1': 20, 'gfp_belize1': 127, 'gfp_mozambique1': 127, 'gfp_rand10': 17, 'gfp_caicos1': 152, 'shlife_bull7': 11, 'shlife_smooth2': 24, 'gfp_niue1': 180, 'gfp_cook1': 218, 'gfp_montserrat1': 114, 'shlife_scalloped3': 33, 'val1_difficult1': 20, 'val1_medium2': 20, 'gfp_rand8': 15, 'gfp_rand2': 89, 'gfp_rand6': 100, 'val1_easy2': 20, 'shlife_bull4': 28, 'sp_palau5': 259, 'shlife_silvertip1': 97, 'shlife_smooth1': 17, 'sp_palau2': 11, 'gfp_hawaii1': 186, 'shlife_bull3': 30, 'gfp_maldives1': 120, 'gfp_samoa1': 86, 'gfp_kiribati1': 95, 'gfp_rand1': 150, 'val1_medium1': 20, 'val1_difficult2': 20}\n"
     ]
    }
   ],
   "source": [
    "print(macro_sources)\n",
    "print(sources)"
   ]
  },
  {
   "cell_type": "markdown",
   "metadata": {},
   "source": []
  },
  {
   "cell_type": "code",
   "execution_count": 6,
   "metadata": {},
   "outputs": [
    {
     "name": "stdout",
     "output_type": "stream",
     "text": [
      "gfp_nwa1: 130\n",
      "shlife_bull1: 12\n",
      "shlife_bull4: 28\n",
      "shlife_bull7: 11\n",
      "shlife_scalloped1: 13\n",
      "shlife_scalloped4: 75\n",
      "shlife_smooth1: 17\n",
      "sp_palau4: 180\n",
      "shlife_bull2: 86\n",
      "shlife_bull5: 11\n",
      "shlife_scalloped2: 43\n",
      "shlife_scalloped5: 118\n",
      "shlife_smooth2: 24\n",
      "shlife_bull6: 27\n",
      "shlife_scalloped3: 33\n",
      "shlife_silvertip1: 97\n",
      "shlife_smooth3: 10\n",
      "sp_palau3: 35\n",
      "shlife_bull3: 30\n",
      "sp_palau: 103\n",
      "sp_palau2: 11\n",
      "val1_difficult2: 20\n",
      "val1_medium1: 20\n",
      "val1_easy1: 20\n",
      "val1_medium2: 20\n",
      "val1_difficult1: 20\n",
      "val1_easy2: 20\n"
     ]
    }
   ],
   "source": [
    "val_sources = {\n",
    "            \t\t\t\"gfp_nwa1\": 1,\n",
    "                \"shlife_bull1\": 1,\n",
    "                \"shlife_bull4\": 1,\n",
    "                \"shlife_bull7\": 1,\n",
    "                \"shlife_scalloped1\": 1,\n",
    "                \"shlife_scalloped4\": 1,\n",
    "                \"shlife_smooth1\": 1,\n",
    "                \"sp_palau4\": 1,\n",
    "                \"shlife_bull2\": 1,\n",
    "                \"shlife_bull5\": 1,\n",
    "                \"shlife_scalloped2\": 1,\n",
    "                \"shlife_scalloped5\": 1,\n",
    "                \"shlife_smooth2\": 1,\n",
    "                \"shlife_bull6\": 1,\n",
    "                \"shlife_scalloped3\": 1,\n",
    "                \"shlife_silvertip1\": 1,\n",
    "                \"shlife_smooth3\": 1,\n",
    "                \"sp_palau3\": 1,\n",
    "                \"shlife_bull3\": 1,\n",
    "                \"sp_palau\": 1,\n",
    "                \"sp_palau2\": 1,\n",
    "                \"val1_difficult2\": 1,\n",
    "                \"val1_medium1\": 1,\n",
    "                \"val1_easy1\": 1,\n",
    "                \"val1_medium2\": 1,\n",
    "                \"val1_difficult1\": 1,\n",
    "                \"val1_easy2\": 1,\n",
    "}\n",
    "\n",
    "for source in val_sources:\n",
    "  print(f'{source}: {sources[source]}')"
   ]
  },
  {
   "cell_type": "code",
   "execution_count": null,
   "metadata": {},
   "outputs": [],
   "source": []
  }
 ],
 "metadata": {
  "kernelspec": {
   "display_name": "Python 3",
   "language": "python",
   "name": "python3"
  },
  "language_info": {
   "codemirror_mode": {
    "name": "ipython",
    "version": 3
   },
   "file_extension": ".py",
   "mimetype": "text/x-python",
   "name": "python",
   "nbconvert_exporter": "python",
   "pygments_lexer": "ipython3",
   "version": "3.10.12"
  }
 },
 "nbformat": 4,
 "nbformat_minor": 2
}
