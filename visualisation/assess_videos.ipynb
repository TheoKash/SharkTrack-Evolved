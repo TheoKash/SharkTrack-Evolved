{
 "cells": [
  {
   "cell_type": "markdown",
   "metadata": {},
   "source": [
    "# Assess Video Folder\n",
    "Calculate total duration of videos, resolution, frame rate and other info of videos in a folder"
   ]
  },
  {
   "cell_type": "code",
   "execution_count": 2,
   "metadata": {},
   "outputs": [
    {
     "name": "stdout",
     "output_type": "stream",
     "text": [
      "Sub-Sub-Folder: AXA_2021_10_16_0905_WP76_B110_SEABED_Sombrero, Avg Videos: 18, Total Time: 12531.952766666669 seconds\n",
      "Sub-Sub-Folder: AXA_2021_10_16_1125_WP80_B114_SEABED_Sombrero, Avg Videos: 18, Total Time: 12505.960133333334 seconds\n",
      "Sub-Sub-Folder: AXA_2021_10_26_0737_WP08_B110_SEABED_SANDYISLAND, Avg Videos: 14, Total Time: 9622.412799999998 seconds\n",
      "Sub-Sub-Folder: AXA_2021_10_11_0951_WP58_B110_SEABED_Dog_Island, Avg Videos: 14, Total Time: 8610.868933333331 seconds\n",
      "Sub-Sub-Folder: AXA_2021_10_13_1132_WP74_B114_SEABED_Corito, Avg Videos: 18, Total Time: 11829.284133333333 seconds\n",
      "Sub-Sub-Folder: AXA_2021_10_26_0929_WP11_B111_SEABED_LITTLEBAY, Avg Videos: 0, Total Time: 0.0 seconds\n",
      "Sub-Sub-Folder: AXA_2021_10_25_0954_WP05_B111_SEABED_SHOALBAY, Avg Videos: 12, Total Time: 7657.783466666665 seconds\n",
      "Sub-Sub-Folder: AXA_2021_10_25_0807_WP01_B110_SEABED_ISLANDHARB, Avg Videos: 12, Total Time: 8042.234199999998 seconds\n",
      "Sub-Sub-Folder: AXA_2021_10_26_0745_WP09_B114_SEABED_SANDYISLAND, Avg Videos: 12, Total Time: 8507.498999999998 seconds\n",
      "Sub-Sub-Folder: AXA_2021_10_27_0805_WP15_B110_SEABED_LONGREEF, Avg Videos: 12, Total Time: 7951.943999999998 seconds\n",
      "Sub-Sub-Folder: AXA_2021_10_27_0939_WP19_B114_SEABED_LONGREEF, Avg Videos: 14, Total Time: 9021.178833333333 seconds\n"
     ]
    },
    {
     "name": "stderr",
     "output_type": "stream",
     "text": [
      "[mov,mp4,m4a,3gp,3g2,mj2 @ 0x555903a46c40] moov atom not found\n"
     ]
    },
    {
     "name": "stdout",
     "output_type": "stream",
     "text": [
      "Sub-Sub-Folder: AXA_2021_10_25_0945_WP04_B114_SEABED_SHOALBAY, Avg Videos: 3, Total Time: 2127.125 seconds\n",
      "Sub-Sub-Folder: AXA_2021_10_12_1000_WP65_B110_SEABED_Scrub_Island, Avg Videos: 10, Total Time: 7078.938533333332 seconds\n",
      "Sub-Sub-Folder: AXA_2021_10_16_0917_WP77_B114_SEABED_Sombrero, Avg Videos: 0, Total Time: 0.0 seconds\n",
      "Sub-Sub-Folder: AXA_2021_10_08_1100_WP53_B111_SEABED_Prickly_Pear, Avg Videos: 12, Total Time: 8501.025866666665 seconds\n",
      "Sub-Sub-Folder: AXA_2021_10_13_1125_WP73_B111_SEABED_Corito, Avg Videos: 16, Total Time: 11359.348000000002 seconds\n",
      "Sub-Sub-Folder: AXA_2021_10_13_0858_WP67_B114_SEABED_Blowing_Point, Avg Videos: 16, Total Time: 10918.240666666667 seconds\n",
      "Sub-Sub-Folder: AXA_2021_10_07_0822_WP13_B114_SEABED_Anguillita, Avg Videos: 0, Total Time: 0.0 seconds\n",
      "Sub-Sub-Folder: AXA_2021_10_25_1000_WP06_B110_SEABED_SHOALBAY, Avg Videos: 12, Total Time: 7609.234966666665 seconds\n",
      "Sub-Sub-Folder: AXA_2021_10_11_1007_WP60_B111_SEABED_Dog_Island, Avg Videos: 0, Total Time: 0.0 seconds\n",
      "Sub-Sub-Folder: AXA_2021_10_26_0939_WP13_B110_SEABED_LITTLEBAY, Avg Videos: 12, Total Time: 8453.01123333333 seconds\n",
      "Sub-Sub-Folder: AXA_2021_10_26_0934_WP12_B114_SEABED_LITTLEBAY, Avg Videos: 14, Total Time: 8579.2707 seconds\n",
      "Sub-Sub-Folder: AXA_2021_10_11_0955_WP59_B114_SEABED_Dog_Island, Avg Videos: 14, Total Time: 9191.482299999998 seconds\n",
      "Sub-Sub-Folder: AXA_2021_10_08_0930_WP49_B111_SEABED_Prickly_Pear, Avg Videos: 14, Total Time: 9254.878966666665 seconds\n",
      "Sub-Sub-Folder: AXA_2021_10_13_0909_WP68_B111_SEABED_Blowing_Point, Avg Videos: 16, Total Time: 10926.890975 seconds\n",
      "Sub-Sub-Folder: AXA_2021_10_16_0925_WP78_B111_SEABED_Sombrero, Avg Videos: 18, Total Time: 12342.2299 seconds\n",
      "Sub-Sub-Folder: AXA_2021_10_13_0938_WP70_B113_SEABED_Blowing_Point, Avg Videos: 14, Total Time: 9418.5091 seconds\n",
      "Sub-Sub-Folder: AXA_2021_10_28_0825_WP20_B114_SEABED_JUNKSHOLE, Avg Videos: 16, Total Time: 10707.963933333333 seconds\n",
      "Sub-Sub-Folder: AXA_2021_10_25_0829_WP03_B114_SEABED_ISLANDHARB, Avg Videos: 10, Total Time: 6989.615966666665 seconds\n",
      "Sub-Sub-Folder: AXA_2021_10_16_1130_WP81_B111_SEABED_Sombrero, Avg Videos: 18, Total Time: 12756.744 seconds\n",
      "Sub-Sub-Folder: AXA_2021_10_28_0833_WP21_B110_SEABED_JUNKSHOLE, Avg Videos: 16, Total Time: 10320.076433333332 seconds\n",
      "Sub-Sub-Folder: AXA_2021_10_12_0829_WP62_B110_SEABED_Scrub_Island, Avg Videos: 10, Total Time: 7088.080999999998 seconds\n",
      "Sub-Sub-Folder: AXA_2021_10_12_0955_WP64_B111_SEABED_Scrub_Island, Avg Videos: 12, Total Time: 8009.568233333332 seconds\n",
      "Sub-Sub-Folder: AXA_2021_10_27_0935_WP18_B110_SEABED_LONGREEF, Avg Videos: 12, Total Time: 8450.408633333333 seconds\n",
      "Sub-Sub-Folder: AXA_2021_10_11_0808_WP57_B110_SEABED_Dog_Island, Avg Videos: 16, Total Time: 10370.326633333334 seconds\n",
      "Sub-Sub-Folder: AXA_2021_10_12_0836_WP63_B111_SEABED_Scrub_Island, Avg Videos: 0, Total Time: 0.0 seconds\n",
      "Sub-Sub-Folder: AXA_2021_10_12_0822_WP61_B114_SEABED_Scrub_Island, Avg Videos: 0, Total Time: 0.0 seconds\n",
      "Sub-Sub-Folder: AXA_2021_10_08_1110_WP54_B114_SEABED_Prickly_Pear, Avg Videos: 0, Total Time: 0.0 seconds\n",
      "Subfolder: /vol/biomedic3/bglocker/ugproj2324/fv220/datasets/videos_raw/mwitt/AXA_OCT21_no_streams/, Total Videos: 425, Total Time: 286734.08930833335 seconds\n",
      "Total Videos: 425, Total Length: 286734.08930833335 seconds\n",
      "Resolution Counter: {'1920x1080': 425}, FPS Counter: {29.97002997002997: 403, 23.976023976023978: 22}\n"
     ]
    }
   ],
   "source": [
    "import os\n",
    "import cv2\n",
    "\n",
    "def analyze_videos(base_folder):\n",
    "    total_videos = 0\n",
    "    total_length = 0.0\n",
    "    resolution_counter = {}\n",
    "    fps_counter = {}\n",
    "\n",
    "    # for subfolder in os.listdir(base_folder):\n",
    "    for subfolder in [base_folder]:\n",
    "        subfolder_path = os.path.join(base_folder, subfolder)\n",
    "        if not os.path.isdir(subfolder_path):\n",
    "            continue\n",
    "\n",
    "        subfolder_video_count = 0\n",
    "        subfolder_total_length = 0\n",
    "\n",
    "        for sub_sub_folder in os.listdir(subfolder_path):\n",
    "            sub_sub_folder_path = os.path.join(subfolder_path, sub_sub_folder)\n",
    "            if not os.path.isdir(sub_sub_folder_path):\n",
    "                continue\n",
    "\n",
    "            videos_in_sub_sub_folder = 0\n",
    "            total_length_in_sub_sub_folder = 0.0\n",
    "\n",
    "            for file in os.listdir(sub_sub_folder_path):\n",
    "                if not file.endswith(('.mp4', '.avi', '.mov')):  # Add or remove video formats as needed\n",
    "                    continue\n",
    "                \n",
    "                video_path = os.path.join(sub_sub_folder_path, file)\n",
    "                cap = cv2.VideoCapture(video_path)\n",
    "                if not cap.isOpened():\n",
    "                    continue\n",
    "\n",
    "                length = int(cap.get(cv2.CAP_PROP_FRAME_COUNT)) / cap.get(cv2.CAP_PROP_FPS)\n",
    "                total_length_in_sub_sub_folder += length\n",
    "                videos_in_sub_sub_folder += 1\n",
    "\n",
    "                resolution = f\"{int(cap.get(cv2.CAP_PROP_FRAME_WIDTH))}x{int(cap.get(cv2.CAP_PROP_FRAME_HEIGHT))}\"\n",
    "                fps = cap.get(cv2.CAP_PROP_FPS)\n",
    "                \n",
    "                resolution_counter[resolution] = resolution_counter.get(resolution, 0) + 1\n",
    "                fps_counter[fps] = fps_counter.get(fps, 0) + 1\n",
    "\n",
    "                cap.release()\n",
    "\n",
    "            print(f\"Sub-Sub-Folder: {sub_sub_folder}, Avg Videos: {videos_in_sub_sub_folder}, Total Time: {total_length_in_sub_sub_folder} seconds\")\n",
    "            subfolder_video_count += videos_in_sub_sub_folder\n",
    "            subfolder_total_length += total_length_in_sub_sub_folder\n",
    "\n",
    "        print(f\"Subfolder: {subfolder}, Total Videos: {subfolder_video_count}, Total Time: {subfolder_total_length} seconds\")\n",
    "        total_videos += subfolder_video_count\n",
    "        total_length += subfolder_total_length\n",
    "\n",
    "    print(f\"Total Videos: {total_videos}, Total Length: {total_length} seconds\")\n",
    "    print(f\"Resolution Counter: {resolution_counter}, FPS Counter: {fps_counter}\")\n",
    "\n",
    "# Replace 'video_folder' with the path to your video folder\n",
    "video_folder = '/vol/biomedic3/bglocker/ugproj2324/fv220/datasets/videos_raw/mwitt/AXA_OCT21_no_streams/'\n",
    "analyze_videos(video_folder)\n"
   ]
  },
  {
   "cell_type": "code",
   "execution_count": null,
   "metadata": {},
   "outputs": [],
   "source": []
  }
 ],
 "metadata": {
  "kernelspec": {
   "display_name": "default_ml_pytorch",
   "language": "python",
   "name": "python3"
  },
  "language_info": {
   "codemirror_mode": {
    "name": "ipython",
    "version": 3
   },
   "file_extension": ".py",
   "mimetype": "text/x-python",
   "name": "python",
   "nbconvert_exporter": "python",
   "pygments_lexer": "ipython3",
   "version": "3.10.12"
  }
 },
 "nbformat": 4,
 "nbformat_minor": 2
}
