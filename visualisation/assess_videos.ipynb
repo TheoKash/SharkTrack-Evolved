{
 "cells": [
  {
   "cell_type": "markdown",
   "metadata": {},
   "source": [
    "# Assess Video Folder\n",
    "Calculate total duration of videos, resolution, frame rate and other info of videos in a folder"
   ]
  },
  {
   "cell_type": "code",
   "execution_count": null,
   "metadata": {},
   "outputs": [],
   "source": [
    "import os\n",
    "import cv2\n",
    "\n",
    "def analyze_videos(base_folder):\n",
    "    total_videos = 0\n",
    "    total_length = 0.0\n",
    "    resolution_counter = {}\n",
    "    fps_counter = {}\n",
    "\n",
    "    # for subfolder in os.listdir(base_folder):\n",
    "    for subfolder in os.listdir(base_folder):\n",
    "        subfolder_path = os.path.join(base_folder, subfolder)\n",
    "        if not os.path.isdir(subfolder_path):\n",
    "            continue\n",
    "\n",
    "        subfolder_video_count = 0\n",
    "        subfolder_total_length = 0\n",
    "\n",
    "        for sub_sub_folder in os.listdir(subfolder_path):\n",
    "            sub_sub_folder_path = os.path.join(subfolder_path, sub_sub_folder)\n",
    "            if not os.path.isdir(sub_sub_folder_path):\n",
    "                continue\n",
    "\n",
    "            videos_in_sub_sub_folder = 0\n",
    "            total_length_in_sub_sub_folder = 0.0\n",
    "\n",
    "            for file in os.listdir(sub_sub_folder_path):\n",
    "                if not file.endswith(('.mp4', '.avi', '.mov')):  # Add or remove video formats as needed\n",
    "                    continue\n",
    "                \n",
    "                video_path = os.path.join(sub_sub_folder_path, file)\n",
    "                cap = cv2.VideoCapture(video_path)\n",
    "                if not cap.isOpened():\n",
    "                    continue\n",
    "\n",
    "                length = int(cap.get(cv2.CAP_PROP_FRAME_COUNT)) / cap.get(cv2.CAP_PROP_FPS)\n",
    "                total_length_in_sub_sub_folder += length\n",
    "                videos_in_sub_sub_folder += 1\n",
    "\n",
    "                resolution = f\"{int(cap.get(cv2.CAP_PROP_FRAME_WIDTH))}x{int(cap.get(cv2.CAP_PROP_FRAME_HEIGHT))}\"\n",
    "                fps = cap.get(cv2.CAP_PROP_FPS)\n",
    "                \n",
    "                resolution_counter[resolution] = resolution_counter.get(resolution, 0) + 1\n",
    "                fps_counter[fps] = fps_counter.get(fps, 0) + 1\n",
    "\n",
    "                cap.release()\n",
    "\n",
    "            print(f\"Sub-Sub-Folder: {sub_sub_folder}, Avg Videos: {videos_in_sub_sub_folder}, Total Time: {total_length_in_sub_sub_folder} seconds\")\n",
    "            subfolder_video_count += videos_in_sub_sub_folder\n",
    "            subfolder_total_length += total_length_in_sub_sub_folder\n",
    "\n",
    "        print(f\"Subfolder: {subfolder}, Total Videos: {subfolder_video_count}, Total Time: {subfolder_total_length} seconds\")\n",
    "        total_videos += subfolder_video_count\n",
    "        total_length += subfolder_total_length\n",
    "\n",
    "    print(f\"Total Videos: {total_videos}, Total Length: {total_length} seconds\")\n",
    "    print(f\"Resolution Counter: {resolution_counter}, FPS Counter: {fps_counter}\")\n",
    "\n",
    "# Replace 'video_folder' with the path to your video folder\n",
    "video_folder = '/path/to/your/video_folder'\n",
    "analyze_videos(video_folder)\n"
   ]
  }
 ],
 "metadata": {
  "language_info": {
   "name": "python"
  }
 },
 "nbformat": 4,
 "nbformat_minor": 2
}
