{
 "cells": [
  {
   "cell_type": "markdown",
   "metadata": {},
   "source": [
    "# Assess Video Folder\n",
    "Calculate total duration of videos, resolution, frame rate and other info of videos in a folder"
   ]
  },
  {
   "cell_type": "code",
   "execution_count": 1,
   "metadata": {},
   "outputs": [
    {
     "name": "stdout",
     "output_type": "stream",
     "text": [
      "Sub-Sub-Folder: AXA_2023-1900711, Avg Videos: 23, Total Time: 15354.339000000005 seconds\n",
      "Sub-Sub-Folder: AXA_2023-1810611, Avg Videos: 20, Total Time: 13323.209900000002 seconds\n",
      "Sub-Sub-Folder: AXA_2023-1860611, Avg Videos: 22, Total Time: 14926.411500000002 seconds\n",
      "Sub-Sub-Folder: AXA_2023-1970711, Avg Videos: 22, Total Time: 15184.869700000001 seconds\n",
      "Sub-Sub-Folder: AXA_2023-1880611, Avg Videos: 24, Total Time: 16275.826233333339 seconds\n"
     ]
    },
    {
     "name": "stderr",
     "output_type": "stream",
     "text": [
      "[mov,mp4,m4a,3gp,3g2,mj2 @ 0x561a8f24bb00] moov atom not found\n",
      "[mov,mp4,m4a,3gp,3g2,mj2 @ 0x561a8f24ddc0] moov atom not found\n"
     ]
    },
    {
     "name": "stdout",
     "output_type": "stream",
     "text": [
      "Sub-Sub-Folder: AXA_2023-2131011, Avg Videos: 9, Total Time: 5716.077033333333 seconds\n"
     ]
    },
    {
     "name": "stderr",
     "output_type": "stream",
     "text": [
      "[mov,mp4,m4a,3gp,3g2,mj2 @ 0x561a8f24ddc0] moov atom not found\n"
     ]
    },
    {
     "name": "stdout",
     "output_type": "stream",
     "text": [
      "Sub-Sub-Folder: AXA_2023-1990711, Avg Videos: 21, Total Time: 14425.344266666669 seconds\n",
      "Sub-Sub-Folder: AXA_2023-2070711, Avg Videos: 22, Total Time: 14617.53626666667 seconds\n",
      "Sub-Sub-Folder: AXA_2023-2000711, Avg Videos: 22, Total Time: 15433.518100000003 seconds\n",
      "Sub-Sub-Folder: AXA_2023-1980711, Avg Videos: 22, Total Time: 15334.719400000004 seconds\n",
      "Sub-Sub-Folder: AXA_2023-2121011, Avg Videos: 22, Total Time: 15421.239166666668 seconds\n",
      "Sub-Sub-Folder: AXA_2023-1870611, Avg Videos: 24, Total Time: 15683.834833333336 seconds\n",
      "Sub-Sub-Folder: AXA_2023-1960711, Avg Videos: 11, Total Time: 7601.527266666666 seconds\n",
      "Sub-Sub-Folder: AXA_2023-1910711, Avg Videos: 22, Total Time: 14979.030733333337 seconds\n",
      "Sub-Sub-Folder: AXA_2023-1800611, Avg Videos: 22, Total Time: 14834.95346666667 seconds\n",
      "Sub-Sub-Folder: AXA_2023-2010711, Avg Videos: 24, Total Time: 15751.836100000004 seconds\n",
      "Sub-Sub-Folder: AXA_2023-2060711, Avg Videos: 22, Total Time: 14521.240066666669 seconds\n",
      "Sub-Sub-Folder: AXA_2023-2080711, Avg Videos: 22, Total Time: 14650.268966666668 seconds\n",
      "Sub-Sub-Folder: AXA_2023-1890711, Avg Videos: 24, Total Time: 16229.713500000002 seconds\n",
      "Sub-Sub-Folder: AXA_2023-2050711, Avg Videos: 22, Total Time: 14464.349900000003 seconds\n",
      "Sub-Sub-Folder: AXA_2023-2020711, Avg Videos: 12, Total Time: 7829.855366666665 seconds\n",
      "Sub-Sub-Folder: AXA_2023-2091011, Avg Videos: 23, Total Time: 16127.544766666668 seconds\n",
      "Sub-Sub-Folder: AXA_2023-2111011, Avg Videos: 12, Total Time: 7918.4438666666665 seconds\n",
      "Sub-Sub-Folder: AXA_2023-1920711, Avg Videos: 24, Total Time: 15744.36196666667 seconds\n",
      "Sub-Sub-Folder: AXA_2023-1830611, Avg Videos: 22, Total Time: 14962.314033333336 seconds\n",
      "Sub-Sub-Folder: AXA_2023-1840611, Avg Videos: 22, Total Time: 15060.545500000002 seconds\n",
      "Sub-Sub-Folder: AXA_2023-1950711, Avg Videos: 22, Total Time: 14816.234766666668 seconds\n",
      "Sub-Sub-Folder: AXA_2023-2030711, Avg Videos: 23, Total Time: 15648.799833333336 seconds\n",
      "Sub-Sub-Folder: AXA_2023-1790611, Avg Videos: 22, Total Time: 15019.270933333335 seconds\n",
      "Sub-Sub-Folder: AXA_2023-2040711, Avg Videos: 22, Total Time: 14710.062033333335 seconds\n",
      "Sub-Sub-Folder: AXA_2023-1850611, Avg Videos: 22, Total Time: 15369.187166666668 seconds\n",
      "Sub-Sub-Folder: AXA_2023-1940711, Avg Videos: 22, Total Time: 15070.889166666668 seconds\n",
      "Sub-Sub-Folder: AXA_2023-1930711, Avg Videos: 23, Total Time: 15424.976233333335 seconds\n",
      "Sub-Sub-Folder: AXA_2023-1820611, Avg Videos: 21, Total Time: 14148.567766666669 seconds\n",
      "Sub-Sub-Folder: AXA_2023-2101011, Avg Videos: 23, Total Time: 15468.019233333336 seconds\n",
      "Subfolder: /vol/biomedic3/bglocker/ugproj2324/fv220/datasets/videos_raw/mwitt/AXA_NOV23_no_streams/, Total Videos: 737, Total Time: 498048.91803333344 seconds\n",
      "Total Videos: 737, Total Length: 498048.91803333344 seconds\n",
      "Resolution Counter: {'1920x1080': 737}, FPS Counter: {29.97002997002997: 737}\n"
     ]
    }
   ],
   "source": [
    "import os\n",
    "import cv2\n",
    "\n",
    "def analyze_videos(base_folder):\n",
    "    total_videos = 0\n",
    "    total_length = 0.0\n",
    "    resolution_counter = {}\n",
    "    fps_counter = {}\n",
    "\n",
    "    # for subfolder in os.listdir(base_folder):\n",
    "    for subfolder in [base_folder]:\n",
    "        subfolder_path = os.path.join(base_folder, subfolder)\n",
    "        if not os.path.isdir(subfolder_path):\n",
    "            continue\n",
    "\n",
    "        subfolder_video_count = 0\n",
    "        subfolder_total_length = 0\n",
    "\n",
    "        for sub_sub_folder in os.listdir(subfolder_path):\n",
    "            sub_sub_folder_path = os.path.join(subfolder_path, sub_sub_folder)\n",
    "            if not os.path.isdir(sub_sub_folder_path):\n",
    "                continue\n",
    "\n",
    "            videos_in_sub_sub_folder = 0\n",
    "            total_length_in_sub_sub_folder = 0.0\n",
    "\n",
    "            for file in os.listdir(sub_sub_folder_path):\n",
    "                if not file.endswith(('.mp4', '.avi', '.mov')):  # Add or remove video formats as needed\n",
    "                    continue\n",
    "                \n",
    "                video_path = os.path.join(sub_sub_folder_path, file)\n",
    "                cap = cv2.VideoCapture(video_path)\n",
    "                if not cap.isOpened():\n",
    "                    continue\n",
    "\n",
    "                length = int(cap.get(cv2.CAP_PROP_FRAME_COUNT)) / cap.get(cv2.CAP_PROP_FPS)\n",
    "                total_length_in_sub_sub_folder += length\n",
    "                videos_in_sub_sub_folder += 1\n",
    "\n",
    "                resolution = f\"{int(cap.get(cv2.CAP_PROP_FRAME_WIDTH))}x{int(cap.get(cv2.CAP_PROP_FRAME_HEIGHT))}\"\n",
    "                fps = cap.get(cv2.CAP_PROP_FPS)\n",
    "                \n",
    "                resolution_counter[resolution] = resolution_counter.get(resolution, 0) + 1\n",
    "                fps_counter[fps] = fps_counter.get(fps, 0) + 1\n",
    "\n",
    "                cap.release()\n",
    "\n",
    "            print(f\"Sub-Sub-Folder: {sub_sub_folder}, Avg Videos: {videos_in_sub_sub_folder}, Total Time: {total_length_in_sub_sub_folder} seconds\")\n",
    "            subfolder_video_count += videos_in_sub_sub_folder\n",
    "            subfolder_total_length += total_length_in_sub_sub_folder\n",
    "\n",
    "        print(f\"Subfolder: {subfolder}, Total Videos: {subfolder_video_count}, Total Time: {subfolder_total_length} seconds\")\n",
    "        total_videos += subfolder_video_count\n",
    "        total_length += subfolder_total_length\n",
    "\n",
    "    print(f\"Total Videos: {total_videos}, Total Length: {total_length} seconds\")\n",
    "    print(f\"Resolution Counter: {resolution_counter}, FPS Counter: {fps_counter}\")\n",
    "\n",
    "# Replace 'video_folder' with the path to your video folder\n",
    "video_folder = '/vol/biomedic3/bglocker/ugproj2324/fv220/datasets/videos_raw/mwitt/AXA_NOV23_no_streams/'\n",
    "analyze_videos(video_folder)\n"
   ]
  }
 ],
 "metadata": {
  "kernelspec": {
   "display_name": "default_ml_pytorch",
   "language": "python",
   "name": "python3"
  },
  "language_info": {
   "codemirror_mode": {
    "name": "ipython",
    "version": 3
   },
   "file_extension": ".py",
   "mimetype": "text/x-python",
   "name": "python",
   "nbconvert_exporter": "python",
   "pygments_lexer": "ipython3",
   "version": "3.10.12"
  }
 },
 "nbformat": 4,
 "nbformat_minor": 2
}
