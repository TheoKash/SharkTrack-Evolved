{
 "cells": [
  {
   "cell_type": "code",
   "execution_count": 1,
   "metadata": {},
   "outputs": [],
   "source": [
    "import os\n",
    "import cv2"
   ]
  },
  {
   "cell_type": "markdown",
   "metadata": {},
   "source": [
    "## Rename .MP4 to .mp4"
   ]
  },
  {
   "cell_type": "code",
   "execution_count": 9,
   "metadata": {},
   "outputs": [],
   "source": [
    "video_folder = '/vol/biomedic3/bglocker/ugproj2324/fv220/datasets/videos_raw/mwitt/AXA_OCT21'\n",
    "\n",
    "for file in os.listdir(video_folder):\n",
    "  # if file is folder\n",
    "  if os.path.isdir(os.path.join(video_folder, file)):\n",
    "    for video in os.listdir(os.path.join(video_folder, file)):\n",
    "      # if file is video\n",
    "      if video.endswith('.MP4'):\n",
    "        # rename to <video>.mp4\n",
    "        video_name = video.replace('.MP4', '.mp4')\n",
    "        os.rename(os.path.join(video_folder, file, video), os.path.join(video_folder, file, video_name))"
   ]
  },
  {
   "cell_type": "markdown",
   "metadata": {},
   "source": [
    "## Reproduce video directory"
   ]
  },
  {
   "cell_type": "code",
   "execution_count": 5,
   "metadata": {},
   "outputs": [
    {
     "name": "stdout",
     "output_type": "stream",
     "text": [
      "AXA_2021_10_13_1132_WP74_B114_SEABED_Corito\n",
      "AXA_2021_10_16_0925_WP78_B111_SEABED_Sombrero\n",
      "AXA_2021_10_11_0955_WP59_B114_SEABED_Dog_Island\n",
      "AXA_2021_10_28_0833_WP21_B110_SEABED_JUNKSHOLE\n",
      "AXA_2021_10_25_0829_WP03_B114_SEABED_ISLANDHARB\n",
      "AXA_2021_10_26_0934_WP12_B114_SEABED_LITTLEBAY\n",
      "AXA_2021_10_13_1125_WP73_B111_SEABED_Corito\n",
      "AXA_2021_10_27_0935_WP18_B110_SEABED_LONGREEF\n",
      "AXA_2021_10_12_1000_WP65_B110_SEABED_Scrub_Island\n",
      "AXA_2021_10_08_1100_WP53_B111_SEABED_Prickly_Pear\n",
      "AXA_2021_10_28_0825_WP20_B114_SEABED_JUNKSHOLE\n",
      "AXA_2021_10_13_0938_WP70_B113_SEABED_Blowing_Point\n",
      "AXA_2021_10_13_0909_WP68_B111_SEABED_Blowing_Point\n",
      "AXA_2021_10_11_0808_WP57_B110_SEABED_Dog_Island\n",
      "AXA_2021_10_16_1130_WP81_B111_SEABED_Sombrero\n",
      "AXA_2021_10_25_0954_WP05_B111_SEABED_SHOALBAY\n",
      "AXA_2021_10_08_0930_WP49_B111_SEABED_Prickly_Pear\n",
      "AXA_2021_10_26_0737_WP08_B110_SEABED_SANDYISLAND\n",
      "AXA_2021_10_11_0951_WP58_B110_SEABED_Dog_Island\n",
      "AXA_2021_10_16_0905_WP76_B110_SEABED_Sombrero\n",
      "AXA_2021_10_16_1125_WP80_B114_SEABED_Sombrero\n",
      "AXA_2021_10_13_0858_WP67_B114_SEABED_Blowing_Point\n",
      "AXA_2021_10_26_0745_WP09_B114_SEABED_SANDYISLAND\n",
      "AXA_2021_10_26_0939_WP13_B110_SEABED_LITTLEBAY\n",
      "AXA_2021_10_25_0807_WP01_B110_SEABED_ISLANDHARB\n",
      "AXA_2021_10_25_1000_WP06_B110_SEABED_SHOALBAY\n",
      "AXA_2021_10_12_0829_WP62_B110_SEABED_Scrub_Island\n",
      "AXA_2021_10_12_0955_WP64_B111_SEABED_Scrub_Island\n",
      "AXA_2021_10_27_0805_WP15_B110_SEABED_LONGREEF\n",
      "AXA_2021_10_27_0939_WP19_B114_SEABED_LONGREEF\n",
      "AXA_2021_10_25_0945_WP04_B114_SEABED_SHOALBAY\n",
      "AXA_2021_10_11_1007_WP60_B111_SEABED_Dog_Island\n",
      "AXA_2021_10_07_0822_WP13_B114_SEABED_Anguillita\n",
      "AXA_2021_10_26_0929_WP11_B111_SEABED_LITTLEBAY\n",
      "AXA_2021_10_12_0836_WP63_B111_SEABED_Scrub_Island\n",
      "AXA_2021_10_08_1110_WP54_B114_SEABED_Prickly_Pear\n",
      "AXA_2021_10_12_0822_WP61_B114_SEABED_Scrub_Island\n",
      "AXA_2021_10_16_0917_WP77_B114_SEABED_Sombrero\n"
     ]
    }
   ],
   "source": [
    "import os\n",
    "\n",
    "input_path = '/vol/biomedic3/bglocker/ugproj2324/fv220/datasets/videos_raw/mwitt/AXA_OCT21'\n",
    "output_path = '/vol/biomedic3/bglocker/ugproj2324/fv220/datasets/videos_raw/mwitt/AXA_OCT21_no_streams'\n",
    "\n",
    "for file in os.listdir(input_path):\n",
    "  # check if file is dir\n",
    "  if os.path.isdir(os.path.join(input_path, file)):\n",
    "    print(file)\n",
    "    os.makedirs(os.path.join(output_path, file))"
   ]
  },
  {
   "cell_type": "code",
   "execution_count": null,
   "metadata": {},
   "outputs": [],
   "source": []
  }
 ],
 "metadata": {
  "kernelspec": {
   "display_name": "default_ml_pytorch",
   "language": "python",
   "name": "python3"
  },
  "language_info": {
   "codemirror_mode": {
    "name": "ipython",
    "version": 3
   },
   "file_extension": ".py",
   "mimetype": "text/x-python",
   "name": "python",
   "nbconvert_exporter": "python",
   "pygments_lexer": "ipython3",
   "version": "3.10.12"
  }
 },
 "nbformat": 4,
 "nbformat_minor": 2
}
