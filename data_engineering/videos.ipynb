{
 "cells": [
  {
   "cell_type": "code",
   "execution_count": 1,
   "metadata": {},
   "outputs": [],
   "source": [
    "import os\n",
    "import cv2"
   ]
  },
  {
   "cell_type": "markdown",
   "metadata": {},
   "source": [
    "## Rename .MP4 to .mp4"
   ]
  },
  {
   "cell_type": "code",
   "execution_count": null,
   "metadata": {},
   "outputs": [],
   "source": [
    "video_folder = '/vol/biomedic3/bglocker/ugproj2324/fv220/datasets/videos_raw/mwitt/AXA_JUN22'\n",
    "\n",
    "for file in os.listdir(video_folder):\n",
    "  # if file is folder\n",
    "  if os.path.isdir(os.path.join(video_folder, file)):\n",
    "    for video in os.listdir(os.path.join(video_folder, file)):\n",
    "      # if file is video\n",
    "      if video.endswith('.MP4'):\n",
    "        # rename to <video>.mp4\n",
    "        video_name = video.replace('.MP4', '.mp4')\n",
    "        os.rename(os.path.join(video_folder, file, video), os.path.join(video_folder, file, video_name))"
   ]
  },
  {
   "cell_type": "markdown",
   "metadata": {},
   "source": [
    "## Remove all streams but visual from video"
   ]
  },
  {
   "cell_type": "code",
   "execution_count": 5,
   "metadata": {},
   "outputs": [
    {
     "name": "stdout",
     "output_type": "stream",
     "text": [
      "AXA_2023-1990711\n",
      "AXA_2023-2131011\n",
      "AXA_2023-1880611\n",
      "AXA_2023-1810611\n",
      "AXA_2023-1900711\n",
      "AXA_2023-1970711\n",
      "AXA_2023-1860611\n",
      "AXA_2023-2070711\n",
      "AXA_2023-2000711\n",
      "AXA_2023-1960711\n",
      "AXA_2023-1870611\n",
      "AXA_2023-1800611\n",
      "AXA_2023-1910711\n",
      "AXA_2023-2121011\n",
      "AXA_2023-1980711\n",
      "AXA_2023-1890711\n",
      "AXA_2023-2080711\n",
      "AXA_2023-2010711\n",
      "AXA_2023-2060711\n",
      "AXA_2023-2091011\n",
      "AXA_2023-2050711\n",
      "AXA_2023-2020711\n",
      "AXA_2023-1830611\n",
      "AXA_2023-1920711\n",
      "AXA_2023-1950711\n",
      "AXA_2023-1840611\n",
      "AXA_2023-2111011\n",
      "AXA_2023-1790611\n",
      "AXA_2023-2030711\n",
      "AXA_2023-2040711\n",
      "AXA_2023-2101011\n",
      "AXA_2023-1940711\n",
      "AXA_2023-1850611\n",
      "AXA_2023-1820611\n",
      "AXA_2023-1930711\n"
     ]
    }
   ],
   "source": [
    "import os\n",
    "\n",
    "input_path = '/vol/biomedic3/bglocker/ugproj2324/fv220/datasets/videos_raw/mwitt/AXA_NOV23'\n",
    "output_path = '/vol/biomedic3/bglocker/ugproj2324/fv220/datasets/videos_raw/mwitt/AXA_NOV23_no_streams'\n",
    "\n",
    "for file in os.listdir(input_path):\n",
    "  # check if file is dir\n",
    "  if os.path.isdir(os.path.join(input_path, file)):\n",
    "    print(file)\n",
    "    os.makedirs(os.path.join(output_path, file))"
   ]
  },
  {
   "cell_type": "code",
   "execution_count": null,
   "metadata": {},
   "outputs": [],
   "source": []
  }
 ],
 "metadata": {
  "kernelspec": {
   "display_name": "default_ml_pytorch",
   "language": "python",
   "name": "python3"
  },
  "language_info": {
   "codemirror_mode": {
    "name": "ipython",
    "version": 3
   },
   "file_extension": ".py",
   "mimetype": "text/x-python",
   "name": "python",
   "nbconvert_exporter": "python",
   "pygments_lexer": "ipython3",
   "version": "3.10.12"
  }
 },
 "nbformat": 4,
 "nbformat_minor": 2
}
