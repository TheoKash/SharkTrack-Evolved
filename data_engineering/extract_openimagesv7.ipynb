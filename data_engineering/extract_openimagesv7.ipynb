{
 "cells": [
  {
   "cell_type": "code",
   "execution_count": 1,
   "metadata": {},
   "outputs": [],
   "source": [
    "import pandas as pd"
   ]
  },
  {
   "cell_type": "code",
   "execution_count": 36,
   "metadata": {},
   "outputs": [],
   "source": [
    "shark_class = '/m/0by6g'\n",
    "ray_class = '/m/0m53l'\n",
    "dolphin_class = '/m/02hj4'\n",
    "split = 'train'"
   ]
  },
  {
   "cell_type": "code",
   "execution_count": 10,
   "metadata": {},
   "outputs": [],
   "source": [
    "human_verified_df = pd.read_csv(f'../raw/human_{split}.csv')\n",
    "bbox_df = pd.read_csv(f'../raw/{split}-annotations-bbox.csv')"
   ]
  },
  {
   "cell_type": "code",
   "execution_count": 37,
   "metadata": {},
   "outputs": [],
   "source": [
    "class_of_interest = dolphin_class"
   ]
  },
  {
   "cell_type": "code",
   "execution_count": 38,
   "metadata": {},
   "outputs": [],
   "source": [
    "labeled_images = human_verified_df.loc[human_verified_df['LabelName'] == class_of_interest]"
   ]
  },
  {
   "cell_type": "code",
   "execution_count": 39,
   "metadata": {},
   "outputs": [
    {
     "data": {
      "text/plain": [
       "ImageID       2186\n",
       "Source        2186\n",
       "LabelName     2186\n",
       "Confidence    2186\n",
       "dtype: int64"
      ]
     },
     "execution_count": 39,
     "metadata": {},
     "output_type": "execute_result"
    }
   ],
   "source": [
    "labeled_images.count()"
   ]
  },
  {
   "cell_type": "code",
   "execution_count": 41,
   "metadata": {},
   "outputs": [
    {
     "name": "stdout",
     "output_type": "stream",
     "text": [
      "Human-checked bboxes ImageID        1532\n",
      "Source         1532\n",
      "LabelName      1532\n",
      "Confidence     1532\n",
      "XMin           1532\n",
      "XMax           1532\n",
      "YMin           1532\n",
      "YMax           1532\n",
      "IsOccluded     1532\n",
      "IsTruncated    1532\n",
      "IsGroupOf      1532\n",
      "IsDepiction    1532\n",
      "IsInside       1532\n",
      "XClick1X       1532\n",
      "XClick2X       1532\n",
      "XClick3X       1532\n",
      "XClick4X       1532\n",
      "XClick1Y       1532\n",
      "XClick2Y       1532\n",
      "XClick3Y       1532\n",
      "XClick4Y       1532\n",
      "dtype: int64\n",
      "Human-checked bboxes with sharks ImageID        24\n",
      "Source         24\n",
      "LabelName      24\n",
      "Confidence     24\n",
      "XMin           24\n",
      "XMax           24\n",
      "YMin           24\n",
      "YMax           24\n",
      "IsOccluded     24\n",
      "IsTruncated    24\n",
      "IsGroupOf      24\n",
      "IsDepiction    24\n",
      "IsInside       24\n",
      "XClick1X       24\n",
      "XClick2X       24\n",
      "XClick3X       24\n",
      "XClick4X       24\n",
      "XClick1Y       24\n",
      "XClick2Y       24\n",
      "XClick3Y       24\n",
      "XClick4Y       24\n",
      "dtype: int64\n",
      "Human-checked bboxes without sharks ImageID        1500\n",
      "Source         1500\n",
      "LabelName      1500\n",
      "Confidence     1500\n",
      "XMin           1500\n",
      "XMax           1500\n",
      "YMin           1500\n",
      "YMax           1500\n",
      "IsOccluded     1500\n",
      "IsTruncated    1500\n",
      "IsGroupOf      1500\n",
      "IsDepiction    1500\n",
      "IsInside       1500\n",
      "XClick1X       1500\n",
      "XClick2X       1500\n",
      "XClick3X       1500\n",
      "XClick4X       1500\n",
      "XClick1Y       1500\n",
      "XClick2Y       1500\n",
      "XClick3Y       1500\n",
      "XClick4Y       1500\n",
      "dtype: int64\n"
     ]
    }
   ],
   "source": [
    "# bbox_filtered = bbox_df.loc[bbox_df['ImageID'].isin(shark_images['ImageID']) & bbox_df['LabelName'].isin(shark_images['LabelName'])]\n",
    "\n",
    "# Filter the bbox_df dataframe based on the ImageID column in shark_images and LabelName column in shark_images\n",
    "# bbox_filtered = bbox_df.loc[bbox_df['ImageID'].isin(labeled_images['ImageID']) & bbox_df['LabelName'].isin([ray_class])]\n",
    "# shark_filtered = bbox_df.loc[bbox_df['ImageID'].isin(labeled_images['ImageID']) & bbox_df['LabelName'].isin([shark_class])]\n",
    "bbox_filtered = bbox_df.loc[bbox_df['LabelName'].isin([class_of_interest])]\n",
    "shark_filtered = bbox_df.loc[bbox_df['ImageID'].isin(bbox_filtered['ImageID']) & bbox_df['LabelName'].isin([shark_class])]\n",
    "\n",
    "print(f'Human-checked bboxes {bbox_filtered.count()}')\n",
    "print(f'Human-checked bboxes with sharks {shark_filtered.count()}')\n",
    "\n",
    "# Remove from bbox_filtered the images that have sharks\n",
    "bbox_filtered = bbox_filtered.loc[~bbox_filtered['ImageID'].isin(shark_filtered['ImageID'])]\n",
    "print(f'Human-checked bboxes without sharks {bbox_filtered.count()}')"
   ]
  },
  {
   "cell_type": "code",
   "execution_count": null,
   "metadata": {},
   "outputs": [],
   "source": [
    "# Create a new dataframe with ImageID, XMin, XMax, YMin, and YMax columns\n",
    "new_df = bbox_filtered.drop([c for c in bbox_filtered.columns if c not in ['ImageID', 'XMin', 'XMax', 'YMin', 'YMax']], axis=1)\n",
    "\n",
    "# Print the new dataframe\n",
    "print(new_df.count())\n",
    "new_df.head()\n"
   ]
  },
  {
   "cell_type": "code",
   "execution_count": 21,
   "metadata": {},
   "outputs": [],
   "source": [
    "# Rename ImageID values to test/ + ImageID values\n",
    "new_df['ImageID'] = new_df['ImageID'].astype(str) + '.jpg'\n",
    "new_df['Family'] = 'Shark'\n",
    "new_df['Genus'] = None\n",
    "new_df['Species'] = None\n",
    "new_df['Augmentation'] = None\n",
    "new_df['Source'] = 'OpenImageV7'\n",
    "\n",
    "# Rename ImageID column to filename\n",
    "new_df.rename(columns={'ImageID': 'Filename'}, inplace=True)\n",
    "new_df.rename(columns={'XMin': 'xmin'}, inplace=True)\n",
    "new_df.rename(columns={'XMax': 'xmax'}, inplace=True)\n",
    "new_df.rename(columns={'YMin': 'ymin'}, inplace=True)\n",
    "new_df.rename(columns={'YMax': 'ymax'}, inplace=True)\n",
    "\n",
    "# Reorder columns\n",
    "new_df = new_df[['Filename', 'Family', 'Genus', 'Species', 'xmin', 'xmax', 'ymin', 'ymax', 'Augmentation', 'Source']]\n"
   ]
  },
  {
   "cell_type": "code",
   "execution_count": 19,
   "metadata": {},
   "outputs": [
    {
     "data": {
      "text/html": [
       "<div>\n",
       "<style scoped>\n",
       "    .dataframe tbody tr th:only-of-type {\n",
       "        vertical-align: middle;\n",
       "    }\n",
       "\n",
       "    .dataframe tbody tr th {\n",
       "        vertical-align: top;\n",
       "    }\n",
       "\n",
       "    .dataframe thead th {\n",
       "        text-align: right;\n",
       "    }\n",
       "</style>\n",
       "<table border=\"1\" class=\"dataframe\">\n",
       "  <thead>\n",
       "    <tr style=\"text-align: right;\">\n",
       "      <th></th>\n",
       "      <th>ImageID</th>\n",
       "      <th>XMin</th>\n",
       "      <th>XMax</th>\n",
       "      <th>YMin</th>\n",
       "      <th>YMax</th>\n",
       "    </tr>\n",
       "  </thead>\n",
       "  <tbody>\n",
       "    <tr>\n",
       "      <th>85227</th>\n",
       "      <td>008baba5cba24e0c</td>\n",
       "      <td>0.239167</td>\n",
       "      <td>0.776667</td>\n",
       "      <td>0.410625</td>\n",
       "      <td>0.762500</td>\n",
       "    </tr>\n",
       "    <tr>\n",
       "      <th>85228</th>\n",
       "      <td>008baba5cba24e0c</td>\n",
       "      <td>0.276667</td>\n",
       "      <td>0.662500</td>\n",
       "      <td>0.153125</td>\n",
       "      <td>0.398125</td>\n",
       "    </tr>\n",
       "    <tr>\n",
       "      <th>149756</th>\n",
       "      <td>014bc8fb008cf4e1</td>\n",
       "      <td>0.263246</td>\n",
       "      <td>0.868797</td>\n",
       "      <td>0.149471</td>\n",
       "      <td>0.898148</td>\n",
       "    </tr>\n",
       "    <tr>\n",
       "      <th>195502</th>\n",
       "      <td>01e4993063534510</td>\n",
       "      <td>0.145833</td>\n",
       "      <td>0.640000</td>\n",
       "      <td>0.248750</td>\n",
       "      <td>0.686875</td>\n",
       "    </tr>\n",
       "    <tr>\n",
       "      <th>208010</th>\n",
       "      <td>0211394ec63e3fd9</td>\n",
       "      <td>0.000000</td>\n",
       "      <td>0.238125</td>\n",
       "      <td>0.205441</td>\n",
       "      <td>0.422139</td>\n",
       "    </tr>\n",
       "  </tbody>\n",
       "</table>\n",
       "</div>"
      ],
      "text/plain": [
       "                 ImageID      XMin      XMax      YMin      YMax\n",
       "85227   008baba5cba24e0c  0.239167  0.776667  0.410625  0.762500\n",
       "85228   008baba5cba24e0c  0.276667  0.662500  0.153125  0.398125\n",
       "149756  014bc8fb008cf4e1  0.263246  0.868797  0.149471  0.898148\n",
       "195502  01e4993063534510  0.145833  0.640000  0.248750  0.686875\n",
       "208010  0211394ec63e3fd9  0.000000  0.238125  0.205441  0.422139"
      ]
     },
     "execution_count": 19,
     "metadata": {},
     "output_type": "execute_result"
    }
   ],
   "source": [
    "new_df.head()"
   ]
  },
  {
   "cell_type": "code",
   "execution_count": 23,
   "metadata": {},
   "outputs": [
    {
     "name": "stdout",
     "output_type": "stream",
     "text": [
      "Total images: ImageID       58783034\n",
      "Source        58783034\n",
      "LabelName     58783034\n",
      "Confidence    58783034\n",
      "dtype: int64, shark images: ImageID       1610\n",
      "Source        1610\n",
      "LabelName     1610\n",
      "Confidence    1610\n",
      "dtype: int64, shark images with bounding boxes: Filename        625\n",
      "Family          625\n",
      "Genus             0\n",
      "Species           0\n",
      "xmin            625\n",
      "xmax            625\n",
      "ymin            625\n",
      "ymax            625\n",
      "Augmentation      0\n",
      "Source          625\n",
      "dtype: int64\n"
     ]
    }
   ],
   "source": [
    "print(f'Total images: {human_verified_df.count()}, shark images: {shark_images.count()}, shark images with bounding boxes: {new_df.count()}')"
   ]
  },
  {
   "cell_type": "code",
   "execution_count": 42,
   "metadata": {},
   "outputs": [],
   "source": [
    "with open('openimagesv7_background_train.txt', 'a') as file:\n",
    "  for image_id in set(bbox_filtered['ImageID']):\n",
    "    file.write(f'train/{image_id}\\n')\n"
   ]
  },
  {
   "cell_type": "code",
   "execution_count": 24,
   "metadata": {},
   "outputs": [],
   "source": [
    "new_df.to_csv(f'../annotations/openimagesv7_{split}.csv', index=False)"
   ]
  },
  {
   "cell_type": "markdown",
   "metadata": {},
   "source": [
    "# Clean Annotations\n",
    "Remove annotations that contain files not present in the dataset (since I manually removed badly classified files .)"
   ]
  },
  {
   "cell_type": "code",
   "execution_count": 25,
   "metadata": {},
   "outputs": [
    {
     "data": {
      "text/html": [
       "<div>\n",
       "<style scoped>\n",
       "    .dataframe tbody tr th:only-of-type {\n",
       "        vertical-align: middle;\n",
       "    }\n",
       "\n",
       "    .dataframe tbody tr th {\n",
       "        vertical-align: top;\n",
       "    }\n",
       "\n",
       "    .dataframe thead th {\n",
       "        text-align: right;\n",
       "    }\n",
       "</style>\n",
       "<table border=\"1\" class=\"dataframe\">\n",
       "  <thead>\n",
       "    <tr style=\"text-align: right;\">\n",
       "      <th></th>\n",
       "      <th>Filename</th>\n",
       "      <th>Family</th>\n",
       "      <th>Genus</th>\n",
       "      <th>Species</th>\n",
       "      <th>xmin</th>\n",
       "      <th>xmax</th>\n",
       "      <th>ymin</th>\n",
       "      <th>ymax</th>\n",
       "      <th>Augmentation</th>\n",
       "      <th>Source</th>\n",
       "    </tr>\n",
       "  </thead>\n",
       "  <tbody>\n",
       "    <tr>\n",
       "      <th>0</th>\n",
       "      <td>002b60dfc1de19ff.jpg</td>\n",
       "      <td>Shark</td>\n",
       "      <td>NaN</td>\n",
       "      <td>NaN</td>\n",
       "      <td>0.240625</td>\n",
       "      <td>0.89625</td>\n",
       "      <td>0.229823</td>\n",
       "      <td>0.702537</td>\n",
       "      <td>NaN</td>\n",
       "      <td>OpenImageV7</td>\n",
       "    </tr>\n",
       "    <tr>\n",
       "      <th>1</th>\n",
       "      <td>006e44adb308b8f7.jpg</td>\n",
       "      <td>Shark</td>\n",
       "      <td>NaN</td>\n",
       "      <td>NaN</td>\n",
       "      <td>0.000000</td>\n",
       "      <td>0.29000</td>\n",
       "      <td>0.834167</td>\n",
       "      <td>0.999167</td>\n",
       "      <td>NaN</td>\n",
       "      <td>OpenImageV7</td>\n",
       "    </tr>\n",
       "    <tr>\n",
       "      <th>2</th>\n",
       "      <td>006e44adb308b8f7.jpg</td>\n",
       "      <td>Shark</td>\n",
       "      <td>NaN</td>\n",
       "      <td>NaN</td>\n",
       "      <td>0.048750</td>\n",
       "      <td>0.25125</td>\n",
       "      <td>0.320833</td>\n",
       "      <td>0.475833</td>\n",
       "      <td>NaN</td>\n",
       "      <td>OpenImageV7</td>\n",
       "    </tr>\n",
       "    <tr>\n",
       "      <th>3</th>\n",
       "      <td>006e44adb308b8f7.jpg</td>\n",
       "      <td>Shark</td>\n",
       "      <td>NaN</td>\n",
       "      <td>NaN</td>\n",
       "      <td>0.148125</td>\n",
       "      <td>0.32625</td>\n",
       "      <td>0.555000</td>\n",
       "      <td>0.750000</td>\n",
       "      <td>NaN</td>\n",
       "      <td>OpenImageV7</td>\n",
       "    </tr>\n",
       "    <tr>\n",
       "      <th>4</th>\n",
       "      <td>006e44adb308b8f7.jpg</td>\n",
       "      <td>Shark</td>\n",
       "      <td>NaN</td>\n",
       "      <td>NaN</td>\n",
       "      <td>0.149375</td>\n",
       "      <td>0.33250</td>\n",
       "      <td>0.572500</td>\n",
       "      <td>0.761667</td>\n",
       "      <td>NaN</td>\n",
       "      <td>OpenImageV7</td>\n",
       "    </tr>\n",
       "  </tbody>\n",
       "</table>\n",
       "</div>"
      ],
      "text/plain": [
       "               Filename Family  Genus  Species      xmin     xmax      ymin  \\\n",
       "0  002b60dfc1de19ff.jpg  Shark    NaN      NaN  0.240625  0.89625  0.229823   \n",
       "1  006e44adb308b8f7.jpg  Shark    NaN      NaN  0.000000  0.29000  0.834167   \n",
       "2  006e44adb308b8f7.jpg  Shark    NaN      NaN  0.048750  0.25125  0.320833   \n",
       "3  006e44adb308b8f7.jpg  Shark    NaN      NaN  0.148125  0.32625  0.555000   \n",
       "4  006e44adb308b8f7.jpg  Shark    NaN      NaN  0.149375  0.33250  0.572500   \n",
       "\n",
       "       ymax  Augmentation       Source  \n",
       "0  0.702537           NaN  OpenImageV7  \n",
       "1  0.999167           NaN  OpenImageV7  \n",
       "2  0.475833           NaN  OpenImageV7  \n",
       "3  0.750000           NaN  OpenImageV7  \n",
       "4  0.761667           NaN  OpenImageV7  "
      ]
     },
     "execution_count": 25,
     "metadata": {},
     "output_type": "execute_result"
    }
   ],
   "source": [
    "split = 'train'\n",
    "annotation_df = pd.read_csv(f'../annotations/openimagesv7_{split}.csv')\n",
    "annotation_df.head()"
   ]
  },
  {
   "cell_type": "code",
   "execution_count": 27,
   "metadata": {},
   "outputs": [],
   "source": [
    "import os\n",
    "\n",
    "files = os.listdir(f'../images/openimagesv7/{split}/')"
   ]
  },
  {
   "cell_type": "code",
   "execution_count": 29,
   "metadata": {},
   "outputs": [],
   "source": [
    "# Filter the annotation_df dataframe based on the filename column in files\n",
    "annotation_filtered = annotation_df[annotation_df['Filename'].isin(files)]"
   ]
  },
  {
   "cell_type": "code",
   "execution_count": 30,
   "metadata": {},
   "outputs": [
    {
     "name": "stdout",
     "output_type": "stream",
     "text": [
      "Filename        625\n",
      "Family          625\n",
      "Genus             0\n",
      "Species           0\n",
      "xmin            625\n",
      "xmax            625\n",
      "ymin            625\n",
      "ymax            625\n",
      "Augmentation      0\n",
      "Source          625\n",
      "dtype: int64\n",
      "Filename        550\n",
      "Family          550\n",
      "Genus             0\n",
      "Species           0\n",
      "xmin            550\n",
      "xmax            550\n",
      "ymin            550\n",
      "ymax            550\n",
      "Augmentation      0\n",
      "Source          550\n",
      "dtype: int64\n"
     ]
    }
   ],
   "source": [
    "print(annotation_df.count())\n",
    "print(annotation_filtered.count())"
   ]
  },
  {
   "cell_type": "code",
   "execution_count": 31,
   "metadata": {},
   "outputs": [],
   "source": [
    "annotation_filtered.to_csv(f'../annotations/openimagesv7_{split}.csv', index=False)"
   ]
  },
  {
   "cell_type": "code",
   "execution_count": 36,
   "metadata": {},
   "outputs": [],
   "source": [
    "# load train, val and test annotations and add .jpg to filename\n",
    "for split in ['train', 'val', 'test']:\n",
    "    annotation_df = pd.read_csv(f'../annotations/openimagesv7_{split}.csv')\n",
    "    annotation_df['Filename'] = annotation_df['Filename'].apply(lambda x: x + '.jpg')\n",
    "    annotation_df.to_csv(f'../annotations/openimagesv7_{split}.csv', index=False)"
   ]
  },
  {
   "cell_type": "code",
   "execution_count": null,
   "metadata": {},
   "outputs": [],
   "source": []
  }
 ],
 "metadata": {
  "kernelspec": {
   "display_name": "compvision_torch",
   "language": "python",
   "name": "python3"
  },
  "language_info": {
   "codemirror_mode": {
    "name": "ipython",
    "version": 3
   },
   "file_extension": ".py",
   "mimetype": "text/x-python",
   "name": "python",
   "nbconvert_exporter": "python",
   "pygments_lexer": "ipython3",
   "version": "3.10.13"
  }
 },
 "nbformat": 4,
 "nbformat_minor": 2
}
