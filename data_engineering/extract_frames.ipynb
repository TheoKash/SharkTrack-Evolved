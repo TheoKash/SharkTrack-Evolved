{
 "cells": [
  {
   "cell_type": "code",
   "execution_count": 3,
   "metadata": {},
   "outputs": [],
   "source": [
    "import cv2\n",
    "import os\n",
    "import shutil"
   ]
  },
  {
   "cell_type": "code",
   "execution_count": 34,
   "metadata": {},
   "outputs": [],
   "source": [
    "# Extracting frames by frame count is inaccurate as you lose information when the video is not a multiple of desired_fps\n",
    "# extract by time\n",
    "def extract_fps(video_folder, frame_directory, sequence, desired_fps):\n",
    "    os.makedirs(video_folder, exist_ok=True)\n",
    "    output_path = os.path.join(frame_directory, sequence)\n",
    "    os.makedirs(output_path, exist_ok=True)\n",
    "\n",
    "    video_path = os.path.join(video_folder, sequence + \".mp4\")\n",
    "\n",
    "    cap = cv2.VideoCapture(video_path)\n",
    "    if not cap.isOpened():\n",
    "        print(\"Error opening video file\")\n",
    "\n",
    "    # Desired interval in seconds\n",
    "    interval = 1 / desired_fps\n",
    "    next_capture_time = 0.0\n",
    "\n",
    "    count = 0  # Count of frames saved\n",
    "\n",
    "    while cap.isOpened():\n",
    "        # Get the current position of the video in seconds\n",
    "        current_time = cap.get(cv2.CAP_PROP_POS_MSEC) / 1000.0\n",
    "        \n",
    "        # Capture frame-by-frame\n",
    "        ret, frame = cap.read()\n",
    "        \n",
    "        # If frame is read correctly, ret is True\n",
    "        if not ret:\n",
    "            break\n",
    "        \n",
    "        # Check if the current time has reached or passed the next capture time\n",
    "        if current_time >= next_capture_time:\n",
    "            # Construct filename and save frame\n",
    "            filename =  os.path.join(output_path, f\"{sequence}_frame{count}.jpg\")\n",
    "            cv2.imwrite(filename, frame)\n",
    "            count += 1\n",
    "            # Update the next capture time\n",
    "            next_capture_time += interval\n",
    "        \n",
    "    print(f\"Extracted {count} frames from {video_path}\")\n",
    "\n",
    "    # When everything done, release the capture\n",
    "    cap.release()\n",
    "    print(\"Done extracting frames.\")\n"
   ]
  },
  {
   "cell_type": "code",
   "execution_count": 30,
   "metadata": {},
   "outputs": [],
   "source": [
    "# def extract_frames_fps(video_name, video_folder, frame_directory, desired_fps):\n",
    "#   video_path = os.path.join(video_folder, video_name)\n",
    "#   print(os.path.basename(video_path))\n",
    "#   vidcap = cv2.VideoCapture(video_path)\n",
    "#   success, image = vidcap.read()\n",
    "#   count = 0\n",
    "#   fps = vidcap.get(cv2.CAP_PROP_FPS)  # Get the frames per second (fps) of the video\n",
    "#   print(fps)\n",
    "\n",
    "#   # Create directory\n",
    "#   output_path = os.path.join(frame_directory, video_name[:-4])\n",
    "#   os.makedirs(output_path, exist_ok=True)\n",
    "\n",
    "#   total_frames = vidcap.get(cv2.CAP_PROP_FRAME_COUNT)\n",
    "#   print(total_frames)\n",
    "\n",
    "#   frames_extracted = 0\n",
    "#   while success:\n",
    "#     if int(count % fps / desired_fps) == 0:\n",
    "#       cv2.imwrite(os.path.join(output_path, \"frame%d.jpg\" % frames_extracted), image)\n",
    "#       frames_extracted += 1\n",
    "#     success, image = vidcap.read()\n",
    "#     count += 1\n",
    "#   print(frames_extracted)\n"
   ]
  },
  {
   "cell_type": "code",
   "execution_count": 37,
   "metadata": {},
   "outputs": [
    {
     "name": "stdout",
     "output_type": "stream",
     "text": [
      "Extracting val1_difficult2\n"
     ]
    },
    {
     "name": "stdout",
     "output_type": "stream",
     "text": [
      "Extracted 199 frames from /vol/biomedic3/bglocker/ugproj2324/fv220/datasets/frame_extraction_raw/val1/videos/val1_difficult2.mp4\n",
      "Done extracting frames.\n",
      "Extracting val1_difficult1\n",
      "Extracted 199 frames from /vol/biomedic3/bglocker/ugproj2324/fv220/datasets/frame_extraction_raw/val1/videos/val1_difficult1.mp4\n",
      "Done extracting frames.\n",
      "Extracting val1_easy1\n",
      "Extracted 199 frames from /vol/biomedic3/bglocker/ugproj2324/fv220/datasets/frame_extraction_raw/val1/videos/val1_easy1.mp4\n",
      "Done extracting frames.\n",
      "Extracting val1_easy2\n",
      "Extracted 199 frames from /vol/biomedic3/bglocker/ugproj2324/fv220/datasets/frame_extraction_raw/val1/videos/val1_easy2.mp4\n",
      "Done extracting frames.\n",
      "Extracting val1_medium1\n",
      "Extracted 200 frames from /vol/biomedic3/bglocker/ugproj2324/fv220/datasets/frame_extraction_raw/val1/videos/val1_medium1.mp4\n",
      "Done extracting frames.\n",
      "Extracting val1_medium2\n",
      "Extracted 199 frames from /vol/biomedic3/bglocker/ugproj2324/fv220/datasets/frame_extraction_raw/val1/videos/val1_medium2.mp4\n",
      "Done extracting frames.\n"
     ]
    }
   ],
   "source": [
    "VAL_SEQUENCES = [\n",
    "  'val1_difficult2',\n",
    "  'val1_difficult1',\n",
    "  'val1_easy1',\n",
    "  'val1_easy2',\n",
    "  'val1_medium1',\n",
    "  'val1_medium2',\n",
    "]\n",
    "\n",
    "base_dir = '/vol/biomedic3/bglocker/ugproj2324/fv220/datasets/frame_extraction_raw/'\n",
    "frame_directory = '/vol/biomedic3/bglocker/ugproj2324/fv220/datasets/validation/frames_10fps1'\n",
    "\n",
    "fpss = [10]\n",
    "\n",
    "for sequence in VAL_SEQUENCES:\n",
    "  source = sequence.split('_')[0]\n",
    "  for fps in fpss:\n",
    "    print(f'Extracting {sequence}')\n",
    "    video_folder = os.path.join(base_dir, source, 'videos')\n",
    "    extract_fps(video_folder, frame_directory, sequence, fps)"
   ]
  },
  {
   "cell_type": "code",
   "execution_count": 2,
   "metadata": {},
   "outputs": [],
   "source": [
    "frames_dir = '/vol/biomedic3/bglocker/ugproj2324/fv220/datasets/frame_extraction_raw/val1/frames_10fps'\n",
    "\n",
    "for sequence in os.listdir(frames_dir):\n",
    "  frames = os.listdir(os.path.join(frames_dir, sequence))\n",
    "  frames.sort(key=lambda x: int(x.split('_')[-1].split('.')[0].replace('frame', '')))\n",
    "\n",
    "  frame_base_name = frames[0].split('frame')[0] + 'frame'\n",
    "\n",
    "  for i, frame in enumerate(frames):\n",
    "    os.rename(os.path.join(frames_dir, sequence, frame), os.path.join(frames_dir, sequence, frame_base_name + str(i) + '.jpg'))\n",
    "\n"
   ]
  },
  {
   "cell_type": "code",
   "execution_count": 40,
   "metadata": {},
   "outputs": [],
   "source": [
    "# Extract divisors of 10fps\n",
    "frames_10fps = '/vol/biomedic3/bglocker/ugproj2324/fv220/datasets/frame_extraction_raw/val1/frames_10fps'\n",
    "base_dir = '/vol/biomedic3/bglocker/ugproj2324/fv220/datasets/frame_extraction_raw/'\n",
    "\n",
    "fps = [0.5, 1, 2, 5]\n",
    "\n",
    "for f in fps:\n",
    "  frame_directory = os.path.join(base_dir, 'val1', 'frames_' + str(f) + 'fps')\n",
    "  os.makedirs(frame_directory, exist_ok=True)\n",
    "  for sequence in os.listdir(frames_10fps):\n",
    "    os.makedirs(os.path.join(frame_directory, sequence), exist_ok=True)\n",
    "    for frame in os.listdir(os.path.join(frames_10fps, sequence)):\n",
    "      if frame != 'annotations.csv' and int(frame.split('_')[-1].split('.')[0].replace('frame', '')) % (10 / f) == 0:\n",
    "        shutil.copy(os.path.join(frames_10fps, sequence, frame), os.path.join(frame_directory, sequence, frame))"
   ]
  },
  {
   "cell_type": "code",
   "execution_count": 44,
   "metadata": {},
   "outputs": [],
   "source": [
    "# copy annotations\n",
    "import shutil\n",
    "\n",
    "base_dir = '/vol/biomedic3/bglocker/ugproj2324/fv220/datasets/frame_extraction_raw/val1/frames_0.5fps_old'\n",
    "frame_directory = '/vol/biomedic3/bglocker/ugproj2324/fv220/datasets/frame_extraction_raw/val1/frames_0.5fps'\n",
    "\n",
    "for sequence in os.listdir(frame_directory):\n",
    "  shutil.copy(os.path.join(base_dir, sequence, 'annotations.csv'), os.path.join(frame_directory, sequence, 'annotations.csv'))\n"
   ]
  },
  {
   "cell_type": "code",
   "execution_count": 33,
   "metadata": {},
   "outputs": [],
   "source": [
    "# add name at beginning\n",
    "frame_directory = '/vol/biomedic3/bglocker/ugproj2324/fv220/datasets/validation/frames_10fps'\n",
    "base_dir = '/vol/biomedic3/bglocker/ugproj2324/fv220/datasets/frame_extraction_raw/val1/frames_10fps'\n",
    "\n",
    "for sequence in os.listdir(frame_directory):\n",
    "  for frame in os.listdir(os.path.join(frame_directory, sequence)):\n",
    "    if frame != 'annotations.csv':\n",
    "      os.rename(os.path.join(frame_directory, sequence, frame), os.path.join(frame_directory, sequence, sequence + '_' + frame))\n"
   ]
  },
  {
   "cell_type": "code",
   "execution_count": null,
   "metadata": {},
   "outputs": [],
   "source": []
  }
 ],
 "metadata": {
  "kernelspec": {
   "display_name": "compvision_torch",
   "language": "python",
   "name": "python3"
  },
  "language_info": {
   "codemirror_mode": {
    "name": "ipython",
    "version": 3
   },
   "file_extension": ".py",
   "mimetype": "text/x-python",
   "name": "python",
   "nbconvert_exporter": "python",
   "pygments_lexer": "ipython3",
   "version": "3.10.12"
  }
 },
 "nbformat": 4,
 "nbformat_minor": 2
}
