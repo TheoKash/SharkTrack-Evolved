{
 "cells": [
  {
   "cell_type": "code",
   "execution_count": 2,
   "metadata": {},
   "outputs": [
    {
     "name": "stdout",
     "output_type": "stream",
     "text": [
      "29.97\n",
      "Saved frame 0\n",
      "Saved frame 30\n",
      "Saved frame 60\n",
      "Saved frame 90\n",
      "Saved frame 120\n",
      "Saved frame 150\n",
      "Saved frame 180\n",
      "Saved frame 210\n",
      "Saved frame 240\n",
      "Saved frame 270\n",
      "Saved frame 300\n",
      "Saved frame 330\n",
      "Saved frame 360\n",
      "Saved frame 390\n",
      "Saved frame 420\n",
      "Saved frame 450\n",
      "Saved frame 480\n"
     ]
    }
   ],
   "source": [
    "import cv2\n",
    "import os\n",
    "\n",
    "video_folder = '/vol/biomedic3/bglocker/ugproj2324/fv220/datasets/frame_extraction_raw/sp/videos'\n",
    "frame_directory = '/vol/biomedic3/bglocker/ugproj2324/fv220/datasets/frame_extraction_raw/sp/frames'\n",
    "\n",
    "# Extract frames (2ps) from video and save them as images in frame_directory\n",
    "# FILEPATH: /Volumes/TOSHIBA EXT/data/scripts/extract_frames.ipynb\n",
    "# Extract frames (1 per second) from video and save them as images in frame_directory\n",
    "def extract_frames_1fps(video_name):\n",
    "  video_path = os.path.join(video_folder, video_name)\n",
    "  vidcap = cv2.VideoCapture(video_path)\n",
    "  success, image = vidcap.read()\n",
    "  count = 0\n",
    "  fps = vidcap.get(cv2.CAP_PROP_FPS)  # Get the frames per second (fps) of the video\n",
    "  print(fps)\n",
    "\n",
    "  # Create directory\n",
    "  output_path = os.path.join(frame_directory, video_name[:-4])\n",
    "  os.makedirs(output_path)\n",
    "\n",
    "  while success:\n",
    "    if count % round(fps) == 0:  # Save one frame per second\n",
    "      image_path = os.path.join(output_path, video_name.replace('.mp4', '') + \"_frame%d.jpg\" % count)\n",
    "      cv2.imwrite(image_path, image)  # Save frame as JPEG file\n",
    "      print('Saved frame %d' % count)\n",
    "    success, image = vidcap.read()\n",
    "    count += 1\n",
    "\n",
    "\n",
    "for video in os.listdir(video_folder):\n",
    "  if video == 'sp_natgeo2.mp4':\n",
    "    extract_frames_1fps(video)"
   ]
  },
  {
   "cell_type": "code",
   "execution_count": null,
   "metadata": {},
   "outputs": [],
   "source": []
  }
 ],
 "metadata": {
  "kernelspec": {
   "display_name": "compvision_torch",
   "language": "python",
   "name": "python3"
  },
  "language_info": {
   "codemirror_mode": {
    "name": "ipython",
    "version": 3
   },
   "file_extension": ".py",
   "mimetype": "text/x-python",
   "name": "python",
   "nbconvert_exporter": "python",
   "pygments_lexer": "ipython3",
   "version": "3.10.12"
  }
 },
 "nbformat": 4,
 "nbformat_minor": 2
}
