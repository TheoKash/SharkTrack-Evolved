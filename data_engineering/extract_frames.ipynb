{
 "cells": [
  {
   "cell_type": "code",
   "execution_count": 1,
   "metadata": {},
   "outputs": [],
   "source": [
    "import cv2\n",
    "import os\n",
    "import shutil"
   ]
  },
  {
   "cell_type": "code",
   "execution_count": 2,
   "metadata": {},
   "outputs": [],
   "source": [
    "\n",
    "# Extract frames (2ps) from video and save them as images in frame_directory\n",
    "# FILEPATH: /Volumes/TOSHIBA EXT/data/scripts/extract_frames.ipynb\n",
    "# Extract frames (1 per second) from video and save them as images in frame_directory\n",
    "def extract_frames_1fps(video_name, video_folder, frame_directory, desired_fps):\n",
    "  video_path = os.path.join(video_folder, video_name)\n",
    "  vidcap = cv2.VideoCapture(video_path)\n",
    "  success, image = vidcap.read()\n",
    "  count = 0\n",
    "  fps = vidcap.get(cv2.CAP_PROP_FPS)  # Get the frames per second (fps) of the video\n",
    "  print(fps)\n",
    "\n",
    "  # Create directory\n",
    "  output_path = os.path.join(frame_directory, video_name[:-4])\n",
    "  os.makedirs(output_path)\n",
    "\n",
    "  while success:\n",
    "    if count % round(fps / desired_fps) == 0:\n",
    "      image_path = os.path.join(output_path, video_name.replace('.mp4', '') + \"_frame%d.jpg\" % count)\n",
    "      cv2.imwrite(image_path, image)  # Save frame as JPEG file\n",
    "      print('Saved frame %d' % count)\n",
    "    success, image = vidcap.read()\n",
    "    count += 1\n"
   ]
  },
  {
   "cell_type": "code",
   "execution_count": 4,
   "metadata": {},
   "outputs": [
    {
     "ename": "FileNotFoundError",
     "evalue": "[Errno 2] No such file or directory: '/vol/biomedic3/bglocker/ugproj2324/fv220/datasets/frame_extraction_raw/val1/videos'",
     "output_type": "error",
     "traceback": [
      "\u001b[0;31m---------------------------------------------------------------------------\u001b[0m",
      "\u001b[0;31mFileNotFoundError\u001b[0m                         Traceback (most recent call last)",
      "Cell \u001b[0;32mIn[4], line 1\u001b[0m\n\u001b[0;32m----> 1\u001b[0m \u001b[38;5;28;01mfor\u001b[39;00m video \u001b[38;5;129;01min\u001b[39;00m \u001b[43mos\u001b[49m\u001b[38;5;241;43m.\u001b[39;49m\u001b[43mlistdir\u001b[49m\u001b[43m(\u001b[49m\u001b[43mvideo_folder\u001b[49m\u001b[43m)\u001b[49m:\n\u001b[1;32m      2\u001b[0m   video_folder \u001b[38;5;241m=\u001b[39m \u001b[38;5;124m'\u001b[39m\u001b[38;5;124m/vol/biomedic3/bglocker/ugproj2324/fv220/datasets/frame_extraction_raw/gfp/videos\u001b[39m\u001b[38;5;124m'\u001b[39m\n\u001b[1;32m      3\u001b[0m   frame_directory \u001b[38;5;241m=\u001b[39m \u001b[38;5;124m'\u001b[39m\u001b[38;5;124m/vol/biomedic3/bglocker/ugproj2324/fv220/datasets/frame_extraction_raw/gfp/frames_1\u001b[39m\u001b[38;5;124m'\u001b[39m\n",
      "\u001b[0;31mFileNotFoundError\u001b[0m: [Errno 2] No such file or directory: '/vol/biomedic3/bglocker/ugproj2324/fv220/datasets/frame_extraction_raw/val1/videos'"
     ]
    }
   ],
   "source": [
    "for video in os.listdir(video_folder):\n",
    "  video_folder = '/vol/biomedic3/bglocker/ugproj2324/fv220/datasets/frame_extraction_raw/gfp/videos'\n",
    "  frame_directory = '/vol/biomedic3/bglocker/ugproj2324/fv220/datasets/frame_extraction_raw/gfp/frames_1'\n",
    "  if video == 'gfp_solomon1.mp4':\n",
    "    extract_frames_1fps(video, video_folder, frame_directory, desired_fps)"
   ]
  },
  {
   "cell_type": "code",
   "execution_count": null,
   "metadata": {},
   "outputs": [],
   "source": [
    "VAL_SEQUENCES = [\n",
    "  'val1_difficult2',\n",
    "  'val1_difficult1',\n",
    "  'val1_easy1',\n",
    "  'val1_easy2',\n",
    "  'val1_medium1',\n",
    "  'val1_medium2',\n",
    "]\n",
    "\n",
    "base_dir = '/vol/biomedic3/bglocker/ugproj2324/fv220/datasets/frame_extraction_raw/'\n",
    "\n",
    "fpss = [10]\n",
    "\n",
    "for sequence in VAL_SEQUENCES:\n",
    "  source = sequence.split('_')[0]\n",
    "  for fps in fpss:\n",
    "    print(f'extracting at {fps} fps')\n",
    "    frame_directory = os.path.join(base_dir, source, 'frames_' + str(fps) + 'fps')\n",
    "    video_folder = os.path.join(base_dir, source, 'videos')\n",
    "    print(video_folder)\n",
    "    extract_frames_1fps(sequence + '.mp4', video_folder, frame_directory, fps)"
   ]
  },
  {
   "cell_type": "code",
   "execution_count": 2,
   "metadata": {},
   "outputs": [],
   "source": [
    "frames_dir = '/vol/biomedic3/bglocker/ugproj2324/fv220/datasets/frame_extraction_raw/val1/frames_10fps'\n",
    "\n",
    "for sequence in os.listdir(frames_dir):\n",
    "  frames = os.listdir(os.path.join(frames_dir, sequence))\n",
    "  frames.sort(key=lambda x: int(x.split('_')[-1].split('.')[0].replace('frame', '')))\n",
    "\n",
    "  frame_base_name = frames[0].split('frame')[0] + 'frame'\n",
    "\n",
    "  for i, frame in enumerate(frames):\n",
    "    os.rename(os.path.join(frames_dir, sequence, frame), os.path.join(frames_dir, sequence, frame_base_name + str(i) + '.jpg'))\n",
    "\n"
   ]
  },
  {
   "cell_type": "code",
   "execution_count": 5,
   "metadata": {},
   "outputs": [],
   "source": [
    "# Extract divisors of 10fps\n",
    "frames_10fps = '/vol/biomedic3/bglocker/ugproj2324/fv220/datasets/frame_extraction_raw/val1/frames_10fps'\n",
    "base_dir = '/vol/biomedic3/bglocker/ugproj2324/fv220/datasets/frame_extraction_raw/'\n",
    "\n",
    "fps = [0.5, 1, 2, 5]\n",
    "\n",
    "for f in fps:\n",
    "  frame_directory = os.path.join(base_dir, 'val1', 'frames_' + str(f) + 'fps')\n",
    "  os.makedirs(frame_directory, exist_ok=True)\n",
    "  for sequence in os.listdir(frames_10fps):\n",
    "    os.makedirs(os.path.join(frame_directory, sequence), exist_ok=True)\n",
    "    for frame in os.listdir(os.path.join(frames_10fps, sequence)):\n",
    "      if int(frame.split('_')[-1].split('.')[0].replace('frame', '')) % (10 / f) == 0:\n",
    "        shutil.copy(os.path.join(frames_10fps, sequence, frame), os.path.join(frame_directory, sequence, frame))"
   ]
  },
  {
   "cell_type": "code",
   "execution_count": null,
   "metadata": {},
   "outputs": [],
   "source": []
  }
 ],
 "metadata": {
  "kernelspec": {
   "display_name": "compvision_torch",
   "language": "python",
   "name": "python3"
  },
  "language_info": {
   "codemirror_mode": {
    "name": "ipython",
    "version": 3
   },
   "file_extension": ".py",
   "mimetype": "text/x-python",
   "name": "python",
   "nbconvert_exporter": "python",
   "pygments_lexer": "ipython3",
   "version": "3.10.12"
  }
 },
 "nbformat": 4,
 "nbformat_minor": 2
}
