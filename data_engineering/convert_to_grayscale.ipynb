{
 "cells": [
  {
   "cell_type": "code",
   "execution_count": 5,
   "metadata": {},
   "outputs": [
    {
     "name": "stdout",
     "output_type": "stream",
     "text": [
      "Processing test...\n",
      "../mvd_grayscale/test/images\n",
      "../mvd_grayscale/test/images\n",
      "../mvd_grayscale/test/images\n"
     ]
    }
   ],
   "source": [
    "import cv2\n",
    "import os\n",
    "\n",
    "mvd_path = '../mvd/'\n",
    "subfolders = ['test', 'train', 'val']\n",
    "output_path = '../mvd_grayscale/'\n",
    "\n",
    "# Turn all images to grayscale still keeping 3 channels (for compatibility with pretrained models)\n",
    "# and save them in the same folder structure\n",
    "for subfolder in subfolders:\n",
    "    print('Processing ' + subfolder + '...')\n",
    "    for root, dirs, files in os.walk(mvd_path + subfolder + '/images'):\n",
    "        for file in files:\n",
    "            if file.endswith('.jpg'):\n",
    "                i += 1\n",
    "                img = cv2.imread(os.path.join(root, file))\n",
    "                gray = cv2.cvtColor(img, cv2.COLOR_BGR2GRAY)\n",
    "                write_path = output_path + subfolder + '/images'\n",
    "                print(write_path)\n",
    "                cv2.imwrite(os.path.join(write_path, file), gray)"
   ]
  }
 ],
 "metadata": {
  "kernelspec": {
   "display_name": "compvision_torch",
   "language": "python",
   "name": "python3"
  },
  "language_info": {
   "codemirror_mode": {
    "name": "ipython",
    "version": 3
   },
   "file_extension": ".py",
   "mimetype": "text/x-python",
   "name": "python",
   "nbconvert_exporter": "python",
   "pygments_lexer": "ipython3",
   "version": "3.10.13"
  }
 },
 "nbformat": 4,
 "nbformat_minor": 2
}
