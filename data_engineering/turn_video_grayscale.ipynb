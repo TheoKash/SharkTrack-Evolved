{
 "cells": [
  {
   "cell_type": "code",
   "execution_count": 7,
   "metadata": {},
   "outputs": [],
   "source": [
    "import cv2\n",
    "import os\n",
    "video_folder = '/vol/biomedic3/bglocker/ugproj2324/fv220/datasets/sharktrack_test/videos/'\n",
    "output_folder = '/vol/biomedic3/bglocker/ugproj2324/fv220/datasets/sharktrack_test/grayscale_videos/'"
   ]
  },
  {
   "cell_type": "code",
   "execution_count": 9,
   "metadata": {},
   "outputs": [],
   "source": [
    "def convert_to_grayscale(video_path, output_path): \n",
    " # Open the video\n",
    "  cap = cv2.VideoCapture(video_path)\n",
    "\n",
    "  # Check if video opened successfully\n",
    "  if not cap.isOpened():\n",
    "      print(\"Error: Could not open video.\")\n",
    "      exit()\n",
    "\n",
    "  # Get the frame rate of the source video\n",
    "  frame_rate = cap.get(cv2.CAP_PROP_FPS)\n",
    "\n",
    "  # Get the frame size of the source video\n",
    "  frame_width = int(cap.get(cv2.CAP_PROP_FRAME_WIDTH))\n",
    "  frame_height = int(cap.get(cv2.CAP_PROP_FRAME_HEIGHT))\n",
    "\n",
    "  # Define the codec and create VideoWriter object\n",
    "  fourcc = cv2.VideoWriter_fourcc(*'mp4v')  # You can use other codecs as well, like 'XVID' or 'MJPG'.\n",
    "  out = cv2.VideoWriter(output_path, fourcc, frame_rate, (frame_width, frame_height))\n",
    "\n",
    "  while True:\n",
    "      ret, frame = cap.read()\n",
    "      \n",
    "      # Check if frame is read correctly\n",
    "      if not ret:\n",
    "          break\n",
    "\n",
    "      # Convert to grayscale\n",
    "      gray_frame = cv2.cvtColor(frame, cv2.COLOR_BGR2GRAY)\n",
    "      \n",
    "      # Convert the 1-channel grayscale image to a 3-channel grayscale image\n",
    "      gray_frame_3_channels = cv2.cvtColor(gray_frame, cv2.COLOR_GRAY2BGR)\n",
    "\n",
    "      # Write the frame to the output video\n",
    "      out.write(gray_frame_3_channels)\n",
    "\n",
    "  # Release everything when done\n",
    "  cap.release()\n",
    "  out.release()\n"
   ]
  },
  {
   "cell_type": "code",
   "execution_count": 10,
   "metadata": {},
   "outputs": [
    {
     "name": "stdout",
     "output_type": "stream",
     "text": [
      "Converted easy1.mp4 to grayscale.\n",
      "Converted medium1.mp4 to grayscale.\n",
      "Converted difficult1.mp4 to grayscale.\n",
      "Converted difficult2.mp4 to grayscale.\n",
      "Converted medium2.mp4 to grayscale.\n",
      "Converted easy2.mp4 to grayscale.\n"
     ]
    }
   ],
   "source": [
    "for video_name in os.listdir(video_folder):\n",
    "  video_path = os.path.join(video_folder, video_name)\n",
    "  output_path = os.path.join(output_folder, video_name)\n",
    "  convert_to_grayscale(video_path, output_path)\n",
    "  print('Converted', video_name, 'to grayscale.')"
   ]
  },
  {
   "cell_type": "code",
   "execution_count": 12,
   "metadata": {},
   "outputs": [
    {
     "name": "stdout",
     "output_type": "stream",
     "text": [
      "(720, 1280, 3)\n"
     ]
    }
   ],
   "source": [
    "# Print the values of the first frame of the output video\n",
    "cap = cv2.VideoCapture(os.path.join(output_folder, 'easy1.mp4'))\n",
    "ret, frame = cap.read()\n",
    "print(frame.shape)\n",
    "cap.release()\n"
   ]
  },
  {
   "cell_type": "code",
   "execution_count": null,
   "metadata": {},
   "outputs": [],
   "source": []
  }
 ],
 "metadata": {
  "kernelspec": {
   "display_name": "default_ml_pytorch",
   "language": "python",
   "name": "python3"
  },
  "language_info": {
   "codemirror_mode": {
    "name": "ipython",
    "version": 3
   },
   "file_extension": ".py",
   "mimetype": "text/x-python",
   "name": "python",
   "nbconvert_exporter": "python",
   "pygments_lexer": "ipython3",
   "version": "3.10.12"
  }
 },
 "nbformat": 4,
 "nbformat_minor": 2
}
