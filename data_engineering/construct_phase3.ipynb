{
 "cells": [
  {
   "cell_type": "code",
   "execution_count": 1,
   "metadata": {},
   "outputs": [],
   "source": [
    "import pandas as pd\n",
    "import os"
   ]
  },
  {
   "cell_type": "markdown",
   "metadata": {},
   "source": [
    "## 1. Download the data"
   ]
  },
  {
   "cell_type": "code",
   "execution_count": 2,
   "metadata": {},
   "outputs": [],
   "source": [
    "data = 'viame_sp'\n",
    "output_dir = \"/vol/biomedic3/bglocker/ugproj2324/fv220/datasets/phase3_dev/downloads/\"\n",
    "output_path = f\"{output_dir}{data}.zip\"\n",
    "download_link = \"https://viame.kitware.com/api/v1/dive_dataset/export?folderIds=[%2265c39a4ea8df0635ce3b443e%22,%2265c6378785591d30c22fbe9e%22,%2265b7e3e1a4c218785d460e30%22,%2265c5a73263ff94bc31466fd9%22,%2265c5a779b3a7cddd61cf098d%22,%2265b90381a4c218785d462001%22,%2265baad76cf5a99794eaf0791%22,%2265baae0bd17f7c8fa5bf73b5%22,%2265baaef8a4c218785d463051%22,%2265c3a78a8cb22dc59f13f1af%22,%2265c3fb40ecb4b390ccc31d41%22,%2265c3fc7585591d30c22f64de%22,%2265c5a7148cb22dc59f144e17%22]\""
   ]
  },
  {
   "cell_type": "code",
   "execution_count": 3,
   "metadata": {},
   "outputs": [
    {
     "name": "stdout",
     "output_type": "stream",
     "text": [
      "--2024-03-09 10:18:10--  https://viame.kitware.com/api/v1/dive_dataset/export?folderIds=[%2265c39a4ea8df0635ce3b443e%22,%2265c6378785591d30c22fbe9e%22,%2265b7e3e1a4c218785d460e30%22,%2265c5a73263ff94bc31466fd9%22,%2265c5a779b3a7cddd61cf098d%22,%2265b90381a4c218785d462001%22,%2265baad76cf5a99794eaf0791%22,%2265baae0bd17f7c8fa5bf73b5%22,%2265baaef8a4c218785d463051%22,%2265c3a78a8cb22dc59f13f1af%22,%2265c3fb40ecb4b390ccc31d41%22,%2265c3fc7585591d30c22f64de%22,%2265c5a7148cb22dc59f144e17%22]\n",
      "Resolving viame.kitware.com (viame.kitware.com)... 216.136.40.55\n",
      "Connecting to viame.kitware.com (viame.kitware.com)|216.136.40.55|:443... connected.\n",
      "HTTP request sent, awaiting response... 200 OK\n",
      "Length: unspecified [application/zip]\n",
      "Saving to: ‘/vol/biomedic3/bglocker/ugproj2324/fv220/datasets/phase3_dev/downloads/viame_sp.zip’\n",
      "\n",
      "          /vol/biom     [<=>                 ]       0  --.-KB/s               "
     ]
    },
    {
     "name": "stdout",
     "output_type": "stream",
     "text": [
      "/vol/biomedic3/bglo     [               <=>  ]   3.39G  15.8MB/s    in 1m 58s  \n",
      "\n",
      "2024-03-09 10:20:08 (29.4 MB/s) - ‘/vol/biomedic3/bglocker/ugproj2324/fv220/datasets/phase3_dev/downloads/viame_sp.zip’ saved [3635900963]\n",
      "\n",
      "Archive:  /vol/biomedic3/bglocker/ugproj2324/fv220/datasets/phase3_dev/downloads/viame_sp.zip\n",
      " extracting: /vol/biomedic3/bglocker/ugproj2324/fv220/datasets/phase3_dev/downloads/natgeo/meta.json  \n",
      " extracting: /vol/biomedic3/bglocker/ugproj2324/fv220/datasets/phase3_dev/downloads/natgeo/annotations.dive.json  \n",
      " extracting: /vol/biomedic3/bglocker/ugproj2324/fv220/datasets/phase3_dev/downloads/natgeo/20220924_KeawanuiBay_S3_GX110006.mp4  \n",
      " extracting: /vol/biomedic3/bglocker/ugproj2324/fv220/datasets/phase3_dev/downloads/natgeo/20220924_KeawanuiBay_S3_GX110006.transcoded.aligned.mp4  \n",
      " extracting: /vol/biomedic3/bglocker/ugproj2324/fv220/datasets/phase3_dev/downloads/natgeo/annotations.viame.csv  \n",
      " extracting: /vol/biomedic3/bglocker/ugproj2324/fv220/datasets/phase3_dev/downloads/natgeo2/meta.json  \n",
      " extracting: /vol/biomedic3/bglocker/ugproj2324/fv220/datasets/phase3_dev/downloads/natgeo2/annotations.dive.json  \n",
      " extracting: /vol/biomedic3/bglocker/ugproj2324/fv220/datasets/phase3_dev/downloads/natgeo2/ManeleBay_sharkat347-002-Trim.mp4  \n",
      " extracting: /vol/biomedic3/bglocker/ugproj2324/fv220/datasets/phase3_dev/downloads/natgeo2/ManeleBay_sharkat347-002-Trim.transcoded.aligned.mp4  \n",
      " extracting: /vol/biomedic3/bglocker/ugproj2324/fv220/datasets/phase3_dev/downloads/natgeo2/annotations.viame.csv  \n",
      " extracting: /vol/biomedic3/bglocker/ugproj2324/fv220/datasets/phase3_dev/downloads/palau/meta.json  \n",
      " extracting: /vol/biomedic3/bglocker/ugproj2324/fv220/datasets/phase3_dev/downloads/palau/annotations.dive.json  \n",
      " extracting: /vol/biomedic3/bglocker/ugproj2324/fv220/datasets/phase3_dev/downloads/palau/GP020061_GRS.mp4  \n",
      " extracting: /vol/biomedic3/bglocker/ugproj2324/fv220/datasets/phase3_dev/downloads/palau/GP020061_GRS.transcoded.aligned.mp4  \n",
      " extracting: /vol/biomedic3/bglocker/ugproj2324/fv220/datasets/phase3_dev/downloads/palau/annotations.viame.csv  \n",
      " extracting: /vol/biomedic3/bglocker/ugproj2324/fv220/datasets/phase3_dev/downloads/palau10.mp4/meta.json  \n",
      " extracting: /vol/biomedic3/bglocker/ugproj2324/fv220/datasets/phase3_dev/downloads/palau10.mp4/annotations.dive.json  \n",
      " extracting: /vol/biomedic3/bglocker/ugproj2324/fv220/datasets/phase3_dev/downloads/palau10.mp4/palau1.mp4  \n",
      " extracting: /vol/biomedic3/bglocker/ugproj2324/fv220/datasets/phase3_dev/downloads/palau10.mp4/palau1.transcoded.aligned.mp4  \n",
      " extracting: /vol/biomedic3/bglocker/ugproj2324/fv220/datasets/phase3_dev/downloads/palau10.mp4/annotations.viame.csv  \n",
      " extracting: /vol/biomedic3/bglocker/ugproj2324/fv220/datasets/phase3_dev/downloads/palau11/meta.json  \n",
      " extracting: /vol/biomedic3/bglocker/ugproj2324/fv220/datasets/phase3_dev/downloads/palau11/annotations.dive.json  \n",
      " extracting: /vol/biomedic3/bglocker/ugproj2324/fv220/datasets/phase3_dev/downloads/palau11/GP040152-trim.mp4  \n",
      " extracting: /vol/biomedic3/bglocker/ugproj2324/fv220/datasets/phase3_dev/downloads/palau11/GP040152-trim.transcoded.aligned.mp4  \n",
      " extracting: /vol/biomedic3/bglocker/ugproj2324/fv220/datasets/phase3_dev/downloads/palau11/annotations.viame.csv  \n",
      " extracting: /vol/biomedic3/bglocker/ugproj2324/fv220/datasets/phase3_dev/downloads/palau2/meta.json  \n",
      " extracting: /vol/biomedic3/bglocker/ugproj2324/fv220/datasets/phase3_dev/downloads/palau2/annotations.dive.json  \n",
      " extracting: /vol/biomedic3/bglocker/ugproj2324/fv220/datasets/phase3_dev/downloads/palau2/GP040136_GRS.mp4  \n",
      " extracting: /vol/biomedic3/bglocker/ugproj2324/fv220/datasets/phase3_dev/downloads/palau2/GP040136_GRS.transcoded.aligned.mp4  \n",
      " extracting: /vol/biomedic3/bglocker/ugproj2324/fv220/datasets/phase3_dev/downloads/palau2/annotations.viame.csv  \n",
      " extracting: /vol/biomedic3/bglocker/ugproj2324/fv220/datasets/phase3_dev/downloads/palau3/meta.json  \n",
      " extracting: /vol/biomedic3/bglocker/ugproj2324/fv220/datasets/phase3_dev/downloads/palau3/annotations.dive.json  \n",
      " extracting: /vol/biomedic3/bglocker/ugproj2324/fv220/datasets/phase3_dev/downloads/palau3/SharptoothLemonShark.mp4  \n",
      " extracting: /vol/biomedic3/bglocker/ugproj2324/fv220/datasets/phase3_dev/downloads/palau3/SharptoothLemonShark.transcoded.aligned.mp4  \n",
      " extracting: /vol/biomedic3/bglocker/ugproj2324/fv220/datasets/phase3_dev/downloads/palau3/annotations.viame.csv  \n",
      " extracting: /vol/biomedic3/bglocker/ugproj2324/fv220/datasets/phase3_dev/downloads/palau4/meta.json  \n",
      " extracting: /vol/biomedic3/bglocker/ugproj2324/fv220/datasets/phase3_dev/downloads/palau4/annotations.dive.json  \n",
      " extracting: /vol/biomedic3/bglocker/ugproj2324/fv220/datasets/phase3_dev/downloads/palau4/SharptoothLemonShark2.mp4  \n",
      " extracting: /vol/biomedic3/bglocker/ugproj2324/fv220/datasets/phase3_dev/downloads/palau4/SharptoothLemonShark2.transcoded.aligned.mp4  \n",
      " extracting: /vol/biomedic3/bglocker/ugproj2324/fv220/datasets/phase3_dev/downloads/palau4/annotations.viame.csv  \n",
      " extracting: /vol/biomedic3/bglocker/ugproj2324/fv220/datasets/phase3_dev/downloads/palau5/meta.json  \n",
      " extracting: /vol/biomedic3/bglocker/ugproj2324/fv220/datasets/phase3_dev/downloads/palau5/annotations.dive.json  \n",
      " extracting: /vol/biomedic3/bglocker/ugproj2324/fv220/datasets/phase3_dev/downloads/palau5/allSharks.mp4  \n",
      " extracting: /vol/biomedic3/bglocker/ugproj2324/fv220/datasets/phase3_dev/downloads/palau5/allSharks.transcoded.aligned.mp4  \n",
      " extracting: /vol/biomedic3/bglocker/ugproj2324/fv220/datasets/phase3_dev/downloads/palau5/annotations.viame.csv  \n",
      " extracting: /vol/biomedic3/bglocker/ugproj2324/fv220/datasets/phase3_dev/downloads/palau6/meta.json  \n",
      " extracting: /vol/biomedic3/bglocker/ugproj2324/fv220/datasets/phase3_dev/downloads/palau6/annotations.dive.json  \n",
      " extracting: /vol/biomedic3/bglocker/ugproj2324/fv220/datasets/phase3_dev/downloads/palau6/GP040152 - Trim.MP4  \n",
      " extracting: /vol/biomedic3/bglocker/ugproj2324/fv220/datasets/phase3_dev/downloads/palau6/GP040152 - Trim.transcoded.aligned.mp4  \n",
      " extracting: /vol/biomedic3/bglocker/ugproj2324/fv220/datasets/phase3_dev/downloads/palau6/annotations.viame.csv  \n",
      " extracting: /vol/biomedic3/bglocker/ugproj2324/fv220/datasets/phase3_dev/downloads/palau7/meta.json  \n",
      " extracting: /vol/biomedic3/bglocker/ugproj2324/fv220/datasets/phase3_dev/downloads/palau7/annotations.dive.json  \n",
      " extracting: /vol/biomedic3/bglocker/ugproj2324/fv220/datasets/phase3_dev/downloads/palau7/GreyReef2.mp4  \n",
      " extracting: /vol/biomedic3/bglocker/ugproj2324/fv220/datasets/phase3_dev/downloads/palau7/GreyReef2.transcoded.aligned.mp4  \n",
      " extracting: /vol/biomedic3/bglocker/ugproj2324/fv220/datasets/phase3_dev/downloads/palau7/annotations.viame.csv  \n",
      " extracting: /vol/biomedic3/bglocker/ugproj2324/fv220/datasets/phase3_dev/downloads/palau8/meta.json  \n",
      " extracting: /vol/biomedic3/bglocker/ugproj2324/fv220/datasets/phase3_dev/downloads/palau8/annotations.dive.json  \n",
      " extracting: /vol/biomedic3/bglocker/ugproj2324/fv220/datasets/phase3_dev/downloads/palau8/GP070150_1.mp4  \n",
      " extracting: /vol/biomedic3/bglocker/ugproj2324/fv220/datasets/phase3_dev/downloads/palau8/GP070150_1.transcoded.aligned.mp4  \n",
      " extracting: /vol/biomedic3/bglocker/ugproj2324/fv220/datasets/phase3_dev/downloads/palau8/annotations.viame.csv  \n",
      " extracting: /vol/biomedic3/bglocker/ugproj2324/fv220/datasets/phase3_dev/downloads/palau9.mp4/meta.json  \n",
      " extracting: /vol/biomedic3/bglocker/ugproj2324/fv220/datasets/phase3_dev/downloads/palau9.mp4/annotations.dive.json  \n",
      " extracting: /vol/biomedic3/bglocker/ugproj2324/fv220/datasets/phase3_dev/downloads/palau9.mp4/palau2.mp4  \n",
      " extracting: /vol/biomedic3/bglocker/ugproj2324/fv220/datasets/phase3_dev/downloads/palau9.mp4/palau2.transcoded.aligned.mp4  \n",
      " extracting: /vol/biomedic3/bglocker/ugproj2324/fv220/datasets/phase3_dev/downloads/palau9.mp4/annotations.viame.csv  \n"
     ]
    }
   ],
   "source": [
    "!wget -O {output_path} {download_link}\n",
    "!unzip {output_path} -d {output_dir}"
   ]
  },
  {
   "cell_type": "code",
   "execution_count": 8,
   "metadata": {},
   "outputs": [
    {
     "name": "stdout",
     "output_type": "stream",
     "text": [
      "sp_palau6\n",
      "sp_palau10.mp4\n",
      "sp_palau5\n",
      "sp_palau8\n",
      "sp_palau2\n",
      "sp_palau9.mp4\n",
      "sp_palau\n",
      "sp_palau7\n",
      "sp_palau3\n",
      "sp_palau11\n",
      "sp_palau4\n",
      "sp_natgeo2\n",
      "sp_natgeo\n"
     ]
    }
   ],
   "source": [
    "for source in os.listdir(output_dir):\n",
    "  if not any([source.startswith(prefix) for prefix in ['gfp', 'val1', 'shlife']]):\n",
    "    print(source)"
   ]
  },
  {
   "cell_type": "markdown",
   "metadata": {},
   "source": [
    "## 2. Extract Frames\n",
    "Some data is image sequence, so we already have the frames. Others are video sequences, so we need to extract them.\n",
    "\n",
    "\n",
    "Therefore, have a ANNOTATIONS FIRST approach:\n",
    "1. Extract the annotations\n",
    "2. From the annotations select the frames you need"
   ]
  },
  {
   "cell_type": "markdown",
   "metadata": {},
   "source": [
    "### 2.1 Convert annotations to sharktrack format"
   ]
  },
  {
   "cell_type": "code",
   "execution_count": null,
   "metadata": {},
   "outputs": [],
   "source": [
    "SHARKTRACK_COLUMNS = ['filename', 'class', 'ymin', 'xmin', 'xmax', 'ymax', 'source', 'track_id', 'frame_id']\n",
    "\n",
    "def viame2standard(csv_path, source, is_video, annotations_fps):\n",
    "    assert annotations_fps in [1,10], \"Only 1 or 10 fps are supported\"\n",
    "    # Load the CSV file\n",
    "    df = pd.read_csv(csv_path, skiprows=lambda x: x in [1]) # skip row if metadata\n",
    "\n",
    "    data = []\n",
    "\n",
    "    for _, row in df.iterrows():\n",
    "        # Build the Filename\n",
    "        track_id = int(row[\"# 1: Detection or Track-id\"])\n",
    "        frame_id = int(row['3: Unique Frame Identifier'])\n",
    "\n",
    "        if annotations_fps == 10 and frame_id % 10 != 0:\n",
    "            # extract only 1fps annotations\n",
    "            continue\n",
    "    \n",
    "        frame_id = int(frame_id / annotations_fps) # id starts at 0 and increments by 1 (if fps 1 doesn't change)\n",
    "\n",
    "        if is_video:\n",
    "            filename = f\"frame{frame_id}.jpg\"\n",
    "        else:\n",
    "            filename = row['2: Video or Image Identifier']\n",
    "        img_path = os.path.join(output_dir, source, filename)\n",
    "        assert os.path.exists(img_path), f\"File {img_path} does not exist\"\n",
    "\n",
    "        species = row[\"10-11+: Repeated Species\"]\n",
    "        # TODO: filter out behaviour classification and clean only to shark/ray\n",
    "        \n",
    "        xmin = row['4-7: Img-bbox(TL_x']\n",
    "        ymin = row['TL_y']\n",
    "        xmax = row['BR_x']\n",
    "        ymax = row['BR_y)']\n",
    "        \n",
    "        # Prepare the new row as a Series\n",
    "        row = {\n",
    "            'filename': f'{source}_{filename}',\n",
    "            'class': species,\n",
    "            'ymin': ymin,\n",
    "            'xmin': xmin,\n",
    "            'xmax': xmax,\n",
    "            'ymax': ymax,\n",
    "            'source': source,\n",
    "            'track_id': track_id,\n",
    "            'frame_id': frame_id,\n",
    "        }\n",
    "\n",
    "        data.append(row)\n",
    "\n",
    "    converted_df = pd.DataFrame(data, columns=SHARKTRACK_COLUMNS)\n",
    "\n",
    "    return converted_df"
   ]
  },
  {
   "cell_type": "markdown",
   "metadata": {},
   "source": [
    "### 2.2 Move frames"
   ]
  },
  {
   "cell_type": "code",
   "execution_count": null,
   "metadata": {},
   "outputs": [],
   "source": [
    "phase3_path = '/vol/biomedic3/bglocker/ugproj2324/fv220/datasets/phase3'\n",
    "\n",
    "def process_image_sequence(image_sequence_path):\n",
    "    source = os.path.basename(image_sequence_path)\n",
    "    os.makedirs(os.path.join(phase3_path, source))\n",
    "\n",
    "    # Convert annotations to sharktrack format\n",
    "    #   annotations.csv(path)\n",
    "    # Move frames there\n",
    "    #   assert filename doesn't start with source and add it yourself\n",
    "    #   rename frame to source_frame"
   ]
  },
  {
   "cell_type": "code",
   "execution_count": null,
   "metadata": {},
   "outputs": [],
   "source": [
    "def process_video_annotations(video_path):\n",
    "  # extract 1fps frames from video, name frame<id> where <id> starts at 0 and increments by 1\n",
    "  # convert annotations to sharktrack format using same rule\n",
    "  #   annotations.csv(path)\n",
    "  # Move frames there\n",
    "  #   assert filename doesn't start with source and add it yourself\n",
    "  #   rename frame to source_frame"
   ]
  },
  {
   "cell_type": "code",
   "execution_count": 17,
   "metadata": {},
   "outputs": [
    {
     "name": "stdout",
     "output_type": "stream",
     "text": [
      "easy2.transcoded.aligned.mp4 is video\n",
      "medium2.mp4 is video\n",
      "easy1.transcoded.aligned.mp4 is video\n",
      "medium1.mp4 is video\n",
      "difficult2.mp4 is video\n",
      "difficult1.mp4 is video\n"
     ]
    }
   ],
   "source": [
    "# If image: just move all the frames however they are named\n",
    "# If video AND 1fps (sp), extract the frame at 1fps AND map it to annotation frame id\n",
    "for video in os.listdir(output_dir):\n",
    "  video_path = os.path.join(output_dir, video)\n",
    "  if not os.path.isdir(video_path):\n",
    "    continue\n",
    "\n",
    "  for file in os.listdir(video_path):\n",
    "    if file.endswith(\".mp4\"):\n",
    "      print(f\"{file} is video\")\n",
    "      break\n",
    "    else:\n",
    "      # Image Sequence!\n",
    "      process_image_sequence(video_path)"
   ]
  },
  {
   "cell_type": "markdown",
   "metadata": {},
   "source": [
    "## 3. Clean BBoxes"
   ]
  },
  {
   "cell_type": "code",
   "execution_count": null,
   "metadata": {},
   "outputs": [],
   "source": [
    "# If image, just take the \"2: Video or Image Identifier\" column\n",
    "# If "
   ]
  },
  {
   "cell_type": "markdown",
   "metadata": {},
   "source": [
    "## 4. Visualise Dataset and check everything is alright"
   ]
  },
  {
   "cell_type": "code",
   "execution_count": null,
   "metadata": {},
   "outputs": [],
   "source": []
  },
  {
   "cell_type": "markdown",
   "metadata": {},
   "source": [
    "## 5. Remove dumb FP"
   ]
  },
  {
   "cell_type": "markdown",
   "metadata": {},
   "source": []
  }
 ],
 "metadata": {
  "kernelspec": {
   "display_name": "default_ml_pytorch",
   "language": "python",
   "name": "python3"
  },
  "language_info": {
   "codemirror_mode": {
    "name": "ipython",
    "version": 3
   },
   "file_extension": ".py",
   "mimetype": "text/x-python",
   "name": "python",
   "nbconvert_exporter": "python",
   "pygments_lexer": "ipython3",
   "version": "3.10.12"
  }
 },
 "nbformat": 4,
 "nbformat_minor": 2
}
