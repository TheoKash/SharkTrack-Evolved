{
 "cells": [
  {
   "cell_type": "code",
   "execution_count": 2,
   "metadata": {},
   "outputs": [],
   "source": [
    "from tools.annotation_bbox import clip_dataset_bbox_xyxy\n",
    "from tools.extract_frames import extract_frames\n",
    "from tools.annotation_converter import viame2standard\n",
    "import pandas as pd\n",
    "import json\n",
    "import shutil\n",
    "import os\n",
    "import cv2"
   ]
  },
  {
   "cell_type": "markdown",
   "metadata": {},
   "source": [
    "## 1. Download the data"
   ]
  },
  {
   "cell_type": "code",
   "execution_count": 2,
   "metadata": {},
   "outputs": [],
   "source": [
    "data = 'viame_sp'\n",
    "output_dir = \"/vol/biomedic3/bglocker/ugproj2324/fv220/datasets/phase3_dev/downloads/\"\n",
    "output_path = f\"{output_dir}{data}.zip\"\n",
    "download_link = \"https://viame.kitware.com/api/v1/dive_dataset/export?folderIds=[%2265c39a4ea8df0635ce3b443e%22,%2265c6378785591d30c22fbe9e%22,%2265b7e3e1a4c218785d460e30%22,%2265c5a73263ff94bc31466fd9%22,%2265c5a779b3a7cddd61cf098d%22,%2265b90381a4c218785d462001%22,%2265baad76cf5a99794eaf0791%22,%2265baae0bd17f7c8fa5bf73b5%22,%2265baaef8a4c218785d463051%22,%2265c3a78a8cb22dc59f13f1af%22,%2265c3fb40ecb4b390ccc31d41%22,%2265c3fc7585591d30c22f64de%22,%2265c5a7148cb22dc59f144e17%22]\""
   ]
  },
  {
   "cell_type": "code",
   "execution_count": null,
   "metadata": {},
   "outputs": [],
   "source": [
    "!wget -O {output_path} {download_link}\n",
    "!unzip {output_path} -d {output_dir}"
   ]
  },
  {
   "cell_type": "markdown",
   "metadata": {},
   "source": [
    "## 2. Construct dataset\n",
    "Some data is image sequence, so we already have the frames. Others are video sequences, so we need to extract them.\n",
    "\n",
    "\n",
    "Therefore, have a ANNOTATIONS FIRST approach:\n",
    "1. Extract the annotations\n",
    "2. From the annotations select the frames you need"
   ]
  },
  {
   "cell_type": "code",
   "execution_count": 25,
   "metadata": {},
   "outputs": [],
   "source": [
    "download_dir = '/vol/biomedic3/bglocker/ugproj2324/fv220/datasets/phase3_dev/downloads'"
   ]
  },
  {
   "cell_type": "code",
   "execution_count": 30,
   "metadata": {},
   "outputs": [],
   "source": [
    "def get_annotation_fps(image_sequence_path):\n",
    "  metadata_path = os.path.join(image_sequence_path, 'meta.json')\n",
    "  with open(metadata_path) as f:\n",
    "    metadata = json.load(f)\n",
    "  return int(metadata['fps'])"
   ]
  },
  {
   "cell_type": "code",
   "execution_count": 3,
   "metadata": {},
   "outputs": [],
   "source": [
    "phase3_path = '/vol/biomedic3/bglocker/ugproj2324/fv220/datasets/phase3'\n",
    "\n",
    "def process_image_sequence(image_sequence_path):\n",
    "    source = os.path.basename(image_sequence_path)\n",
    "    source_output_path = os.path.join(phase3_path, source)\n",
    "    os.makedirs(source_output_path)\n",
    "\n",
    "    try:\n",
    "        # Convert annotations\n",
    "        fps = get_annotation_fps(image_sequence_path)\n",
    "        print(f\"Processing {source} with fps {fps}...\")\n",
    "        viame_annotations_path = os.path.join(image_sequence_path, 'annotations.viame.csv')\n",
    "        sharktrack_annotations = viame2standard(viame_annotations_path, source, download_dir, fps, is_video=False)\n",
    "        sharktrack_annotations.to_csv(os.path.join(source_output_path, 'annotations.csv'), index=False)\n",
    "\n",
    "        # Move frames\n",
    "        for filename in os.listdir(image_sequence_path):\n",
    "            if filename.endswith('.jpg'):\n",
    "                curr_path = os.path.join(image_sequence_path, filename)\n",
    "                if filename.startswith(source):\n",
    "                    print(f\"Filename {filename} already starts with source {source}\")\n",
    "                    out_path = os.path.join(source_output_path, filename)\n",
    "                else:\n",
    "                    out_path = os.path.join(source_output_path, f\"{source}_{filename}\")\n",
    "                shutil.copy(curr_path, out_path)\n",
    "    except Exception as e:\n",
    "        os.rmdir(source_output_path)"
   ]
  },
  {
   "cell_type": "code",
   "execution_count": 44,
   "metadata": {},
   "outputs": [],
   "source": [
    "import traceback\n",
    "\n",
    "def process_video_annotations(source_path):\n",
    "  source = os.path.basename(source_path)\n",
    "  source_output_path = os.path.join(phase3_path, source)\n",
    "  os.makedirs(source_output_path)\n",
    "\n",
    "  fps = get_annotation_fps(source_path)\n",
    "  print(f\"Processing {source} with fps {fps}...\")\n",
    "\n",
    "  try:\n",
    "    # Extract frames from video\n",
    "    video_name = next(f for f in os.listdir(source_path) if '.transcoded' in f)\n",
    "    video_path = os.path.join(source_path, video_name)\n",
    "    desired_fps = 1\n",
    "    extract_frames(video_path, source_path, source, desired_fps)\n",
    "\n",
    "    # Convert annotations\n",
    "    viame_annotations_path = os.path.join(source_path, 'annotations.viame.csv')\n",
    "    sharktrack_annotations = viame2standard(viame_annotations_path, source, download_dir, fps, is_video=True)\n",
    "    sharktrack_annotations.to_csv(os.path.join(source_output_path, 'annotations.csv'), index=False)\n",
    "\n",
    "    # Move frames\n",
    "    for filename in os.listdir(source_path):\n",
    "      if filename.endswith('.jpg'):\n",
    "        assert filename.startswith(f\"{source}_frame\"), f\"Filename {filename} does not start with source {source}\"\n",
    "        curr_path = os.path.join(source_path, filename)\n",
    "        out_path = os.path.join(source_output_path, filename)\n",
    "        shutil.copy(curr_path, out_path)\n",
    "  except Exception as e:\n",
    "    traceback.print_exc()\n",
    "    os.rmdir(source_output_path)\n",
    "    for filename in os.listdir(source_path):\n",
    "      if filename.endswith('.jpg'):\n",
    "        os.remove(os.path.join(source_path, filename))"
   ]
  },
  {
   "cell_type": "code",
   "execution_count": 45,
   "metadata": {},
   "outputs": [
    {
     "name": "stdout",
     "output_type": "stream",
     "text": [
      "Processing val1_medium1 with fps 10...\n",
      "Extracted 20 frames from /vol/biomedic3/bglocker/ugproj2324/fv220/datasets/phase3_dev/downloads/val1_medium1/medium1.transcoded.mp4\n"
     ]
    }
   ],
   "source": [
    "# If image: just move all the frames however they are named\n",
    "# If video AND 1fps (sp), extract the frame at 1fps AND map it to annotation frame id\n",
    "for source in os.listdir(download_dir):\n",
    "  source_path = os.path.join(download_dir, source)\n",
    "  if not os.path.isdir(source_path):\n",
    "    continue\n",
    "  \n",
    "  source_is_img_sequence = any(file.endswith(\".jpg\") for file in os.listdir(source_path))\n",
    "\n",
    "  if source_is_img_sequence:\n",
    "    process_image_sequence(source_path)\n",
    "  else:\n",
    "    process_video_annotations(source_path)"
   ]
  },
  {
   "cell_type": "markdown",
   "metadata": {},
   "source": [
    "## 3. Clean BBoxes"
   ]
  },
  {
   "cell_type": "code",
   "execution_count": 4,
   "metadata": {},
   "outputs": [
    {
     "name": "stdout",
     "output_type": "stream",
     "text": [
      "Clipping bbox xyxy of /vol/biomedic3/bglocker/ugproj2324/fv220/datasets/phase3/shlife_bull7/annotations.csv...\n",
      "Clipping bbox xyxy of /vol/biomedic3/bglocker/ugproj2324/fv220/datasets/phase3/sp_natgeo1/annotations.csv...\n",
      "Clipping bbox xyxy of /vol/biomedic3/bglocker/ugproj2324/fv220/datasets/phase3/gfp_rand9/annotations.csv...\n",
      "Clipping bbox xyxy of /vol/biomedic3/bglocker/ugproj2324/fv220/datasets/phase3/gfp_rand3/annotations.csv...\n",
      "Clipping bbox xyxy of /vol/biomedic3/bglocker/ugproj2324/fv220/datasets/phase3/shlife_scalloped4/annotations.csv...\n",
      "Clipping bbox xyxy of /vol/biomedic3/bglocker/ugproj2324/fv220/datasets/phase3/gfp_caicos1/annotations.csv...\n",
      "Clipping bbox xyxy of /vol/biomedic3/bglocker/ugproj2324/fv220/datasets/phase3/gfp_kiribati1/annotations.csv...\n",
      "Clipping bbox xyxy of /vol/biomedic3/bglocker/ugproj2324/fv220/datasets/phase3/gfp_belize1/annotations.csv...\n",
      "Clipping bbox xyxy of /vol/biomedic3/bglocker/ugproj2324/fv220/datasets/phase3/shlife_scalloped3/annotations.csv...\n",
      "Clipping bbox xyxy of /vol/biomedic3/bglocker/ugproj2324/fv220/datasets/phase3/gfp_maldives1/annotations.csv...\n",
      "Clipping bbox xyxy of /vol/biomedic3/bglocker/ugproj2324/fv220/datasets/phase3/gfp_madagascar1/annotations.csv...\n",
      "Clipping bbox xyxy of /vol/biomedic3/bglocker/ugproj2324/fv220/datasets/phase3/gfp_rand4/annotations.csv...\n",
      "Clipping bbox xyxy of /vol/biomedic3/bglocker/ugproj2324/fv220/datasets/phase3/gfp_cuba1/annotations.csv...\n",
      "Clipping bbox xyxy of /vol/biomedic3/bglocker/ugproj2324/fv220/datasets/phase3/val1_medium2/annotations.csv...\n",
      "Clipping bbox xyxy of /vol/biomedic3/bglocker/ugproj2324/fv220/datasets/phase3/gfp_palau1/annotations.csv...\n",
      "Clipping bbox xyxy of /vol/biomedic3/bglocker/ugproj2324/fv220/datasets/phase3/gfp_fiji1/annotations.csv...\n",
      "Clipping bbox xyxy of /vol/biomedic3/bglocker/ugproj2324/fv220/datasets/phase3/sp_palau7/annotations.csv...\n",
      "Clipping bbox xyxy of /vol/biomedic3/bglocker/ugproj2324/fv220/datasets/phase3/shlife_smooth1/annotations.csv...\n",
      "Clipping bbox xyxy of /vol/biomedic3/bglocker/ugproj2324/fv220/datasets/phase3/sp_palau3/annotations.csv...\n",
      "Clipping bbox xyxy of /vol/biomedic3/bglocker/ugproj2324/fv220/datasets/phase3/gfp_hawaii1/annotations.csv...\n",
      "Clipping bbox xyxy of /vol/biomedic3/bglocker/ugproj2324/fv220/datasets/phase3/sp_palau9/annotations.csv...\n",
      "Clipping bbox xyxy of /vol/biomedic3/bglocker/ugproj2324/fv220/datasets/phase3/shlife_bull4/annotations.csv...\n",
      "Clipping bbox xyxy of /vol/biomedic3/bglocker/ugproj2324/fv220/datasets/phase3/shlife_silvertip1/annotations.csv...\n",
      "Clipping bbox xyxy of /vol/biomedic3/bglocker/ugproj2324/fv220/datasets/phase3/sp_natgeo2/annotations.csv...\n",
      "Clipping bbox xyxy of /vol/biomedic3/bglocker/ugproj2324/fv220/datasets/phase3/gfp_rand11/annotations.csv...\n",
      "Clipping bbox xyxy of /vol/biomedic3/bglocker/ugproj2324/fv220/datasets/phase3/gfp_tiger1/annotations.csv...\n",
      "Clipping bbox xyxy of /vol/biomedic3/bglocker/ugproj2324/fv220/datasets/phase3/gfp_tonga1/annotations.csv...\n",
      "Clipping bbox xyxy of /vol/biomedic3/bglocker/ugproj2324/fv220/datasets/phase3/val1_medium1/annotations.csv...\n",
      "Clipping bbox xyxy of /vol/biomedic3/bglocker/ugproj2324/fv220/datasets/phase3/gfp_rand7/annotations.csv...\n",
      "Clipping bbox xyxy of /vol/biomedic3/bglocker/ugproj2324/fv220/datasets/phase3/sp_palau11/annotations.csv...\n",
      "Clipping bbox xyxy of /vol/biomedic3/bglocker/ugproj2324/fv220/datasets/phase3/shlife_smooth2/annotations.csv...\n",
      "Clipping bbox xyxy of /vol/biomedic3/bglocker/ugproj2324/fv220/datasets/phase3/sp_palau4/annotations.csv...\n",
      "Clipping bbox xyxy of /vol/biomedic3/bglocker/ugproj2324/fv220/datasets/phase3/shlife_bull3/annotations.csv...\n",
      "Clipping bbox xyxy of /vol/biomedic3/bglocker/ugproj2324/fv220/datasets/phase3/gfp_nwa1/annotations.csv...\n",
      "Clipping bbox xyxy of /vol/biomedic3/bglocker/ugproj2324/fv220/datasets/phase3/gfp_png1/annotations.csv...\n",
      "Clipping bbox xyxy of /vol/biomedic3/bglocker/ugproj2324/fv220/datasets/phase3/shlife_grey1/annotations.csv...\n",
      "Clipping bbox xyxy of /vol/biomedic3/bglocker/ugproj2324/fv220/datasets/phase3/gfp_ferdinand1/annotations.csv...\n",
      "Clipping bbox xyxy of /vol/biomedic3/bglocker/ugproj2324/fv220/datasets/phase3/sp_palau6/annotations.csv...\n",
      "Clipping bbox xyxy of /vol/biomedic3/bglocker/ugproj2324/fv220/datasets/phase3/shlife_bull1/annotations.csv...\n",
      "Clipping bbox xyxy of /vol/biomedic3/bglocker/ugproj2324/fv220/datasets/phase3/shlife_scalloped2/annotations.csv...\n",
      "Clipping bbox xyxy of /vol/biomedic3/bglocker/ugproj2324/fv220/datasets/phase3/gfp_somoa1/annotations.csv...\n",
      "Clipping bbox xyxy of /vol/biomedic3/bglocker/ugproj2324/fv220/datasets/phase3/gfp_rand5/annotations.csv...\n",
      "Clipping bbox xyxy of /vol/biomedic3/bglocker/ugproj2324/fv220/datasets/phase3/gfp_bahamas1/annotations.csv...\n",
      "Clipping bbox xyxy of /vol/biomedic3/bglocker/ugproj2324/fv220/datasets/phase3/gfp_cook1/annotations.csv...\n",
      "Clipping bbox xyxy of /vol/biomedic3/bglocker/ugproj2324/fv220/datasets/phase3/gfp_rand2/annotations.csv...\n",
      "Clipping bbox xyxy of /vol/biomedic3/bglocker/ugproj2324/fv220/datasets/phase3/gfp_rand8/annotations.csv...\n",
      "Clipping bbox xyxy of /vol/biomedic3/bglocker/ugproj2324/fv220/datasets/phase3/val1_easy2/annotations.csv...\n",
      "Clipping bbox xyxy of /vol/biomedic3/bglocker/ugproj2324/fv220/datasets/phase3/val1_difficult2/annotations.csv...\n",
      "Clipping bbox xyxy of /vol/biomedic3/bglocker/ugproj2324/fv220/datasets/phase3/shlife_scalloped5/annotations.csv...\n",
      "Clipping bbox xyxy of /vol/biomedic3/bglocker/ugproj2324/fv220/datasets/phase3/sp_palau1/annotations.csv...\n",
      "Clipping bbox xyxy of /vol/biomedic3/bglocker/ugproj2324/fv220/datasets/phase3/shlife_bull6/annotations.csv...\n",
      "Clipping bbox xyxy of /vol/biomedic3/bglocker/ugproj2324/fv220/datasets/phase3/gfp_tobago1/annotations.csv...\n",
      "Clipping bbox xyxy of /vol/biomedic3/bglocker/ugproj2324/fv220/datasets/phase3/gfp_barbados1/annotations.csv...\n",
      "Clipping bbox xyxy of /vol/biomedic3/bglocker/ugproj2324/fv220/datasets/phase3/gfp_niue1/annotations.csv...\n",
      "Clipping bbox xyxy of /vol/biomedic3/bglocker/ugproj2324/fv220/datasets/phase3/shlife_grey2/annotations.csv...\n",
      "Clipping bbox xyxy of /vol/biomedic3/bglocker/ugproj2324/fv220/datasets/phase3/gfp_nwa2/annotations.csv...\n",
      "Clipping bbox xyxy of /vol/biomedic3/bglocker/ugproj2324/fv220/datasets/phase3/shlife_smooth3/annotations.csv...\n",
      "Clipping bbox xyxy of /vol/biomedic3/bglocker/ugproj2324/fv220/datasets/phase3/sp_palau10/annotations.csv...\n",
      "Clipping bbox xyxy of /vol/biomedic3/bglocker/ugproj2324/fv220/datasets/phase3/shlife_bull2/annotations.csv...\n",
      "Clipping bbox xyxy of /vol/biomedic3/bglocker/ugproj2324/fv220/datasets/phase3/sp_palau5/annotations.csv...\n",
      "Clipping bbox xyxy of /vol/biomedic3/bglocker/ugproj2324/fv220/datasets/phase3/gfp_polynesia1/annotations.csv...\n",
      "Clipping bbox xyxy of /vol/biomedic3/bglocker/ugproj2324/fv220/datasets/phase3/shlife_scalloped1/annotations.csv...\n",
      "Clipping bbox xyxy of /vol/biomedic3/bglocker/ugproj2324/fv220/datasets/phase3/gfp_mozambique1/annotations.csv...\n",
      "Clipping bbox xyxy of /vol/biomedic3/bglocker/ugproj2324/fv220/datasets/phase3/gfp_bahamas2/annotations.csv...\n",
      "Clipping bbox xyxy of /vol/biomedic3/bglocker/ugproj2324/fv220/datasets/phase3/gfp_rand6/annotations.csv...\n",
      "Clipping bbox xyxy of /vol/biomedic3/bglocker/ugproj2324/fv220/datasets/phase3/val1_easy1/annotations.csv...\n",
      "Clipping bbox xyxy of /vol/biomedic3/bglocker/ugproj2324/fv220/datasets/phase3/gfp_rand1/annotations.csv...\n",
      "Clipping bbox xyxy of /vol/biomedic3/bglocker/ugproj2324/fv220/datasets/phase3/gfp_rand10/annotations.csv...\n",
      "Clipping bbox xyxy of /vol/biomedic3/bglocker/ugproj2324/fv220/datasets/phase3/gfp_caledonia1/annotations.csv...\n",
      "Clipping bbox xyxy of /vol/biomedic3/bglocker/ugproj2324/fv220/datasets/phase3/gfp_montserrat1/annotations.csv...\n",
      "Clipping bbox xyxy of /vol/biomedic3/bglocker/ugproj2324/fv220/datasets/phase3/val1_difficult1/annotations.csv...\n",
      "Clipping bbox xyxy of /vol/biomedic3/bglocker/ugproj2324/fv220/datasets/phase3/sp_palau8/annotations.csv...\n",
      "Clipping bbox xyxy of /vol/biomedic3/bglocker/ugproj2324/fv220/datasets/phase3/shlife_bull5/annotations.csv...\n",
      "Clipping bbox xyxy of /vol/biomedic3/bglocker/ugproj2324/fv220/datasets/phase3/gfp_jamaica1/annotations.csv...\n",
      "Clipping bbox xyxy of /vol/biomedic3/bglocker/ugproj2324/fv220/datasets/phase3/gfp_solomon1/annotations.csv...\n",
      "Clipping bbox xyxy of /vol/biomedic3/bglocker/ugproj2324/fv220/datasets/phase3/sp_palau2/annotations.csv...\n"
     ]
    }
   ],
   "source": [
    "clip_dataset_bbox_xyxy(phase3_path)"
   ]
  },
  {
   "cell_type": "markdown",
   "metadata": {},
   "source": [
    "## 4. Visualise Dataset and check everything is alright"
   ]
  },
  {
   "cell_type": "code",
   "execution_count": 47,
   "metadata": {},
   "outputs": [],
   "source": []
  },
  {
   "cell_type": "markdown",
   "metadata": {},
   "source": [
    "## 5. Remove dumb FP"
   ]
  },
  {
   "cell_type": "markdown",
   "metadata": {},
   "source": []
  }
 ],
 "metadata": {
  "kernelspec": {
   "display_name": "default_ml_pytorch",
   "language": "python",
   "name": "python3"
  },
  "language_info": {
   "codemirror_mode": {
    "name": "ipython",
    "version": 3
   },
   "file_extension": ".py",
   "mimetype": "text/x-python",
   "name": "python",
   "nbconvert_exporter": "python",
   "pygments_lexer": "ipython3",
   "version": "3.10.12"
  }
 },
 "nbformat": 4,
 "nbformat_minor": 2
}
