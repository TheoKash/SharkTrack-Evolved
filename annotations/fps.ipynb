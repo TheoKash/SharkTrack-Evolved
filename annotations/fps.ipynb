{
 "cells": [
  {
   "cell_type": "markdown",
   "metadata": {},
   "source": [
    "## Standard format 10fps to 1fps"
   ]
  },
  {
   "cell_type": "code",
   "execution_count": 2,
   "metadata": {},
   "outputs": [],
   "source": [
    "import pandas as pd\n",
    "import os"
   ]
  },
  {
   "cell_type": "code",
   "execution_count": 5,
   "metadata": {},
   "outputs": [
    {
     "name": "stdout",
     "output_type": "stream",
     "text": [
      "Processing easy1.csv\n",
      "10fps row count = 304, 1fps row count = 38\n",
      "Processing medium1.csv\n",
      "10fps row count = 282, 1fps row count = 46\n",
      "Processing difficult2.csv\n",
      "10fps row count = 374, 1fps row count = 57\n",
      "Processing difficult1.csv\n",
      "10fps row count = 358, 1fps row count = 60\n",
      "Processing easy2.csv\n",
      "10fps row count = 165, 1fps row count = 26\n",
      "Processing medium2.csv\n",
      "10fps row count = 334, 1fps row count = 60\n"
     ]
    }
   ],
   "source": [
    "for filename in os.listdir(annotations_10fps):\n",
    "  if filename.endswith('.csv'):\n",
    "    print(f'Processing {filename}')\n",
    "    # read the 10fps annotations dataframe and extract only the rows where the filename ends with a multiple of ten. Note that every filename value has the following format: '<video_name>_frame<number>.jpg' example: \"difficult1_frame4495.jpg\"\n",
    "    df = pd.read_csv(annotations_10fps + filename)\n",
    "    df_out = df[df['3: Unique Frame Identifier'].astype(str).str.contains('[0-9]*0')]\n",
    "    # save the filtered dataframe to a new csv file\n",
    "    print(f'10fps row count = {len(df)}, 1fps row count = {len(df_out)}')\n",
    "    df_out.to_csv(annotations_1fps + filename, index=False)"
   ]
  },
  {
   "cell_type": "code",
   "execution_count": 9,
   "metadata": {},
   "outputs": [
    {
     "name": "stdout",
     "output_type": "stream",
     "text": [
      "Processing difficult1.csv for 5fps extraction\n",
      "357 rows in 10fps file, 178 rows in 5fps file saved to /vol/biomedic3/bglocker/ugproj2324/fv220/datasets/frame_extraction_raw/val1/annotations_5fps/val1_difficult1.csv\n",
      "Processing difficult2.csv for 5fps extraction\n",
      "373 rows in 10fps file, 185 rows in 5fps file saved to /vol/biomedic3/bglocker/ugproj2324/fv220/datasets/frame_extraction_raw/val1/annotations_5fps/val1_difficult2.csv\n",
      "Processing easy1.csv for 5fps extraction\n",
      "303 rows in 10fps file, 151 rows in 5fps file saved to /vol/biomedic3/bglocker/ugproj2324/fv220/datasets/frame_extraction_raw/val1/annotations_5fps/val1_easy1.csv\n",
      "Processing easy2.csv for 5fps extraction\n",
      "164 rows in 10fps file, 82 rows in 5fps file saved to /vol/biomedic3/bglocker/ugproj2324/fv220/datasets/frame_extraction_raw/val1/annotations_5fps/val1_easy2.csv\n",
      "Processing medium1.csv for 5fps extraction\n",
      "281 rows in 10fps file, 141 rows in 5fps file saved to /vol/biomedic3/bglocker/ugproj2324/fv220/datasets/frame_extraction_raw/val1/annotations_5fps/val1_medium1.csv\n",
      "Processing medium2.csv for 5fps extraction\n",
      "333 rows in 10fps file, 166 rows in 5fps file saved to /vol/biomedic3/bglocker/ugproj2324/fv220/datasets/frame_extraction_raw/val1/annotations_5fps/val1_medium2.csv\n"
     ]
    }
   ],
   "source": [
    "# Parametrise\n",
    "\n",
    "def extract_fps_annotations(annotations_10fps, annotations_out, fps, filename):\n",
    "    \"\"\"\n",
    "    Extracts annotations for a specified fps from a 10fps annotations file.\n",
    "\n",
    "    :param annotations_10fps: Path to the directory containing the 10fps annotation files.\n",
    "    :param annotations_out: Path to the directory where the extracted annotation files will be saved.\n",
    "    :param fps: The target fps rate for which annotations are to be extracted (0.5, 1, 2, 5, or 10).\n",
    "    :param filename: The filename of the 10fps annotations file to be processed.\n",
    "    \"\"\"\n",
    "    # Calculate the frame step based on the desired fps\n",
    "    assert 10 % fps == 0, \"FPS value must be a factor of 10.\"\n",
    "    frame_step = int(10 / fps)\n",
    "\n",
    "    if filename.endswith('.csv'):\n",
    "        print(f'Processing {filename} for {fps}fps extraction')\n",
    "        # Construct the full path to the file\n",
    "        file_path = os.path.join(annotations_10fps, filename)\n",
    "        # Read the annotations dataframe\n",
    "        df = pd.read_csv(file_path)\n",
    "        \n",
    "        # For fps less than or equal to 10, extract based on frame step\n",
    "        if fps <= 10:\n",
    "            # Extract rows where the frame number modulo frame_step equals 0\n",
    "            df_out = df[df['frame_id'].astype(int).mod(frame_step) == 0]\n",
    "        else:\n",
    "            raise ValueError(\"FPS value cannot be greater than 10 for a 10fps source.\")\n",
    "        \n",
    "        # Save the filtered dataframe to a new CSV file\n",
    "        out_path = os.path.join(annotations_out, f'val1_{filename}')\n",
    "        df_out.to_csv(out_path, index=False)\n",
    "        print(f'{len(df)} rows in 10fps file, {len(df_out)} rows in {fps}fps file saved to {out_path}')\n",
    "\n",
    "# Example usage:\n",
    "annotations_10fps = '/vol/biomedic3/bglocker/ugproj2324/fv220/datasets/validation/annotations_10fps/annotations_standard'\n",
    "fps = 5\n",
    "annotations_out = '/vol/biomedic3/bglocker/ugproj2324/fv220/datasets/frame_extraction_raw/val1'\n",
    "annotations_out = os.path.join(annotations_out, f'annotations_{fps}fps')\n",
    "os.makedirs(annotations_out, exist_ok=True)\n",
    "\n",
    "filenames = [\n",
    "  'difficult1.csv',\n",
    "  'difficult2.csv',\n",
    "  'easy1.csv',\n",
    "  'easy2.csv',\n",
    "  'medium1.csv',\n",
    "  'medium2.csv',\n",
    "]\n",
    "\n",
    "for filename in filenames:\n",
    "    extract_fps_annotations(annotations_10fps, annotations_out, fps, filename)"
   ]
  },
  {
   "cell_type": "code",
   "execution_count": null,
   "metadata": {},
   "outputs": [],
   "source": []
  }
 ],
 "metadata": {
  "kernelspec": {
   "display_name": "default_ml_pytorch",
   "language": "python",
   "name": "python3"
  },
  "language_info": {
   "codemirror_mode": {
    "name": "ipython",
    "version": 3
   },
   "file_extension": ".py",
   "mimetype": "text/x-python",
   "name": "python",
   "nbconvert_exporter": "python",
   "pygments_lexer": "ipython3",
   "version": "3.10.12"
  }
 },
 "nbformat": 4,
 "nbformat_minor": 2
}
