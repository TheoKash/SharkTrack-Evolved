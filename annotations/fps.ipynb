{
 "cells": [
  {
   "cell_type": "markdown",
   "metadata": {},
   "source": [
    "## Standard format 10fps to 1fps"
   ]
  },
  {
   "cell_type": "code",
   "execution_count": 2,
   "metadata": {},
   "outputs": [
    {
     "name": "stdout",
     "output_type": "stream",
     "text": [
      "Processing medium1.csv\n",
      "10fps row count = 281, 1fps row count = 28\n",
      "Processing easy2.csv\n",
      "10fps row count = 164, 1fps row count = 17\n",
      "Processing difficult1.csv\n",
      "10fps row count = 357, 1fps row count = 33\n",
      "Processing medium2.csv\n",
      "10fps row count = 333, 1fps row count = 33\n",
      "Processing easy1.csv\n",
      "10fps row count = 303, 1fps row count = 29\n",
      "Processing difficult2.csv\n",
      "10fps row count = 373, 1fps row count = 37\n"
     ]
    }
   ],
   "source": [
    "import pandas as pd\n",
    "import os\n",
    "\n",
    "\n",
    "annotations_10fps = '/vol/biomedic3/bglocker/ugproj2324/fv220/datasets/validation/val2/annotations_10fps/annotations_standard/'\n",
    "annotations_1fps = '/vol/biomedic3/bglocker/ugproj2324/fv220/datasets/validation/val2/annotations_1fps/annotations_standard/'\n",
    "\n",
    "for filename in os.listdir(annotations_10fps):\n",
    "  if filename.endswith('.csv'):\n",
    "    print(f'Processing {filename}')\n",
    "    # read the 10fps annotations dataframe and extract only the rows where the filename ends with a multiple of ten. Note that every filename value has the following format: '<video_name>_frame<number>.jpg' example: \"difficult1_frame4495.jpg\"\n",
    "    df = pd.read_csv(annotations_10fps + filename)\n",
    "    df_out = df[df['Filename'].str.contains('frame[0-9]*0.jpg')]\n",
    "    # save the filtered dataframe to a new csv file\n",
    "    print(f'10fps row count = {len(df)}, 1fps row count = {len(df_out)}')\n",
    "    df_out.to_csv(annotations_1fps + filename, index=False)"
   ]
  },
  {
   "cell_type": "code",
   "execution_count": null,
   "metadata": {},
   "outputs": [],
   "source": []
  }
 ],
 "metadata": {
  "kernelspec": {
   "display_name": "default_ml_pytorch",
   "language": "python",
   "name": "python3"
  },
  "language_info": {
   "codemirror_mode": {
    "name": "ipython",
    "version": 3
   },
   "file_extension": ".py",
   "mimetype": "text/x-python",
   "name": "python",
   "nbconvert_exporter": "python",
   "pygments_lexer": "ipython3",
   "version": "3.10.12"
  }
 },
 "nbformat": 4,
 "nbformat_minor": 2
}
