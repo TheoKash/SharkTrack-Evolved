{
 "cells": [
  {
   "cell_type": "markdown",
   "metadata": {},
   "source": [
    "# Bounding Boxes coordinates might be negative or bigger than the image size. This notebook shows how to fix this issue using numpy and pandas."
   ]
  },
  {
   "cell_type": "code",
   "execution_count": 1,
   "metadata": {},
   "outputs": [],
   "source": [
    "import pandas as pd\n",
    "import cv2\n",
    "import os"
   ]
  },
  {
   "cell_type": "code",
   "execution_count": 3,
   "metadata": {},
   "outputs": [
    {
     "name": "stdout",
     "output_type": "stream",
     "text": [
      "Processing gfp_caledonia1\n",
      "Processing gfp_tonga1\n",
      "Processing gfp_bahamas1\n",
      "Processing shlife_scalloped2\n",
      "Processing gfp_rand3\n",
      "Processing gfp_tiger1\n",
      "Processing gfp_rand9\n",
      "Processing sp_palau11\n",
      "Processing shlife_grey1\n",
      "Processing gfp_tobago1\n",
      "Processing shlife_bull1\n",
      "Processing gfp_fiji1\n",
      "Processing sp_palau7\n",
      "Processing gfp_nwa1\n",
      "Processing gfp_png1\n",
      "Processing shlife_bull6\n",
      "Processing shlife_smooth3\n",
      "Processing gfp_rand4\n",
      "Processing gfp_cuba1\n",
      "Processing gfp_polynesia1\n",
      "Processing shlife_scalloped5\n",
      "Processing sp_natgeo2\n",
      "Processing gfp_rand11\n",
      "Processing gfp_palau1\n",
      "Processing shlife_scalloped1\n",
      "Processing gfp_bahamas2\n",
      "Processing shlife_grey2\n",
      "Processing sp_palau9\n",
      "Processing sp_palau3\n",
      "Processing shlife_bull2\n",
      "Processing shlife_bull5\n",
      "Processing sp_natgeo\n",
      "Processing gfp_jamaica1\n",
      "Processing gfp_solomon1\n",
      "Processing gfp_nwa2\n",
      "Processing gfp_ferdinand1\n",
      "Processing sp_palau4\n",
      "Processing sp_palau\n",
      "Processing gfp_barbados1\n",
      "Processing gfp_rand7\n",
      "Processing gfp_madagascar1\n",
      "Processing gfp_rand5\n",
      "Processing shlife_scalloped4\n",
      "Processing val1_easy1\n",
      "Processing gfp_belize1\n",
      "Processing gfp_mozambique1\n",
      "Processing gfp_rand10\n",
      "Processing gfp_caicos1\n",
      "Processing sp_palau6\n",
      "Processing shlife_bull7\n",
      "Processing shlife_smooth2\n",
      "Processing sp_palau10\n",
      "Processing gfp_niue1\n",
      "Processing gfp_cook1\n",
      "Processing gfp_montserrat1\n",
      "Processing shlife_scalloped3\n",
      "Processing val1_difficult1\n",
      "Processing val1_medium2\n",
      "Processing gfp_rand8\n",
      "Processing gfp_rand2\n",
      "Processing gfp_rand6\n",
      "Processing val1_easy2\n",
      "Processing shlife_bull4\n",
      "Processing sp_palau5\n",
      "Processing shlife_silvertip1\n",
      "Processing shlife_smooth1\n",
      "Processing sp_palau2\n",
      "Processing sp_palau8\n",
      "Processing gfp_hawaii1\n",
      "Processing shlife_bull3\n",
      "Processing gfp_maldives1\n",
      "Processing gfp_samoa1\n",
      "Processing gfp_kiribati1\n",
      "Processing gfp_rand1\n",
      "Processing val1_medium1\n",
      "Processing val1_difficult2\n"
     ]
    }
   ],
   "source": [
    "dataset = '/vol/biomedic3/bglocker/ugproj2324/fv220/datasets/phase2'\n",
    "\n",
    "for source in os.listdir(dataset):\n",
    "    print(f'Processing {source}')\n",
    "    source_path = os.path.join(dataset, source)\n",
    "    annotations_df = pd.read_csv(os.path.join(source_path, 'annotations.csv'))\n",
    "    sample_img_path = [f for f in os.listdir(source_path) if f.endswith('.jpg')][0]\n",
    "\n",
    "    # Get image width and height\n",
    "    img = cv2.imread(os.path.join(source_path, sample_img_path))\n",
    "    height, width, _ = img.shape\n",
    "\n",
    "    # Now go through each row in the annotations and make columns xmax = min(xmax, width), ymax = min(ymax, height)\n",
    "    for i, row in annotations_df.iterrows():\n",
    "      annotations_df.at[i, 'xmax'] = min(row['xmax'], width)\n",
    "      annotations_df.at[i, 'ymax'] = min(row['ymax'], height)\n",
    "      annotations_df.at[i, 'xmin'] = max(row['xmin'], 0)\n",
    "      annotations_df.at[i, 'ymin'] = max(row['ymin'], 0)\n",
    "\n",
    "    \n",
    "    annotations_df.to_csv(os.path.join(source_path, 'annotations.csv'), index=False)"
   ]
  },
  {
   "cell_type": "code",
   "execution_count": null,
   "metadata": {},
   "outputs": [],
   "source": []
  }
 ],
 "metadata": {
  "kernelspec": {
   "display_name": "default_ml_pytorch",
   "language": "python",
   "name": "python3"
  },
  "language_info": {
   "codemirror_mode": {
    "name": "ipython",
    "version": 3
   },
   "file_extension": ".py",
   "mimetype": "text/x-python",
   "name": "python",
   "nbconvert_exporter": "python",
   "pygments_lexer": "ipython3",
   "version": "3.10.12"
  }
 },
 "nbformat": 4,
 "nbformat_minor": 2
}
