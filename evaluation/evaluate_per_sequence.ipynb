{
 "cells": [
  {
   "cell_type": "markdown",
   "id": "0212850b",
   "metadata": {},
   "source": [
    "### Evaluating various models on validation Videos"
   ]
  },
  {
   "cell_type": "code",
   "execution_count": 1,
   "id": "9a7fde20",
   "metadata": {},
   "outputs": [
    {
     "name": "stdout",
     "output_type": "stream",
     "text": [
      "Error importing BURST due to missing underlying dependency: No module named 'pycocotools'\n"
     ]
    }
   ],
   "source": [
    "# Widjet to reload all imports as they are updated is:\n",
    "%reload_ext autoreload\n",
    "from ultralytics import YOLO\n",
    "import pandas as pd\n",
    "import wandb\n",
    "import os\n",
    "import sys\n",
    "from pathlib import Path\n",
    "from evaluate_yolo_tracker import evaluate_per_sequence"
   ]
  },
  {
   "cell_type": "code",
   "execution_count": 2,
   "id": "e1fc1fcd",
   "metadata": {},
   "outputs": [],
   "source": [
    "model_names = ['p3v6_v8n_1000e_augs_ns_backgrounds',\n",
    "               'p3v6_v8s_1000e_v8s_augs_ns_backgrounds8',\n",
    "               'p3v6_v8s_1000e_mosaic0.8_perspective0.0005_cutmix0.1',\n",
    "               'p3v6_v8n_1000e_mosaic0.8_perspective0.0005_cutmix0.15',\n",
    "               'p3v6_v8s_1000e2',\n",
    "               'p3v6_v11_1000e_mosaic0.8_perspective0.0005_cutmix0.1',\n",
    "               ]\n",
    "def load_model(model_version):\n",
    "    project = '/vol/biomedic3/bglocker/ugproj/tk1420/SharkTrack-Dev/'\n",
    "    model_folder_path = os.path.join(project, 'models', model_version)\n",
    "    model_path = os.path.join(model_folder_path, 'weights/best.pt')\n",
    "    return YOLO(model_path)"
   ]
  },
  {
   "cell_type": "code",
   "execution_count": 3,
   "id": "109815d9",
   "metadata": {},
   "outputs": [],
   "source": [
    "# Load current production SharkTrack model\n",
    "model = YOLO(\"/vol/biomedic3/bglocker/ugproj/tk1420/sharktrack/models/sharktrack.pt\")"
   ]
  },
  {
   "cell_type": "code",
   "execution_count": null,
   "id": "86c2ee35",
   "metadata": {},
   "outputs": [],
   "source": [
    "def find_confidence_for_target_fp(model: YOLO,\n",
    "                                  target_fp: int,\n",
    "                                  data_yaml: str='/vol/biomedic3/bglocker/ugproj/tk1420/p3v6/data_config.yaml',\n",
    "                                  tol: int = 1,\n",
    "                                  max_iter: int = 20,\n",
    "                                  debug: bool = False) -> float:\n",
    "    \"\"\"\n",
    "    Perform a binary search over confidence thresholds to find the threshold\n",
    "    at which the number of false positives (FP) matches the target_fp within tol.\n",
    "\n",
    "    Args:\n",
    "        model: An initialized ultralytics YOLO model.\n",
    "        data_yaml: Path to the data YAML file for validation.\n",
    "        target_fp: Desired number of false positives.\n",
    "        tol: Acceptable tolerance for FP difference (default: 1).\n",
    "        max_iter: Maximum number of binary search iterations (default: 20).\n",
    "        debug: If True, prints intermediate FP counts and thresholds.\n",
    "\n",
    "    Returns:\n",
    "        Best confidence threshold achieving FP within tol of target_fp.\n",
    "    \"\"\"\n",
    "    low, high = 0.0, 1.0\n",
    "    best_thr = None\n",
    "    best_diff = float('inf')\n",
    "\n",
    "    for i in range(max_iter):\n",
    "        mid = (low + high) / 2\n",
    "        # Run validation at this confidence threshold\n",
    "        results = model.val(conf=mid, data=data_yaml, plots=True, save_json=False, verbose=False, iou=0.5)\n",
    "        # Extract 2x2 confusion matrix: [[TN, FP], [FN, TP]]\n",
    "        cm = results.confusion_matrix.matrix\n",
    "        fp = int(cm[0][1])  # false positives\n",
    "\n",
    "        diff = abs(fp - target_fp)\n",
    "        if debug:\n",
    "            print(f\"Confusion Matrix at thr={mid:.4f}:\\n{cm}\")\n",
    "            print(f\"Iter {i}: thr={mid:.4f}, FP={fp}, diff={diff}\")\n",
    "\n",
    "        # Update best found\n",
    "        if diff < best_diff:\n",
    "            best_diff = diff\n",
    "            best_thr = mid\n",
    "\n",
    "        # If within tolerance, break\n",
    "        if diff <= tol:\n",
    "            break\n",
    "\n",
    "        # Adjust search range:\n",
    "        # If FP > target, need stricter (higher) threshold to reduce FP.\n",
    "        if fp > target_fp:\n",
    "            low = mid\n",
    "        # If FP < target, need looser (lower) threshold to increase FP.\n",
    "        else:\n",
    "            high = mid\n",
    "\n",
    "    if debug:\n",
    "        print(f\"Best thr={best_thr:.4f}, FP diff={best_diff}\")\n",
    "    \n",
    "    return best_thr\n"
   ]
  },
  {
   "cell_type": "code",
   "execution_count": 13,
   "id": "852d3973",
   "metadata": {},
   "outputs": [
    {
     "name": "stdout",
     "output_type": "stream",
     "text": [
      "Ultralytics 8.3.0 🚀 Python-3.12.3 torch-2.6.0+cu124 CUDA:0 (NVIDIA GeForce RTX 4080, 16072MiB)\n",
      "Model summary (fused): 168 layers, 3,005,843 parameters, 0 gradients, 8.1 GFLOPs\n"
     ]
    },
    {
     "name": "stderr",
     "output_type": "stream",
     "text": [
      "\u001b[34m\u001b[1mval: \u001b[0mScanning /vol/biomedic3/bglocker/ugproj/tk1420/p3v6/val/labels.cache... 980 images, 242 backgrounds, 0 corrupt: 100%|██████████| 980/980 [00:00<?, ?it/s]\n",
      "                 Class     Images  Instances      Box(P          R      mAP50  mAP50-95): 100%|██████████| 62/62 [00:05<00:00, 11.61it/s]\n"
     ]
    },
    {
     "name": "stdout",
     "output_type": "stream",
     "text": [
      "                   all        980       1174      0.934      0.738      0.846      0.612\n",
      "Speed: 0.2ms preprocess, 0.9ms inference, 0.0ms loss, 0.8ms postprocess per image\n",
      "Results saved to \u001b[1m/vol/biomedic3/bglocker/ugproj/tk1420/SharkTrack-Dev/runs/detect/val285\u001b[0m\n",
      "Confusion Matrix at thr=0.5000:\n",
      "[[        874          15]\n",
      " [        300           0]]\n",
      "Iter 0: thr=0.5000, FP=15, diff=131\n",
      "Ultralytics 8.3.0 🚀 Python-3.12.3 torch-2.6.0+cu124 CUDA:0 (NVIDIA GeForce RTX 4080, 16072MiB)\n"
     ]
    },
    {
     "name": "stderr",
     "output_type": "stream",
     "text": [
      "\u001b[34m\u001b[1mval: \u001b[0mScanning /vol/biomedic3/bglocker/ugproj/tk1420/p3v6/val/labels.cache... 980 images, 242 backgrounds, 0 corrupt: 100%|██████████| 980/980 [00:00<?, ?it/s]\n",
      "                 Class     Images  Instances      Box(P          R      mAP50  mAP50-95): 100%|██████████| 62/62 [00:04<00:00, 14.96it/s]\n"
     ]
    },
    {
     "name": "stdout",
     "output_type": "stream",
     "text": [
      "                   all        980       1174      0.889      0.794      0.871      0.616\n",
      "Speed: 0.2ms preprocess, 0.7ms inference, 0.0ms loss, 0.6ms postprocess per image\n",
      "Results saved to \u001b[1m/vol/biomedic3/bglocker/ugproj/tk1420/SharkTrack-Dev/runs/detect/val286\u001b[0m\n",
      "Confusion Matrix at thr=0.2500:\n",
      "[[        962          65]\n",
      " [        212           0]]\n",
      "Iter 1: thr=0.2500, FP=65, diff=81\n",
      "Ultralytics 8.3.0 🚀 Python-3.12.3 torch-2.6.0+cu124 CUDA:0 (NVIDIA GeForce RTX 4080, 16072MiB)\n"
     ]
    },
    {
     "name": "stderr",
     "output_type": "stream",
     "text": [
      "\u001b[34m\u001b[1mval: \u001b[0mScanning /vol/biomedic3/bglocker/ugproj/tk1420/p3v6/val/labels.cache... 980 images, 242 backgrounds, 0 corrupt: 100%|██████████| 980/980 [00:00<?, ?it/s]\n",
      "                 Class     Images  Instances      Box(P          R      mAP50  mAP50-95): 100%|██████████| 62/62 [00:05<00:00, 12.16it/s]\n"
     ]
    },
    {
     "name": "stdout",
     "output_type": "stream",
     "text": [
      "                   all        980       1174      0.889      0.794      0.875      0.612\n",
      "Speed: 0.3ms preprocess, 0.8ms inference, 0.0ms loss, 1.0ms postprocess per image\n",
      "Results saved to \u001b[1m/vol/biomedic3/bglocker/ugproj/tk1420/SharkTrack-Dev/runs/detect/val287\u001b[0m\n",
      "Confusion Matrix at thr=0.1250:\n",
      "[[        991         134]\n",
      " [        183           0]]\n",
      "Iter 2: thr=0.1250, FP=134, diff=12\n",
      "Ultralytics 8.3.0 🚀 Python-3.12.3 torch-2.6.0+cu124 CUDA:0 (NVIDIA GeForce RTX 4080, 16072MiB)\n"
     ]
    },
    {
     "name": "stderr",
     "output_type": "stream",
     "text": [
      "\u001b[34m\u001b[1mval: \u001b[0mScanning /vol/biomedic3/bglocker/ugproj/tk1420/p3v6/val/labels.cache... 980 images, 242 backgrounds, 0 corrupt: 100%|██████████| 980/980 [00:00<?, ?it/s]\n",
      "                 Class     Images  Instances      Box(P          R      mAP50  mAP50-95): 100%|██████████| 62/62 [00:05<00:00, 11.66it/s]\n"
     ]
    },
    {
     "name": "stdout",
     "output_type": "stream",
     "text": [
      "                   all        980       1174      0.889      0.794       0.88      0.609\n",
      "Speed: 0.3ms preprocess, 0.8ms inference, 0.0ms loss, 0.7ms postprocess per image\n",
      "Results saved to \u001b[1m/vol/biomedic3/bglocker/ugproj/tk1420/SharkTrack-Dev/runs/detect/val288\u001b[0m\n",
      "Confusion Matrix at thr=0.0625:\n",
      "[[       1021         196]\n",
      " [        153           0]]\n",
      "Iter 3: thr=0.0625, FP=196, diff=50\n",
      "Ultralytics 8.3.0 🚀 Python-3.12.3 torch-2.6.0+cu124 CUDA:0 (NVIDIA GeForce RTX 4080, 16072MiB)\n"
     ]
    },
    {
     "name": "stderr",
     "output_type": "stream",
     "text": [
      "\u001b[34m\u001b[1mval: \u001b[0mScanning /vol/biomedic3/bglocker/ugproj/tk1420/p3v6/val/labels.cache... 980 images, 242 backgrounds, 0 corrupt: 100%|██████████| 980/980 [00:00<?, ?it/s]\n",
      "                 Class     Images  Instances      Box(P          R      mAP50  mAP50-95): 100%|██████████| 62/62 [00:05<00:00, 11.91it/s]\n"
     ]
    },
    {
     "name": "stdout",
     "output_type": "stream",
     "text": [
      "                   all        980       1174      0.889      0.794      0.877      0.611\n",
      "Speed: 0.2ms preprocess, 0.8ms inference, 0.0ms loss, 0.8ms postprocess per image\n",
      "Results saved to \u001b[1m/vol/biomedic3/bglocker/ugproj/tk1420/SharkTrack-Dev/runs/detect/val289\u001b[0m\n",
      "Confusion Matrix at thr=0.0938:\n",
      "[[       1001         160]\n",
      " [        173           0]]\n",
      "Iter 4: thr=0.0938, FP=160, diff=14\n",
      "Ultralytics 8.3.0 🚀 Python-3.12.3 torch-2.6.0+cu124 CUDA:0 (NVIDIA GeForce RTX 4080, 16072MiB)\n"
     ]
    },
    {
     "name": "stderr",
     "output_type": "stream",
     "text": [
      "\u001b[34m\u001b[1mval: \u001b[0mScanning /vol/biomedic3/bglocker/ugproj/tk1420/p3v6/val/labels.cache... 980 images, 242 backgrounds, 0 corrupt: 100%|██████████| 980/980 [00:00<?, ?it/s]\n",
      "                 Class     Images  Instances      Box(P          R      mAP50  mAP50-95): 100%|██████████| 62/62 [00:05<00:00, 11.57it/s]\n"
     ]
    },
    {
     "name": "stdout",
     "output_type": "stream",
     "text": [
      "                   all        980       1174      0.889      0.794      0.875      0.611\n",
      "Speed: 0.2ms preprocess, 0.8ms inference, 0.0ms loss, 1.1ms postprocess per image\n",
      "Results saved to \u001b[1m/vol/biomedic3/bglocker/ugproj/tk1420/SharkTrack-Dev/runs/detect/val290\u001b[0m\n",
      "Confusion Matrix at thr=0.1094:\n",
      "[[        995         150]\n",
      " [        179           0]]\n",
      "Iter 5: thr=0.1094, FP=150, diff=4\n",
      "Ultralytics 8.3.0 🚀 Python-3.12.3 torch-2.6.0+cu124 CUDA:0 (NVIDIA GeForce RTX 4080, 16072MiB)\n"
     ]
    },
    {
     "name": "stderr",
     "output_type": "stream",
     "text": [
      "\u001b[34m\u001b[1mval: \u001b[0mScanning /vol/biomedic3/bglocker/ugproj/tk1420/p3v6/val/labels.cache... 980 images, 242 backgrounds, 0 corrupt: 100%|██████████| 980/980 [00:00<?, ?it/s]\n",
      "                 Class     Images  Instances      Box(P          R      mAP50  mAP50-95): 100%|██████████| 62/62 [00:04<00:00, 15.46it/s]\n"
     ]
    },
    {
     "name": "stdout",
     "output_type": "stream",
     "text": [
      "                   all        980       1174      0.889      0.794      0.875      0.611\n",
      "Speed: 0.2ms preprocess, 0.7ms inference, 0.0ms loss, 0.8ms postprocess per image\n",
      "Results saved to \u001b[1m/vol/biomedic3/bglocker/ugproj/tk1420/SharkTrack-Dev/runs/detect/val291\u001b[0m\n",
      "Confusion Matrix at thr=0.1172:\n",
      "[[        992         142]\n",
      " [        182           0]]\n",
      "Iter 6: thr=0.1172, FP=142, diff=4\n",
      "Ultralytics 8.3.0 🚀 Python-3.12.3 torch-2.6.0+cu124 CUDA:0 (NVIDIA GeForce RTX 4080, 16072MiB)\n"
     ]
    },
    {
     "name": "stderr",
     "output_type": "stream",
     "text": [
      "\u001b[34m\u001b[1mval: \u001b[0mScanning /vol/biomedic3/bglocker/ugproj/tk1420/p3v6/val/labels.cache... 980 images, 242 backgrounds, 0 corrupt: 100%|██████████| 980/980 [00:00<?, ?it/s]\n",
      "                 Class     Images  Instances      Box(P          R      mAP50  mAP50-95): 100%|██████████| 62/62 [00:05<00:00, 12.10it/s]\n"
     ]
    },
    {
     "name": "stdout",
     "output_type": "stream",
     "text": [
      "                   all        980       1174      0.889      0.794      0.876      0.612\n",
      "Speed: 0.2ms preprocess, 0.9ms inference, 0.0ms loss, 0.8ms postprocess per image\n",
      "Results saved to \u001b[1m/vol/biomedic3/bglocker/ugproj/tk1420/SharkTrack-Dev/runs/detect/val292\u001b[0m\n",
      "Confusion Matrix at thr=0.1133:\n",
      "[[        995         143]\n",
      " [        179           0]]\n",
      "Iter 7: thr=0.1133, FP=143, diff=3\n",
      "Best thr=0.1133, FP diff=3\n",
      "Model: p3v6_v8n_1000e_augs_ns_backgrounds, Conf Threshold: 0.1133\n",
      "Ultralytics 8.3.0 🚀 Python-3.12.3 torch-2.6.0+cu124 CUDA:0 (NVIDIA GeForce RTX 4080, 16072MiB)\n",
      "Model summary (fused): 168 layers, 11,125,971 parameters, 0 gradients, 28.4 GFLOPs\n"
     ]
    },
    {
     "name": "stderr",
     "output_type": "stream",
     "text": [
      "\u001b[34m\u001b[1mval: \u001b[0mScanning /vol/biomedic3/bglocker/ugproj/tk1420/p3v6/val/labels.cache... 980 images, 242 backgrounds, 0 corrupt: 100%|██████████| 980/980 [00:00<?, ?it/s]\n",
      "                 Class     Images  Instances      Box(P          R      mAP50  mAP50-95): 100%|██████████| 62/62 [00:05<00:00, 10.99it/s]\n"
     ]
    },
    {
     "name": "stdout",
     "output_type": "stream",
     "text": [
      "                   all        980       1174      0.937      0.771      0.861      0.626\n",
      "Speed: 0.3ms preprocess, 1.3ms inference, 0.0ms loss, 0.9ms postprocess per image\n",
      "Results saved to \u001b[1m/vol/biomedic3/bglocker/ugproj/tk1420/SharkTrack-Dev/runs/detect/val293\u001b[0m\n",
      "Confusion Matrix at thr=0.5000:\n",
      "[[        913          20]\n",
      " [        261           0]]\n",
      "Iter 0: thr=0.5000, FP=20, diff=126\n",
      "Ultralytics 8.3.0 🚀 Python-3.12.3 torch-2.6.0+cu124 CUDA:0 (NVIDIA GeForce RTX 4080, 16072MiB)\n"
     ]
    },
    {
     "name": "stderr",
     "output_type": "stream",
     "text": [
      "\u001b[34m\u001b[1mval: \u001b[0mScanning /vol/biomedic3/bglocker/ugproj/tk1420/p3v6/val/labels.cache... 980 images, 242 backgrounds, 0 corrupt: 100%|██████████| 980/980 [00:00<?, ?it/s]\n",
      "                 Class     Images  Instances      Box(P          R      mAP50  mAP50-95): 100%|██████████| 62/62 [00:04<00:00, 13.72it/s]\n"
     ]
    },
    {
     "name": "stdout",
     "output_type": "stream",
     "text": [
      "                   all        980       1174      0.914      0.802      0.879      0.626\n",
      "Speed: 0.2ms preprocess, 1.1ms inference, 0.0ms loss, 0.8ms postprocess per image\n",
      "Results saved to \u001b[1m/vol/biomedic3/bglocker/ugproj/tk1420/SharkTrack-Dev/runs/detect/val294\u001b[0m\n",
      "Confusion Matrix at thr=0.2500:\n",
      "[[        974          56]\n",
      " [        200           0]]\n",
      "Iter 1: thr=0.2500, FP=56, diff=90\n",
      "Ultralytics 8.3.0 🚀 Python-3.12.3 torch-2.6.0+cu124 CUDA:0 (NVIDIA GeForce RTX 4080, 16072MiB)\n"
     ]
    },
    {
     "name": "stderr",
     "output_type": "stream",
     "text": [
      "\u001b[34m\u001b[1mval: \u001b[0mScanning /vol/biomedic3/bglocker/ugproj/tk1420/p3v6/val/labels.cache... 980 images, 242 backgrounds, 0 corrupt: 100%|██████████| 980/980 [00:00<?, ?it/s]\n",
      "                 Class     Images  Instances      Box(P          R      mAP50  mAP50-95): 100%|██████████| 62/62 [00:06<00:00, 10.12it/s]\n"
     ]
    },
    {
     "name": "stdout",
     "output_type": "stream",
     "text": [
      "                   all        980       1174      0.914      0.802      0.885      0.624\n",
      "Speed: 0.3ms preprocess, 1.3ms inference, 0.0ms loss, 1.0ms postprocess per image\n",
      "Results saved to \u001b[1m/vol/biomedic3/bglocker/ugproj/tk1420/SharkTrack-Dev/runs/detect/val295\u001b[0m\n",
      "Confusion Matrix at thr=0.1250:\n",
      "[[       1004         101]\n",
      " [        170           0]]\n",
      "Iter 2: thr=0.1250, FP=101, diff=45\n",
      "Ultralytics 8.3.0 🚀 Python-3.12.3 torch-2.6.0+cu124 CUDA:0 (NVIDIA GeForce RTX 4080, 16072MiB)\n"
     ]
    },
    {
     "name": "stderr",
     "output_type": "stream",
     "text": [
      "\u001b[34m\u001b[1mval: \u001b[0mScanning /vol/biomedic3/bglocker/ugproj/tk1420/p3v6/val/labels.cache... 980 images, 242 backgrounds, 0 corrupt: 100%|██████████| 980/980 [00:00<?, ?it/s]\n",
      "                 Class     Images  Instances      Box(P          R      mAP50  mAP50-95): 100%|██████████| 62/62 [00:05<00:00, 11.16it/s]\n"
     ]
    },
    {
     "name": "stdout",
     "output_type": "stream",
     "text": [
      "                   all        980       1174      0.914      0.802      0.886       0.62\n",
      "Speed: 0.2ms preprocess, 1.2ms inference, 0.0ms loss, 1.0ms postprocess per image\n",
      "Results saved to \u001b[1m/vol/biomedic3/bglocker/ugproj/tk1420/SharkTrack-Dev/runs/detect/val296\u001b[0m\n",
      "Confusion Matrix at thr=0.0625:\n",
      "[[       1017         151]\n",
      " [        157           0]]\n",
      "Iter 3: thr=0.0625, FP=151, diff=5\n",
      "Ultralytics 8.3.0 🚀 Python-3.12.3 torch-2.6.0+cu124 CUDA:0 (NVIDIA GeForce RTX 4080, 16072MiB)\n"
     ]
    },
    {
     "name": "stderr",
     "output_type": "stream",
     "text": [
      "\u001b[34m\u001b[1mval: \u001b[0mScanning /vol/biomedic3/bglocker/ugproj/tk1420/p3v6/val/labels.cache... 980 images, 242 backgrounds, 0 corrupt: 100%|██████████| 980/980 [00:00<?, ?it/s]\n",
      "                 Class     Images  Instances      Box(P          R      mAP50  mAP50-95): 100%|██████████| 62/62 [00:05<00:00, 10.51it/s]\n"
     ]
    },
    {
     "name": "stdout",
     "output_type": "stream",
     "text": [
      "                   all        980       1174      0.914      0.802      0.885      0.622\n",
      "Speed: 0.3ms preprocess, 1.3ms inference, 0.0ms loss, 1.0ms postprocess per image\n",
      "Results saved to \u001b[1m/vol/biomedic3/bglocker/ugproj/tk1420/SharkTrack-Dev/runs/detect/val297\u001b[0m\n",
      "Confusion Matrix at thr=0.0938:\n",
      "[[       1008         121]\n",
      " [        166           0]]\n",
      "Iter 4: thr=0.0938, FP=121, diff=25\n",
      "Ultralytics 8.3.0 🚀 Python-3.12.3 torch-2.6.0+cu124 CUDA:0 (NVIDIA GeForce RTX 4080, 16072MiB)\n"
     ]
    },
    {
     "name": "stderr",
     "output_type": "stream",
     "text": [
      "\u001b[34m\u001b[1mval: \u001b[0mScanning /vol/biomedic3/bglocker/ugproj/tk1420/p3v6/val/labels.cache... 980 images, 242 backgrounds, 0 corrupt: 100%|██████████| 980/980 [00:00<?, ?it/s]\n",
      "                 Class     Images  Instances      Box(P          R      mAP50  mAP50-95): 100%|██████████| 62/62 [00:04<00:00, 12.67it/s]\n"
     ]
    },
    {
     "name": "stdout",
     "output_type": "stream",
     "text": [
      "                   all        980       1174      0.914      0.802      0.886      0.621\n",
      "Speed: 0.2ms preprocess, 1.1ms inference, 0.0ms loss, 0.8ms postprocess per image\n",
      "Results saved to \u001b[1m/vol/biomedic3/bglocker/ugproj/tk1420/SharkTrack-Dev/runs/detect/val298\u001b[0m\n",
      "Confusion Matrix at thr=0.0781:\n",
      "[[       1013         128]\n",
      " [        161           0]]\n",
      "Iter 5: thr=0.0781, FP=128, diff=18\n",
      "Ultralytics 8.3.0 🚀 Python-3.12.3 torch-2.6.0+cu124 CUDA:0 (NVIDIA GeForce RTX 4080, 16072MiB)\n"
     ]
    },
    {
     "name": "stderr",
     "output_type": "stream",
     "text": [
      "\u001b[34m\u001b[1mval: \u001b[0mScanning /vol/biomedic3/bglocker/ugproj/tk1420/p3v6/val/labels.cache... 980 images, 242 backgrounds, 0 corrupt: 100%|██████████| 980/980 [00:00<?, ?it/s]\n",
      "                 Class     Images  Instances      Box(P          R      mAP50  mAP50-95): 100%|██████████| 62/62 [00:05<00:00, 10.43it/s]\n"
     ]
    },
    {
     "name": "stdout",
     "output_type": "stream",
     "text": [
      "                   all        980       1174      0.914      0.802      0.887      0.621\n",
      "Speed: 0.3ms preprocess, 1.2ms inference, 0.0ms loss, 1.0ms postprocess per image\n",
      "Results saved to \u001b[1m/vol/biomedic3/bglocker/ugproj/tk1420/SharkTrack-Dev/runs/detect/val299\u001b[0m\n",
      "Confusion Matrix at thr=0.0703:\n",
      "[[       1016         139]\n",
      " [        158           0]]\n",
      "Iter 6: thr=0.0703, FP=139, diff=7\n",
      "Ultralytics 8.3.0 🚀 Python-3.12.3 torch-2.6.0+cu124 CUDA:0 (NVIDIA GeForce RTX 4080, 16072MiB)\n"
     ]
    },
    {
     "name": "stderr",
     "output_type": "stream",
     "text": [
      "\u001b[34m\u001b[1mval: \u001b[0mScanning /vol/biomedic3/bglocker/ugproj/tk1420/p3v6/val/labels.cache... 980 images, 242 backgrounds, 0 corrupt: 100%|██████████| 980/980 [00:00<?, ?it/s]\n",
      "                 Class     Images  Instances      Box(P          R      mAP50  mAP50-95): 100%|██████████| 62/62 [00:06<00:00, 10.21it/s]\n"
     ]
    },
    {
     "name": "stdout",
     "output_type": "stream",
     "text": [
      "                   all        980       1174      0.914      0.802      0.887      0.621\n",
      "Speed: 0.3ms preprocess, 1.2ms inference, 0.0ms loss, 1.1ms postprocess per image\n",
      "Results saved to \u001b[1m/vol/biomedic3/bglocker/ugproj/tk1420/SharkTrack-Dev/runs/detect/val300\u001b[0m\n",
      "Confusion Matrix at thr=0.0664:\n",
      "[[       1017         145]\n",
      " [        157           0]]\n",
      "Iter 7: thr=0.0664, FP=145, diff=1\n",
      "Best thr=0.0664, FP diff=1\n",
      "Model: p3v6_v8s_1000e_v8s_augs_ns_backgrounds8, Conf Threshold: 0.0664\n",
      "Ultralytics 8.3.0 🚀 Python-3.12.3 torch-2.6.0+cu124 CUDA:0 (NVIDIA GeForce RTX 4080, 16072MiB)\n",
      "Model summary (fused): 168 layers, 11,125,971 parameters, 0 gradients, 28.4 GFLOPs\n"
     ]
    },
    {
     "name": "stderr",
     "output_type": "stream",
     "text": [
      "\u001b[34m\u001b[1mval: \u001b[0mScanning /vol/biomedic3/bglocker/ugproj/tk1420/p3v6/val/labels.cache... 980 images, 242 backgrounds, 0 corrupt: 100%|██████████| 980/980 [00:00<?, ?it/s]\n",
      "                 Class     Images  Instances      Box(P          R      mAP50  mAP50-95): 100%|██████████| 62/62 [00:04<00:00, 12.58it/s]\n"
     ]
    },
    {
     "name": "stdout",
     "output_type": "stream",
     "text": [
      "                   all        980       1174      0.928       0.74      0.848      0.614\n",
      "Speed: 0.2ms preprocess, 1.1ms inference, 0.0ms loss, 0.9ms postprocess per image\n",
      "Results saved to \u001b[1m/vol/biomedic3/bglocker/ugproj/tk1420/SharkTrack-Dev/runs/detect/val301\u001b[0m\n",
      "Confusion Matrix at thr=0.5000:\n",
      "[[        878          21]\n",
      " [        296           0]]\n",
      "Iter 0: thr=0.5000, FP=21, diff=125\n",
      "Ultralytics 8.3.0 🚀 Python-3.12.3 torch-2.6.0+cu124 CUDA:0 (NVIDIA GeForce RTX 4080, 16072MiB)\n"
     ]
    },
    {
     "name": "stderr",
     "output_type": "stream",
     "text": [
      "\u001b[34m\u001b[1mval: \u001b[0mScanning /vol/biomedic3/bglocker/ugproj/tk1420/p3v6/val/labels.cache... 980 images, 242 backgrounds, 0 corrupt: 100%|██████████| 980/980 [00:00<?, ?it/s]\n",
      "                 Class     Images  Instances      Box(P          R      mAP50  mAP50-95): 100%|██████████| 62/62 [00:05<00:00, 10.98it/s]\n"
     ]
    },
    {
     "name": "stdout",
     "output_type": "stream",
     "text": [
      "                   all        980       1174      0.892       0.79       0.87      0.617\n",
      "Speed: 0.3ms preprocess, 1.4ms inference, 0.0ms loss, 0.8ms postprocess per image\n",
      "Results saved to \u001b[1m/vol/biomedic3/bglocker/ugproj/tk1420/SharkTrack-Dev/runs/detect/val302\u001b[0m\n",
      "Confusion Matrix at thr=0.2500:\n",
      "[[        957          61]\n",
      " [        217           0]]\n",
      "Iter 1: thr=0.2500, FP=61, diff=85\n",
      "Ultralytics 8.3.0 🚀 Python-3.12.3 torch-2.6.0+cu124 CUDA:0 (NVIDIA GeForce RTX 4080, 16072MiB)\n"
     ]
    },
    {
     "name": "stderr",
     "output_type": "stream",
     "text": [
      "\u001b[34m\u001b[1mval: \u001b[0mScanning /vol/biomedic3/bglocker/ugproj/tk1420/p3v6/val/labels.cache... 980 images, 242 backgrounds, 0 corrupt: 100%|██████████| 980/980 [00:00<?, ?it/s]\n",
      "                 Class     Images  Instances      Box(P          R      mAP50  mAP50-95): 100%|██████████| 62/62 [00:05<00:00, 11.25it/s]\n"
     ]
    },
    {
     "name": "stdout",
     "output_type": "stream",
     "text": [
      "                   all        980       1174      0.892       0.79      0.876      0.613\n",
      "Speed: 0.2ms preprocess, 1.2ms inference, 0.0ms loss, 0.9ms postprocess per image\n",
      "Results saved to \u001b[1m/vol/biomedic3/bglocker/ugproj/tk1420/SharkTrack-Dev/runs/detect/val303\u001b[0m\n",
      "Confusion Matrix at thr=0.1250:\n",
      "[[        992         110]\n",
      " [        182           0]]\n",
      "Iter 2: thr=0.1250, FP=110, diff=36\n",
      "Ultralytics 8.3.0 🚀 Python-3.12.3 torch-2.6.0+cu124 CUDA:0 (NVIDIA GeForce RTX 4080, 16072MiB)\n"
     ]
    },
    {
     "name": "stderr",
     "output_type": "stream",
     "text": [
      "\u001b[34m\u001b[1mval: \u001b[0mScanning /vol/biomedic3/bglocker/ugproj/tk1420/p3v6/val/labels.cache... 980 images, 242 backgrounds, 0 corrupt: 100%|██████████| 980/980 [00:00<?, ?it/s]\n",
      "                 Class     Images  Instances      Box(P          R      mAP50  mAP50-95): 100%|██████████| 62/62 [00:05<00:00, 10.53it/s]\n"
     ]
    },
    {
     "name": "stdout",
     "output_type": "stream",
     "text": [
      "                   all        980       1174      0.892       0.79       0.88      0.609\n",
      "Speed: 0.3ms preprocess, 1.2ms inference, 0.0ms loss, 1.1ms postprocess per image\n",
      "Results saved to \u001b[1m/vol/biomedic3/bglocker/ugproj/tk1420/SharkTrack-Dev/runs/detect/val304\u001b[0m\n",
      "Confusion Matrix at thr=0.0625:\n",
      "[[       1017         203]\n",
      " [        157           0]]\n",
      "Iter 3: thr=0.0625, FP=203, diff=57\n",
      "Ultralytics 8.3.0 🚀 Python-3.12.3 torch-2.6.0+cu124 CUDA:0 (NVIDIA GeForce RTX 4080, 16072MiB)\n"
     ]
    },
    {
     "name": "stderr",
     "output_type": "stream",
     "text": [
      "\u001b[34m\u001b[1mval: \u001b[0mScanning /vol/biomedic3/bglocker/ugproj/tk1420/p3v6/val/labels.cache... 980 images, 242 backgrounds, 0 corrupt: 100%|██████████| 980/980 [00:00<?, ?it/s]\n",
      "                 Class     Images  Instances      Box(P          R      mAP50  mAP50-95): 100%|██████████| 62/62 [00:06<00:00,  9.88it/s]\n"
     ]
    },
    {
     "name": "stdout",
     "output_type": "stream",
     "text": [
      "                   all        980       1174      0.892       0.79      0.878      0.611\n",
      "Speed: 0.3ms preprocess, 1.2ms inference, 0.0ms loss, 1.1ms postprocess per image\n",
      "Results saved to \u001b[1m/vol/biomedic3/bglocker/ugproj/tk1420/SharkTrack-Dev/runs/detect/val305\u001b[0m\n",
      "Confusion Matrix at thr=0.0938:\n",
      "[[       1004         152]\n",
      " [        170           0]]\n",
      "Iter 4: thr=0.0938, FP=152, diff=6\n",
      "Ultralytics 8.3.0 🚀 Python-3.12.3 torch-2.6.0+cu124 CUDA:0 (NVIDIA GeForce RTX 4080, 16072MiB)\n"
     ]
    },
    {
     "name": "stderr",
     "output_type": "stream",
     "text": [
      "\u001b[34m\u001b[1mval: \u001b[0mScanning /vol/biomedic3/bglocker/ugproj/tk1420/p3v6/val/labels.cache... 980 images, 242 backgrounds, 0 corrupt: 100%|██████████| 980/980 [00:00<?, ?it/s]\n",
      "                 Class     Images  Instances      Box(P          R      mAP50  mAP50-95): 100%|██████████| 62/62 [00:05<00:00, 11.72it/s]\n"
     ]
    },
    {
     "name": "stdout",
     "output_type": "stream",
     "text": [
      "                   all        980       1174      0.892       0.79      0.877      0.612\n",
      "Speed: 0.2ms preprocess, 1.1ms inference, 0.0ms loss, 1.0ms postprocess per image\n",
      "Results saved to \u001b[1m/vol/biomedic3/bglocker/ugproj/tk1420/SharkTrack-Dev/runs/detect/val306\u001b[0m\n",
      "Confusion Matrix at thr=0.1094:\n",
      "[[        999         133]\n",
      " [        175           0]]\n",
      "Iter 5: thr=0.1094, FP=133, diff=13\n",
      "Ultralytics 8.3.0 🚀 Python-3.12.3 torch-2.6.0+cu124 CUDA:0 (NVIDIA GeForce RTX 4080, 16072MiB)\n"
     ]
    },
    {
     "name": "stderr",
     "output_type": "stream",
     "text": [
      "\u001b[34m\u001b[1mval: \u001b[0mScanning /vol/biomedic3/bglocker/ugproj/tk1420/p3v6/val/labels.cache... 980 images, 242 backgrounds, 0 corrupt: 100%|██████████| 980/980 [00:00<?, ?it/s]\n",
      "                 Class     Images  Instances      Box(P          R      mAP50  mAP50-95): 100%|██████████| 62/62 [00:06<00:00,  9.61it/s]\n"
     ]
    },
    {
     "name": "stdout",
     "output_type": "stream",
     "text": [
      "                   all        980       1174      0.892       0.79      0.878      0.612\n",
      "Speed: 0.3ms preprocess, 1.4ms inference, 0.0ms loss, 1.0ms postprocess per image\n",
      "Results saved to \u001b[1m/vol/biomedic3/bglocker/ugproj/tk1420/SharkTrack-Dev/runs/detect/val307\u001b[0m\n",
      "Confusion Matrix at thr=0.1016:\n",
      "[[       1002         144]\n",
      " [        172           0]]\n",
      "Iter 6: thr=0.1016, FP=144, diff=2\n",
      "Best thr=0.1016, FP diff=2\n",
      "Model: p3v6_v8s_1000e_mosaic0.8_perspective0.0005_cutmix0.1, Conf Threshold: 0.1016\n",
      "Ultralytics 8.3.0 🚀 Python-3.12.3 torch-2.6.0+cu124 CUDA:0 (NVIDIA GeForce RTX 4080, 16072MiB)\n",
      "Model summary (fused): 168 layers, 3,005,843 parameters, 0 gradients, 8.1 GFLOPs\n"
     ]
    },
    {
     "name": "stderr",
     "output_type": "stream",
     "text": [
      "\u001b[34m\u001b[1mval: \u001b[0mScanning /vol/biomedic3/bglocker/ugproj/tk1420/p3v6/val/labels.cache... 980 images, 242 backgrounds, 0 corrupt: 100%|██████████| 980/980 [00:00<?, ?it/s]\n",
      "                 Class     Images  Instances      Box(P          R      mAP50  mAP50-95): 100%|██████████| 62/62 [00:05<00:00, 11.83it/s]\n"
     ]
    },
    {
     "name": "stdout",
     "output_type": "stream",
     "text": [
      "                   all        980       1174      0.911      0.719       0.83      0.602\n",
      "Speed: 0.3ms preprocess, 1.0ms inference, 0.0ms loss, 1.0ms postprocess per image\n",
      "Results saved to \u001b[1m/vol/biomedic3/bglocker/ugproj/tk1420/SharkTrack-Dev/runs/detect/val308\u001b[0m\n",
      "Confusion Matrix at thr=0.5000:\n",
      "[[        851          24]\n",
      " [        323           0]]\n",
      "Iter 0: thr=0.5000, FP=24, diff=122\n",
      "Ultralytics 8.3.0 🚀 Python-3.12.3 torch-2.6.0+cu124 CUDA:0 (NVIDIA GeForce RTX 4080, 16072MiB)\n"
     ]
    },
    {
     "name": "stderr",
     "output_type": "stream",
     "text": [
      "\u001b[34m\u001b[1mval: \u001b[0mScanning /vol/biomedic3/bglocker/ugproj/tk1420/p3v6/val/labels.cache... 980 images, 242 backgrounds, 0 corrupt: 100%|██████████| 980/980 [00:00<?, ?it/s]\n",
      "                 Class     Images  Instances      Box(P          R      mAP50  mAP50-95): 100%|██████████| 62/62 [00:05<00:00, 11.50it/s]\n"
     ]
    },
    {
     "name": "stdout",
     "output_type": "stream",
     "text": [
      "                   all        980       1174       0.86      0.788      0.854      0.606\n",
      "Speed: 0.2ms preprocess, 1.0ms inference, 0.0ms loss, 0.9ms postprocess per image\n",
      "Results saved to \u001b[1m/vol/biomedic3/bglocker/ugproj/tk1420/SharkTrack-Dev/runs/detect/val309\u001b[0m\n",
      "Confusion Matrix at thr=0.2500:\n",
      "[[        936          63]\n",
      " [        238           0]]\n",
      "Iter 1: thr=0.2500, FP=63, diff=83\n",
      "Ultralytics 8.3.0 🚀 Python-3.12.3 torch-2.6.0+cu124 CUDA:0 (NVIDIA GeForce RTX 4080, 16072MiB)\n"
     ]
    },
    {
     "name": "stderr",
     "output_type": "stream",
     "text": [
      "\u001b[34m\u001b[1mval: \u001b[0mScanning /vol/biomedic3/bglocker/ugproj/tk1420/p3v6/val/labels.cache... 980 images, 242 backgrounds, 0 corrupt: 100%|██████████| 980/980 [00:00<?, ?it/s]\n",
      "                 Class     Images  Instances      Box(P          R      mAP50  mAP50-95): 100%|██████████| 62/62 [00:04<00:00, 12.95it/s]\n"
     ]
    },
    {
     "name": "stdout",
     "output_type": "stream",
     "text": [
      "                   all        980       1174      0.863      0.786      0.863      0.604\n",
      "Speed: 0.3ms preprocess, 0.8ms inference, 0.0ms loss, 0.9ms postprocess per image\n",
      "Results saved to \u001b[1m/vol/biomedic3/bglocker/ugproj/tk1420/SharkTrack-Dev/runs/detect/val310\u001b[0m\n",
      "Confusion Matrix at thr=0.1250:\n",
      "[[        979         129]\n",
      " [        195           0]]\n",
      "Iter 2: thr=0.1250, FP=129, diff=17\n",
      "Ultralytics 8.3.0 🚀 Python-3.12.3 torch-2.6.0+cu124 CUDA:0 (NVIDIA GeForce RTX 4080, 16072MiB)\n"
     ]
    },
    {
     "name": "stderr",
     "output_type": "stream",
     "text": [
      "\u001b[34m\u001b[1mval: \u001b[0mScanning /vol/biomedic3/bglocker/ugproj/tk1420/p3v6/val/labels.cache... 980 images, 242 backgrounds, 0 corrupt: 100%|██████████| 980/980 [00:00<?, ?it/s]\n",
      "                 Class     Images  Instances      Box(P          R      mAP50  mAP50-95): 100%|██████████| 62/62 [00:04<00:00, 12.90it/s]\n"
     ]
    },
    {
     "name": "stdout",
     "output_type": "stream",
     "text": [
      "                   all        980       1174      0.863      0.786      0.866        0.6\n",
      "Speed: 0.2ms preprocess, 0.8ms inference, 0.0ms loss, 0.9ms postprocess per image\n",
      "Results saved to \u001b[1m/vol/biomedic3/bglocker/ugproj/tk1420/SharkTrack-Dev/runs/detect/val311\u001b[0m\n",
      "Confusion Matrix at thr=0.0625:\n",
      "[[       1002         193]\n",
      " [        172           0]]\n",
      "Iter 3: thr=0.0625, FP=193, diff=47\n",
      "Ultralytics 8.3.0 🚀 Python-3.12.3 torch-2.6.0+cu124 CUDA:0 (NVIDIA GeForce RTX 4080, 16072MiB)\n"
     ]
    },
    {
     "name": "stderr",
     "output_type": "stream",
     "text": [
      "\u001b[34m\u001b[1mval: \u001b[0mScanning /vol/biomedic3/bglocker/ugproj/tk1420/p3v6/val/labels.cache... 980 images, 242 backgrounds, 0 corrupt: 100%|██████████| 980/980 [00:00<?, ?it/s]\n",
      "                 Class     Images  Instances      Box(P          R      mAP50  mAP50-95): 100%|██████████| 62/62 [00:05<00:00, 11.57it/s]\n"
     ]
    },
    {
     "name": "stdout",
     "output_type": "stream",
     "text": [
      "                   all        980       1174      0.863      0.786      0.863      0.602\n",
      "Speed: 0.2ms preprocess, 0.7ms inference, 0.0ms loss, 0.7ms postprocess per image\n",
      "Results saved to \u001b[1m/vol/biomedic3/bglocker/ugproj/tk1420/SharkTrack-Dev/runs/detect/val312\u001b[0m\n",
      "Confusion Matrix at thr=0.0938:\n",
      "[[        988         159]\n",
      " [        186           0]]\n",
      "Iter 4: thr=0.0938, FP=159, diff=13\n",
      "Ultralytics 8.3.0 🚀 Python-3.12.3 torch-2.6.0+cu124 CUDA:0 (NVIDIA GeForce RTX 4080, 16072MiB)\n"
     ]
    },
    {
     "name": "stderr",
     "output_type": "stream",
     "text": [
      "\u001b[34m\u001b[1mval: \u001b[0mScanning /vol/biomedic3/bglocker/ugproj/tk1420/p3v6/val/labels.cache... 980 images, 242 backgrounds, 0 corrupt: 100%|██████████| 980/980 [00:00<?, ?it/s]\n",
      "                 Class     Images  Instances      Box(P          R      mAP50  mAP50-95): 100%|██████████| 62/62 [00:04<00:00, 13.15it/s]\n"
     ]
    },
    {
     "name": "stdout",
     "output_type": "stream",
     "text": [
      "                   all        980       1174      0.863      0.786      0.863      0.603\n",
      "Speed: 0.2ms preprocess, 0.7ms inference, 0.0ms loss, 0.9ms postprocess per image\n",
      "Results saved to \u001b[1m/vol/biomedic3/bglocker/ugproj/tk1420/SharkTrack-Dev/runs/detect/val313\u001b[0m\n",
      "Confusion Matrix at thr=0.1094:\n",
      "[[        983         140]\n",
      " [        191           0]]\n",
      "Iter 5: thr=0.1094, FP=140, diff=6\n",
      "Ultralytics 8.3.0 🚀 Python-3.12.3 torch-2.6.0+cu124 CUDA:0 (NVIDIA GeForce RTX 4080, 16072MiB)\n"
     ]
    },
    {
     "name": "stderr",
     "output_type": "stream",
     "text": [
      "\u001b[34m\u001b[1mval: \u001b[0mScanning /vol/biomedic3/bglocker/ugproj/tk1420/p3v6/val/labels.cache... 980 images, 242 backgrounds, 0 corrupt: 100%|██████████| 980/980 [00:00<?, ?it/s]\n",
      "                 Class     Images  Instances      Box(P          R      mAP50  mAP50-95): 100%|██████████| 62/62 [00:05<00:00, 11.63it/s]\n"
     ]
    },
    {
     "name": "stdout",
     "output_type": "stream",
     "text": [
      "                   all        980       1174      0.863      0.786      0.862      0.602\n",
      "Speed: 0.2ms preprocess, 1.0ms inference, 0.0ms loss, 0.9ms postprocess per image\n",
      "Results saved to \u001b[1m/vol/biomedic3/bglocker/ugproj/tk1420/SharkTrack-Dev/runs/detect/val314\u001b[0m\n",
      "Confusion Matrix at thr=0.1016:\n",
      "[[        984         152]\n",
      " [        190           0]]\n",
      "Iter 6: thr=0.1016, FP=152, diff=6\n",
      "Ultralytics 8.3.0 🚀 Python-3.12.3 torch-2.6.0+cu124 CUDA:0 (NVIDIA GeForce RTX 4080, 16072MiB)\n"
     ]
    },
    {
     "name": "stderr",
     "output_type": "stream",
     "text": [
      "\u001b[34m\u001b[1mval: \u001b[0mScanning /vol/biomedic3/bglocker/ugproj/tk1420/p3v6/val/labels.cache... 980 images, 242 backgrounds, 0 corrupt: 100%|██████████| 980/980 [00:00<?, ?it/s]\n",
      "                 Class     Images  Instances      Box(P          R      mAP50  mAP50-95): 100%|██████████| 62/62 [00:05<00:00, 12.18it/s]\n"
     ]
    },
    {
     "name": "stdout",
     "output_type": "stream",
     "text": [
      "                   all        980       1174      0.863      0.786      0.863      0.603\n",
      "Speed: 0.2ms preprocess, 0.8ms inference, 0.0ms loss, 1.0ms postprocess per image\n",
      "Results saved to \u001b[1m/vol/biomedic3/bglocker/ugproj/tk1420/SharkTrack-Dev/runs/detect/val315\u001b[0m\n",
      "Confusion Matrix at thr=0.1055:\n",
      "[[        984         145]\n",
      " [        190           0]]\n",
      "Iter 7: thr=0.1055, FP=145, diff=1\n",
      "Best thr=0.1055, FP diff=1\n",
      "Model: p3v6_v8n_1000e_mosaic0.8_perspective0.0005_cutmix0.15, Conf Threshold: 0.1055\n",
      "Ultralytics 8.3.0 🚀 Python-3.12.3 torch-2.6.0+cu124 CUDA:0 (NVIDIA GeForce RTX 4080, 16072MiB)\n",
      "Model summary (fused): 168 layers, 11,125,971 parameters, 0 gradients, 28.4 GFLOPs\n"
     ]
    },
    {
     "name": "stderr",
     "output_type": "stream",
     "text": [
      "\u001b[34m\u001b[1mval: \u001b[0mScanning /vol/biomedic3/bglocker/ugproj/tk1420/p3v6/val/labels.cache... 980 images, 242 backgrounds, 0 corrupt: 100%|██████████| 980/980 [00:00<?, ?it/s]\n",
      "                 Class     Images  Instances      Box(P          R      mAP50  mAP50-95): 100%|██████████| 62/62 [00:05<00:00, 11.50it/s]\n"
     ]
    },
    {
     "name": "stdout",
     "output_type": "stream",
     "text": [
      "                   all        980       1174      0.924      0.736      0.837      0.597\n",
      "Speed: 0.2ms preprocess, 1.2ms inference, 0.0ms loss, 0.9ms postprocess per image\n",
      "Results saved to \u001b[1m/vol/biomedic3/bglocker/ugproj/tk1420/SharkTrack-Dev/runs/detect/val316\u001b[0m\n",
      "Confusion Matrix at thr=0.5000:\n",
      "[[        876          19]\n",
      " [        298           0]]\n",
      "Iter 0: thr=0.5000, FP=19, diff=127\n",
      "Ultralytics 8.3.0 🚀 Python-3.12.3 torch-2.6.0+cu124 CUDA:0 (NVIDIA GeForce RTX 4080, 16072MiB)\n"
     ]
    },
    {
     "name": "stderr",
     "output_type": "stream",
     "text": [
      "\u001b[34m\u001b[1mval: \u001b[0mScanning /vol/biomedic3/bglocker/ugproj/tk1420/p3v6/val/labels.cache... 980 images, 242 backgrounds, 0 corrupt: 100%|██████████| 980/980 [00:00<?, ?it/s]\n",
      "                 Class     Images  Instances      Box(P          R      mAP50  mAP50-95): 100%|██████████| 62/62 [00:05<00:00, 11.13it/s]\n"
     ]
    },
    {
     "name": "stdout",
     "output_type": "stream",
     "text": [
      "                   all        980       1174      0.898      0.761      0.845      0.595\n",
      "Speed: 0.2ms preprocess, 1.2ms inference, 0.0ms loss, 1.0ms postprocess per image\n",
      "Results saved to \u001b[1m/vol/biomedic3/bglocker/ugproj/tk1420/SharkTrack-Dev/runs/detect/val317\u001b[0m\n",
      "Confusion Matrix at thr=0.2500:\n",
      "[[        907          28]\n",
      " [        267           0]]\n",
      "Iter 1: thr=0.2500, FP=28, diff=118\n",
      "Ultralytics 8.3.0 🚀 Python-3.12.3 torch-2.6.0+cu124 CUDA:0 (NVIDIA GeForce RTX 4080, 16072MiB)\n"
     ]
    },
    {
     "name": "stderr",
     "output_type": "stream",
     "text": [
      "\u001b[34m\u001b[1mval: \u001b[0mScanning /vol/biomedic3/bglocker/ugproj/tk1420/p3v6/val/labels.cache... 980 images, 242 backgrounds, 0 corrupt: 100%|██████████| 980/980 [00:00<?, ?it/s]\n",
      "                 Class     Images  Instances      Box(P          R      mAP50  mAP50-95): 100%|██████████| 62/62 [00:05<00:00, 10.49it/s]\n"
     ]
    },
    {
     "name": "stdout",
     "output_type": "stream",
     "text": [
      "                   all        980       1174      0.897      0.762      0.847      0.594\n",
      "Speed: 0.2ms preprocess, 1.1ms inference, 0.0ms loss, 1.1ms postprocess per image\n",
      "Results saved to \u001b[1m/vol/biomedic3/bglocker/ugproj/tk1420/SharkTrack-Dev/runs/detect/val318\u001b[0m\n",
      "Confusion Matrix at thr=0.1250:\n",
      "[[        918          38]\n",
      " [        256           0]]\n",
      "Iter 2: thr=0.1250, FP=38, diff=108\n",
      "Ultralytics 8.3.0 🚀 Python-3.12.3 torch-2.6.0+cu124 CUDA:0 (NVIDIA GeForce RTX 4080, 16072MiB)\n"
     ]
    },
    {
     "name": "stderr",
     "output_type": "stream",
     "text": [
      "\u001b[34m\u001b[1mval: \u001b[0mScanning /vol/biomedic3/bglocker/ugproj/tk1420/p3v6/val/labels.cache... 980 images, 242 backgrounds, 0 corrupt: 100%|██████████| 980/980 [00:00<?, ?it/s]\n",
      "                 Class     Images  Instances      Box(P          R      mAP50  mAP50-95): 100%|██████████| 62/62 [00:04<00:00, 14.33it/s]\n"
     ]
    },
    {
     "name": "stdout",
     "output_type": "stream",
     "text": [
      "                   all        980       1174      0.897      0.762      0.848      0.592\n",
      "Speed: 0.2ms preprocess, 1.1ms inference, 0.0ms loss, 0.7ms postprocess per image\n",
      "Results saved to \u001b[1m/vol/biomedic3/bglocker/ugproj/tk1420/SharkTrack-Dev/runs/detect/val319\u001b[0m\n",
      "Confusion Matrix at thr=0.0625:\n",
      "[[        929          56]\n",
      " [        245           0]]\n",
      "Iter 3: thr=0.0625, FP=56, diff=90\n",
      "Ultralytics 8.3.0 🚀 Python-3.12.3 torch-2.6.0+cu124 CUDA:0 (NVIDIA GeForce RTX 4080, 16072MiB)\n"
     ]
    },
    {
     "name": "stderr",
     "output_type": "stream",
     "text": [
      "\u001b[34m\u001b[1mval: \u001b[0mScanning /vol/biomedic3/bglocker/ugproj/tk1420/p3v6/val/labels.cache... 980 images, 242 backgrounds, 0 corrupt: 100%|██████████| 980/980 [00:00<?, ?it/s]\n",
      "                 Class     Images  Instances      Box(P          R      mAP50  mAP50-95): 100%|██████████| 62/62 [00:05<00:00, 10.85it/s]\n"
     ]
    },
    {
     "name": "stdout",
     "output_type": "stream",
     "text": [
      "                   all        980       1174      0.897      0.762       0.85       0.59\n",
      "Speed: 0.2ms preprocess, 1.2ms inference, 0.0ms loss, 1.1ms postprocess per image\n",
      "Results saved to \u001b[1m/vol/biomedic3/bglocker/ugproj/tk1420/SharkTrack-Dev/runs/detect/val320\u001b[0m\n",
      "Confusion Matrix at thr=0.0312:\n",
      "[[        943          82]\n",
      " [        231           0]]\n",
      "Iter 4: thr=0.0312, FP=82, diff=64\n",
      "Ultralytics 8.3.0 🚀 Python-3.12.3 torch-2.6.0+cu124 CUDA:0 (NVIDIA GeForce RTX 4080, 16072MiB)\n"
     ]
    },
    {
     "name": "stderr",
     "output_type": "stream",
     "text": [
      "\u001b[34m\u001b[1mval: \u001b[0mScanning /vol/biomedic3/bglocker/ugproj/tk1420/p3v6/val/labels.cache... 980 images, 242 backgrounds, 0 corrupt: 100%|██████████| 980/980 [00:00<?, ?it/s]\n",
      "                 Class     Images  Instances      Box(P          R      mAP50  mAP50-95): 100%|██████████| 62/62 [00:05<00:00, 12.40it/s]\n"
     ]
    },
    {
     "name": "stdout",
     "output_type": "stream",
     "text": [
      "                   all        980       1174      0.897      0.762      0.854       0.59\n",
      "Speed: 0.2ms preprocess, 1.2ms inference, 0.0ms loss, 0.8ms postprocess per image\n",
      "Results saved to \u001b[1m/vol/biomedic3/bglocker/ugproj/tk1420/SharkTrack-Dev/runs/detect/val321\u001b[0m\n",
      "Confusion Matrix at thr=0.0156:\n",
      "[[        962         108]\n",
      " [        212           0]]\n",
      "Iter 5: thr=0.0156, FP=108, diff=38\n",
      "Ultralytics 8.3.0 🚀 Python-3.12.3 torch-2.6.0+cu124 CUDA:0 (NVIDIA GeForce RTX 4080, 16072MiB)\n"
     ]
    },
    {
     "name": "stderr",
     "output_type": "stream",
     "text": [
      "\u001b[34m\u001b[1mval: \u001b[0mScanning /vol/biomedic3/bglocker/ugproj/tk1420/p3v6/val/labels.cache... 980 images, 242 backgrounds, 0 corrupt: 100%|██████████| 980/980 [00:00<?, ?it/s]\n",
      "                 Class     Images  Instances      Box(P          R      mAP50  mAP50-95): 100%|██████████| 62/62 [00:06<00:00, 10.23it/s]\n"
     ]
    },
    {
     "name": "stdout",
     "output_type": "stream",
     "text": [
      "                   all        980       1174      0.897      0.762      0.857      0.589\n",
      "Speed: 0.2ms preprocess, 1.2ms inference, 0.0ms loss, 1.0ms postprocess per image\n",
      "Results saved to \u001b[1m/vol/biomedic3/bglocker/ugproj/tk1420/SharkTrack-Dev/runs/detect/val322\u001b[0m\n",
      "Confusion Matrix at thr=0.0078:\n",
      "[[        976         132]\n",
      " [        198           0]]\n",
      "Iter 6: thr=0.0078, FP=132, diff=14\n",
      "Ultralytics 8.3.0 🚀 Python-3.12.3 torch-2.6.0+cu124 CUDA:0 (NVIDIA GeForce RTX 4080, 16072MiB)\n"
     ]
    },
    {
     "name": "stderr",
     "output_type": "stream",
     "text": [
      "\u001b[34m\u001b[1mval: \u001b[0mScanning /vol/biomedic3/bglocker/ugproj/tk1420/p3v6/val/labels.cache... 980 images, 242 backgrounds, 0 corrupt: 100%|██████████| 980/980 [00:00<?, ?it/s]\n",
      "                 Class     Images  Instances      Box(P          R      mAP50  mAP50-95): 100%|██████████| 62/62 [00:04<00:00, 12.43it/s]\n"
     ]
    },
    {
     "name": "stdout",
     "output_type": "stream",
     "text": [
      "                   all        980       1174      0.897      0.762      0.856      0.585\n",
      "Speed: 0.2ms preprocess, 1.1ms inference, 0.0ms loss, 1.0ms postprocess per image\n",
      "Results saved to \u001b[1m/vol/biomedic3/bglocker/ugproj/tk1420/SharkTrack-Dev/runs/detect/val323\u001b[0m\n",
      "Confusion Matrix at thr=0.0039:\n",
      "[[        987         181]\n",
      " [        187           0]]\n",
      "Iter 7: thr=0.0039, FP=181, diff=35\n",
      "Ultralytics 8.3.0 🚀 Python-3.12.3 torch-2.6.0+cu124 CUDA:0 (NVIDIA GeForce RTX 4080, 16072MiB)\n"
     ]
    },
    {
     "name": "stderr",
     "output_type": "stream",
     "text": [
      "\u001b[34m\u001b[1mval: \u001b[0mScanning /vol/biomedic3/bglocker/ugproj/tk1420/p3v6/val/labels.cache... 980 images, 242 backgrounds, 0 corrupt: 100%|██████████| 980/980 [00:00<?, ?it/s]\n",
      "                 Class     Images  Instances      Box(P          R      mAP50  mAP50-95): 100%|██████████| 62/62 [00:05<00:00, 10.57it/s]\n"
     ]
    },
    {
     "name": "stdout",
     "output_type": "stream",
     "text": [
      "                   all        980       1174      0.897      0.762      0.857      0.587\n",
      "Speed: 0.2ms preprocess, 1.4ms inference, 0.0ms loss, 0.9ms postprocess per image\n",
      "Results saved to \u001b[1m/vol/biomedic3/bglocker/ugproj/tk1420/SharkTrack-Dev/runs/detect/val324\u001b[0m\n",
      "Confusion Matrix at thr=0.0059:\n",
      "[[        980         149]\n",
      " [        194           0]]\n",
      "Iter 8: thr=0.0059, FP=149, diff=3\n",
      "Best thr=0.0059, FP diff=3\n",
      "Model: p3v6_v8s_1000e2, Conf Threshold: 0.0059\n",
      "Ultralytics 8.3.0 🚀 Python-3.12.3 torch-2.6.0+cu124 CUDA:0 (NVIDIA GeForce RTX 4080, 16072MiB)\n",
      "YOLO11s summary (fused): 238 layers, 9,413,187 parameters, 0 gradients, 21.3 GFLOPs\n"
     ]
    },
    {
     "name": "stderr",
     "output_type": "stream",
     "text": [
      "\u001b[34m\u001b[1mval: \u001b[0mScanning /vol/biomedic3/bglocker/ugproj/tk1420/p3v6/val/labels.cache... 980 images, 242 backgrounds, 0 corrupt: 100%|██████████| 980/980 [00:00<?, ?it/s]\n",
      "                 Class     Images  Instances      Box(P          R      mAP50  mAP50-95): 100%|██████████| 62/62 [00:05<00:00, 12.21it/s]\n"
     ]
    },
    {
     "name": "stdout",
     "output_type": "stream",
     "text": [
      "                   all        980       1174      0.912      0.761      0.848      0.632\n",
      "Speed: 0.3ms preprocess, 1.1ms inference, 0.0ms loss, 0.9ms postprocess per image\n",
      "Results saved to \u001b[1m/vol/biomedic3/bglocker/ugproj/tk1420/SharkTrack-Dev/runs/detect/val325\u001b[0m\n",
      "Confusion Matrix at thr=0.5000:\n",
      "[[        901          20]\n",
      " [        273           0]]\n",
      "Iter 0: thr=0.5000, FP=20, diff=126\n",
      "Ultralytics 8.3.0 🚀 Python-3.12.3 torch-2.6.0+cu124 CUDA:0 (NVIDIA GeForce RTX 4080, 16072MiB)\n"
     ]
    },
    {
     "name": "stderr",
     "output_type": "stream",
     "text": [
      "\u001b[34m\u001b[1mval: \u001b[0mScanning /vol/biomedic3/bglocker/ugproj/tk1420/p3v6/val/labels.cache... 980 images, 242 backgrounds, 0 corrupt: 100%|██████████| 980/980 [00:00<?, ?it/s]\n",
      "                 Class     Images  Instances      Box(P          R      mAP50  mAP50-95): 100%|██████████| 62/62 [00:06<00:00, 10.32it/s]\n"
     ]
    },
    {
     "name": "stdout",
     "output_type": "stream",
     "text": [
      "                   all        980       1174      0.877      0.803      0.866      0.633\n",
      "Speed: 0.2ms preprocess, 1.3ms inference, 0.0ms loss, 0.9ms postprocess per image\n",
      "Results saved to \u001b[1m/vol/biomedic3/bglocker/ugproj/tk1420/SharkTrack-Dev/runs/detect/val326\u001b[0m\n",
      "Confusion Matrix at thr=0.2500:\n",
      "[[        967          62]\n",
      " [        207           0]]\n",
      "Iter 1: thr=0.2500, FP=62, diff=84\n",
      "Ultralytics 8.3.0 🚀 Python-3.12.3 torch-2.6.0+cu124 CUDA:0 (NVIDIA GeForce RTX 4080, 16072MiB)\n"
     ]
    },
    {
     "name": "stderr",
     "output_type": "stream",
     "text": [
      "\u001b[34m\u001b[1mval: \u001b[0mScanning /vol/biomedic3/bglocker/ugproj/tk1420/p3v6/val/labels.cache... 980 images, 242 backgrounds, 0 corrupt: 100%|██████████| 980/980 [00:00<?, ?it/s]\n",
      "                 Class     Images  Instances      Box(P          R      mAP50  mAP50-95): 100%|██████████| 62/62 [00:05<00:00, 11.93it/s]\n"
     ]
    },
    {
     "name": "stdout",
     "output_type": "stream",
     "text": [
      "                   all        980       1174      0.877      0.803      0.872       0.63\n",
      "Speed: 0.2ms preprocess, 1.3ms inference, 0.0ms loss, 0.8ms postprocess per image\n",
      "Results saved to \u001b[1m/vol/biomedic3/bglocker/ugproj/tk1420/SharkTrack-Dev/runs/detect/val327\u001b[0m\n",
      "Confusion Matrix at thr=0.1250:\n",
      "[[        998         122]\n",
      " [        176           0]]\n",
      "Iter 2: thr=0.1250, FP=122, diff=24\n",
      "Ultralytics 8.3.0 🚀 Python-3.12.3 torch-2.6.0+cu124 CUDA:0 (NVIDIA GeForce RTX 4080, 16072MiB)\n"
     ]
    },
    {
     "name": "stderr",
     "output_type": "stream",
     "text": [
      "\u001b[34m\u001b[1mval: \u001b[0mScanning /vol/biomedic3/bglocker/ugproj/tk1420/p3v6/val/labels.cache... 980 images, 242 backgrounds, 0 corrupt: 100%|██████████| 980/980 [00:00<?, ?it/s]\n",
      "                 Class     Images  Instances      Box(P          R      mAP50  mAP50-95): 100%|██████████| 62/62 [00:05<00:00, 10.53it/s]\n"
     ]
    },
    {
     "name": "stdout",
     "output_type": "stream",
     "text": [
      "                   all        980       1174      0.877      0.803      0.874      0.625\n",
      "Speed: 0.2ms preprocess, 1.3ms inference, 0.0ms loss, 1.0ms postprocess per image\n",
      "Results saved to \u001b[1m/vol/biomedic3/bglocker/ugproj/tk1420/SharkTrack-Dev/runs/detect/val328\u001b[0m\n",
      "Confusion Matrix at thr=0.0625:\n",
      "[[       1020         194]\n",
      " [        154           0]]\n",
      "Iter 3: thr=0.0625, FP=194, diff=48\n",
      "Ultralytics 8.3.0 🚀 Python-3.12.3 torch-2.6.0+cu124 CUDA:0 (NVIDIA GeForce RTX 4080, 16072MiB)\n"
     ]
    },
    {
     "name": "stderr",
     "output_type": "stream",
     "text": [
      "\u001b[34m\u001b[1mval: \u001b[0mScanning /vol/biomedic3/bglocker/ugproj/tk1420/p3v6/val/labels.cache... 980 images, 242 backgrounds, 0 corrupt: 100%|██████████| 980/980 [00:00<?, ?it/s]\n",
      "                 Class     Images  Instances      Box(P          R      mAP50  mAP50-95): 100%|██████████| 62/62 [00:05<00:00, 11.06it/s]\n"
     ]
    },
    {
     "name": "stdout",
     "output_type": "stream",
     "text": [
      "                   all        980       1174      0.877      0.803      0.875      0.628\n",
      "Speed: 0.2ms preprocess, 1.1ms inference, 0.0ms loss, 1.0ms postprocess per image\n",
      "Results saved to \u001b[1m/vol/biomedic3/bglocker/ugproj/tk1420/SharkTrack-Dev/runs/detect/val329\u001b[0m\n",
      "Confusion Matrix at thr=0.0938:\n",
      "[[       1015         150]\n",
      " [        159           0]]\n",
      "Iter 4: thr=0.0938, FP=150, diff=4\n",
      "Ultralytics 8.3.0 🚀 Python-3.12.3 torch-2.6.0+cu124 CUDA:0 (NVIDIA GeForce RTX 4080, 16072MiB)\n"
     ]
    },
    {
     "name": "stderr",
     "output_type": "stream",
     "text": [
      "\u001b[34m\u001b[1mval: \u001b[0mScanning /vol/biomedic3/bglocker/ugproj/tk1420/p3v6/val/labels.cache... 980 images, 242 backgrounds, 0 corrupt: 100%|██████████| 980/980 [00:00<?, ?it/s]\n",
      "                 Class     Images  Instances      Box(P          R      mAP50  mAP50-95): 100%|██████████| 62/62 [00:05<00:00, 11.41it/s]\n"
     ]
    },
    {
     "name": "stdout",
     "output_type": "stream",
     "text": [
      "                   all        980       1174      0.877      0.803      0.874      0.629\n",
      "Speed: 0.3ms preprocess, 1.1ms inference, 0.0ms loss, 1.0ms postprocess per image\n",
      "Results saved to \u001b[1m/vol/biomedic3/bglocker/ugproj/tk1420/SharkTrack-Dev/runs/detect/val330\u001b[0m\n",
      "Confusion Matrix at thr=0.1094:\n",
      "[[       1005         135]\n",
      " [        169           0]]\n",
      "Iter 5: thr=0.1094, FP=135, diff=11\n",
      "Ultralytics 8.3.0 🚀 Python-3.12.3 torch-2.6.0+cu124 CUDA:0 (NVIDIA GeForce RTX 4080, 16072MiB)\n"
     ]
    },
    {
     "name": "stderr",
     "output_type": "stream",
     "text": [
      "\u001b[34m\u001b[1mval: \u001b[0mScanning /vol/biomedic3/bglocker/ugproj/tk1420/p3v6/val/labels.cache... 980 images, 242 backgrounds, 0 corrupt: 100%|██████████| 980/980 [00:00<?, ?it/s]\n",
      "                 Class     Images  Instances      Box(P          R      mAP50  mAP50-95): 100%|██████████| 62/62 [00:05<00:00, 10.46it/s]\n"
     ]
    },
    {
     "name": "stdout",
     "output_type": "stream",
     "text": [
      "                   all        980       1174      0.877      0.803      0.874      0.629\n",
      "Speed: 0.3ms preprocess, 1.4ms inference, 0.0ms loss, 1.1ms postprocess per image\n",
      "Results saved to \u001b[1m/vol/biomedic3/bglocker/ugproj/tk1420/SharkTrack-Dev/runs/detect/val331\u001b[0m\n",
      "Confusion Matrix at thr=0.1016:\n",
      "[[       1010         139]\n",
      " [        164           0]]\n",
      "Iter 6: thr=0.1016, FP=139, diff=7\n",
      "Ultralytics 8.3.0 🚀 Python-3.12.3 torch-2.6.0+cu124 CUDA:0 (NVIDIA GeForce RTX 4080, 16072MiB)\n"
     ]
    },
    {
     "name": "stderr",
     "output_type": "stream",
     "text": [
      "\u001b[34m\u001b[1mval: \u001b[0mScanning /vol/biomedic3/bglocker/ugproj/tk1420/p3v6/val/labels.cache... 980 images, 242 backgrounds, 0 corrupt: 100%|██████████| 980/980 [00:00<?, ?it/s]\n",
      "                 Class     Images  Instances      Box(P          R      mAP50  mAP50-95): 100%|██████████| 62/62 [00:05<00:00, 10.50it/s]\n"
     ]
    },
    {
     "name": "stdout",
     "output_type": "stream",
     "text": [
      "                   all        980       1174      0.877      0.803      0.876      0.629\n",
      "Speed: 0.2ms preprocess, 1.4ms inference, 0.0ms loss, 1.0ms postprocess per image\n",
      "Results saved to \u001b[1m/vol/biomedic3/bglocker/ugproj/tk1420/SharkTrack-Dev/runs/detect/val332\u001b[0m\n",
      "Confusion Matrix at thr=0.0977:\n",
      "[[       1014         146]\n",
      " [        160           0]]\n",
      "Iter 7: thr=0.0977, FP=146, diff=0\n",
      "Best thr=0.0977, FP diff=0\n",
      "Model: p3v6_v11_1000e_mosaic0.8_perspective0.0005_cutmix0.1, Conf Threshold: 0.0977\n",
      "Confidence thresholds for models:\n",
      "p3v6_v8n_1000e_augs_ns_backgrounds: 0.1133\n",
      "p3v6_v8s_1000e_v8s_augs_ns_backgrounds8: 0.0664\n",
      "p3v6_v8s_1000e_mosaic0.8_perspective0.0005_cutmix0.1: 0.1016\n",
      "p3v6_v8n_1000e_mosaic0.8_perspective0.0005_cutmix0.15: 0.1055\n",
      "p3v6_v8s_1000e2: 0.0059\n",
      "p3v6_v11_1000e_mosaic0.8_perspective0.0005_cutmix0.1: 0.0977\n"
     ]
    }
   ],
   "source": [
    "# Get the optimal conf threshold for each model (to achieve FPs similar to production model)\n",
    "TP, FP = 949, 146  # True Positives, False Positives from production model\n",
    "modelToConf = {}\n",
    "\n",
    "for model_name in model_names:\n",
    "    model = load_model(model_name)\n",
    "    threshold = find_confidence_for_target_fp(model, target_fp=FP, debug=True, tol=3)\n",
    "    print(f\"Model: {model_name}, Conf Threshold: {threshold:.4f}\")\n",
    "    modelToConf[model_name] = threshold\n",
    "    \n",
    "print(\"Confidence thresholds for models:\")\n",
    "for model_name, conf in modelToConf.items():\n",
    "    print(f\"{model_name}: {conf:.4f}\")"
   ]
  },
  {
   "cell_type": "code",
   "execution_count": 3,
   "id": "fc63dcc7",
   "metadata": {},
   "outputs": [],
   "source": [
    "# modelToConf={'p3v6_v8n_1000e_augs_ns_backgrounds': 0.234375, \n",
    "#              'p3v6_v8s_1000e_v8s_augs_ns_backgrounds8': 0.1796875, \n",
    "#              'p3v6_v8s_1000e_mosaic0.8_perspective0.0005_cutmix0.1': 0.2109375, \n",
    "#              'p3v6_v8n_1000e_mosaic0.8_perspective0.0005_cutmix0.15': 0.25, \n",
    "#              'p3v6_v8s_1000e2': 0.052734375, \n",
    "#              'p3v6_v11_1000e_mosaic0.8_perspective0.0005_cutmix0.1': 0.25\n",
    "#             }\n",
    "# The above appears to not apply anymore...\n",
    "\n",
    "modelToConf = {'p3v6_v8n_1000e_augs_ns_backgrounds': 0.11328125, \n",
    "               'p3v6_v8s_1000e_v8s_augs_ns_backgrounds8': 0.06640625, \n",
    "               'p3v6_v8s_1000e_mosaic0.8_perspective0.0005_cutmix0.1': 0.1015625, \n",
    "               'p3v6_v8n_1000e_mosaic0.8_perspective0.0005_cutmix0.15': 0.10546875, \n",
    "               'p3v6_v8s_1000e2': 0.005859375, \n",
    "               'p3v6_v11_1000e_mosaic0.8_perspective0.0005_cutmix0.1': 0.09765625}\n",
    "\n"
   ]
  },
  {
   "cell_type": "code",
   "execution_count": 4,
   "id": "c972441e",
   "metadata": {},
   "outputs": [
    {
     "name": "stdout",
     "output_type": "stream",
     "text": [
      "{'p3v6_v8n_1000e_augs_ns_backgrounds': 0.11328125, 'p3v6_v8s_1000e_v8s_augs_ns_backgrounds8': 0.06640625, 'p3v6_v8s_1000e_mosaic0.8_perspective0.0005_cutmix0.1': 0.1015625, 'p3v6_v8n_1000e_mosaic0.8_perspective0.0005_cutmix0.15': 0.10546875, 'p3v6_v8s_1000e2': 0.005859375, 'p3v6_v11_1000e_mosaic0.8_perspective0.0005_cutmix0.1': 0.09765625}\n"
     ]
    }
   ],
   "source": [
    "print(modelToConf)"
   ]
  },
  {
   "cell_type": "code",
   "execution_count": 4,
   "id": "fbf78bfd",
   "metadata": {},
   "outputs": [],
   "source": [
    "# Set params for each model to then log to wandb\n",
    "modelToParams = {}\n",
    "for model_name, conf in modelToConf.items():\n",
    "    \n",
    "    model_folder_path = os.path.join('/vol/biomedic3/bglocker/ugproj/tk1420/SharkTrack-Dev/models', model_name)\n",
    "    yaml_path = os.path.join(model_folder_path, 'args.yaml')\n",
    "    \n",
    "    # inspect the model args.yaml to get the following params\n",
    "    with open(yaml_path, 'r') as f:\n",
    "        args = f.read()\n",
    "\n",
    "    # Parse the args.yaml to extract necessary parameters\n",
    "    args = dict(line.strip().split(': ') for line in args.splitlines() if ': ' in line)\n",
    "    model_size = args.get('model', 'a_name_n.pt').split('.')[0][-1]\n",
    "    \n",
    "    modelToParams[model_name] = {\n",
    "        'name': model_name,\n",
    "        'model_size': model_size,\n",
    "        'pretrained_model': args.get('model', 'null'),\n",
    "        'epochs': args.get('epochs', 1000),\n",
    "        'imgsz': 640,\n",
    "        'patience': args.get('patience', 50),\n",
    "        'data_yaml': args.get('data', '/vol/biomedic3/bglocker/ugproj/tk1420/p3v6/data_config.yaml'),\n",
    "        'project_folder': 'models',\n",
    "        'batch': args.get('batch', 64),\n",
    "        'iou_association_threshold': 0.5,\n",
    "        'tracker': 'botsort.yaml',\n",
    "        'conf_threshold': conf,\n",
    "        'yolo_version': 'yolov8',\n",
    "        'augmentations': {\n",
    "            'hsv_h': args.get('hsv_h', 0.015),\n",
    "            'hsv_s': args.get('hsv_s', 0.7),\n",
    "            'hsv_v': args.get('hsv_v', 0.4),\n",
    "            'degrees': args.get('degrees', 0.0),\n",
    "            'translate': args.get('translate', 0.1),\n",
    "            'scale': args.get('scale', 0.5),\n",
    "            'shear': args.get('shear', 0.0),\n",
    "            'perspective': args.get('perspective', 0.0),\n",
    "            'flipud': args.get('flipud', 0.0),\n",
    "            'fliplr': args.get('fliplr', 0.5),\n",
    "            'bgr': args.get('bgr', 0.0),\n",
    "            'mosaic': args.get('mosaic', 1.0),\n",
    "            'mixup': args.get('mixup', 0.0),\n",
    "            'cutmix': args.get('cutmix', 0.0),\n",
    "        }\n",
    "    }"
   ]
  },
  {
   "cell_type": "code",
   "execution_count": 5,
   "id": "3107e9c4",
   "metadata": {},
   "outputs": [],
   "source": [
    "import wandb"
   ]
  },
  {
   "cell_type": "code",
   "execution_count": 5,
   "id": "d7c4722a",
   "metadata": {},
   "outputs": [
    {
     "name": "stdout",
     "output_type": "stream",
     "text": [
      "Evaluating model p3v6_v8n_1000e_augs_ns_backgrounds at confidence threshold 0.1133\n",
      "Ultralytics 8.3.0 🚀 Python-3.12.3 torch-2.6.0+cu124 CUDA:0 (NVIDIA GeForce RTX 4080, 16072MiB)\n",
      "Model summary (fused): 168 layers, 3,005,843 parameters, 0 gradients, 8.1 GFLOPs\n"
     ]
    },
    {
     "name": "stderr",
     "output_type": "stream",
     "text": [
      "\u001b[34m\u001b[1mval: \u001b[0mScanning /vol/biomedic3/bglocker/ugproj/tk1420/p3v6/val/labels.cache... 980 images, 242 backgrounds, 0 corrupt: 100%|██████████| 980/980 [00:00<?, ?it/s]\n",
      "                 Class     Images  Instances      Box(P          R      mAP50  mAP50-95): 100%|██████████| 62/62 [00:25<00:00,  2.46it/s]\n"
     ]
    },
    {
     "name": "stdout",
     "output_type": "stream",
     "text": [
      "                   all        980       1174      0.889      0.794      0.876      0.612\n",
      "Speed: 0.4ms preprocess, 0.8ms inference, 0.0ms loss, 6.2ms postprocess per image\n",
      "Results saved to \u001b[1m/vol/biomedic3/bglocker/ugproj/tk1420/SharkTrack-Dev/runs/detect/eval1_p3v6_v8n_1000e_augs_ns_backgrounds_val_conf0.1133_3\u001b[0m\n",
      "Confusion Matrix for p3v6_v8n_1000e_augs_ns_backgrounds at conf: 0.1133\n",
      "[[        995         143]\n",
      " [        179           0]]\n",
      "Evaluating easy1\n",
      "Running track mode...\n",
      "Processing frame 201\n",
      "\n",
      "Processed 201 frames in track mode.\n",
      "Sequence processing time: 6.17s\n",
      "Evaluating easy2\n",
      "Running track mode...\n",
      "Processing frame 201\n",
      "\n",
      "Processed 201 frames in track mode.\n",
      "Sequence processing time: 6.56s\n",
      "Evaluating medium1\n",
      "Running track mode...\n",
      "Processing frame 201\n",
      "\n",
      "Processed 201 frames in track mode.\n",
      "Sequence processing time: 7.07s\n",
      "Evaluating medium2\n",
      "Running track mode...\n",
      "Processing frame 201\n",
      "\n",
      "Processed 201 frames in track mode.\n",
      "Sequence processing time: 6.07s\n",
      "Evaluating difficult1\n",
      "Running track mode...\n",
      "Processing frame 201\n",
      "\n",
      "Processed 201 frames in track mode.\n",
      "Sequence processing time: 7.20s\n",
      "Evaluating difficult2\n",
      "Running track mode...\n",
      "Processing frame 201\n",
      "\n",
      "Processed 201 frames in track mode.\n",
      "Sequence processing time: 6.16s\n",
      "Evaluating NorthSea1\n",
      "Running track mode...\n",
      "Processing frame 195\n",
      "\n",
      "Processed 195 frames in track mode.\n",
      "Sequence processing time: 2.70s\n",
      "\n",
      "Eval Config:\n",
      "USE_PARALLEL         : False                         \n",
      "NUM_PARALLEL_CORES   : 8                             \n",
      "BREAK_ON_ERROR       : True                          \n",
      "RETURN_ON_ERROR      : False                         \n",
      "LOG_ON_ERROR         : /vol/biomedic3/bglocker/ugproj/tk1420/SharkTrack-Dev/evaluation/TrackEval/error_log.txt\n",
      "PRINT_RESULTS        : True                          \n",
      "PRINT_ONLY_COMBINED  : False                         \n",
      "PRINT_CONFIG         : True                          \n",
      "TIME_PROGRESS        : True                          \n",
      "DISPLAY_LESS_PROGRESS : False                         \n",
      "OUTPUT_SUMMARY       : True                          \n",
      "OUTPUT_EMPTY_CLASSES : True                          \n",
      "OUTPUT_DETAILED      : True                          \n",
      "PLOT_CURVES          : True                          \n",
      "\n",
      "MotChallenge2DBox Config:\n",
      "PRINT_CONFIG         : True                          \n",
      "GT_FOLDER            : /vol/biomedic3/bglocker/ugproj/tk1420/SharkTrack-Dev/evaluation/TrackEval/data/gt/mot_challenge/\n",
      "TRACKERS_FOLDER      : /vol/biomedic3/bglocker/ugproj/tk1420/SharkTrack-Dev/evaluation/TrackEval/data/trackers/mot_challenge/\n",
      "OUTPUT_FOLDER        : None                          \n",
      "TRACKERS_TO_EVAL     : None                          \n",
      "CLASSES_TO_EVAL      : ['pedestrian']                \n",
      "BENCHMARK            : val1                          \n",
      "SPLIT_TO_EVAL        : train                         \n",
      "INPUT_AS_ZIP         : False                         \n",
      "DO_PREPROC           : True                          \n",
      "TRACKER_SUB_FOLDER   : data                          \n",
      "OUTPUT_SUB_FOLDER    :                               \n",
      "TRACKER_DISPLAY_NAMES : None                          \n",
      "SEQMAP_FOLDER        : None                          \n",
      "SEQMAP_FILE          : None                          \n",
      "SEQ_INFO             : None                          \n",
      "GT_LOC_FORMAT        : {gt_folder}/{seq}/gt/gt.txt   \n",
      "SKIP_SPLIT_FOL       : False                         \n",
      "Tracker file Path Theo: /vol/biomedic3/bglocker/ugproj/tk1420/SharkTrack-Dev/evaluation/TrackEval/data/trackers/mot_challenge/val1-train/MPN/data/easy1.txt\n",
      "Tracker file Path Theo: /vol/biomedic3/bglocker/ugproj/tk1420/SharkTrack-Dev/evaluation/TrackEval/data/trackers/mot_challenge/val1-train/MPN/data/easy2.txt\n",
      "Tracker file Path Theo: /vol/biomedic3/bglocker/ugproj/tk1420/SharkTrack-Dev/evaluation/TrackEval/data/trackers/mot_challenge/val1-train/MPN/data/medium1.txt\n",
      "Tracker file Path Theo: /vol/biomedic3/bglocker/ugproj/tk1420/SharkTrack-Dev/evaluation/TrackEval/data/trackers/mot_challenge/val1-train/MPN/data/medium2.txt\n",
      "Tracker file Path Theo: /vol/biomedic3/bglocker/ugproj/tk1420/SharkTrack-Dev/evaluation/TrackEval/data/trackers/mot_challenge/val1-train/MPN/data/difficult1.txt\n",
      "Tracker file Path Theo: /vol/biomedic3/bglocker/ugproj/tk1420/SharkTrack-Dev/evaluation/TrackEval/data/trackers/mot_challenge/val1-train/MPN/data/difficult2.txt\n",
      "Tracker file Path Theo: /vol/biomedic3/bglocker/ugproj/tk1420/SharkTrack-Dev/evaluation/TrackEval/data/trackers/mot_challenge/val1-train/MPN/data/NorthSea1.txt\n",
      "\n",
      "CLEAR Config:\n",
      "METRICS              : ['CLEAR', 'Identity', 'HOTA'] \n",
      "THRESHOLD            : 0.5                           \n",
      "PRINT_CONFIG         : True                          \n",
      "\n",
      "Identity Config:\n",
      "METRICS              : ['CLEAR', 'Identity', 'HOTA'] \n",
      "THRESHOLD            : 0.5                           \n",
      "PRINT_CONFIG         : True                          \n",
      "\n",
      "Evaluating 1 tracker(s) on 7 sequence(s) for 1 class(es) on MotChallenge2DBox dataset using the following metrics: HOTA, CLEAR, Identity, Count\n",
      "\n",
      "\n",
      "Evaluating MPN\n",
      "\n",
      "    MotChallenge2DBox.get_raw_seq_data(MPN, NorthSea1)                     0.0247 sec\n",
      "    MotChallenge2DBox.get_preprocessed_seq_data(pedestrian)                0.0211 sec\n",
      "    HOTA.eval_sequence()                                                   0.0126 sec\n",
      "    CLEAR.eval_sequence()                                                  0.0006 sec\n",
      "    Identity.eval_sequence()                                               0.0042 sec\n",
      "    Count.eval_sequence()                                                  0.0000 sec\n",
      "1 eval_sequence(NorthSea1, MPN)                                          0.0638 sec\n",
      "    MotChallenge2DBox.get_raw_seq_data(MPN, difficult1)                    0.0249 sec\n",
      "    MotChallenge2DBox.get_preprocessed_seq_data(pedestrian)                0.0382 sec\n",
      "    HOTA.eval_sequence()                                                   0.0374 sec\n",
      "    CLEAR.eval_sequence()                                                  0.0052 sec\n",
      "    Identity.eval_sequence()                                               0.0044 sec\n",
      "    Count.eval_sequence()                                                  0.0000 sec\n",
      "2 eval_sequence(difficult1, MPN)                                         0.1110 sec\n",
      "    MotChallenge2DBox.get_raw_seq_data(MPN, difficult2)                    0.0250 sec\n",
      "    MotChallenge2DBox.get_preprocessed_seq_data(pedestrian)                0.0359 sec\n",
      "    HOTA.eval_sequence()                                                   0.0306 sec\n",
      "    CLEAR.eval_sequence()                                                  0.0039 sec\n",
      "    Identity.eval_sequence()                                               0.0042 sec\n",
      "    Count.eval_sequence()                                                  0.0000 sec\n",
      "3 eval_sequence(difficult2, MPN)                                         0.1002 sec\n",
      "    MotChallenge2DBox.get_raw_seq_data(MPN, easy1)                         0.0246 sec\n",
      "    MotChallenge2DBox.get_preprocessed_seq_data(pedestrian)                0.0363 sec\n",
      "    HOTA.eval_sequence()                                                   0.0361 sec\n",
      "    CLEAR.eval_sequence()                                                  0.0049 sec\n",
      "    Identity.eval_sequence()                                               0.0043 sec\n",
      "    Count.eval_sequence()                                                  0.0000 sec\n",
      "4 eval_sequence(easy1, MPN)                                              0.1068 sec\n",
      "    MotChallenge2DBox.get_raw_seq_data(MPN, easy2)                         0.0246 sec\n",
      "    MotChallenge2DBox.get_preprocessed_seq_data(pedestrian)                0.0329 sec\n",
      "    HOTA.eval_sequence()                                                   0.0325 sec\n",
      "    CLEAR.eval_sequence()                                                  0.0041 sec\n",
      "    Identity.eval_sequence()                                               0.0044 sec\n",
      "    Count.eval_sequence()                                                  0.0000 sec\n",
      "5 eval_sequence(easy2, MPN)                                              0.0991 sec\n",
      "    MotChallenge2DBox.get_raw_seq_data(MPN, medium1)                       0.0247 sec\n",
      "    MotChallenge2DBox.get_preprocessed_seq_data(pedestrian)                0.0356 sec\n",
      "    HOTA.eval_sequence()                                                   0.0353 sec\n",
      "    CLEAR.eval_sequence()                                                  0.0047 sec\n",
      "    Identity.eval_sequence()                                               0.0043 sec\n",
      "    Count.eval_sequence()                                                  0.0000 sec\n",
      "6 eval_sequence(medium1, MPN)                                            0.1051 sec\n",
      "    MotChallenge2DBox.get_raw_seq_data(MPN, medium2)                       0.0256 sec\n",
      "    MotChallenge2DBox.get_preprocessed_seq_data(pedestrian)                0.0348 sec\n",
      "    HOTA.eval_sequence()                                                   0.0341 sec\n",
      "    CLEAR.eval_sequence()                                                  0.0045 sec\n",
      "    Identity.eval_sequence()                                               0.0043 sec\n",
      "    Count.eval_sequence()                                                  0.0000 sec\n",
      "7 eval_sequence(medium2, MPN)                                            0.1040 sec\n",
      "\n",
      "All sequences for MPN finished in 0.69 seconds\n",
      "\n",
      "HOTA: MPN-pedestrian               HOTA      DetA      AssA      DetRe     DetPr     AssRe     AssPr     LocA      OWTA      HOTA(0)   LocA(0)   HOTALocA(0)\n",
      "NorthSea1                          1.9871    1.8411    2.1547    1.8462    70.526    2.211     39.614    78.963    1.9901    2.7007    71.112    1.9205    \n",
      "difficult1                         39.869    47.504    34.143    52.282    70.162    50.663    54.93     78.396    42.023    55.38     71.941    39.841    \n",
      "difficult2                         40.798    43.756    38.269    48.255    66.108    49.994    52.585    76.022    42.948    61.428    67.585    41.516    \n",
      "easy1                              56.495    65.824    48.502    70.204    74.623    70.664    53.611    78.699    58.284    80.089    73.417    58.799    \n",
      "easy2                              50.228    58.884    42.941    66.309    73.076    45.316    79.244    81.736    53.236    68.017    77.787    52.908    \n",
      "medium1                            60.679    60.64     60.723    63.494    77.849    63.587    77.971    80.486    62.019    80.921    76.908    62.234    \n",
      "medium2                            58.637    57.479    59.887    60.637    74.185    63.094    75.707    78.197    60.217    82.476    72.998    60.206    \n",
      "COMBINED                           48.794    49.757    48.018    53.544    72.499    58.639    65.294    78.589    50.665    68.108    72.967    49.696    \n",
      "\n",
      "CLEAR: MPN-pedestrian              MOTA      MOTP      MODA      CLR_Re    CLR_Pr    MTR       PTR       MLR       sMOTA     CLR_TP    CLR_FN    CLR_FP    IDSW      MT        PT        ML        Frag      \n",
      "NorthSea1                          1.5707    77.658    1.5707    2.0942    80        0         0         100       1.1028    4         187       1         0         0         0         2         0         \n",
      "difficult1                         57.618    74.767    58.449    66.482    89.219    33.333    66.667    0         40.842    240       121       29        3         2         4         0         12        \n",
      "difficult2                         49.465    72.483    50.535    61.765    84.615    22.222    66.667    11.111    32.469    231       143       42        4         2         6         1         12        \n",
      "easy1                              83.553    75.207    83.553    88.816    94.406    75        25        0         61.532    270       34        16        0         3         1         0         4         \n",
      "easy2                              73.457    78.218    74.691    82.716    91.156    50        50        0         55.44     134       28        13        2         1         1         0         0         \n",
      "medium1                            80.142    77.038    80.142    80.851    99.13     50        50        0         61.577    228       54        2         0         1         1         0         4         \n",
      "medium2                            78.144    73.638    78.144    79.94     97.802    40        60        0         57.07     267       67        6         0         2         3         0         8         \n",
      "COMBINED                           62.55     74.972    62.998    68.426    92.65     36.667    53.333    10        45.424    1374      634       109       9         11        16        3         40        \n",
      "\n",
      "Identity: MPN-pedestrian           IDF1      IDR       IDP       IDTP      IDFN      IDFP      \n",
      "NorthSea1                          3.0612    1.5707    60        3         188       2         \n",
      "difficult1                         53.016    46.26     62.082    167       194       102       \n",
      "difficult2                         53.478    46.257    63.37     173       201       100       \n",
      "easy1                              67.797    65.789    69.93     200       104       86        \n",
      "easy2                              63.43     60.494    66.667    98        64        49        \n",
      "medium1                            89.062    80.851    99.13     228       54        2         \n",
      "medium2                            87.974    79.94     97.802    267       67        6         \n",
      "COMBINED                           65.082    56.574    76.601    1136      872       347       \n",
      "\n",
      "Count: MPN-pedestrian              Dets      GT_Dets   IDs       GT_IDs    \n",
      "NorthSea1                          5         191       1         2         \n",
      "difficult1                         269       361       7         6         \n",
      "difficult2                         273       374       10        9         \n",
      "easy1                              286       304       3         4         \n",
      "easy2                              147       162       4         2         \n",
      "medium1                            230       282       2         2         \n",
      "medium2                            273       334       5         5         \n",
      "COMBINED                           1483      2008      32        30        \n",
      "\n",
      "Timing analysis:\n",
      "MotChallenge2DBox.get_raw_seq_data                                     0.1740 sec\n",
      "MotChallenge2DBox.get_preprocessed_seq_data                            0.2348 sec\n",
      "HOTA.eval_sequence                                                     0.2186 sec\n",
      "CLEAR.eval_sequence                                                    0.0280 sec\n",
      "Identity.eval_sequence                                                 0.0300 sec\n",
      "Count.eval_sequence                                                    0.0000 sec\n",
      "eval_sequence                                                          0.6901 sec\n",
      "Evaluator.evaluate                                                     1.2583 sec\n",
      "Computing CLEAR metrics for sequence: NorthSea1\n",
      "Computing CLEAR metrics for sequence: difficult1\n",
      "Computing CLEAR metrics for sequence: difficult2\n",
      "Computing CLEAR metrics for sequence: easy1\n",
      "Computing CLEAR metrics for sequence: easy2\n",
      "Computing CLEAR metrics for sequence: medium1\n",
      "Computing CLEAR metrics for sequence: medium2\n",
      "Per-sequence metrics for p3v6_v8n_1000e_augs_ns_backgrounds:\n",
      "Sequence: easy1, Metrics: {'MOTA': 0.02, 'MOTP': 0.78, 'IDF1': 0.03}\n",
      "Sequence: easy2, Metrics: {'MOTA': 0.58, 'MOTP': 0.75, 'IDF1': 0.53}\n",
      "Sequence: medium1, Metrics: {'MOTA': 0.49, 'MOTP': 0.72, 'IDF1': 0.53}\n",
      "Sequence: medium2, Metrics: {'MOTA': 0.84, 'MOTP': 0.75, 'IDF1': 0.68}\n",
      "Sequence: difficult1, Metrics: {'MOTA': 0.73, 'MOTP': 0.78, 'IDF1': 0.63}\n",
      "Sequence: difficult2, Metrics: {'MOTA': 0.8, 'MOTP': 0.77, 'IDF1': 0.89}\n",
      "Sequence: NorthSea1, Metrics: {'MOTA': 0.78, 'MOTP': 0.74, 'IDF1': 0.88}\n"
     ]
    },
    {
     "name": "stderr",
     "output_type": "stream",
     "text": [
      "\u001b[34m\u001b[1mwandb\u001b[0m: Currently logged in as: \u001b[33mtk1420\u001b[0m (\u001b[33mtk1420-imperial-college-london\u001b[0m) to \u001b[32mhttps://api.wandb.ai\u001b[0m. Use \u001b[1m`wandb login --relogin`\u001b[0m to force relogin\n",
      "\u001b[34m\u001b[1mwandb\u001b[0m: Using wandb-core as the SDK backend.  Please refer to https://wandb.me/wandb-core for more information.\n"
     ]
    },
    {
     "data": {
      "text/html": [
       "Tracking run with wandb version 0.19.6"
      ],
      "text/plain": [
       "<IPython.core.display.HTML object>"
      ]
     },
     "metadata": {},
     "output_type": "display_data"
    },
    {
     "data": {
      "text/html": [
       "Run data is saved locally in <code>/vol/biomedic3/bglocker/ugproj/tk1420/SharkTrack-Dev/evaluation/wandb/run-20250613_191014-jr50vcto</code>"
      ],
      "text/plain": [
       "<IPython.core.display.HTML object>"
      ]
     },
     "metadata": {},
     "output_type": "display_data"
    },
    {
     "data": {
      "text/html": [
       "Syncing run <strong><a href='https://wandb.ai/tk1420-imperial-college-london/SharkTrack-Dev_v2/runs/jr50vcto' target=\"_blank\">p3v6_v8n_1000e_augs_ns_backgrounds_conf0.1133_eval1</a></strong> to <a href='https://wandb.ai/tk1420-imperial-college-london/SharkTrack-Dev_v2' target=\"_blank\">Weights & Biases</a> (<a href='https://wandb.me/developer-guide' target=\"_blank\">docs</a>)<br>"
      ],
      "text/plain": [
       "<IPython.core.display.HTML object>"
      ]
     },
     "metadata": {},
     "output_type": "display_data"
    },
    {
     "data": {
      "text/html": [
       " View project at <a href='https://wandb.ai/tk1420-imperial-college-london/SharkTrack-Dev_v2' target=\"_blank\">https://wandb.ai/tk1420-imperial-college-london/SharkTrack-Dev_v2</a>"
      ],
      "text/plain": [
       "<IPython.core.display.HTML object>"
      ]
     },
     "metadata": {},
     "output_type": "display_data"
    },
    {
     "data": {
      "text/html": [
       " View run at <a href='https://wandb.ai/tk1420-imperial-college-london/SharkTrack-Dev_v2/runs/jr50vcto' target=\"_blank\">https://wandb.ai/tk1420-imperial-college-london/SharkTrack-Dev_v2/runs/jr50vcto</a>"
      ],
      "text/plain": [
       "<IPython.core.display.HTML object>"
      ]
     },
     "metadata": {},
     "output_type": "display_data"
    },
    {
     "data": {
      "text/html": [],
      "text/plain": [
       "<IPython.core.display.HTML object>"
      ]
     },
     "metadata": {},
     "output_type": "display_data"
    },
    {
     "data": {
      "text/html": [
       "<br>    <style><br>        .wandb-row {<br>            display: flex;<br>            flex-direction: row;<br>            flex-wrap: wrap;<br>            justify-content: flex-start;<br>            width: 100%;<br>        }<br>        .wandb-col {<br>            display: flex;<br>            flex-direction: column;<br>            flex-basis: 100%;<br>            flex: 1;<br>            padding: 10px;<br>        }<br>    </style><br><div class=\"wandb-row\"><div class=\"wandb-col\"><h3>Run history:</h3><br/><table class=\"wandb\"><tr><td>NorthSea1/idf1</td><td>▁</td></tr><tr><td>NorthSea1/mota</td><td>▁</td></tr><tr><td>NorthSea1/motp</td><td>▁</td></tr><tr><td>all/idf1</td><td>▁</td></tr><tr><td>all/map50</td><td>▁</td></tr><tr><td>all/mota</td><td>▁</td></tr><tr><td>all/motp</td><td>▁</td></tr><tr><td>difficult1/idf1</td><td>▁</td></tr><tr><td>difficult1/mota</td><td>▁</td></tr><tr><td>difficult1/motp</td><td>▁</td></tr><tr><td>difficult2/idf1</td><td>▁</td></tr><tr><td>difficult2/mota</td><td>▁</td></tr><tr><td>difficult2/motp</td><td>▁</td></tr><tr><td>easy1/idf1</td><td>▁</td></tr><tr><td>easy1/mota</td><td>▁</td></tr><tr><td>easy1/motp</td><td>▁</td></tr><tr><td>easy2/idf1</td><td>▁</td></tr><tr><td>easy2/mota</td><td>▁</td></tr><tr><td>easy2/motp</td><td>▁</td></tr><tr><td>medium1/idf1</td><td>▁</td></tr><tr><td>medium1/mota</td><td>▁</td></tr><tr><td>medium1/motp</td><td>▁</td></tr><tr><td>medium2/idf1</td><td>▁</td></tr><tr><td>medium2/mota</td><td>▁</td></tr><tr><td>medium2/motp</td><td>▁</td></tr><tr><td>track_time</td><td>▁</td></tr></table><br/></div><div class=\"wandb-col\"><h3>Run summary:</h3><br/><table class=\"wandb\"><tr><td>NorthSea1/idf1</td><td>0.88</td></tr><tr><td>NorthSea1/mota</td><td>0.78</td></tr><tr><td>NorthSea1/motp</td><td>0.74</td></tr><tr><td>all/idf1</td><td>0.59571</td></tr><tr><td>all/map50</td><td>0.87563</td></tr><tr><td>all/mota</td><td>0.60571</td></tr><tr><td>all/motp</td><td>0.75571</td></tr><tr><td>difficult1/idf1</td><td>0.63</td></tr><tr><td>difficult1/mota</td><td>0.73</td></tr><tr><td>difficult1/motp</td><td>0.78</td></tr><tr><td>difficult2/idf1</td><td>0.89</td></tr><tr><td>difficult2/mota</td><td>0.8</td></tr><tr><td>difficult2/motp</td><td>0.77</td></tr><tr><td>easy1/idf1</td><td>0.03</td></tr><tr><td>easy1/mota</td><td>0.02</td></tr><tr><td>easy1/motp</td><td>0.78</td></tr><tr><td>easy2/idf1</td><td>0.53</td></tr><tr><td>easy2/mota</td><td>0.58</td></tr><tr><td>easy2/motp</td><td>0.75</td></tr><tr><td>medium1/idf1</td><td>0.53</td></tr><tr><td>medium1/mota</td><td>0.49</td></tr><tr><td>medium1/motp</td><td>0.72</td></tr><tr><td>medium2/idf1</td><td>0.68</td></tr><tr><td>medium2/mota</td><td>0.84</td></tr><tr><td>medium2/motp</td><td>0.75</td></tr><tr><td>track_device</td><td>NVIDIA GeForce RTX 4...</td></tr><tr><td>track_time</td><td>41.94048</td></tr></table><br/></div></div>"
      ],
      "text/plain": [
       "<IPython.core.display.HTML object>"
      ]
     },
     "metadata": {},
     "output_type": "display_data"
    },
    {
     "data": {
      "text/html": [
       " View run <strong style=\"color:#cdcd00\">p3v6_v8n_1000e_augs_ns_backgrounds_conf0.1133_eval1</strong> at: <a href='https://wandb.ai/tk1420-imperial-college-london/SharkTrack-Dev_v2/runs/jr50vcto' target=\"_blank\">https://wandb.ai/tk1420-imperial-college-london/SharkTrack-Dev_v2/runs/jr50vcto</a><br> View project at: <a href='https://wandb.ai/tk1420-imperial-college-london/SharkTrack-Dev_v2' target=\"_blank\">https://wandb.ai/tk1420-imperial-college-london/SharkTrack-Dev_v2</a><br>Synced 5 W&B file(s), 0 media file(s), 0 artifact file(s) and 0 other file(s)"
      ],
      "text/plain": [
       "<IPython.core.display.HTML object>"
      ]
     },
     "metadata": {},
     "output_type": "display_data"
    },
    {
     "data": {
      "text/html": [
       "Find logs at: <code>./wandb/run-20250613_191014-jr50vcto/logs</code>"
      ],
      "text/plain": [
       "<IPython.core.display.HTML object>"
      ]
     },
     "metadata": {},
     "output_type": "display_data"
    },
    {
     "name": "stdout",
     "output_type": "stream",
     "text": [
      "Logged results for p3v6_v8n_1000e_augs_ns_backgrounds to wandb.\n",
      "Evaluating model p3v6_v8s_1000e_v8s_augs_ns_backgrounds8 at confidence threshold 0.0664\n",
      "Ultralytics 8.3.0 🚀 Python-3.12.3 torch-2.6.0+cu124 CUDA:0 (NVIDIA GeForce RTX 4080, 16072MiB)\n",
      "Model summary (fused): 168 layers, 11,125,971 parameters, 0 gradients, 28.4 GFLOPs\n"
     ]
    },
    {
     "name": "stderr",
     "output_type": "stream",
     "text": [
      "\u001b[34m\u001b[1mval: \u001b[0mScanning /vol/biomedic3/bglocker/ugproj/tk1420/p3v6/val/labels.cache... 980 images, 242 backgrounds, 0 corrupt: 100%|██████████| 980/980 [00:00<?, ?it/s]\n",
      "                 Class     Images  Instances      Box(P          R      mAP50  mAP50-95): 100%|██████████| 62/62 [00:26<00:00,  2.31it/s]\n"
     ]
    },
    {
     "name": "stdout",
     "output_type": "stream",
     "text": [
      "                   all        980       1174      0.914      0.802      0.887      0.621\n",
      "Speed: 0.4ms preprocess, 1.8ms inference, 0.0ms loss, 6.4ms postprocess per image\n",
      "Results saved to \u001b[1m/vol/biomedic3/bglocker/ugproj/tk1420/SharkTrack-Dev/runs/detect/eval1_p3v6_v8s_1000e_v8s_augs_ns_backgrounds8_val_conf0.0664_2\u001b[0m\n",
      "Confusion Matrix for p3v6_v8s_1000e_v8s_augs_ns_backgrounds8 at conf: 0.0664\n",
      "[[       1017         145]\n",
      " [        157           0]]\n",
      "Evaluating easy1\n",
      "Running track mode...\n",
      "Processing frame 201\n",
      "\n",
      "Processed 201 frames in track mode.\n",
      "Sequence processing time: 4.59s\n",
      "Evaluating easy2\n",
      "Running track mode...\n",
      "Processing frame 201\n",
      "\n",
      "Processed 201 frames in track mode.\n",
      "Sequence processing time: 4.32s\n",
      "Evaluating medium1\n",
      "Running track mode...\n",
      "Processing frame 201\n",
      "\n",
      "Processed 201 frames in track mode.\n",
      "Sequence processing time: 4.38s\n",
      "Evaluating medium2\n",
      "Running track mode...\n",
      "Processing frame 201\n",
      "\n",
      "Processed 201 frames in track mode.\n",
      "Sequence processing time: 5.32s\n",
      "Evaluating difficult1\n",
      "Running track mode...\n",
      "Processing frame 201\n",
      "\n",
      "Processed 201 frames in track mode.\n",
      "Sequence processing time: 7.49s\n",
      "Evaluating difficult2\n",
      "Running track mode...\n",
      "Processing frame 201\n",
      "\n",
      "Processed 201 frames in track mode.\n",
      "Sequence processing time: 6.56s\n",
      "Evaluating NorthSea1\n",
      "Running track mode...\n",
      "Processing frame 195\n",
      "\n",
      "Processed 195 frames in track mode.\n",
      "Sequence processing time: 4.13s\n",
      "\n",
      "Eval Config:\n",
      "USE_PARALLEL         : False                         \n",
      "NUM_PARALLEL_CORES   : 8                             \n",
      "BREAK_ON_ERROR       : True                          \n",
      "RETURN_ON_ERROR      : False                         \n",
      "LOG_ON_ERROR         : /vol/biomedic3/bglocker/ugproj/tk1420/SharkTrack-Dev/evaluation/TrackEval/error_log.txt\n",
      "PRINT_RESULTS        : True                          \n",
      "PRINT_ONLY_COMBINED  : False                         \n",
      "PRINT_CONFIG         : True                          \n",
      "TIME_PROGRESS        : True                          \n",
      "DISPLAY_LESS_PROGRESS : False                         \n",
      "OUTPUT_SUMMARY       : True                          \n",
      "OUTPUT_EMPTY_CLASSES : True                          \n",
      "OUTPUT_DETAILED      : True                          \n",
      "PLOT_CURVES          : True                          \n",
      "\n",
      "MotChallenge2DBox Config:\n",
      "PRINT_CONFIG         : True                          \n",
      "GT_FOLDER            : /vol/biomedic3/bglocker/ugproj/tk1420/SharkTrack-Dev/evaluation/TrackEval/data/gt/mot_challenge/\n",
      "TRACKERS_FOLDER      : /vol/biomedic3/bglocker/ugproj/tk1420/SharkTrack-Dev/evaluation/TrackEval/data/trackers/mot_challenge/\n",
      "OUTPUT_FOLDER        : None                          \n",
      "TRACKERS_TO_EVAL     : None                          \n",
      "CLASSES_TO_EVAL      : ['pedestrian']                \n",
      "BENCHMARK            : val1                          \n",
      "SPLIT_TO_EVAL        : train                         \n",
      "INPUT_AS_ZIP         : False                         \n",
      "DO_PREPROC           : True                          \n",
      "TRACKER_SUB_FOLDER   : data                          \n",
      "OUTPUT_SUB_FOLDER    :                               \n",
      "TRACKER_DISPLAY_NAMES : None                          \n",
      "SEQMAP_FOLDER        : None                          \n",
      "SEQMAP_FILE          : None                          \n",
      "SEQ_INFO             : None                          \n",
      "GT_LOC_FORMAT        : {gt_folder}/{seq}/gt/gt.txt   \n",
      "SKIP_SPLIT_FOL       : False                         \n",
      "Tracker file Path Theo: /vol/biomedic3/bglocker/ugproj/tk1420/SharkTrack-Dev/evaluation/TrackEval/data/trackers/mot_challenge/val1-train/MPN/data/easy1.txt\n",
      "Tracker file Path Theo: /vol/biomedic3/bglocker/ugproj/tk1420/SharkTrack-Dev/evaluation/TrackEval/data/trackers/mot_challenge/val1-train/MPN/data/easy2.txt\n",
      "Tracker file Path Theo: /vol/biomedic3/bglocker/ugproj/tk1420/SharkTrack-Dev/evaluation/TrackEval/data/trackers/mot_challenge/val1-train/MPN/data/medium1.txt\n",
      "Tracker file Path Theo: /vol/biomedic3/bglocker/ugproj/tk1420/SharkTrack-Dev/evaluation/TrackEval/data/trackers/mot_challenge/val1-train/MPN/data/medium2.txt\n",
      "Tracker file Path Theo: /vol/biomedic3/bglocker/ugproj/tk1420/SharkTrack-Dev/evaluation/TrackEval/data/trackers/mot_challenge/val1-train/MPN/data/difficult1.txt\n",
      "Tracker file Path Theo: /vol/biomedic3/bglocker/ugproj/tk1420/SharkTrack-Dev/evaluation/TrackEval/data/trackers/mot_challenge/val1-train/MPN/data/difficult2.txt\n",
      "Tracker file Path Theo: /vol/biomedic3/bglocker/ugproj/tk1420/SharkTrack-Dev/evaluation/TrackEval/data/trackers/mot_challenge/val1-train/MPN/data/NorthSea1.txt\n",
      "\n",
      "CLEAR Config:\n",
      "METRICS              : ['CLEAR', 'Identity', 'HOTA'] \n",
      "THRESHOLD            : 0.5                           \n",
      "PRINT_CONFIG         : True                          \n",
      "\n",
      "Identity Config:\n",
      "METRICS              : ['CLEAR', 'Identity', 'HOTA'] \n",
      "THRESHOLD            : 0.5                           \n",
      "PRINT_CONFIG         : True                          \n",
      "\n",
      "Evaluating 1 tracker(s) on 7 sequence(s) for 1 class(es) on MotChallenge2DBox dataset using the following metrics: HOTA, CLEAR, Identity, Count\n",
      "\n",
      "\n",
      "Evaluating MPN\n",
      "\n",
      "    MotChallenge2DBox.get_raw_seq_data(MPN, NorthSea1)                     0.0259 sec\n",
      "    MotChallenge2DBox.get_preprocessed_seq_data(pedestrian)                0.0308 sec\n",
      "    HOTA.eval_sequence()                                                   0.0128 sec\n",
      "    CLEAR.eval_sequence()                                                  0.0005 sec\n",
      "    Identity.eval_sequence()                                               0.0040 sec\n",
      "    Count.eval_sequence()                                                  0.0000 sec\n",
      "8 eval_sequence(NorthSea1, MPN)                                          0.0751 sec\n",
      "    MotChallenge2DBox.get_raw_seq_data(MPN, difficult1)                    0.0286 sec\n",
      "    MotChallenge2DBox.get_preprocessed_seq_data(pedestrian)                0.0440 sec\n",
      "    HOTA.eval_sequence()                                                   0.0400 sec\n",
      "    CLEAR.eval_sequence()                                                  0.0058 sec\n",
      "    Identity.eval_sequence()                                               0.0043 sec\n",
      "    Count.eval_sequence()                                                  0.0000 sec\n",
      "9 eval_sequence(difficult1, MPN)                                         0.1243 sec\n",
      "    MotChallenge2DBox.get_raw_seq_data(MPN, difficult2)                    0.0285 sec\n",
      "    MotChallenge2DBox.get_preprocessed_seq_data(pedestrian)                0.0386 sec\n",
      "    HOTA.eval_sequence()                                                   0.0348 sec\n",
      "    CLEAR.eval_sequence()                                                  0.0046 sec\n",
      "    Identity.eval_sequence()                                               0.0045 sec\n",
      "    Count.eval_sequence()                                                  0.0000 sec\n",
      "10 eval_sequence(difficult2, MPN)                                         0.1130 sec\n",
      "    MotChallenge2DBox.get_raw_seq_data(MPN, easy1)                         0.0269 sec\n",
      "    MotChallenge2DBox.get_preprocessed_seq_data(pedestrian)                0.0379 sec\n",
      "    HOTA.eval_sequence()                                                   0.0363 sec\n",
      "    CLEAR.eval_sequence()                                                  0.0052 sec\n",
      "    Identity.eval_sequence()                                               0.0044 sec\n",
      "    Count.eval_sequence()                                                  0.0000 sec\n",
      "11 eval_sequence(easy1, MPN)                                              0.1125 sec\n",
      "    MotChallenge2DBox.get_raw_seq_data(MPN, easy2)                         0.0267 sec\n",
      "    MotChallenge2DBox.get_preprocessed_seq_data(pedestrian)                0.0373 sec\n",
      "    HOTA.eval_sequence()                                                   0.0360 sec\n",
      "    CLEAR.eval_sequence()                                                  0.0047 sec\n",
      "    Identity.eval_sequence()                                               0.0043 sec\n",
      "    Count.eval_sequence()                                                  0.0000 sec\n",
      "12 eval_sequence(easy2, MPN)                                              0.1104 sec\n",
      "    MotChallenge2DBox.get_raw_seq_data(MPN, medium1)                       0.0252 sec\n",
      "    MotChallenge2DBox.get_preprocessed_seq_data(pedestrian)                0.0377 sec\n",
      "    HOTA.eval_sequence()                                                   0.0379 sec\n",
      "    CLEAR.eval_sequence()                                                  0.0052 sec\n",
      "    Identity.eval_sequence()                                               0.0042 sec\n",
      "    Count.eval_sequence()                                                  0.0000 sec\n",
      "13 eval_sequence(medium1, MPN)                                            0.1116 sec\n",
      "    MotChallenge2DBox.get_raw_seq_data(MPN, medium2)                       0.0295 sec\n",
      "    MotChallenge2DBox.get_preprocessed_seq_data(pedestrian)                0.0433 sec\n",
      "    HOTA.eval_sequence()                                                   0.0389 sec\n",
      "    CLEAR.eval_sequence()                                                  0.0053 sec\n",
      "    Identity.eval_sequence()                                               0.0043 sec\n",
      "    Count.eval_sequence()                                                  0.0000 sec\n",
      "14 eval_sequence(medium2, MPN)                                            0.1227 sec\n",
      "\n",
      "All sequences for MPN finished in 0.77 seconds\n",
      "\n",
      "HOTA: MPN-pedestrian               HOTA      DetA      AssA      DetRe     DetPr     AssRe     AssPr     LocA      OWTA      HOTA(0)   LocA(0)   HOTALocA(0)\n",
      "NorthSea1                          1.1144    0.82639   1.5028    0.82667   78.947    1.5038    78.947    82.009    1.1146    1.4123    78.163    1.1039    \n",
      "difficult1                         49.628    59.172    42.103    62.895    75.433    61.198    59.078    79.072    51.331    68.253    74.009    50.514    \n",
      "difficult2                         47.661    48.034    47.484    55.601    63.206    55.841    62.991    75.825    51.377    73.856    66.36     49.011    \n",
      "easy1                              52.793    65.321    42.694    70.118    74.013    64.702    53.148    78.533    54.681    75.1      73.075    54.879    \n",
      "easy2                              78.238    74.603    82.796    81.092    80.594    86.469    87.497    84.312    81.865    96.678    81.091    78.397    \n",
      "medium1                            65.584    65.496    65.673    69.242    77.179    69.415    77.323    80.398    67.342    89.093    76.193    67.883    \n",
      "medium2                            58.891    68.618    50.756    72.944    78.338    77.771    56.988    81.231    60.807    78.714    76.971    60.587    \n",
      "COMBINED                           54.738    56.191    53.896    60.757    74.074    69.627    65.581    79.509    57.105    74.926    73.993    55.44     \n",
      "\n",
      "CLEAR: MPN-pedestrian              MOTA      MOTP      MODA      CLR_Re    CLR_Pr    MTR       PTR       MLR       sMOTA     CLR_TP    CLR_FN    CLR_FP    IDSW      MT        PT        ML        Frag      \n",
      "NorthSea1                          1.0471    78.163    1.0471    1.0471    100       0         0         100       0.81846   2         189       0         0         0         0         2         0         \n",
      "difficult1                         77.008    75.274    77.285    80.332    96.346    83.333    16.667    0         57.145    290       71        11        1         5         1         0         15        \n",
      "difficult2                         53.209    72.103    53.743    70.856    80.547    33.333    55.556    11.111    33.442    265       109       64        2         3         5         1         16        \n",
      "easy1                              82.566    75.063    82.895    88.816    93.75     100       0         0         60.418    270       34        18        1         4         0         0         5         \n",
      "easy2                              95.679    81.091    95.679    98.148    97.546    100       0         0         77.12     159       3         4         0         2         0         0         0         \n",
      "medium1                            86.879    76.559    86.879    88.298    98.419    100       0         0         66.182    249       33        4         0         2         0         0         5         \n",
      "medium2                            88.323    77.873    88.323    90.719    97.428    80        20        0         68.25     303       31        8         0         4         1         0         7         \n",
      "COMBINED                           70.966    76.016    71.165    76.594    93.382    66.667    23.333    10        52.596    1538      470       109       4         20        7         3         48        \n",
      "\n",
      "Identity: MPN-pedestrian           IDF1      IDR       IDP       IDTP      IDFN      IDFP      \n",
      "NorthSea1                          2.0725    1.0471    100       2         189       0         \n",
      "difficult1                         60.423    55.402    66.445    200       161       101       \n",
      "difficult2                         66.572    62.567    71.125    234       140       95        \n",
      "easy1                              60.473    58.882    62.153    179       125       109       \n",
      "easy2                              97.846    98.148    97.546    159       3         4         \n",
      "medium1                            93.084    88.298    98.419    249       33        4         \n",
      "medium2                            70.388    67.964    72.99     227       107       84        \n",
      "COMBINED                           68.399    62.251    75.896    1250      758       397       \n",
      "\n",
      "Count: MPN-pedestrian              Dets      GT_Dets   IDs       GT_IDs    \n",
      "NorthSea1                          2         191       1         2         \n",
      "difficult1                         301       361       5         6         \n",
      "difficult2                         329       374       11        9         \n",
      "easy1                              288       304       4         4         \n",
      "easy2                              163       162       3         2         \n",
      "medium1                            253       282       2         2         \n",
      "medium2                            311       334       4         5         \n",
      "COMBINED                           1647      2008      30        30        \n",
      "\n",
      "Timing analysis:\n",
      "MotChallenge2DBox.get_raw_seq_data                                     0.3653 sec\n",
      "MotChallenge2DBox.get_preprocessed_seq_data                            0.5044 sec\n",
      "HOTA.eval_sequence                                                     0.4553 sec\n",
      "CLEAR.eval_sequence                                                    0.0593 sec\n",
      "Identity.eval_sequence                                                 0.0601 sec\n",
      "Count.eval_sequence                                                    0.0000 sec\n",
      "eval_sequence                                                          1.4597 sec\n",
      "Evaluator.evaluate                                                     2.1906 sec\n",
      "Computing CLEAR metrics for sequence: NorthSea1\n",
      "Computing CLEAR metrics for sequence: difficult1\n",
      "Computing CLEAR metrics for sequence: difficult2\n",
      "Computing CLEAR metrics for sequence: easy1\n",
      "Computing CLEAR metrics for sequence: easy2\n",
      "Computing CLEAR metrics for sequence: medium1\n",
      "Computing CLEAR metrics for sequence: medium2\n",
      "Per-sequence metrics for p3v6_v8s_1000e_v8s_augs_ns_backgrounds8:\n",
      "Sequence: easy1, Metrics: {'MOTA': 0.01, 'MOTP': 0.78, 'IDF1': 0.02}\n",
      "Sequence: easy2, Metrics: {'MOTA': 0.77, 'MOTP': 0.75, 'IDF1': 0.6}\n",
      "Sequence: medium1, Metrics: {'MOTA': 0.53, 'MOTP': 0.72, 'IDF1': 0.67}\n",
      "Sequence: medium2, Metrics: {'MOTA': 0.83, 'MOTP': 0.75, 'IDF1': 0.6}\n",
      "Sequence: difficult1, Metrics: {'MOTA': 0.96, 'MOTP': 0.81, 'IDF1': 0.98}\n",
      "Sequence: difficult2, Metrics: {'MOTA': 0.87, 'MOTP': 0.77, 'IDF1': 0.93}\n",
      "Sequence: NorthSea1, Metrics: {'MOTA': 0.88, 'MOTP': 0.78, 'IDF1': 0.7}\n"
     ]
    },
    {
     "data": {
      "text/html": [
       "Tracking run with wandb version 0.19.6"
      ],
      "text/plain": [
       "<IPython.core.display.HTML object>"
      ]
     },
     "metadata": {},
     "output_type": "display_data"
    },
    {
     "data": {
      "text/html": [
       "Run data is saved locally in <code>/vol/biomedic3/bglocker/ugproj/tk1420/SharkTrack-Dev/evaluation/wandb/run-20250613_191207-77pitv4n</code>"
      ],
      "text/plain": [
       "<IPython.core.display.HTML object>"
      ]
     },
     "metadata": {},
     "output_type": "display_data"
    },
    {
     "data": {
      "text/html": [
       "Syncing run <strong><a href='https://wandb.ai/tk1420-imperial-college-london/SharkTrack-Dev_v2/runs/77pitv4n' target=\"_blank\">p3v6_v8s_1000e_v8s_augs_ns_backgrounds8_conf0.0664_eval1</a></strong> to <a href='https://wandb.ai/tk1420-imperial-college-london/SharkTrack-Dev_v2' target=\"_blank\">Weights & Biases</a> (<a href='https://wandb.me/developer-guide' target=\"_blank\">docs</a>)<br>"
      ],
      "text/plain": [
       "<IPython.core.display.HTML object>"
      ]
     },
     "metadata": {},
     "output_type": "display_data"
    },
    {
     "data": {
      "text/html": [
       " View project at <a href='https://wandb.ai/tk1420-imperial-college-london/SharkTrack-Dev_v2' target=\"_blank\">https://wandb.ai/tk1420-imperial-college-london/SharkTrack-Dev_v2</a>"
      ],
      "text/plain": [
       "<IPython.core.display.HTML object>"
      ]
     },
     "metadata": {},
     "output_type": "display_data"
    },
    {
     "data": {
      "text/html": [
       " View run at <a href='https://wandb.ai/tk1420-imperial-college-london/SharkTrack-Dev_v2/runs/77pitv4n' target=\"_blank\">https://wandb.ai/tk1420-imperial-college-london/SharkTrack-Dev_v2/runs/77pitv4n</a>"
      ],
      "text/plain": [
       "<IPython.core.display.HTML object>"
      ]
     },
     "metadata": {},
     "output_type": "display_data"
    },
    {
     "data": {
      "text/html": [],
      "text/plain": [
       "<IPython.core.display.HTML object>"
      ]
     },
     "metadata": {},
     "output_type": "display_data"
    },
    {
     "data": {
      "text/html": [
       "<br>    <style><br>        .wandb-row {<br>            display: flex;<br>            flex-direction: row;<br>            flex-wrap: wrap;<br>            justify-content: flex-start;<br>            width: 100%;<br>        }<br>        .wandb-col {<br>            display: flex;<br>            flex-direction: column;<br>            flex-basis: 100%;<br>            flex: 1;<br>            padding: 10px;<br>        }<br>    </style><br><div class=\"wandb-row\"><div class=\"wandb-col\"><h3>Run history:</h3><br/><table class=\"wandb\"><tr><td>NorthSea1/idf1</td><td>▁</td></tr><tr><td>NorthSea1/mota</td><td>▁</td></tr><tr><td>NorthSea1/motp</td><td>▁</td></tr><tr><td>all/idf1</td><td>▁</td></tr><tr><td>all/map50</td><td>▁</td></tr><tr><td>all/mota</td><td>▁</td></tr><tr><td>all/motp</td><td>▁</td></tr><tr><td>difficult1/idf1</td><td>▁</td></tr><tr><td>difficult1/mota</td><td>▁</td></tr><tr><td>difficult1/motp</td><td>▁</td></tr><tr><td>difficult2/idf1</td><td>▁</td></tr><tr><td>difficult2/mota</td><td>▁</td></tr><tr><td>difficult2/motp</td><td>▁</td></tr><tr><td>easy1/idf1</td><td>▁</td></tr><tr><td>easy1/mota</td><td>▁</td></tr><tr><td>easy1/motp</td><td>▁</td></tr><tr><td>easy2/idf1</td><td>▁</td></tr><tr><td>easy2/mota</td><td>▁</td></tr><tr><td>easy2/motp</td><td>▁</td></tr><tr><td>medium1/idf1</td><td>▁</td></tr><tr><td>medium1/mota</td><td>▁</td></tr><tr><td>medium1/motp</td><td>▁</td></tr><tr><td>medium2/idf1</td><td>▁</td></tr><tr><td>medium2/mota</td><td>▁</td></tr><tr><td>medium2/motp</td><td>▁</td></tr><tr><td>track_time</td><td>▁</td></tr></table><br/></div><div class=\"wandb-col\"><h3>Run summary:</h3><br/><table class=\"wandb\"><tr><td>NorthSea1/idf1</td><td>0.7</td></tr><tr><td>NorthSea1/mota</td><td>0.88</td></tr><tr><td>NorthSea1/motp</td><td>0.78</td></tr><tr><td>all/idf1</td><td>0.64286</td></tr><tr><td>all/map50</td><td>0.88661</td></tr><tr><td>all/mota</td><td>0.69286</td></tr><tr><td>all/motp</td><td>0.76571</td></tr><tr><td>difficult1/idf1</td><td>0.98</td></tr><tr><td>difficult1/mota</td><td>0.96</td></tr><tr><td>difficult1/motp</td><td>0.81</td></tr><tr><td>difficult2/idf1</td><td>0.93</td></tr><tr><td>difficult2/mota</td><td>0.87</td></tr><tr><td>difficult2/motp</td><td>0.77</td></tr><tr><td>easy1/idf1</td><td>0.02</td></tr><tr><td>easy1/mota</td><td>0.01</td></tr><tr><td>easy1/motp</td><td>0.78</td></tr><tr><td>easy2/idf1</td><td>0.6</td></tr><tr><td>easy2/mota</td><td>0.77</td></tr><tr><td>easy2/motp</td><td>0.75</td></tr><tr><td>medium1/idf1</td><td>0.67</td></tr><tr><td>medium1/mota</td><td>0.53</td></tr><tr><td>medium1/motp</td><td>0.72</td></tr><tr><td>medium2/idf1</td><td>0.6</td></tr><tr><td>medium2/mota</td><td>0.83</td></tr><tr><td>medium2/motp</td><td>0.75</td></tr><tr><td>track_device</td><td>NVIDIA GeForce RTX 4...</td></tr><tr><td>track_time</td><td>36.78733</td></tr></table><br/></div></div>"
      ],
      "text/plain": [
       "<IPython.core.display.HTML object>"
      ]
     },
     "metadata": {},
     "output_type": "display_data"
    },
    {
     "data": {
      "text/html": [
       " View run <strong style=\"color:#cdcd00\">p3v6_v8s_1000e_v8s_augs_ns_backgrounds8_conf0.0664_eval1</strong> at: <a href='https://wandb.ai/tk1420-imperial-college-london/SharkTrack-Dev_v2/runs/77pitv4n' target=\"_blank\">https://wandb.ai/tk1420-imperial-college-london/SharkTrack-Dev_v2/runs/77pitv4n</a><br> View project at: <a href='https://wandb.ai/tk1420-imperial-college-london/SharkTrack-Dev_v2' target=\"_blank\">https://wandb.ai/tk1420-imperial-college-london/SharkTrack-Dev_v2</a><br>Synced 5 W&B file(s), 0 media file(s), 0 artifact file(s) and 0 other file(s)"
      ],
      "text/plain": [
       "<IPython.core.display.HTML object>"
      ]
     },
     "metadata": {},
     "output_type": "display_data"
    },
    {
     "data": {
      "text/html": [
       "Find logs at: <code>./wandb/run-20250613_191207-77pitv4n/logs</code>"
      ],
      "text/plain": [
       "<IPython.core.display.HTML object>"
      ]
     },
     "metadata": {},
     "output_type": "display_data"
    },
    {
     "name": "stdout",
     "output_type": "stream",
     "text": [
      "Logged results for p3v6_v8s_1000e_v8s_augs_ns_backgrounds8 to wandb.\n",
      "Evaluating model p3v6_v8s_1000e_mosaic0.8_perspective0.0005_cutmix0.1 at confidence threshold 0.1016\n",
      "Ultralytics 8.3.0 🚀 Python-3.12.3 torch-2.6.0+cu124 CUDA:0 (NVIDIA GeForce RTX 4080, 16072MiB)\n",
      "Model summary (fused): 168 layers, 11,125,971 parameters, 0 gradients, 28.4 GFLOPs\n"
     ]
    },
    {
     "name": "stderr",
     "output_type": "stream",
     "text": [
      "\u001b[34m\u001b[1mval: \u001b[0mScanning /vol/biomedic3/bglocker/ugproj/tk1420/p3v6/val/labels.cache... 980 images, 242 backgrounds, 0 corrupt: 100%|██████████| 980/980 [00:00<?, ?it/s]\n",
      "                 Class     Images  Instances      Box(P          R      mAP50  mAP50-95): 100%|██████████| 62/62 [00:26<00:00,  2.34it/s]\n"
     ]
    },
    {
     "name": "stdout",
     "output_type": "stream",
     "text": [
      "                   all        980       1174      0.892       0.79      0.878      0.612\n",
      "Speed: 0.4ms preprocess, 1.8ms inference, 0.0ms loss, 6.0ms postprocess per image\n",
      "Results saved to \u001b[1m/vol/biomedic3/bglocker/ugproj/tk1420/SharkTrack-Dev/runs/detect/eval1_p3v6_v8s_1000e_mosaic0.8_perspective0.0005_cutmix0.1_val_conf0.1016_2\u001b[0m\n",
      "Confusion Matrix for p3v6_v8s_1000e_mosaic0.8_perspective0.0005_cutmix0.1 at conf: 0.1016\n",
      "[[       1002         144]\n",
      " [        172           0]]\n",
      "Evaluating easy1\n",
      "Running track mode...\n",
      "Processing frame 201\n",
      "\n",
      "Processed 201 frames in track mode.\n",
      "Sequence processing time: 6.26s\n",
      "Evaluating easy2\n",
      "Running track mode...\n",
      "Processing frame 201\n",
      "\n",
      "Processed 201 frames in track mode.\n",
      "Sequence processing time: 6.50s\n",
      "Evaluating medium1\n",
      "Running track mode...\n",
      "Processing frame 201\n",
      "\n",
      "Processed 201 frames in track mode.\n",
      "Sequence processing time: 7.21s\n",
      "Evaluating medium2\n",
      "Running track mode...\n",
      "Processing frame 201\n",
      "\n",
      "Processed 201 frames in track mode.\n",
      "Sequence processing time: 6.20s\n",
      "Evaluating difficult1\n",
      "Running track mode...\n",
      "Processing frame 201\n",
      "\n",
      "Processed 201 frames in track mode.\n",
      "Sequence processing time: 7.30s\n",
      "Evaluating difficult2\n",
      "Running track mode...\n",
      "Processing frame 201\n",
      "\n",
      "Processed 201 frames in track mode.\n",
      "Sequence processing time: 6.62s\n",
      "Evaluating NorthSea1\n",
      "Running track mode...\n",
      "Processing frame 195\n",
      "\n",
      "Processed 195 frames in track mode.\n",
      "Sequence processing time: 7.26s\n",
      "\n",
      "Eval Config:\n",
      "USE_PARALLEL         : False                         \n",
      "NUM_PARALLEL_CORES   : 8                             \n",
      "BREAK_ON_ERROR       : True                          \n",
      "RETURN_ON_ERROR      : False                         \n",
      "LOG_ON_ERROR         : /vol/biomedic3/bglocker/ugproj/tk1420/SharkTrack-Dev/evaluation/TrackEval/error_log.txt\n",
      "PRINT_RESULTS        : True                          \n",
      "PRINT_ONLY_COMBINED  : False                         \n",
      "PRINT_CONFIG         : True                          \n",
      "TIME_PROGRESS        : True                          \n",
      "DISPLAY_LESS_PROGRESS : False                         \n",
      "OUTPUT_SUMMARY       : True                          \n",
      "OUTPUT_EMPTY_CLASSES : True                          \n",
      "OUTPUT_DETAILED      : True                          \n",
      "PLOT_CURVES          : True                          \n",
      "\n",
      "MotChallenge2DBox Config:\n",
      "PRINT_CONFIG         : True                          \n",
      "GT_FOLDER            : /vol/biomedic3/bglocker/ugproj/tk1420/SharkTrack-Dev/evaluation/TrackEval/data/gt/mot_challenge/\n",
      "TRACKERS_FOLDER      : /vol/biomedic3/bglocker/ugproj/tk1420/SharkTrack-Dev/evaluation/TrackEval/data/trackers/mot_challenge/\n",
      "OUTPUT_FOLDER        : None                          \n",
      "TRACKERS_TO_EVAL     : None                          \n",
      "CLASSES_TO_EVAL      : ['pedestrian']                \n",
      "BENCHMARK            : val1                          \n",
      "SPLIT_TO_EVAL        : train                         \n",
      "INPUT_AS_ZIP         : False                         \n",
      "DO_PREPROC           : True                          \n",
      "TRACKER_SUB_FOLDER   : data                          \n",
      "OUTPUT_SUB_FOLDER    :                               \n",
      "TRACKER_DISPLAY_NAMES : None                          \n",
      "SEQMAP_FOLDER        : None                          \n",
      "SEQMAP_FILE          : None                          \n",
      "SEQ_INFO             : None                          \n",
      "GT_LOC_FORMAT        : {gt_folder}/{seq}/gt/gt.txt   \n",
      "SKIP_SPLIT_FOL       : False                         \n",
      "Tracker file Path Theo: /vol/biomedic3/bglocker/ugproj/tk1420/SharkTrack-Dev/evaluation/TrackEval/data/trackers/mot_challenge/val1-train/MPN/data/easy1.txt\n",
      "Tracker file Path Theo: /vol/biomedic3/bglocker/ugproj/tk1420/SharkTrack-Dev/evaluation/TrackEval/data/trackers/mot_challenge/val1-train/MPN/data/easy2.txt\n",
      "Tracker file Path Theo: /vol/biomedic3/bglocker/ugproj/tk1420/SharkTrack-Dev/evaluation/TrackEval/data/trackers/mot_challenge/val1-train/MPN/data/medium1.txt\n",
      "Tracker file Path Theo: /vol/biomedic3/bglocker/ugproj/tk1420/SharkTrack-Dev/evaluation/TrackEval/data/trackers/mot_challenge/val1-train/MPN/data/medium2.txt\n",
      "Tracker file Path Theo: /vol/biomedic3/bglocker/ugproj/tk1420/SharkTrack-Dev/evaluation/TrackEval/data/trackers/mot_challenge/val1-train/MPN/data/difficult1.txt\n",
      "Tracker file Path Theo: /vol/biomedic3/bglocker/ugproj/tk1420/SharkTrack-Dev/evaluation/TrackEval/data/trackers/mot_challenge/val1-train/MPN/data/difficult2.txt\n",
      "Tracker file Path Theo: /vol/biomedic3/bglocker/ugproj/tk1420/SharkTrack-Dev/evaluation/TrackEval/data/trackers/mot_challenge/val1-train/MPN/data/NorthSea1.txt\n",
      "\n",
      "CLEAR Config:\n",
      "METRICS              : ['CLEAR', 'Identity', 'HOTA'] \n",
      "THRESHOLD            : 0.5                           \n",
      "PRINT_CONFIG         : True                          \n",
      "\n",
      "Identity Config:\n",
      "METRICS              : ['CLEAR', 'Identity', 'HOTA'] \n",
      "THRESHOLD            : 0.5                           \n",
      "PRINT_CONFIG         : True                          \n",
      "\n",
      "Evaluating 1 tracker(s) on 7 sequence(s) for 1 class(es) on MotChallenge2DBox dataset using the following metrics: HOTA, CLEAR, Identity, Count\n",
      "\n",
      "\n",
      "Evaluating MPN\n",
      "\n",
      "    MotChallenge2DBox.get_raw_seq_data(MPN, NorthSea1)                     0.0267 sec\n",
      "    MotChallenge2DBox.get_preprocessed_seq_data(pedestrian)                0.0341 sec\n",
      "    HOTA.eval_sequence()                                                   0.0233 sec\n",
      "    CLEAR.eval_sequence()                                                  0.0037 sec\n",
      "    Identity.eval_sequence()                                               0.0044 sec\n",
      "    Count.eval_sequence()                                                  0.0000 sec\n",
      "15 eval_sequence(NorthSea1, MPN)                                          0.0931 sec\n",
      "    MotChallenge2DBox.get_raw_seq_data(MPN, difficult1)                    0.0251 sec\n",
      "    MotChallenge2DBox.get_preprocessed_seq_data(pedestrian)                0.0376 sec\n",
      "    HOTA.eval_sequence()                                                   0.0390 sec\n",
      "    CLEAR.eval_sequence()                                                  0.0052 sec\n",
      "    Identity.eval_sequence()                                               0.0043 sec\n",
      "    Count.eval_sequence()                                                  0.0000 sec\n",
      "16 eval_sequence(difficult1, MPN)                                         0.1122 sec\n",
      "    MotChallenge2DBox.get_raw_seq_data(MPN, difficult2)                    0.0250 sec\n",
      "    MotChallenge2DBox.get_preprocessed_seq_data(pedestrian)                0.0323 sec\n",
      "    HOTA.eval_sequence()                                                   0.0302 sec\n",
      "    CLEAR.eval_sequence()                                                  0.0038 sec\n",
      "    Identity.eval_sequence()                                               0.0043 sec\n",
      "    Count.eval_sequence()                                                  0.0000 sec\n",
      "17 eval_sequence(difficult2, MPN)                                         0.0962 sec\n",
      "    MotChallenge2DBox.get_raw_seq_data(MPN, easy1)                         0.0257 sec\n",
      "    MotChallenge2DBox.get_preprocessed_seq_data(pedestrian)                0.0364 sec\n",
      "    HOTA.eval_sequence()                                                   0.0368 sec\n",
      "    CLEAR.eval_sequence()                                                  0.0051 sec\n",
      "    Identity.eval_sequence()                                               0.0043 sec\n",
      "    Count.eval_sequence()                                                  0.0000 sec\n",
      "18 eval_sequence(easy1, MPN)                                              0.1092 sec\n",
      "    MotChallenge2DBox.get_raw_seq_data(MPN, easy2)                         0.0240 sec\n",
      "    MotChallenge2DBox.get_preprocessed_seq_data(pedestrian)                0.0321 sec\n",
      "    HOTA.eval_sequence()                                                   0.0327 sec\n",
      "    CLEAR.eval_sequence()                                                  0.0039 sec\n",
      "    Identity.eval_sequence()                                               0.0043 sec\n",
      "    Count.eval_sequence()                                                  0.0000 sec\n",
      "19 eval_sequence(easy2, MPN)                                              0.0976 sec\n",
      "    MotChallenge2DBox.get_raw_seq_data(MPN, medium1)                       0.0255 sec\n",
      "    MotChallenge2DBox.get_preprocessed_seq_data(pedestrian)                0.0359 sec\n",
      "    HOTA.eval_sequence()                                                   0.0361 sec\n",
      "    CLEAR.eval_sequence()                                                  0.0049 sec\n",
      "    Identity.eval_sequence()                                               0.0043 sec\n",
      "    Count.eval_sequence()                                                  0.0000 sec\n",
      "20 eval_sequence(medium1, MPN)                                            0.1074 sec\n",
      "    MotChallenge2DBox.get_raw_seq_data(MPN, medium2)                       0.0250 sec\n",
      "    MotChallenge2DBox.get_preprocessed_seq_data(pedestrian)                0.0367 sec\n",
      "    HOTA.eval_sequence()                                                   0.0380 sec\n",
      "    CLEAR.eval_sequence()                                                  0.0050 sec\n",
      "    Identity.eval_sequence()                                               0.0043 sec\n",
      "    Count.eval_sequence()                                                  0.0000 sec\n",
      "21 eval_sequence(medium2, MPN)                                            0.1098 sec\n",
      "\n",
      "All sequences for MPN finished in 0.73 seconds\n",
      "\n",
      "HOTA: MPN-pedestrian               HOTA      DetA      AssA      DetRe     DetPr     AssRe     AssPr     LocA      OWTA      HOTA(0)   LocA(0)   HOTALocA(0)\n",
      "NorthSea1                          12.905    11.242    14.844    17.002    23.532    16.952    46.981    78.044    15.877    20.105    63.075    12.681    \n",
      "difficult1                         36.68     46.026    29.765    49.628    73.126    48.249    57.181    79.608    38.258    49.163    74.17     36.465    \n",
      "difficult2                         40.395    42.501    38.58     47.298    65.275    49.753    56.433    75.794    42.699    60.087    68.045    40.886    \n",
      "easy1                              44.887    63.625    31.724    67.936    74.29     54.371    46.814    78.657    46.401    63.063    73.368    46.268    \n",
      "easy2                              56.847    59.304    54.581    63.808    78.309    57.233    84.505    82.881    58.958    73.976    79.33     58.685    \n",
      "medium1                            59.371    59.301    59.442    62.131    77.527    62.273    77.608    79.935    60.701    80.201    76.075    61.012    \n",
      "medium2                            61.8      65.406    58.676    69.083    78.482    73.194    67.227    81.179    63.634    80.826    77.254    62.441    \n",
      "COMBINED                           46.66     49.143    44.643    54.998    69.72     57.781    63.736    79.392    49.471    63.387    73.924    46.858    \n",
      "\n",
      "CLEAR: MPN-pedestrian              MOTA      MOTP      MODA      CLR_Re    CLR_Pr    MTR       PTR       MLR       sMOTA     CLR_TP    CLR_FN    CLR_FP    IDSW      MT        PT        ML        Frag      \n",
      "NorthSea1                          -30.366   74.43     -29.319   21.466    29.71     0         50        50        -35.855   41        150       97        2         0         1         1         3         \n",
      "difficult1                         57.064    75.858    57.895    62.881    92.653    33.333    66.667    0         41.883    227       134       18        3         2         4         0         14        \n",
      "difficult2                         49.198    72.047    49.465    60.963    84.133    22.222    77.778    0         32.157    228       146       43        1         2         7         0         17        \n",
      "easy1                              77.303    75.625    78.289    84.868    92.806    50        50        0         56.616    258       46        20        3         2         2         0         6         \n",
      "easy2                              75.926    79.33     76.543    79.012    96.97     50        50        0         59.594    128       34        4         1         1         1         0         0         \n",
      "medium1                            79.433    76.2      79.433    79.787    99.558    50        50        0         60.443    225       57        1         0         1         1         0         4         \n",
      "medium2                            85.03     77.699    85.03     86.527    98.299    80        20        0         65.733    289       45        5         0         4         1         0         7         \n",
      "COMBINED                           59.661    75.905    60.159    69.522    88.131    40        56.667    3.3333    42.91     1396      612       188       10        12        17        1         51        \n",
      "\n",
      "Identity: MPN-pedestrian           IDF1      IDR       IDP       IDTP      IDFN      IDFP      \n",
      "NorthSea1                          18.845    16.23     22.464    31        160       107       \n",
      "difficult1                         43.894    36.842    54.286    133       228       112       \n",
      "difficult2                         55.814    48.128    66.421    180       194       91        \n",
      "easy1                              46.735    44.737    48.921    136       168       142       \n",
      "easy2                              79.592    72.222    88.636    117       45        15        \n",
      "medium1                            88.583    79.787    99.558    225       57        1         \n",
      "medium2                            79.618    74.85     85.034    250       84        44        \n",
      "COMBINED                           59.688    53.386    67.677    1072      936       512       \n",
      "\n",
      "Count: MPN-pedestrian              Dets      GT_Dets   IDs       GT_IDs    \n",
      "NorthSea1                          138       191       3         2         \n",
      "difficult1                         245       361       8         6         \n",
      "difficult2                         271       374       10        9         \n",
      "easy1                              278       304       5         4         \n",
      "easy2                              132       162       4         2         \n",
      "medium1                            226       282       2         2         \n",
      "medium2                            294       334       5         5         \n",
      "COMBINED                           1584      2008      37        30        \n",
      "\n",
      "Timing analysis:\n",
      "MotChallenge2DBox.get_raw_seq_data                                     0.5422 sec\n",
      "MotChallenge2DBox.get_preprocessed_seq_data                            0.7495 sec\n",
      "HOTA.eval_sequence                                                     0.6914 sec\n",
      "CLEAR.eval_sequence                                                    0.0908 sec\n",
      "Identity.eval_sequence                                                 0.0903 sec\n",
      "Count.eval_sequence                                                    0.0000 sec\n",
      "eval_sequence                                                          2.1854 sec\n",
      "Evaluator.evaluate                                                     3.0726 sec\n",
      "Computing CLEAR metrics for sequence: NorthSea1\n",
      "Computing CLEAR metrics for sequence: difficult1\n",
      "Computing CLEAR metrics for sequence: difficult2\n",
      "Computing CLEAR metrics for sequence: easy1\n",
      "Computing CLEAR metrics for sequence: easy2\n",
      "Computing CLEAR metrics for sequence: medium1\n",
      "Computing CLEAR metrics for sequence: medium2\n",
      "Per-sequence metrics for p3v6_v8s_1000e_mosaic0.8_perspective0.0005_cutmix0.1:\n",
      "Sequence: easy1, Metrics: {'MOTA': -0.3, 'MOTP': 0.74, 'IDF1': 0.19}\n",
      "Sequence: easy2, Metrics: {'MOTA': 0.57, 'MOTP': 0.76, 'IDF1': 0.44}\n",
      "Sequence: medium1, Metrics: {'MOTA': 0.49, 'MOTP': 0.72, 'IDF1': 0.56}\n",
      "Sequence: medium2, Metrics: {'MOTA': 0.77, 'MOTP': 0.76, 'IDF1': 0.47}\n",
      "Sequence: difficult1, Metrics: {'MOTA': 0.76, 'MOTP': 0.79, 'IDF1': 0.8}\n",
      "Sequence: difficult2, Metrics: {'MOTA': 0.79, 'MOTP': 0.76, 'IDF1': 0.89}\n",
      "Sequence: NorthSea1, Metrics: {'MOTA': 0.85, 'MOTP': 0.78, 'IDF1': 0.8}\n"
     ]
    },
    {
     "data": {
      "text/html": [
       "Tracking run with wandb version 0.19.6"
      ],
      "text/plain": [
       "<IPython.core.display.HTML object>"
      ]
     },
     "metadata": {},
     "output_type": "display_data"
    },
    {
     "data": {
      "text/html": [
       "Run data is saved locally in <code>/vol/biomedic3/bglocker/ugproj/tk1420/SharkTrack-Dev/evaluation/wandb/run-20250613_191329-sy74n1o3</code>"
      ],
      "text/plain": [
       "<IPython.core.display.HTML object>"
      ]
     },
     "metadata": {},
     "output_type": "display_data"
    },
    {
     "data": {
      "text/html": [
       "Syncing run <strong><a href='https://wandb.ai/tk1420-imperial-college-london/SharkTrack-Dev_v2/runs/sy74n1o3' target=\"_blank\">p3v6_v8s_1000e_mosaic0.8_perspective0.0005_cutmix0.1_conf0.1016_eval1</a></strong> to <a href='https://wandb.ai/tk1420-imperial-college-london/SharkTrack-Dev_v2' target=\"_blank\">Weights & Biases</a> (<a href='https://wandb.me/developer-guide' target=\"_blank\">docs</a>)<br>"
      ],
      "text/plain": [
       "<IPython.core.display.HTML object>"
      ]
     },
     "metadata": {},
     "output_type": "display_data"
    },
    {
     "data": {
      "text/html": [
       " View project at <a href='https://wandb.ai/tk1420-imperial-college-london/SharkTrack-Dev_v2' target=\"_blank\">https://wandb.ai/tk1420-imperial-college-london/SharkTrack-Dev_v2</a>"
      ],
      "text/plain": [
       "<IPython.core.display.HTML object>"
      ]
     },
     "metadata": {},
     "output_type": "display_data"
    },
    {
     "data": {
      "text/html": [
       " View run at <a href='https://wandb.ai/tk1420-imperial-college-london/SharkTrack-Dev_v2/runs/sy74n1o3' target=\"_blank\">https://wandb.ai/tk1420-imperial-college-london/SharkTrack-Dev_v2/runs/sy74n1o3</a>"
      ],
      "text/plain": [
       "<IPython.core.display.HTML object>"
      ]
     },
     "metadata": {},
     "output_type": "display_data"
    },
    {
     "data": {
      "text/html": [],
      "text/plain": [
       "<IPython.core.display.HTML object>"
      ]
     },
     "metadata": {},
     "output_type": "display_data"
    },
    {
     "data": {
      "text/html": [
       "<br>    <style><br>        .wandb-row {<br>            display: flex;<br>            flex-direction: row;<br>            flex-wrap: wrap;<br>            justify-content: flex-start;<br>            width: 100%;<br>        }<br>        .wandb-col {<br>            display: flex;<br>            flex-direction: column;<br>            flex-basis: 100%;<br>            flex: 1;<br>            padding: 10px;<br>        }<br>    </style><br><div class=\"wandb-row\"><div class=\"wandb-col\"><h3>Run history:</h3><br/><table class=\"wandb\"><tr><td>NorthSea1/idf1</td><td>▁</td></tr><tr><td>NorthSea1/mota</td><td>▁</td></tr><tr><td>NorthSea1/motp</td><td>▁</td></tr><tr><td>all/idf1</td><td>▁</td></tr><tr><td>all/map50</td><td>▁</td></tr><tr><td>all/mota</td><td>▁</td></tr><tr><td>all/motp</td><td>▁</td></tr><tr><td>difficult1/idf1</td><td>▁</td></tr><tr><td>difficult1/mota</td><td>▁</td></tr><tr><td>difficult1/motp</td><td>▁</td></tr><tr><td>difficult2/idf1</td><td>▁</td></tr><tr><td>difficult2/mota</td><td>▁</td></tr><tr><td>difficult2/motp</td><td>▁</td></tr><tr><td>easy1/idf1</td><td>▁</td></tr><tr><td>easy1/mota</td><td>▁</td></tr><tr><td>easy1/motp</td><td>▁</td></tr><tr><td>easy2/idf1</td><td>▁</td></tr><tr><td>easy2/mota</td><td>▁</td></tr><tr><td>easy2/motp</td><td>▁</td></tr><tr><td>medium1/idf1</td><td>▁</td></tr><tr><td>medium1/mota</td><td>▁</td></tr><tr><td>medium1/motp</td><td>▁</td></tr><tr><td>medium2/idf1</td><td>▁</td></tr><tr><td>medium2/mota</td><td>▁</td></tr><tr><td>medium2/motp</td><td>▁</td></tr><tr><td>track_time</td><td>▁</td></tr></table><br/></div><div class=\"wandb-col\"><h3>Run summary:</h3><br/><table class=\"wandb\"><tr><td>NorthSea1/idf1</td><td>0.8</td></tr><tr><td>NorthSea1/mota</td><td>0.85</td></tr><tr><td>NorthSea1/motp</td><td>0.78</td></tr><tr><td>all/idf1</td><td>0.59286</td></tr><tr><td>all/map50</td><td>0.87772</td></tr><tr><td>all/mota</td><td>0.56143</td></tr><tr><td>all/motp</td><td>0.75857</td></tr><tr><td>difficult1/idf1</td><td>0.8</td></tr><tr><td>difficult1/mota</td><td>0.76</td></tr><tr><td>difficult1/motp</td><td>0.79</td></tr><tr><td>difficult2/idf1</td><td>0.89</td></tr><tr><td>difficult2/mota</td><td>0.79</td></tr><tr><td>difficult2/motp</td><td>0.76</td></tr><tr><td>easy1/idf1</td><td>0.19</td></tr><tr><td>easy1/mota</td><td>-0.3</td></tr><tr><td>easy1/motp</td><td>0.74</td></tr><tr><td>easy2/idf1</td><td>0.44</td></tr><tr><td>easy2/mota</td><td>0.57</td></tr><tr><td>easy2/motp</td><td>0.76</td></tr><tr><td>medium1/idf1</td><td>0.56</td></tr><tr><td>medium1/mota</td><td>0.49</td></tr><tr><td>medium1/motp</td><td>0.72</td></tr><tr><td>medium2/idf1</td><td>0.47</td></tr><tr><td>medium2/mota</td><td>0.77</td></tr><tr><td>medium2/motp</td><td>0.76</td></tr><tr><td>track_device</td><td>NVIDIA GeForce RTX 4...</td></tr><tr><td>track_time</td><td>47.36021</td></tr></table><br/></div></div>"
      ],
      "text/plain": [
       "<IPython.core.display.HTML object>"
      ]
     },
     "metadata": {},
     "output_type": "display_data"
    },
    {
     "data": {
      "text/html": [
       " View run <strong style=\"color:#cdcd00\">p3v6_v8s_1000e_mosaic0.8_perspective0.0005_cutmix0.1_conf0.1016_eval1</strong> at: <a href='https://wandb.ai/tk1420-imperial-college-london/SharkTrack-Dev_v2/runs/sy74n1o3' target=\"_blank\">https://wandb.ai/tk1420-imperial-college-london/SharkTrack-Dev_v2/runs/sy74n1o3</a><br> View project at: <a href='https://wandb.ai/tk1420-imperial-college-london/SharkTrack-Dev_v2' target=\"_blank\">https://wandb.ai/tk1420-imperial-college-london/SharkTrack-Dev_v2</a><br>Synced 5 W&B file(s), 0 media file(s), 0 artifact file(s) and 0 other file(s)"
      ],
      "text/plain": [
       "<IPython.core.display.HTML object>"
      ]
     },
     "metadata": {},
     "output_type": "display_data"
    },
    {
     "data": {
      "text/html": [
       "Find logs at: <code>./wandb/run-20250613_191329-sy74n1o3/logs</code>"
      ],
      "text/plain": [
       "<IPython.core.display.HTML object>"
      ]
     },
     "metadata": {},
     "output_type": "display_data"
    },
    {
     "name": "stdout",
     "output_type": "stream",
     "text": [
      "Logged results for p3v6_v8s_1000e_mosaic0.8_perspective0.0005_cutmix0.1 to wandb.\n",
      "Evaluating model p3v6_v8n_1000e_mosaic0.8_perspective0.0005_cutmix0.15 at confidence threshold 0.1055\n",
      "Ultralytics 8.3.0 🚀 Python-3.12.3 torch-2.6.0+cu124 CUDA:0 (NVIDIA GeForce RTX 4080, 16072MiB)\n",
      "Model summary (fused): 168 layers, 3,005,843 parameters, 0 gradients, 8.1 GFLOPs\n"
     ]
    },
    {
     "name": "stderr",
     "output_type": "stream",
     "text": [
      "\u001b[34m\u001b[1mval: \u001b[0mScanning /vol/biomedic3/bglocker/ugproj/tk1420/p3v6/val/labels.cache... 980 images, 242 backgrounds, 0 corrupt: 100%|██████████| 980/980 [00:00<?, ?it/s]\n",
      "                 Class     Images  Instances      Box(P          R      mAP50  mAP50-95): 100%|██████████| 62/62 [00:25<00:00,  2.44it/s]\n"
     ]
    },
    {
     "name": "stdout",
     "output_type": "stream",
     "text": [
      "                   all        980       1174      0.863      0.786      0.863      0.603\n",
      "Speed: 0.5ms preprocess, 0.8ms inference, 0.0ms loss, 6.5ms postprocess per image\n",
      "Results saved to \u001b[1m/vol/biomedic3/bglocker/ugproj/tk1420/SharkTrack-Dev/runs/detect/eval1_p3v6_v8n_1000e_mosaic0.8_perspective0.0005_cutmix0.15_val_conf0.1055_2\u001b[0m\n",
      "Confusion Matrix for p3v6_v8n_1000e_mosaic0.8_perspective0.0005_cutmix0.15 at conf: 0.1055\n",
      "[[        984         145]\n",
      " [        190           0]]\n",
      "Evaluating easy1\n",
      "Running track mode...\n",
      "Processing frame 201\n",
      "\n",
      "Processed 201 frames in track mode.\n",
      "Sequence processing time: 6.19s\n",
      "Evaluating easy2\n",
      "Running track mode...\n",
      "Processing frame 201\n",
      "\n",
      "Processed 201 frames in track mode.\n",
      "Sequence processing time: 6.60s\n",
      "Evaluating medium1\n",
      "Running track mode...\n",
      "Processing frame 201\n",
      "\n",
      "Processed 201 frames in track mode.\n",
      "Sequence processing time: 6.01s\n",
      "Evaluating medium2\n",
      "Running track mode...\n",
      "Processing frame 201\n",
      "\n",
      "Processed 201 frames in track mode.\n",
      "Sequence processing time: 3.27s\n",
      "Evaluating difficult1\n",
      "Running track mode...\n",
      "Processing frame 201\n",
      "\n",
      "Processed 201 frames in track mode.\n",
      "Sequence processing time: 7.42s\n",
      "Evaluating difficult2\n",
      "Running track mode...\n",
      "Processing frame 201\n",
      "\n",
      "Processed 201 frames in track mode.\n",
      "Sequence processing time: 6.67s\n",
      "Evaluating NorthSea1\n",
      "Running track mode...\n",
      "Processing frame 195\n",
      "\n",
      "Processed 195 frames in track mode.\n",
      "Sequence processing time: 8.74s\n",
      "\n",
      "Eval Config:\n",
      "USE_PARALLEL         : False                         \n",
      "NUM_PARALLEL_CORES   : 8                             \n",
      "BREAK_ON_ERROR       : True                          \n",
      "RETURN_ON_ERROR      : False                         \n",
      "LOG_ON_ERROR         : /vol/biomedic3/bglocker/ugproj/tk1420/SharkTrack-Dev/evaluation/TrackEval/error_log.txt\n",
      "PRINT_RESULTS        : True                          \n",
      "PRINT_ONLY_COMBINED  : False                         \n",
      "PRINT_CONFIG         : True                          \n",
      "TIME_PROGRESS        : True                          \n",
      "DISPLAY_LESS_PROGRESS : False                         \n",
      "OUTPUT_SUMMARY       : True                          \n",
      "OUTPUT_EMPTY_CLASSES : True                          \n",
      "OUTPUT_DETAILED      : True                          \n",
      "PLOT_CURVES          : True                          \n",
      "\n",
      "MotChallenge2DBox Config:\n",
      "PRINT_CONFIG         : True                          \n",
      "GT_FOLDER            : /vol/biomedic3/bglocker/ugproj/tk1420/SharkTrack-Dev/evaluation/TrackEval/data/gt/mot_challenge/\n",
      "TRACKERS_FOLDER      : /vol/biomedic3/bglocker/ugproj/tk1420/SharkTrack-Dev/evaluation/TrackEval/data/trackers/mot_challenge/\n",
      "OUTPUT_FOLDER        : None                          \n",
      "TRACKERS_TO_EVAL     : None                          \n",
      "CLASSES_TO_EVAL      : ['pedestrian']                \n",
      "BENCHMARK            : val1                          \n",
      "SPLIT_TO_EVAL        : train                         \n",
      "INPUT_AS_ZIP         : False                         \n",
      "DO_PREPROC           : True                          \n",
      "TRACKER_SUB_FOLDER   : data                          \n",
      "OUTPUT_SUB_FOLDER    :                               \n",
      "TRACKER_DISPLAY_NAMES : None                          \n",
      "SEQMAP_FOLDER        : None                          \n",
      "SEQMAP_FILE          : None                          \n",
      "SEQ_INFO             : None                          \n",
      "GT_LOC_FORMAT        : {gt_folder}/{seq}/gt/gt.txt   \n",
      "SKIP_SPLIT_FOL       : False                         \n",
      "Tracker file Path Theo: /vol/biomedic3/bglocker/ugproj/tk1420/SharkTrack-Dev/evaluation/TrackEval/data/trackers/mot_challenge/val1-train/MPN/data/easy1.txt\n",
      "Tracker file Path Theo: /vol/biomedic3/bglocker/ugproj/tk1420/SharkTrack-Dev/evaluation/TrackEval/data/trackers/mot_challenge/val1-train/MPN/data/easy2.txt\n",
      "Tracker file Path Theo: /vol/biomedic3/bglocker/ugproj/tk1420/SharkTrack-Dev/evaluation/TrackEval/data/trackers/mot_challenge/val1-train/MPN/data/medium1.txt\n",
      "Tracker file Path Theo: /vol/biomedic3/bglocker/ugproj/tk1420/SharkTrack-Dev/evaluation/TrackEval/data/trackers/mot_challenge/val1-train/MPN/data/medium2.txt\n",
      "Tracker file Path Theo: /vol/biomedic3/bglocker/ugproj/tk1420/SharkTrack-Dev/evaluation/TrackEval/data/trackers/mot_challenge/val1-train/MPN/data/difficult1.txt\n",
      "Tracker file Path Theo: /vol/biomedic3/bglocker/ugproj/tk1420/SharkTrack-Dev/evaluation/TrackEval/data/trackers/mot_challenge/val1-train/MPN/data/difficult2.txt\n",
      "Tracker file Path Theo: /vol/biomedic3/bglocker/ugproj/tk1420/SharkTrack-Dev/evaluation/TrackEval/data/trackers/mot_challenge/val1-train/MPN/data/NorthSea1.txt\n",
      "\n",
      "CLEAR Config:\n",
      "METRICS              : ['CLEAR', 'Identity', 'HOTA'] \n",
      "THRESHOLD            : 0.5                           \n",
      "PRINT_CONFIG         : True                          \n",
      "\n",
      "Identity Config:\n",
      "METRICS              : ['CLEAR', 'Identity', 'HOTA'] \n",
      "THRESHOLD            : 0.5                           \n",
      "PRINT_CONFIG         : True                          \n",
      "\n",
      "Evaluating 1 tracker(s) on 7 sequence(s) for 1 class(es) on MotChallenge2DBox dataset using the following metrics: HOTA, CLEAR, Identity, Count\n",
      "\n",
      "\n",
      "Evaluating MPN\n",
      "\n",
      "    MotChallenge2DBox.get_raw_seq_data(MPN, NorthSea1)                     0.0278 sec\n",
      "    MotChallenge2DBox.get_preprocessed_seq_data(pedestrian)                0.0382 sec\n",
      "    HOTA.eval_sequence()                                                   0.0328 sec\n",
      "    CLEAR.eval_sequence()                                                  0.0051 sec\n",
      "    Identity.eval_sequence()                                               0.0047 sec\n",
      "    Count.eval_sequence()                                                  0.0000 sec\n",
      "22 eval_sequence(NorthSea1, MPN)                                          0.1095 sec\n",
      "    MotChallenge2DBox.get_raw_seq_data(MPN, difficult1)                    0.0286 sec\n",
      "    MotChallenge2DBox.get_preprocessed_seq_data(pedestrian)                0.0401 sec\n",
      "    HOTA.eval_sequence()                                                   0.0383 sec\n",
      "    CLEAR.eval_sequence()                                                  0.0052 sec\n",
      "    Identity.eval_sequence()                                               0.0044 sec\n",
      "    Count.eval_sequence()                                                  0.0000 sec\n",
      "23 eval_sequence(difficult1, MPN)                                         0.1174 sec\n",
      "    MotChallenge2DBox.get_raw_seq_data(MPN, difficult2)                    0.0243 sec\n",
      "    MotChallenge2DBox.get_preprocessed_seq_data(pedestrian)                0.0326 sec\n",
      "    HOTA.eval_sequence()                                                   0.0300 sec\n",
      "    CLEAR.eval_sequence()                                                  0.0039 sec\n",
      "    Identity.eval_sequence()                                               0.0041 sec\n",
      "    Count.eval_sequence()                                                  0.0000 sec\n",
      "24 eval_sequence(difficult2, MPN)                                         0.0957 sec\n",
      "    MotChallenge2DBox.get_raw_seq_data(MPN, easy1)                         0.0249 sec\n",
      "    MotChallenge2DBox.get_preprocessed_seq_data(pedestrian)                0.0366 sec\n",
      "    HOTA.eval_sequence()                                                   0.0365 sec\n",
      "    CLEAR.eval_sequence()                                                  0.0053 sec\n",
      "    Identity.eval_sequence()                                               0.0043 sec\n",
      "    Count.eval_sequence()                                                  0.0000 sec\n",
      "25 eval_sequence(easy1, MPN)                                              0.1086 sec\n",
      "    MotChallenge2DBox.get_raw_seq_data(MPN, easy2)                         0.0235 sec\n",
      "    MotChallenge2DBox.get_preprocessed_seq_data(pedestrian)                0.0353 sec\n",
      "    HOTA.eval_sequence()                                                   0.0351 sec\n",
      "    CLEAR.eval_sequence()                                                  0.0046 sec\n",
      "    Identity.eval_sequence()                                               0.0043 sec\n",
      "    Count.eval_sequence()                                                  0.0000 sec\n",
      "26 eval_sequence(easy2, MPN)                                              0.1035 sec\n",
      "    MotChallenge2DBox.get_raw_seq_data(MPN, medium1)                       0.0262 sec\n",
      "    MotChallenge2DBox.get_preprocessed_seq_data(pedestrian)                0.0371 sec\n",
      "    HOTA.eval_sequence()                                                   0.0368 sec\n",
      "    CLEAR.eval_sequence()                                                  0.0050 sec\n",
      "    Identity.eval_sequence()                                               0.0042 sec\n",
      "    Count.eval_sequence()                                                  0.0000 sec\n",
      "27 eval_sequence(medium1, MPN)                                            0.1101 sec\n",
      "    MotChallenge2DBox.get_raw_seq_data(MPN, medium2)                       0.0253 sec\n",
      "    MotChallenge2DBox.get_preprocessed_seq_data(pedestrian)                0.0379 sec\n",
      "    HOTA.eval_sequence()                                                   0.0384 sec\n",
      "    CLEAR.eval_sequence()                                                  0.0052 sec\n",
      "    Identity.eval_sequence()                                               0.0042 sec\n",
      "    Count.eval_sequence()                                                  0.0000 sec\n",
      "28 eval_sequence(medium2, MPN)                                            0.1116 sec\n",
      "\n",
      "All sequences for MPN finished in 0.76 seconds\n",
      "\n",
      "HOTA: MPN-pedestrian               HOTA      DetA      AssA      DetRe     DetPr     AssRe     AssPr     LocA      OWTA      HOTA(0)   LocA(0)   HOTALocA(0)\n",
      "NorthSea1                          32.104    30.664    33.638    50.096    39.055    49.199    48.69     75.986    41.025    49.882    64.962    32.404    \n",
      "difficult1                         46.083    52.555    40.708    55.927    75.334    58.207    58.705    79.78     47.641    62.612    74.93     46.915    \n",
      "difficult2                         42.965    43.365    42.779    47.777    66.425    50.802    63.726    76.054    45.158    65.142    67.718    44.113    \n",
      "easy1                              56.735    66.092    48.714    70.551    74.991    70.922    53.898    78.893    58.556    80.089    73.76     59.074    \n",
      "easy2                              72.285    70.481    74.339    76.283    77.237    78.793    81.433    81.378    75.29     94.837    77.679    73.669    \n",
      "medium1                            60.025    59.733    60.324    62.449    77.923    63.12     77.993    80.169    61.295    80.566    76.437    61.583    \n",
      "medium2                            59.127    62.922    55.888    66.562    78.006    71.672    66.01     81.083    60.944    78.463    76.662    60.152    \n",
      "COMBINED                           52.34     53.632    51.357    60.395    69.738    64.672    64.946    79.093    55.642    72.319    73.451    53.119    \n",
      "\n",
      "CLEAR: MPN-pedestrian              MOTA      MOTP      MODA      CLR_Re    CLR_Pr    MTR       PTR       MLR       sMOTA     CLR_TP    CLR_FN    CLR_FP    IDSW      MT        PT        ML        Frag      \n",
      "NorthSea1                          2.0942    71.963    2.6178    65.445    51.02     0         100       0         -16.255   125       66        120       1         0         2         0         2         \n",
      "difficult1                         67.313    76.133    67.59     70.914    95.522    50        50        0         50.388    256       105       12        1         3         3         0         13        \n",
      "difficult2                         51.872    72.037    52.139    62.032    86.245    22.222    77.778    0         34.526    232       142       37        1         2         7         0         9         \n",
      "easy1                              83.553    75.542    83.553    88.816    94.406    75        25        0         61.83     270       34        16        0         3         1         0         4         \n",
      "easy2                              91.358    78.053    91.358    95.062    96.25     100       0         0         70.495    154       8         6         0         2         0         0         0         \n",
      "medium1                            80.142    76.437    80.142    80.142    100       50        50        0         61.258    226       56        0         0         1         1         0         1         \n",
      "medium2                            84.132    76.956    84.132    84.731    99.298    40        60        0         64.607    283       51        2         0         2         3         0         6         \n",
      "COMBINED                           67.231    75.465    67.38     76.992    88.902    43.333    56.667    0         48.341    1546      462       193       3         13        17        0         35        \n",
      "\n",
      "Identity: MPN-pedestrian           IDF1      IDR       IDP       IDTP      IDFN      IDFP      \n",
      "NorthSea1                          56.422    64.398    50.204    123       68        122       \n",
      "difficult1                         62.639    54.571    73.507    197       164       71        \n",
      "difficult2                         62.83     54.011    75.093    202       172       67        \n",
      "easy1                              67.797    65.789    69.93     200       104       86        \n",
      "easy2                              95.652    95.062    96.25     154       8         6         \n",
      "medium1                            88.976    80.142    100       226       56        0         \n",
      "medium2                            80.129    74.251    87.018    248       86        37        \n",
      "COMBINED                           72.058    67.231    77.631    1350      658       389       \n",
      "\n",
      "Count: MPN-pedestrian              Dets      GT_Dets   IDs       GT_IDs    \n",
      "NorthSea1                          245       191       3         2         \n",
      "difficult1                         268       361       6         6         \n",
      "difficult2                         269       374       8         9         \n",
      "easy1                              286       304       3         4         \n",
      "easy2                              160       162       3         2         \n",
      "medium1                            226       282       2         2         \n",
      "medium2                            285       334       4         5         \n",
      "COMBINED                           1739      2008      29        30        \n",
      "\n",
      "Timing analysis:\n",
      "MotChallenge2DBox.get_raw_seq_data                                     0.7228 sec\n",
      "MotChallenge2DBox.get_preprocessed_seq_data                            1.0072 sec\n",
      "HOTA.eval_sequence                                                     0.9394 sec\n",
      "CLEAR.eval_sequence                                                    0.1250 sec\n",
      "Identity.eval_sequence                                                 0.1206 sec\n",
      "Count.eval_sequence                                                    0.0000 sec\n",
      "eval_sequence                                                          2.9419 sec\n",
      "Evaluator.evaluate                                                     3.9841 sec\n",
      "Computing CLEAR metrics for sequence: NorthSea1\n",
      "Computing CLEAR metrics for sequence: difficult1\n",
      "Computing CLEAR metrics for sequence: difficult2\n",
      "Computing CLEAR metrics for sequence: easy1\n",
      "Computing CLEAR metrics for sequence: easy2\n",
      "Computing CLEAR metrics for sequence: medium1\n",
      "Computing CLEAR metrics for sequence: medium2\n",
      "Per-sequence metrics for p3v6_v8n_1000e_mosaic0.8_perspective0.0005_cutmix0.15:\n",
      "Sequence: easy1, Metrics: {'MOTA': 0.02, 'MOTP': 0.72, 'IDF1': 0.56}\n",
      "Sequence: easy2, Metrics: {'MOTA': 0.67, 'MOTP': 0.76, 'IDF1': 0.63}\n",
      "Sequence: medium1, Metrics: {'MOTA': 0.52, 'MOTP': 0.72, 'IDF1': 0.63}\n",
      "Sequence: medium2, Metrics: {'MOTA': 0.84, 'MOTP': 0.76, 'IDF1': 0.68}\n",
      "Sequence: difficult1, Metrics: {'MOTA': 0.91, 'MOTP': 0.78, 'IDF1': 0.96}\n",
      "Sequence: difficult2, Metrics: {'MOTA': 0.8, 'MOTP': 0.76, 'IDF1': 0.89}\n",
      "Sequence: NorthSea1, Metrics: {'MOTA': 0.84, 'MOTP': 0.77, 'IDF1': 0.8}\n"
     ]
    },
    {
     "data": {
      "text/html": [
       "Tracking run with wandb version 0.19.6"
      ],
      "text/plain": [
       "<IPython.core.display.HTML object>"
      ]
     },
     "metadata": {},
     "output_type": "display_data"
    },
    {
     "data": {
      "text/html": [
       "Run data is saved locally in <code>/vol/biomedic3/bglocker/ugproj/tk1420/SharkTrack-Dev/evaluation/wandb/run-20250613_191609-6wo4xilb</code>"
      ],
      "text/plain": [
       "<IPython.core.display.HTML object>"
      ]
     },
     "metadata": {},
     "output_type": "display_data"
    },
    {
     "data": {
      "text/html": [
       "Syncing run <strong><a href='https://wandb.ai/tk1420-imperial-college-london/SharkTrack-Dev_v2/runs/6wo4xilb' target=\"_blank\">p3v6_v8n_1000e_mosaic0.8_perspective0.0005_cutmix0.15_conf0.1055_eval1</a></strong> to <a href='https://wandb.ai/tk1420-imperial-college-london/SharkTrack-Dev_v2' target=\"_blank\">Weights & Biases</a> (<a href='https://wandb.me/developer-guide' target=\"_blank\">docs</a>)<br>"
      ],
      "text/plain": [
       "<IPython.core.display.HTML object>"
      ]
     },
     "metadata": {},
     "output_type": "display_data"
    },
    {
     "data": {
      "text/html": [
       " View project at <a href='https://wandb.ai/tk1420-imperial-college-london/SharkTrack-Dev_v2' target=\"_blank\">https://wandb.ai/tk1420-imperial-college-london/SharkTrack-Dev_v2</a>"
      ],
      "text/plain": [
       "<IPython.core.display.HTML object>"
      ]
     },
     "metadata": {},
     "output_type": "display_data"
    },
    {
     "data": {
      "text/html": [
       " View run at <a href='https://wandb.ai/tk1420-imperial-college-london/SharkTrack-Dev_v2/runs/6wo4xilb' target=\"_blank\">https://wandb.ai/tk1420-imperial-college-london/SharkTrack-Dev_v2/runs/6wo4xilb</a>"
      ],
      "text/plain": [
       "<IPython.core.display.HTML object>"
      ]
     },
     "metadata": {},
     "output_type": "display_data"
    },
    {
     "data": {
      "text/html": [],
      "text/plain": [
       "<IPython.core.display.HTML object>"
      ]
     },
     "metadata": {},
     "output_type": "display_data"
    },
    {
     "data": {
      "text/html": [
       "<br>    <style><br>        .wandb-row {<br>            display: flex;<br>            flex-direction: row;<br>            flex-wrap: wrap;<br>            justify-content: flex-start;<br>            width: 100%;<br>        }<br>        .wandb-col {<br>            display: flex;<br>            flex-direction: column;<br>            flex-basis: 100%;<br>            flex: 1;<br>            padding: 10px;<br>        }<br>    </style><br><div class=\"wandb-row\"><div class=\"wandb-col\"><h3>Run history:</h3><br/><table class=\"wandb\"><tr><td>NorthSea1/idf1</td><td>▁</td></tr><tr><td>NorthSea1/mota</td><td>▁</td></tr><tr><td>NorthSea1/motp</td><td>▁</td></tr><tr><td>all/idf1</td><td>▁</td></tr><tr><td>all/map50</td><td>▁</td></tr><tr><td>all/mota</td><td>▁</td></tr><tr><td>all/motp</td><td>▁</td></tr><tr><td>difficult1/idf1</td><td>▁</td></tr><tr><td>difficult1/mota</td><td>▁</td></tr><tr><td>difficult1/motp</td><td>▁</td></tr><tr><td>difficult2/idf1</td><td>▁</td></tr><tr><td>difficult2/mota</td><td>▁</td></tr><tr><td>difficult2/motp</td><td>▁</td></tr><tr><td>easy1/idf1</td><td>▁</td></tr><tr><td>easy1/mota</td><td>▁</td></tr><tr><td>easy1/motp</td><td>▁</td></tr><tr><td>easy2/idf1</td><td>▁</td></tr><tr><td>easy2/mota</td><td>▁</td></tr><tr><td>easy2/motp</td><td>▁</td></tr><tr><td>medium1/idf1</td><td>▁</td></tr><tr><td>medium1/mota</td><td>▁</td></tr><tr><td>medium1/motp</td><td>▁</td></tr><tr><td>medium2/idf1</td><td>▁</td></tr><tr><td>medium2/mota</td><td>▁</td></tr><tr><td>medium2/motp</td><td>▁</td></tr><tr><td>track_time</td><td>▁</td></tr></table><br/></div><div class=\"wandb-col\"><h3>Run summary:</h3><br/><table class=\"wandb\"><tr><td>NorthSea1/idf1</td><td>0.8</td></tr><tr><td>NorthSea1/mota</td><td>0.84</td></tr><tr><td>NorthSea1/motp</td><td>0.77</td></tr><tr><td>all/idf1</td><td>0.73571</td></tr><tr><td>all/map50</td><td>0.86279</td></tr><tr><td>all/mota</td><td>0.65714</td></tr><tr><td>all/motp</td><td>0.75286</td></tr><tr><td>difficult1/idf1</td><td>0.96</td></tr><tr><td>difficult1/mota</td><td>0.91</td></tr><tr><td>difficult1/motp</td><td>0.78</td></tr><tr><td>difficult2/idf1</td><td>0.89</td></tr><tr><td>difficult2/mota</td><td>0.8</td></tr><tr><td>difficult2/motp</td><td>0.76</td></tr><tr><td>easy1/idf1</td><td>0.56</td></tr><tr><td>easy1/mota</td><td>0.02</td></tr><tr><td>easy1/motp</td><td>0.72</td></tr><tr><td>easy2/idf1</td><td>0.63</td></tr><tr><td>easy2/mota</td><td>0.67</td></tr><tr><td>easy2/motp</td><td>0.76</td></tr><tr><td>medium1/idf1</td><td>0.63</td></tr><tr><td>medium1/mota</td><td>0.52</td></tr><tr><td>medium1/motp</td><td>0.72</td></tr><tr><td>medium2/idf1</td><td>0.68</td></tr><tr><td>medium2/mota</td><td>0.84</td></tr><tr><td>medium2/motp</td><td>0.76</td></tr><tr><td>track_device</td><td>NVIDIA GeForce RTX 4...</td></tr><tr><td>track_time</td><td>44.90704</td></tr></table><br/></div></div>"
      ],
      "text/plain": [
       "<IPython.core.display.HTML object>"
      ]
     },
     "metadata": {},
     "output_type": "display_data"
    },
    {
     "data": {
      "text/html": [
       " View run <strong style=\"color:#cdcd00\">p3v6_v8n_1000e_mosaic0.8_perspective0.0005_cutmix0.15_conf0.1055_eval1</strong> at: <a href='https://wandb.ai/tk1420-imperial-college-london/SharkTrack-Dev_v2/runs/6wo4xilb' target=\"_blank\">https://wandb.ai/tk1420-imperial-college-london/SharkTrack-Dev_v2/runs/6wo4xilb</a><br> View project at: <a href='https://wandb.ai/tk1420-imperial-college-london/SharkTrack-Dev_v2' target=\"_blank\">https://wandb.ai/tk1420-imperial-college-london/SharkTrack-Dev_v2</a><br>Synced 5 W&B file(s), 0 media file(s), 0 artifact file(s) and 0 other file(s)"
      ],
      "text/plain": [
       "<IPython.core.display.HTML object>"
      ]
     },
     "metadata": {},
     "output_type": "display_data"
    },
    {
     "data": {
      "text/html": [
       "Find logs at: <code>./wandb/run-20250613_191609-6wo4xilb/logs</code>"
      ],
      "text/plain": [
       "<IPython.core.display.HTML object>"
      ]
     },
     "metadata": {},
     "output_type": "display_data"
    },
    {
     "name": "stdout",
     "output_type": "stream",
     "text": [
      "Logged results for p3v6_v8n_1000e_mosaic0.8_perspective0.0005_cutmix0.15 to wandb.\n",
      "Evaluating model p3v6_v8s_1000e2 at confidence threshold 0.0059\n",
      "Ultralytics 8.3.0 🚀 Python-3.12.3 torch-2.6.0+cu124 CUDA:0 (NVIDIA GeForce RTX 4080, 16072MiB)\n",
      "Model summary (fused): 168 layers, 11,125,971 parameters, 0 gradients, 28.4 GFLOPs\n"
     ]
    },
    {
     "name": "stderr",
     "output_type": "stream",
     "text": [
      "\u001b[34m\u001b[1mval: \u001b[0mScanning /vol/biomedic3/bglocker/ugproj/tk1420/p3v6/val/labels.cache... 980 images, 242 backgrounds, 0 corrupt: 100%|██████████| 980/980 [00:00<?, ?it/s]\n",
      "                 Class     Images  Instances      Box(P          R      mAP50  mAP50-95): 100%|██████████| 62/62 [00:24<00:00,  2.55it/s]\n"
     ]
    },
    {
     "name": "stdout",
     "output_type": "stream",
     "text": [
      "                   all        980       1174      0.897      0.762      0.857      0.587\n",
      "Speed: 0.4ms preprocess, 1.7ms inference, 0.0ms loss, 5.9ms postprocess per image\n",
      "Results saved to \u001b[1m/vol/biomedic3/bglocker/ugproj/tk1420/SharkTrack-Dev/runs/detect/eval1_p3v6_v8s_1000e2_val_conf0.0059_2\u001b[0m\n",
      "Confusion Matrix for p3v6_v8s_1000e2 at conf: 0.0059\n",
      "[[        980         149]\n",
      " [        194           0]]\n",
      "Evaluating easy1\n",
      "Running track mode...\n",
      "Processing frame 201\n",
      "\n",
      "Processed 201 frames in track mode.\n",
      "Sequence processing time: 4.67s\n",
      "Evaluating easy2\n",
      "Running track mode...\n",
      "Processing frame 201\n",
      "\n",
      "Processed 201 frames in track mode.\n",
      "Sequence processing time: 6.74s\n",
      "Evaluating medium1\n",
      "Running track mode...\n",
      "Processing frame 201\n",
      "\n",
      "Processed 201 frames in track mode.\n",
      "Sequence processing time: 7.40s\n",
      "Evaluating medium2\n",
      "Running track mode...\n",
      "Processing frame 201\n",
      "\n",
      "Processed 201 frames in track mode.\n",
      "Sequence processing time: 6.25s\n",
      "Evaluating difficult1\n",
      "Running track mode...\n",
      "Processing frame 201\n",
      "\n",
      "Processed 201 frames in track mode.\n",
      "Sequence processing time: 7.43s\n",
      "Evaluating difficult2\n",
      "Running track mode...\n",
      "Processing frame 201\n",
      "\n",
      "Processed 201 frames in track mode.\n",
      "Sequence processing time: 6.17s\n",
      "Evaluating NorthSea1\n",
      "Running track mode...\n",
      "Processing frame 195\n",
      "\n",
      "Processed 195 frames in track mode.\n",
      "Sequence processing time: 4.99s\n",
      "\n",
      "Eval Config:\n",
      "USE_PARALLEL         : False                         \n",
      "NUM_PARALLEL_CORES   : 8                             \n",
      "BREAK_ON_ERROR       : True                          \n",
      "RETURN_ON_ERROR      : False                         \n",
      "LOG_ON_ERROR         : /vol/biomedic3/bglocker/ugproj/tk1420/SharkTrack-Dev/evaluation/TrackEval/error_log.txt\n",
      "PRINT_RESULTS        : True                          \n",
      "PRINT_ONLY_COMBINED  : False                         \n",
      "PRINT_CONFIG         : True                          \n",
      "TIME_PROGRESS        : True                          \n",
      "DISPLAY_LESS_PROGRESS : False                         \n",
      "OUTPUT_SUMMARY       : True                          \n",
      "OUTPUT_EMPTY_CLASSES : True                          \n",
      "OUTPUT_DETAILED      : True                          \n",
      "PLOT_CURVES          : True                          \n",
      "\n",
      "MotChallenge2DBox Config:\n",
      "PRINT_CONFIG         : True                          \n",
      "GT_FOLDER            : /vol/biomedic3/bglocker/ugproj/tk1420/SharkTrack-Dev/evaluation/TrackEval/data/gt/mot_challenge/\n",
      "TRACKERS_FOLDER      : /vol/biomedic3/bglocker/ugproj/tk1420/SharkTrack-Dev/evaluation/TrackEval/data/trackers/mot_challenge/\n",
      "OUTPUT_FOLDER        : None                          \n",
      "TRACKERS_TO_EVAL     : None                          \n",
      "CLASSES_TO_EVAL      : ['pedestrian']                \n",
      "BENCHMARK            : val1                          \n",
      "SPLIT_TO_EVAL        : train                         \n",
      "INPUT_AS_ZIP         : False                         \n",
      "DO_PREPROC           : True                          \n",
      "TRACKER_SUB_FOLDER   : data                          \n",
      "OUTPUT_SUB_FOLDER    :                               \n",
      "TRACKER_DISPLAY_NAMES : None                          \n",
      "SEQMAP_FOLDER        : None                          \n",
      "SEQMAP_FILE          : None                          \n",
      "SEQ_INFO             : None                          \n",
      "GT_LOC_FORMAT        : {gt_folder}/{seq}/gt/gt.txt   \n",
      "SKIP_SPLIT_FOL       : False                         \n",
      "Tracker file Path Theo: /vol/biomedic3/bglocker/ugproj/tk1420/SharkTrack-Dev/evaluation/TrackEval/data/trackers/mot_challenge/val1-train/MPN/data/easy1.txt\n",
      "Tracker file Path Theo: /vol/biomedic3/bglocker/ugproj/tk1420/SharkTrack-Dev/evaluation/TrackEval/data/trackers/mot_challenge/val1-train/MPN/data/easy2.txt\n",
      "Tracker file Path Theo: /vol/biomedic3/bglocker/ugproj/tk1420/SharkTrack-Dev/evaluation/TrackEval/data/trackers/mot_challenge/val1-train/MPN/data/medium1.txt\n",
      "Tracker file Path Theo: /vol/biomedic3/bglocker/ugproj/tk1420/SharkTrack-Dev/evaluation/TrackEval/data/trackers/mot_challenge/val1-train/MPN/data/medium2.txt\n",
      "Tracker file Path Theo: /vol/biomedic3/bglocker/ugproj/tk1420/SharkTrack-Dev/evaluation/TrackEval/data/trackers/mot_challenge/val1-train/MPN/data/difficult1.txt\n",
      "Tracker file Path Theo: /vol/biomedic3/bglocker/ugproj/tk1420/SharkTrack-Dev/evaluation/TrackEval/data/trackers/mot_challenge/val1-train/MPN/data/difficult2.txt\n",
      "Tracker file Path Theo: /vol/biomedic3/bglocker/ugproj/tk1420/SharkTrack-Dev/evaluation/TrackEval/data/trackers/mot_challenge/val1-train/MPN/data/NorthSea1.txt\n",
      "\n",
      "CLEAR Config:\n",
      "METRICS              : ['CLEAR', 'Identity', 'HOTA'] \n",
      "THRESHOLD            : 0.5                           \n",
      "PRINT_CONFIG         : True                          \n",
      "\n",
      "Identity Config:\n",
      "METRICS              : ['CLEAR', 'Identity', 'HOTA'] \n",
      "THRESHOLD            : 0.5                           \n",
      "PRINT_CONFIG         : True                          \n",
      "\n",
      "Evaluating 1 tracker(s) on 7 sequence(s) for 1 class(es) on MotChallenge2DBox dataset using the following metrics: HOTA, CLEAR, Identity, Count\n",
      "\n",
      "\n",
      "Evaluating MPN\n",
      "\n",
      "    MotChallenge2DBox.get_raw_seq_data(MPN, NorthSea1)                     0.0243 sec\n",
      "    MotChallenge2DBox.get_preprocessed_seq_data(pedestrian)                0.0321 sec\n",
      "    HOTA.eval_sequence()                                                   0.0238 sec\n",
      "    CLEAR.eval_sequence()                                                  0.0028 sec\n",
      "    Identity.eval_sequence()                                               0.0043 sec\n",
      "    Count.eval_sequence()                                                  0.0000 sec\n",
      "29 eval_sequence(NorthSea1, MPN)                                          0.0880 sec\n",
      "    MotChallenge2DBox.get_raw_seq_data(MPN, difficult1)                    0.0271 sec\n",
      "    MotChallenge2DBox.get_preprocessed_seq_data(pedestrian)                0.0395 sec\n",
      "    HOTA.eval_sequence()                                                   0.0441 sec\n",
      "    CLEAR.eval_sequence()                                                  0.0057 sec\n",
      "    Identity.eval_sequence()                                               0.0044 sec\n",
      "    Count.eval_sequence()                                                  0.0000 sec\n",
      "30 eval_sequence(difficult1, MPN)                                         0.1222 sec\n",
      "    MotChallenge2DBox.get_raw_seq_data(MPN, difficult2)                    0.0308 sec\n",
      "    MotChallenge2DBox.get_preprocessed_seq_data(pedestrian)                0.0403 sec\n",
      "    HOTA.eval_sequence()                                                   0.0363 sec\n",
      "    CLEAR.eval_sequence()                                                  0.0041 sec\n",
      "    Identity.eval_sequence()                                               0.0044 sec\n",
      "    Count.eval_sequence()                                                  0.0000 sec\n",
      "31 eval_sequence(difficult2, MPN)                                         0.1175 sec\n",
      "    MotChallenge2DBox.get_raw_seq_data(MPN, easy1)                         0.0256 sec\n",
      "    MotChallenge2DBox.get_preprocessed_seq_data(pedestrian)                0.0374 sec\n",
      "    HOTA.eval_sequence()                                                   0.0382 sec\n",
      "    CLEAR.eval_sequence()                                                  0.0052 sec\n",
      "    Identity.eval_sequence()                                               0.0043 sec\n",
      "    Count.eval_sequence()                                                  0.0000 sec\n",
      "32 eval_sequence(easy1, MPN)                                              0.1123 sec\n",
      "    MotChallenge2DBox.get_raw_seq_data(MPN, easy2)                         0.0242 sec\n",
      "    MotChallenge2DBox.get_preprocessed_seq_data(pedestrian)                0.0353 sec\n",
      "    HOTA.eval_sequence()                                                   0.0358 sec\n",
      "    CLEAR.eval_sequence()                                                  0.0046 sec\n",
      "    Identity.eval_sequence()                                               0.0044 sec\n",
      "    Count.eval_sequence()                                                  0.0000 sec\n",
      "33 eval_sequence(easy2, MPN)                                              0.1056 sec\n",
      "    MotChallenge2DBox.get_raw_seq_data(MPN, medium1)                       0.0261 sec\n",
      "    MotChallenge2DBox.get_preprocessed_seq_data(pedestrian)                0.0380 sec\n",
      "    HOTA.eval_sequence()                                                   0.0390 sec\n",
      "    CLEAR.eval_sequence()                                                  0.0054 sec\n",
      "    Identity.eval_sequence()                                               0.0044 sec\n",
      "    Count.eval_sequence()                                                  0.0000 sec\n",
      "34 eval_sequence(medium1, MPN)                                            0.1142 sec\n",
      "    MotChallenge2DBox.get_raw_seq_data(MPN, medium2)                       0.0259 sec\n",
      "    MotChallenge2DBox.get_preprocessed_seq_data(pedestrian)                0.0384 sec\n",
      "    HOTA.eval_sequence()                                                   0.0400 sec\n",
      "    CLEAR.eval_sequence()                                                  0.0053 sec\n",
      "    Identity.eval_sequence()                                               0.0044 sec\n",
      "    Count.eval_sequence()                                                  0.0000 sec\n",
      "35 eval_sequence(medium2, MPN)                                            0.1156 sec\n",
      "\n",
      "All sequences for MPN finished in 0.78 seconds\n",
      "\n",
      "HOTA: MPN-pedestrian               HOTA      DetA      AssA      DetRe     DetPr     AssRe     AssPr     LocA      OWTA      HOTA(0)   LocA(0)   HOTALocA(0)\n",
      "NorthSea1                          31.651    31.412    31.892    32.709    72.644    33.117    72.835    77.947    32.281    44.461    72.309    32.15     \n",
      "difficult1                         51.782    64.07     41.937    67.969    78.644    60.273    62.433    81.629    53.369    68.865    77.53     53.391    \n",
      "difficult2                         47.032    50.965    43.542    57.346    65.992    53.907    58.378    75.911    49.957    74.047    66.766    49.439    \n",
      "easy1                              46.201    65.007    32.89     70.343    72.735    56.375    45.459    77.643    48.057    67.582    71.518    48.333    \n",
      "easy2                              75.168    72.228    78.859    77.16     80.645    81.998    86.271    83.051    77.956    94.77     79.62     75.455    \n",
      "medium1                            66.911    66.795    67.029    70.493    78.573    70.667    78.81     81.109    68.653    89.784    77.106    69.23     \n",
      "medium2                            63.323    73.169    54.918    77.482    81.895    80.164    60.395    83.75     65.195    80.946    80.41     65.089    \n",
      "COMBINED                           55.412    60.908    50.729    65.674    75.746    65.948    64.832    80.248    57.685    75.487    74.93     56.562    \n",
      "\n",
      "CLEAR: MPN-pedestrian              MOTA      MOTP      MODA      CLR_Re    CLR_Pr    MTR       PTR       MLR       sMOTA     CLR_TP    CLR_FN    CLR_FP    IDSW      MT        PT        ML        Frag      \n",
      "NorthSea1                          38.743    73.953    38.743    41.885    93.023    0         100       0         27.834    80        111       6         0         0         2         0         2         \n",
      "difficult1                         81.163    78.515    81.44     83.934    97.115    83.333    16.667    0         63.131    303       58        9         1         5         1         0         12        \n",
      "difficult2                         62.032    71.651    62.834    74.866    86.154    33.333    66.667    0         40.808    280       94        45        3         3         6         0         13        \n",
      "easy1                              83.553    73.642    84.211    90.461    93.537    100       0         0         59.709    275       29        19        2         4         0         0         8         \n",
      "easy2                              90.741    80.242    90.741    93.21     97.419    100       0         0         72.324    151       11        4         0         2         0         0         1         \n",
      "medium1                            86.879    77.559    86.879    88.298    98.419    100       0         0         67.065    249       33        4         0         2         0         0         7         \n",
      "medium2                            89.82     81.444    89.82     92.216    97.468    80        20        0         72.709    308       26        8         0         4         1         0         3         \n",
      "COMBINED                           76.942    76.873    77.241    81.972    94.543    66.667    33.333    0         57.985    1646      362       95        6         20        10        0         46        \n",
      "\n",
      "Identity: MPN-pedestrian           IDF1      IDR       IDP       IDTP      IDFN      IDFP      \n",
      "NorthSea1                          57.762    41.885    93.023    80        111       6         \n",
      "difficult1                         63.596    59.28     68.59     214       147       98        \n",
      "difficult2                         67.811    63.369    72.923    237       137       88        \n",
      "easy1                              50.836    50        51.701    152       152       142       \n",
      "easy2                              95.268    93.21     97.419    151       11        4         \n",
      "medium1                            93.084    88.298    98.419    249       33        4         \n",
      "medium2                            72.308    70.359    74.367    235       99        81        \n",
      "COMBINED                           70.312    65.637    75.704    1318      690       423       \n",
      "\n",
      "Count: MPN-pedestrian              Dets      GT_Dets   IDs       GT_IDs    \n",
      "NorthSea1                          86        191       2         2         \n",
      "difficult1                         312       361       5         6         \n",
      "difficult2                         325       374       10        9         \n",
      "easy1                              294       304       4         4         \n",
      "easy2                              155       162       3         2         \n",
      "medium1                            253       282       2         2         \n",
      "medium2                            316       334       4         5         \n",
      "COMBINED                           1741      2008      30        30        \n",
      "\n",
      "Timing analysis:\n",
      "MotChallenge2DBox.get_raw_seq_data                                     0.9067 sec\n",
      "MotChallenge2DBox.get_preprocessed_seq_data                            1.2682 sec\n",
      "HOTA.eval_sequence                                                     1.1967 sec\n",
      "CLEAR.eval_sequence                                                    0.1581 sec\n",
      "Identity.eval_sequence                                                 0.1512 sec\n",
      "Count.eval_sequence                                                    0.0001 sec\n",
      "eval_sequence                                                          3.7174 sec\n",
      "Evaluator.evaluate                                                     4.9241 sec\n",
      "Computing CLEAR metrics for sequence: NorthSea1\n",
      "Computing CLEAR metrics for sequence: difficult1\n",
      "Computing CLEAR metrics for sequence: difficult2\n",
      "Computing CLEAR metrics for sequence: easy1\n",
      "Computing CLEAR metrics for sequence: easy2\n",
      "Computing CLEAR metrics for sequence: medium1\n",
      "Computing CLEAR metrics for sequence: medium2\n",
      "Per-sequence metrics for p3v6_v8s_1000e2:\n",
      "Sequence: easy1, Metrics: {'MOTA': 0.39, 'MOTP': 0.74, 'IDF1': 0.58}\n",
      "Sequence: easy2, Metrics: {'MOTA': 0.81, 'MOTP': 0.79, 'IDF1': 0.64}\n",
      "Sequence: medium1, Metrics: {'MOTA': 0.62, 'MOTP': 0.72, 'IDF1': 0.68}\n",
      "Sequence: medium2, Metrics: {'MOTA': 0.84, 'MOTP': 0.74, 'IDF1': 0.51}\n",
      "Sequence: difficult1, Metrics: {'MOTA': 0.91, 'MOTP': 0.8, 'IDF1': 0.95}\n",
      "Sequence: difficult2, Metrics: {'MOTA': 0.87, 'MOTP': 0.78, 'IDF1': 0.93}\n",
      "Sequence: NorthSea1, Metrics: {'MOTA': 0.9, 'MOTP': 0.81, 'IDF1': 0.72}\n"
     ]
    },
    {
     "data": {
      "text/html": [
       "Tracking run with wandb version 0.19.6"
      ],
      "text/plain": [
       "<IPython.core.display.HTML object>"
      ]
     },
     "metadata": {},
     "output_type": "display_data"
    },
    {
     "data": {
      "text/html": [
       "Run data is saved locally in <code>/vol/biomedic3/bglocker/ugproj/tk1420/SharkTrack-Dev/evaluation/wandb/run-20250613_191726-r0i76jt9</code>"
      ],
      "text/plain": [
       "<IPython.core.display.HTML object>"
      ]
     },
     "metadata": {},
     "output_type": "display_data"
    },
    {
     "data": {
      "text/html": [
       "Syncing run <strong><a href='https://wandb.ai/tk1420-imperial-college-london/SharkTrack-Dev_v2/runs/r0i76jt9' target=\"_blank\">p3v6_v8s_1000e2_conf0.0059_eval1</a></strong> to <a href='https://wandb.ai/tk1420-imperial-college-london/SharkTrack-Dev_v2' target=\"_blank\">Weights & Biases</a> (<a href='https://wandb.me/developer-guide' target=\"_blank\">docs</a>)<br>"
      ],
      "text/plain": [
       "<IPython.core.display.HTML object>"
      ]
     },
     "metadata": {},
     "output_type": "display_data"
    },
    {
     "data": {
      "text/html": [
       " View project at <a href='https://wandb.ai/tk1420-imperial-college-london/SharkTrack-Dev_v2' target=\"_blank\">https://wandb.ai/tk1420-imperial-college-london/SharkTrack-Dev_v2</a>"
      ],
      "text/plain": [
       "<IPython.core.display.HTML object>"
      ]
     },
     "metadata": {},
     "output_type": "display_data"
    },
    {
     "data": {
      "text/html": [
       " View run at <a href='https://wandb.ai/tk1420-imperial-college-london/SharkTrack-Dev_v2/runs/r0i76jt9' target=\"_blank\">https://wandb.ai/tk1420-imperial-college-london/SharkTrack-Dev_v2/runs/r0i76jt9</a>"
      ],
      "text/plain": [
       "<IPython.core.display.HTML object>"
      ]
     },
     "metadata": {},
     "output_type": "display_data"
    },
    {
     "data": {
      "text/html": [],
      "text/plain": [
       "<IPython.core.display.HTML object>"
      ]
     },
     "metadata": {},
     "output_type": "display_data"
    },
    {
     "data": {
      "text/html": [
       "<br>    <style><br>        .wandb-row {<br>            display: flex;<br>            flex-direction: row;<br>            flex-wrap: wrap;<br>            justify-content: flex-start;<br>            width: 100%;<br>        }<br>        .wandb-col {<br>            display: flex;<br>            flex-direction: column;<br>            flex-basis: 100%;<br>            flex: 1;<br>            padding: 10px;<br>        }<br>    </style><br><div class=\"wandb-row\"><div class=\"wandb-col\"><h3>Run history:</h3><br/><table class=\"wandb\"><tr><td>NorthSea1/idf1</td><td>▁</td></tr><tr><td>NorthSea1/mota</td><td>▁</td></tr><tr><td>NorthSea1/motp</td><td>▁</td></tr><tr><td>all/idf1</td><td>▁</td></tr><tr><td>all/map50</td><td>▁</td></tr><tr><td>all/mota</td><td>▁</td></tr><tr><td>all/motp</td><td>▁</td></tr><tr><td>difficult1/idf1</td><td>▁</td></tr><tr><td>difficult1/mota</td><td>▁</td></tr><tr><td>difficult1/motp</td><td>▁</td></tr><tr><td>difficult2/idf1</td><td>▁</td></tr><tr><td>difficult2/mota</td><td>▁</td></tr><tr><td>difficult2/motp</td><td>▁</td></tr><tr><td>easy1/idf1</td><td>▁</td></tr><tr><td>easy1/mota</td><td>▁</td></tr><tr><td>easy1/motp</td><td>▁</td></tr><tr><td>easy2/idf1</td><td>▁</td></tr><tr><td>easy2/mota</td><td>▁</td></tr><tr><td>easy2/motp</td><td>▁</td></tr><tr><td>medium1/idf1</td><td>▁</td></tr><tr><td>medium1/mota</td><td>▁</td></tr><tr><td>medium1/motp</td><td>▁</td></tr><tr><td>medium2/idf1</td><td>▁</td></tr><tr><td>medium2/mota</td><td>▁</td></tr><tr><td>medium2/motp</td><td>▁</td></tr><tr><td>track_time</td><td>▁</td></tr></table><br/></div><div class=\"wandb-col\"><h3>Run summary:</h3><br/><table class=\"wandb\"><tr><td>NorthSea1/idf1</td><td>0.72</td></tr><tr><td>NorthSea1/mota</td><td>0.9</td></tr><tr><td>NorthSea1/motp</td><td>0.81</td></tr><tr><td>all/idf1</td><td>0.71571</td></tr><tr><td>all/map50</td><td>0.85662</td></tr><tr><td>all/mota</td><td>0.76286</td></tr><tr><td>all/motp</td><td>0.76857</td></tr><tr><td>difficult1/idf1</td><td>0.95</td></tr><tr><td>difficult1/mota</td><td>0.91</td></tr><tr><td>difficult1/motp</td><td>0.8</td></tr><tr><td>difficult2/idf1</td><td>0.93</td></tr><tr><td>difficult2/mota</td><td>0.87</td></tr><tr><td>difficult2/motp</td><td>0.78</td></tr><tr><td>easy1/idf1</td><td>0.58</td></tr><tr><td>easy1/mota</td><td>0.39</td></tr><tr><td>easy1/motp</td><td>0.74</td></tr><tr><td>easy2/idf1</td><td>0.64</td></tr><tr><td>easy2/mota</td><td>0.81</td></tr><tr><td>easy2/motp</td><td>0.79</td></tr><tr><td>medium1/idf1</td><td>0.68</td></tr><tr><td>medium1/mota</td><td>0.62</td></tr><tr><td>medium1/motp</td><td>0.72</td></tr><tr><td>medium2/idf1</td><td>0.51</td></tr><tr><td>medium2/mota</td><td>0.84</td></tr><tr><td>medium2/motp</td><td>0.74</td></tr><tr><td>track_device</td><td>NVIDIA GeForce RTX 4...</td></tr><tr><td>track_time</td><td>43.64298</td></tr></table><br/></div></div>"
      ],
      "text/plain": [
       "<IPython.core.display.HTML object>"
      ]
     },
     "metadata": {},
     "output_type": "display_data"
    },
    {
     "data": {
      "text/html": [
       " View run <strong style=\"color:#cdcd00\">p3v6_v8s_1000e2_conf0.0059_eval1</strong> at: <a href='https://wandb.ai/tk1420-imperial-college-london/SharkTrack-Dev_v2/runs/r0i76jt9' target=\"_blank\">https://wandb.ai/tk1420-imperial-college-london/SharkTrack-Dev_v2/runs/r0i76jt9</a><br> View project at: <a href='https://wandb.ai/tk1420-imperial-college-london/SharkTrack-Dev_v2' target=\"_blank\">https://wandb.ai/tk1420-imperial-college-london/SharkTrack-Dev_v2</a><br>Synced 5 W&B file(s), 0 media file(s), 0 artifact file(s) and 0 other file(s)"
      ],
      "text/plain": [
       "<IPython.core.display.HTML object>"
      ]
     },
     "metadata": {},
     "output_type": "display_data"
    },
    {
     "data": {
      "text/html": [
       "Find logs at: <code>./wandb/run-20250613_191726-r0i76jt9/logs</code>"
      ],
      "text/plain": [
       "<IPython.core.display.HTML object>"
      ]
     },
     "metadata": {},
     "output_type": "display_data"
    },
    {
     "name": "stdout",
     "output_type": "stream",
     "text": [
      "Logged results for p3v6_v8s_1000e2 to wandb.\n",
      "Evaluating model p3v6_v11_1000e_mosaic0.8_perspective0.0005_cutmix0.1 at confidence threshold 0.0977\n",
      "Ultralytics 8.3.0 🚀 Python-3.12.3 torch-2.6.0+cu124 CUDA:0 (NVIDIA GeForce RTX 4080, 16072MiB)\n",
      "YOLO11s summary (fused): 238 layers, 9,413,187 parameters, 0 gradients, 21.3 GFLOPs\n"
     ]
    },
    {
     "name": "stderr",
     "output_type": "stream",
     "text": [
      "\u001b[34m\u001b[1mval: \u001b[0mScanning /vol/biomedic3/bglocker/ugproj/tk1420/p3v6/val/labels.cache... 980 images, 242 backgrounds, 0 corrupt: 100%|██████████| 980/980 [00:00<?, ?it/s]\n",
      "                 Class     Images  Instances      Box(P          R      mAP50  mAP50-95): 100%|██████████| 62/62 [00:02<00:00, 20.75it/s]\n"
     ]
    },
    {
     "name": "stdout",
     "output_type": "stream",
     "text": [
      "                   all        980       1174      0.877      0.803      0.876      0.629\n",
      "Speed: 0.1ms preprocess, 1.0ms inference, 0.0ms loss, 0.4ms postprocess per image\n",
      "Results saved to \u001b[1m/vol/biomedic3/bglocker/ugproj/tk1420/SharkTrack-Dev/runs/detect/eval1_p3v6_v11_1000e_mosaic0.8_perspective0.0005_cutmix0.1_val_conf0.0977_2\u001b[0m\n",
      "Confusion Matrix for p3v6_v11_1000e_mosaic0.8_perspective0.0005_cutmix0.1 at conf: 0.0977\n",
      "[[       1014         146]\n",
      " [        160           0]]\n",
      "Evaluating easy1\n",
      "Running track mode...\n",
      "Processing frame 201\n",
      "\n",
      "Processed 201 frames in track mode.\n",
      "Sequence processing time: 3.60s\n",
      "Evaluating easy2\n",
      "Running track mode...\n",
      "Processing frame 201\n",
      "\n",
      "Processed 201 frames in track mode.\n",
      "Sequence processing time: 4.20s\n",
      "Evaluating medium1\n",
      "Running track mode...\n",
      "Processing frame 201\n",
      "\n",
      "Processed 201 frames in track mode.\n",
      "Sequence processing time: 6.23s\n",
      "Evaluating medium2\n",
      "Running track mode...\n",
      "Processing frame 201\n",
      "\n",
      "Processed 201 frames in track mode.\n",
      "Sequence processing time: 6.72s\n",
      "Evaluating difficult1\n",
      "Running track mode...\n",
      "Processing frame 201\n",
      "\n",
      "Processed 201 frames in track mode.\n",
      "Sequence processing time: 7.73s\n",
      "Evaluating difficult2\n",
      "Running track mode...\n",
      "Processing frame 201\n",
      "\n",
      "Processed 201 frames in track mode.\n",
      "Sequence processing time: 7.16s\n",
      "Evaluating NorthSea1\n",
      "Running track mode...\n",
      "Processing frame 195\n",
      "\n",
      "Processed 195 frames in track mode.\n",
      "Sequence processing time: 9.24s\n",
      "\n",
      "Eval Config:\n",
      "USE_PARALLEL         : False                         \n",
      "NUM_PARALLEL_CORES   : 8                             \n",
      "BREAK_ON_ERROR       : True                          \n",
      "RETURN_ON_ERROR      : False                         \n",
      "LOG_ON_ERROR         : /vol/biomedic3/bglocker/ugproj/tk1420/SharkTrack-Dev/evaluation/TrackEval/error_log.txt\n",
      "PRINT_RESULTS        : True                          \n",
      "PRINT_ONLY_COMBINED  : False                         \n",
      "PRINT_CONFIG         : True                          \n",
      "TIME_PROGRESS        : True                          \n",
      "DISPLAY_LESS_PROGRESS : False                         \n",
      "OUTPUT_SUMMARY       : True                          \n",
      "OUTPUT_EMPTY_CLASSES : True                          \n",
      "OUTPUT_DETAILED      : True                          \n",
      "PLOT_CURVES          : True                          \n",
      "\n",
      "MotChallenge2DBox Config:\n",
      "PRINT_CONFIG         : True                          \n",
      "GT_FOLDER            : /vol/biomedic3/bglocker/ugproj/tk1420/SharkTrack-Dev/evaluation/TrackEval/data/gt/mot_challenge/\n",
      "TRACKERS_FOLDER      : /vol/biomedic3/bglocker/ugproj/tk1420/SharkTrack-Dev/evaluation/TrackEval/data/trackers/mot_challenge/\n",
      "OUTPUT_FOLDER        : None                          \n",
      "TRACKERS_TO_EVAL     : None                          \n",
      "CLASSES_TO_EVAL      : ['pedestrian']                \n",
      "BENCHMARK            : val1                          \n",
      "SPLIT_TO_EVAL        : train                         \n",
      "INPUT_AS_ZIP         : False                         \n",
      "DO_PREPROC           : True                          \n",
      "TRACKER_SUB_FOLDER   : data                          \n",
      "OUTPUT_SUB_FOLDER    :                               \n",
      "TRACKER_DISPLAY_NAMES : None                          \n",
      "SEQMAP_FOLDER        : None                          \n",
      "SEQMAP_FILE          : None                          \n",
      "SEQ_INFO             : None                          \n",
      "GT_LOC_FORMAT        : {gt_folder}/{seq}/gt/gt.txt   \n",
      "SKIP_SPLIT_FOL       : False                         \n",
      "Tracker file Path Theo: /vol/biomedic3/bglocker/ugproj/tk1420/SharkTrack-Dev/evaluation/TrackEval/data/trackers/mot_challenge/val1-train/MPN/data/easy1.txt\n",
      "Tracker file Path Theo: /vol/biomedic3/bglocker/ugproj/tk1420/SharkTrack-Dev/evaluation/TrackEval/data/trackers/mot_challenge/val1-train/MPN/data/easy2.txt\n",
      "Tracker file Path Theo: /vol/biomedic3/bglocker/ugproj/tk1420/SharkTrack-Dev/evaluation/TrackEval/data/trackers/mot_challenge/val1-train/MPN/data/medium1.txt\n",
      "Tracker file Path Theo: /vol/biomedic3/bglocker/ugproj/tk1420/SharkTrack-Dev/evaluation/TrackEval/data/trackers/mot_challenge/val1-train/MPN/data/medium2.txt\n",
      "Tracker file Path Theo: /vol/biomedic3/bglocker/ugproj/tk1420/SharkTrack-Dev/evaluation/TrackEval/data/trackers/mot_challenge/val1-train/MPN/data/difficult1.txt\n",
      "Tracker file Path Theo: /vol/biomedic3/bglocker/ugproj/tk1420/SharkTrack-Dev/evaluation/TrackEval/data/trackers/mot_challenge/val1-train/MPN/data/difficult2.txt\n",
      "Tracker file Path Theo: /vol/biomedic3/bglocker/ugproj/tk1420/SharkTrack-Dev/evaluation/TrackEval/data/trackers/mot_challenge/val1-train/MPN/data/NorthSea1.txt\n",
      "\n",
      "CLEAR Config:\n",
      "METRICS              : ['CLEAR', 'Identity', 'HOTA'] \n",
      "THRESHOLD            : 0.5                           \n",
      "PRINT_CONFIG         : True                          \n",
      "\n",
      "Identity Config:\n",
      "METRICS              : ['CLEAR', 'Identity', 'HOTA'] \n",
      "THRESHOLD            : 0.5                           \n",
      "PRINT_CONFIG         : True                          \n",
      "\n",
      "Evaluating 1 tracker(s) on 7 sequence(s) for 1 class(es) on MotChallenge2DBox dataset using the following metrics: HOTA, CLEAR, Identity, Count\n",
      "\n",
      "\n",
      "Evaluating MPN\n",
      "\n",
      "    MotChallenge2DBox.get_raw_seq_data(MPN, NorthSea1)                     0.0259 sec\n",
      "    MotChallenge2DBox.get_preprocessed_seq_data(pedestrian)                0.0386 sec\n",
      "    HOTA.eval_sequence()                                                   0.0303 sec\n",
      "    CLEAR.eval_sequence()                                                  0.0049 sec\n",
      "    Identity.eval_sequence()                                               0.0043 sec\n",
      "    Count.eval_sequence()                                                  0.0000 sec\n",
      "36 eval_sequence(NorthSea1, MPN)                                          0.1048 sec\n",
      "    MotChallenge2DBox.get_raw_seq_data(MPN, difficult1)                    0.0248 sec\n",
      "    MotChallenge2DBox.get_preprocessed_seq_data(pedestrian)                0.0385 sec\n",
      "    HOTA.eval_sequence()                                                   0.0429 sec\n",
      "    CLEAR.eval_sequence()                                                  0.0055 sec\n",
      "    Identity.eval_sequence()                                               0.0048 sec\n",
      "    Count.eval_sequence()                                                  0.0000 sec\n",
      "37 eval_sequence(difficult1, MPN)                                         0.1176 sec\n",
      "    MotChallenge2DBox.get_raw_seq_data(MPN, difficult2)                    0.0252 sec\n",
      "    MotChallenge2DBox.get_preprocessed_seq_data(pedestrian)                0.0323 sec\n",
      "    HOTA.eval_sequence()                                                   0.0306 sec\n",
      "    CLEAR.eval_sequence()                                                  0.0039 sec\n",
      "    Identity.eval_sequence()                                               0.0042 sec\n",
      "    Count.eval_sequence()                                                  0.0000 sec\n",
      "38 eval_sequence(difficult2, MPN)                                         0.0969 sec\n",
      "    MotChallenge2DBox.get_raw_seq_data(MPN, easy1)                         0.0244 sec\n",
      "    MotChallenge2DBox.get_preprocessed_seq_data(pedestrian)                0.0367 sec\n",
      "    HOTA.eval_sequence()                                                   0.0366 sec\n",
      "    CLEAR.eval_sequence()                                                  0.0051 sec\n",
      "    Identity.eval_sequence()                                               0.0043 sec\n",
      "    Count.eval_sequence()                                                  0.0000 sec\n",
      "39 eval_sequence(easy1, MPN)                                              0.1080 sec\n",
      "    MotChallenge2DBox.get_raw_seq_data(MPN, easy2)                         0.0247 sec\n",
      "    MotChallenge2DBox.get_preprocessed_seq_data(pedestrian)                0.0337 sec\n",
      "    HOTA.eval_sequence()                                                   0.0335 sec\n",
      "    CLEAR.eval_sequence()                                                  0.0043 sec\n",
      "    Identity.eval_sequence()                                               0.0043 sec\n",
      "    Count.eval_sequence()                                                  0.0000 sec\n",
      "40 eval_sequence(easy2, MPN)                                              0.1014 sec\n",
      "    MotChallenge2DBox.get_raw_seq_data(MPN, medium1)                       0.0247 sec\n",
      "    MotChallenge2DBox.get_preprocessed_seq_data(pedestrian)                0.0369 sec\n",
      "    HOTA.eval_sequence()                                                   0.0377 sec\n",
      "    CLEAR.eval_sequence()                                                  0.0065 sec\n",
      "    Identity.eval_sequence()                                               0.0047 sec\n",
      "    Count.eval_sequence()                                                  0.0000 sec\n",
      "41 eval_sequence(medium1, MPN)                                            0.1116 sec\n",
      "    MotChallenge2DBox.get_raw_seq_data(MPN, medium2)                       0.0266 sec\n",
      "    MotChallenge2DBox.get_preprocessed_seq_data(pedestrian)                0.0372 sec\n",
      "    HOTA.eval_sequence()                                                   0.0381 sec\n",
      "    CLEAR.eval_sequence()                                                  0.0051 sec\n",
      "    Identity.eval_sequence()                                               0.0042 sec\n",
      "    Count.eval_sequence()                                                  0.0000 sec\n",
      "42 eval_sequence(medium2, MPN)                                            0.1118 sec\n",
      "\n",
      "All sequences for MPN finished in 0.76 seconds\n",
      "\n",
      "HOTA: MPN-pedestrian               HOTA      DetA      AssA      DetRe     DetPr     AssRe     AssPr     LocA      OWTA      HOTA(0)   LocA(0)   HOTALocA(0)\n",
      "NorthSea1                          23.438    23.708    23.234    38.192    34.903    39.003    45.762    76.619    29.772    38.675    60.873    23.543    \n",
      "difficult1                         50.07     55.871    45.019    59.601    76.297    64.161    58.599    80.32     51.754    68.653    75.517    51.844    \n",
      "difficult2                         42.311    46.28     38.946    52.589    64.487    51.44     52.244    76.161    45.193    63.687    67.892    43.239    \n",
      "easy1                              55.594    65.158    47.442    70.17     73.812    70.515    52.698    78.459    57.624    80.477    72.603    58.429    \n",
      "easy2                              68.018    66.109    70.191    71.962    76.697    74.365    81.864    81.657    71.057    89.186    77.835    69.418    \n",
      "medium1                            67.351    67.287    67.414    71.109    78.331    71.182    78.424    80.674    69.132    90.782    76.816    69.736    \n",
      "medium2                            58.373    67.253    50.934    71.431    77.461    75.957    57.522    80.796    60.277    78.889    76.154    60.077    \n",
      "COMBINED                           52.626    54.992    50.58     62.44     69.616    66.839    61.472    79.319    56.161    73.342    73.205    53.69     \n",
      "\n",
      "CLEAR: MPN-pedestrian              MOTA      MOTP      MODA      CLR_Re    CLR_Pr    MTR       PTR       MLR       sMOTA     CLR_TP    CLR_FN    CLR_FP    IDSW      MT        PT        ML        Frag      \n",
      "NorthSea1                          -16.23    74.277    -16.23    46.597    42.584    0         100       0         -28.216   89        102       120       0         0         2         0         5         \n",
      "difficult1                         69.529    77.234    69.806    73.961    94.681    83.333    16.667    0         52.691    267       94        15        1         5         1         0         10        \n",
      "difficult2                         57.487    71.975    58.556    70.053    85.902    22.222    77.778    0         37.854    262       112       43        4         2         7         0         12        \n",
      "easy1                              82.566    74.879    82.566    88.816    93.426    75        25        0         60.255    270       34        19        0         3         1         0         4         \n",
      "easy2                              85.185    78.296    85.185    89.506    95.395    100       0         0         65.759    145       17        7         0         2         0         0         2         \n",
      "medium1                            87.234    77.375    87.234    89.007    98.047    100       0         0         67.097    251       31        5         0         2         0         0         3         \n",
      "medium2                            89.222    76.895    89.222    90.719    98.377    100       0         0         68.261    303       31        5         0         5         0         0         5         \n",
      "COMBINED                           68.127    75.854    68.376    79.034    88.118    63.333    36.667    0         49.044    1587      421       214       5         19        11        0         41        \n",
      "\n",
      "Identity: MPN-pedestrian           IDF1      IDR       IDP       IDTP      IDFN      IDFP      \n",
      "NorthSea1                          44.5      46.597    42.584    89        102       120       \n",
      "difficult1                         65.319    58.172    74.468    210       151       72        \n",
      "difficult2                         56.554    51.337    62.951    192       182       113       \n",
      "easy1                              67.454    65.789    69.204    200       104       89        \n",
      "easy2                              92.357    89.506    95.395    145       17        7         \n",
      "medium1                            93.309    89.007    98.047    251       31        5         \n",
      "medium2                            71.963    69.162    75        231       103       77        \n",
      "COMBINED                           69.205    65.637    73.182    1318      690       483       \n",
      "\n",
      "Count: MPN-pedestrian              Dets      GT_Dets   IDs       GT_IDs    \n",
      "NorthSea1                          209       191       2         2         \n",
      "difficult1                         282       361       5         6         \n",
      "difficult2                         305       374       12        9         \n",
      "easy1                              289       304       3         4         \n",
      "easy2                              152       162       3         2         \n",
      "medium1                            256       282       2         2         \n",
      "medium2                            308       334       4         5         \n",
      "COMBINED                           1801      2008      31        30        \n",
      "\n",
      "Timing analysis:\n",
      "MotChallenge2DBox.get_raw_seq_data                                     1.0831 sec\n",
      "MotChallenge2DBox.get_preprocessed_seq_data                            1.5220 sec\n",
      "HOTA.eval_sequence                                                     1.4463 sec\n",
      "CLEAR.eval_sequence                                                    0.1934 sec\n",
      "Identity.eval_sequence                                                 0.1819 sec\n",
      "Count.eval_sequence                                                    0.0001 sec\n",
      "eval_sequence                                                          4.4696 sec\n",
      "Evaluator.evaluate                                                     5.8317 sec\n",
      "Computing CLEAR metrics for sequence: NorthSea1\n",
      "Computing CLEAR metrics for sequence: difficult1\n",
      "Computing CLEAR metrics for sequence: difficult2\n",
      "Computing CLEAR metrics for sequence: easy1\n",
      "Computing CLEAR metrics for sequence: easy2\n",
      "Computing CLEAR metrics for sequence: medium1\n",
      "Computing CLEAR metrics for sequence: medium2\n",
      "Per-sequence metrics for p3v6_v11_1000e_mosaic0.8_perspective0.0005_cutmix0.1:\n",
      "Sequence: easy1, Metrics: {'MOTA': -0.16, 'MOTP': 0.74, 'IDF1': 0.44}\n",
      "Sequence: easy2, Metrics: {'MOTA': 0.7, 'MOTP': 0.77, 'IDF1': 0.65}\n",
      "Sequence: medium1, Metrics: {'MOTA': 0.57, 'MOTP': 0.72, 'IDF1': 0.57}\n",
      "Sequence: medium2, Metrics: {'MOTA': 0.83, 'MOTP': 0.75, 'IDF1': 0.67}\n",
      "Sequence: difficult1, Metrics: {'MOTA': 0.85, 'MOTP': 0.78, 'IDF1': 0.92}\n",
      "Sequence: difficult2, Metrics: {'MOTA': 0.87, 'MOTP': 0.77, 'IDF1': 0.93}\n",
      "Sequence: NorthSea1, Metrics: {'MOTA': 0.89, 'MOTP': 0.77, 'IDF1': 0.72}\n"
     ]
    },
    {
     "data": {
      "text/html": [
       "Tracking run with wandb version 0.19.6"
      ],
      "text/plain": [
       "<IPython.core.display.HTML object>"
      ]
     },
     "metadata": {},
     "output_type": "display_data"
    },
    {
     "data": {
      "text/html": [
       "Run data is saved locally in <code>/vol/biomedic3/bglocker/ugproj/tk1420/SharkTrack-Dev/evaluation/wandb/run-20250613_191943-az0mhsr3</code>"
      ],
      "text/plain": [
       "<IPython.core.display.HTML object>"
      ]
     },
     "metadata": {},
     "output_type": "display_data"
    },
    {
     "data": {
      "text/html": [
       "Syncing run <strong><a href='https://wandb.ai/tk1420-imperial-college-london/SharkTrack-Dev_v2/runs/az0mhsr3' target=\"_blank\">p3v6_v11_1000e_mosaic0.8_perspective0.0005_cutmix0.1_conf0.0977_eval1</a></strong> to <a href='https://wandb.ai/tk1420-imperial-college-london/SharkTrack-Dev_v2' target=\"_blank\">Weights & Biases</a> (<a href='https://wandb.me/developer-guide' target=\"_blank\">docs</a>)<br>"
      ],
      "text/plain": [
       "<IPython.core.display.HTML object>"
      ]
     },
     "metadata": {},
     "output_type": "display_data"
    },
    {
     "data": {
      "text/html": [
       " View project at <a href='https://wandb.ai/tk1420-imperial-college-london/SharkTrack-Dev_v2' target=\"_blank\">https://wandb.ai/tk1420-imperial-college-london/SharkTrack-Dev_v2</a>"
      ],
      "text/plain": [
       "<IPython.core.display.HTML object>"
      ]
     },
     "metadata": {},
     "output_type": "display_data"
    },
    {
     "data": {
      "text/html": [
       " View run at <a href='https://wandb.ai/tk1420-imperial-college-london/SharkTrack-Dev_v2/runs/az0mhsr3' target=\"_blank\">https://wandb.ai/tk1420-imperial-college-london/SharkTrack-Dev_v2/runs/az0mhsr3</a>"
      ],
      "text/plain": [
       "<IPython.core.display.HTML object>"
      ]
     },
     "metadata": {},
     "output_type": "display_data"
    },
    {
     "data": {
      "text/html": [],
      "text/plain": [
       "<IPython.core.display.HTML object>"
      ]
     },
     "metadata": {},
     "output_type": "display_data"
    },
    {
     "data": {
      "text/html": [
       "<br>    <style><br>        .wandb-row {<br>            display: flex;<br>            flex-direction: row;<br>            flex-wrap: wrap;<br>            justify-content: flex-start;<br>            width: 100%;<br>        }<br>        .wandb-col {<br>            display: flex;<br>            flex-direction: column;<br>            flex-basis: 100%;<br>            flex: 1;<br>            padding: 10px;<br>        }<br>    </style><br><div class=\"wandb-row\"><div class=\"wandb-col\"><h3>Run history:</h3><br/><table class=\"wandb\"><tr><td>NorthSea1/idf1</td><td>▁</td></tr><tr><td>NorthSea1/mota</td><td>▁</td></tr><tr><td>NorthSea1/motp</td><td>▁</td></tr><tr><td>all/idf1</td><td>▁</td></tr><tr><td>all/map50</td><td>▁</td></tr><tr><td>all/mota</td><td>▁</td></tr><tr><td>all/motp</td><td>▁</td></tr><tr><td>difficult1/idf1</td><td>▁</td></tr><tr><td>difficult1/mota</td><td>▁</td></tr><tr><td>difficult1/motp</td><td>▁</td></tr><tr><td>difficult2/idf1</td><td>▁</td></tr><tr><td>difficult2/mota</td><td>▁</td></tr><tr><td>difficult2/motp</td><td>▁</td></tr><tr><td>easy1/idf1</td><td>▁</td></tr><tr><td>easy1/mota</td><td>▁</td></tr><tr><td>easy1/motp</td><td>▁</td></tr><tr><td>easy2/idf1</td><td>▁</td></tr><tr><td>easy2/mota</td><td>▁</td></tr><tr><td>easy2/motp</td><td>▁</td></tr><tr><td>medium1/idf1</td><td>▁</td></tr><tr><td>medium1/mota</td><td>▁</td></tr><tr><td>medium1/motp</td><td>▁</td></tr><tr><td>medium2/idf1</td><td>▁</td></tr><tr><td>medium2/mota</td><td>▁</td></tr><tr><td>medium2/motp</td><td>▁</td></tr><tr><td>track_time</td><td>▁</td></tr></table><br/></div><div class=\"wandb-col\"><h3>Run summary:</h3><br/><table class=\"wandb\"><tr><td>NorthSea1/idf1</td><td>0.72</td></tr><tr><td>NorthSea1/mota</td><td>0.89</td></tr><tr><td>NorthSea1/motp</td><td>0.77</td></tr><tr><td>all/idf1</td><td>0.7</td></tr><tr><td>all/map50</td><td>0.87553</td></tr><tr><td>all/mota</td><td>0.65</td></tr><tr><td>all/motp</td><td>0.75714</td></tr><tr><td>difficult1/idf1</td><td>0.92</td></tr><tr><td>difficult1/mota</td><td>0.85</td></tr><tr><td>difficult1/motp</td><td>0.78</td></tr><tr><td>difficult2/idf1</td><td>0.93</td></tr><tr><td>difficult2/mota</td><td>0.87</td></tr><tr><td>difficult2/motp</td><td>0.77</td></tr><tr><td>easy1/idf1</td><td>0.44</td></tr><tr><td>easy1/mota</td><td>-0.16</td></tr><tr><td>easy1/motp</td><td>0.74</td></tr><tr><td>easy2/idf1</td><td>0.65</td></tr><tr><td>easy2/mota</td><td>0.7</td></tr><tr><td>easy2/motp</td><td>0.77</td></tr><tr><td>medium1/idf1</td><td>0.57</td></tr><tr><td>medium1/mota</td><td>0.57</td></tr><tr><td>medium1/motp</td><td>0.72</td></tr><tr><td>medium2/idf1</td><td>0.67</td></tr><tr><td>medium2/mota</td><td>0.83</td></tr><tr><td>medium2/motp</td><td>0.75</td></tr><tr><td>track_device</td><td>NVIDIA GeForce RTX 4...</td></tr><tr><td>track_time</td><td>44.87858</td></tr></table><br/></div></div>"
      ],
      "text/plain": [
       "<IPython.core.display.HTML object>"
      ]
     },
     "metadata": {},
     "output_type": "display_data"
    },
    {
     "data": {
      "text/html": [
       " View run <strong style=\"color:#cdcd00\">p3v6_v11_1000e_mosaic0.8_perspective0.0005_cutmix0.1_conf0.0977_eval1</strong> at: <a href='https://wandb.ai/tk1420-imperial-college-london/SharkTrack-Dev_v2/runs/az0mhsr3' target=\"_blank\">https://wandb.ai/tk1420-imperial-college-london/SharkTrack-Dev_v2/runs/az0mhsr3</a><br> View project at: <a href='https://wandb.ai/tk1420-imperial-college-london/SharkTrack-Dev_v2' target=\"_blank\">https://wandb.ai/tk1420-imperial-college-london/SharkTrack-Dev_v2</a><br>Synced 5 W&B file(s), 0 media file(s), 0 artifact file(s) and 0 other file(s)"
      ],
      "text/plain": [
       "<IPython.core.display.HTML object>"
      ]
     },
     "metadata": {},
     "output_type": "display_data"
    },
    {
     "data": {
      "text/html": [
       "Find logs at: <code>./wandb/run-20250613_191943-az0mhsr3/logs</code>"
      ],
      "text/plain": [
       "<IPython.core.display.HTML object>"
      ]
     },
     "metadata": {},
     "output_type": "display_data"
    },
    {
     "name": "stdout",
     "output_type": "stream",
     "text": [
      "Logged results for p3v6_v11_1000e_mosaic0.8_perspective0.0005_cutmix0.1 to wandb.\n"
     ]
    }
   ],
   "source": [
    "data_yaml = '/vol/biomedic3/bglocker/ugproj/tk1420/p3v6/data_config.yaml'\n",
    "project_folder = '/vol/biomedic3/bglocker/ugproj/tk1420/SharkTrack-Dev/'\n",
    "# Now evaluate each model at its optimal confidence threshold and print confusion matrix\n",
    "\n",
    "for model_name, conf_threshold in modelToConf.items():\n",
    "    print(f\"Evaluating model {model_name} at confidence threshold {conf_threshold:.4f}\")\n",
    "    model = load_model(model_name)\n",
    "    \n",
    "    job_name='eval1'\n",
    "    \n",
    "    # Evaluate the model on the SharkTrack dataset\n",
    "    results = model.val(name=f\"{job_name}_{model_name}_val_conf{conf_threshold:.4f}_\",\n",
    "                        data=data_yaml,\n",
    "                        conf=conf_threshold,\n",
    "                        plots=True,\n",
    "                        save_json=False,\n",
    "                        verbose=False,\n",
    "                        iou=0.5)\n",
    "\n",
    "    # Print confusion matrix\n",
    "    cm = results.confusion_matrix.matrix\n",
    "    print(f\"Confusion Matrix for {model_name} at conf: {conf_threshold:.4f}\")\n",
    "    print(cm)\n",
    "    \n",
    "    # Evaluate per sequence metrics\n",
    "    model_path = os.path.join(project_folder, 'models', model_name, 'weights', 'best.pt')\n",
    "    metrics_per_sequence, track_time, device, all_aligned_annotations = evaluate_per_sequence(model_path, conf_threshold, iou_association_threshold=0.5,imgsz=640, tracker_type='tracker_5fps.yaml')\n",
    "    print(f\"Per-sequence metrics for {model_name}:\")\n",
    "    for seq, metrics in metrics_per_sequence.items():\n",
    "        print(f\"Sequence: {seq}, Metrics: {metrics}\")\n",
    "        \n",
    "    # Log to wandb\n",
    "    run_name = model_name + f\"_conf{conf_threshold:.4f}_{job_name}\"\n",
    "    wandb.init(project=\"SharkTrack-Dev_v2\", name=run_name, config=modelToParams[model_name], job_type=job_name)\n",
    "    log_data = {}\n",
    "    for seq, metrics in metrics_per_sequence.items():\n",
    "        # Best map50\n",
    "        log_data[f\"{seq}/mota\"] = metrics['MOTA']\n",
    "        log_data[f\"{seq}/motp\"] = metrics['MOTP']\n",
    "        log_data[f\"{seq}/idf1\"] = metrics['IDF1']\n",
    "        \n",
    "    log_data['track_time'] = track_time\n",
    "    log_data['track_device'] = device\n",
    "    log_data[\"all/map50\"] = results.results_dict['metrics/mAP50(B)']\n",
    "    log_data['all/mota'] = sum(metrics['MOTA'] for metrics in metrics_per_sequence.values()) / len(metrics_per_sequence)\n",
    "    log_data['all/motp'] = sum(metrics['MOTP'] for metrics in metrics_per_sequence.values()) / len(metrics_per_sequence)\n",
    "    log_data['all/idf1'] = sum(metrics['IDF1'] for metrics in metrics_per_sequence.values()) / len(metrics_per_sequence)\n",
    "    wandb.log(log_data)\n",
    "    wandb.finish()\n",
    "    print(f\"Logged results for {model_name} to wandb.\")"
   ]
  },
  {
   "cell_type": "code",
   "execution_count": 35,
   "id": "e9653ef5",
   "metadata": {},
   "outputs": [
    {
     "name": "stdout",
     "output_type": "stream",
     "text": [
      "0.8664611982322571\n"
     ]
    }
   ],
   "source": [
    "print(results.results_dict['metrics/mAP50(B)'])"
   ]
  },
  {
   "cell_type": "markdown",
   "id": "7d6c6dc4",
   "metadata": {},
   "source": [
    "### Evaluate the model on the the first NorthSea validation video to get mAp\n",
    "```python"
   ]
  },
  {
   "cell_type": "code",
   "execution_count": null,
   "id": "302b714d",
   "metadata": {},
   "outputs": [
    {
     "name": "stdout",
     "output_type": "stream",
     "text": [
      "Evaluating model p3v6_v8n_1000e_augs_ns_backgrounds on North Sea dataset at confidence threshold 0.2344\n",
      "Ultralytics 8.3.0 🚀 Python-3.12.3 torch-2.6.0+cu124 CUDA:0 (NVIDIA GeForce RTX 4080, 16072MiB)\n",
      "Model summary (fused): 168 layers, 3,005,843 parameters, 0 gradients, 8.1 GFLOPs\n"
     ]
    },
    {
     "name": "stderr",
     "output_type": "stream",
     "text": [
      "\u001b[34m\u001b[1mval: \u001b[0mScanning /vol/biomedic3/bglocker/ugproj/tk1420/NorthSea1_val/val/labels... 191 images, 309 backgrounds, 0 corrupt: 100%|██████████| 500/500 [00:00<00:00, 1099.05it/s]\n"
     ]
    },
    {
     "name": "stdout",
     "output_type": "stream",
     "text": [
      "\u001b[34m\u001b[1mval: \u001b[0mNew cache created: /vol/biomedic3/bglocker/ugproj/tk1420/NorthSea1_val/val/labels.cache\n"
     ]
    },
    {
     "name": "stderr",
     "output_type": "stream",
     "text": [
      "                 Class     Images  Instances      Box(P          R      mAP50  mAP50-95): 100%|██████████| 32/32 [00:02<00:00, 13.45it/s]"
     ]
    },
    {
     "name": "stdout",
     "output_type": "stream",
     "text": [
      "                   all        500        191          0          0          0          0\n"
     ]
    },
    {
     "name": "stderr",
     "output_type": "stream",
     "text": [
      "\n"
     ]
    },
    {
     "name": "stdout",
     "output_type": "stream",
     "text": [
      "Speed: 1.0ms preprocess, 1.3ms inference, 0.0ms loss, 0.4ms postprocess per image\n",
      "Results saved to \u001b[1m/vol/biomedic3/bglocker/ugproj/tk1420/SharkTrack-Dev/runs/detect/ns1_eval_p3v6_v8n_1000e_augs_ns_backgrounds_val_conf0.2344_\u001b[0m\n",
      "Confusion Matrix for p3v6_v8n_1000e_augs_ns_backgrounds at conf: 0.2344 on North Sea dataset\n",
      "[[          0           0]\n",
      " [        191           0]]\n",
      "Results for p3v6_v8n_1000e_augs_ns_backgrounds on North Sea dataset: 0.0\n",
      "Evaluating model p3v6_v8s_1000e_v8s_augs_ns_backgrounds8 on North Sea dataset at confidence threshold 0.1797\n",
      "Ultralytics 8.3.0 🚀 Python-3.12.3 torch-2.6.0+cu124 CUDA:0 (NVIDIA GeForce RTX 4080, 16072MiB)\n",
      "Model summary (fused): 168 layers, 11,125,971 parameters, 0 gradients, 28.4 GFLOPs\n"
     ]
    },
    {
     "name": "stderr",
     "output_type": "stream",
     "text": [
      "\u001b[34m\u001b[1mval: \u001b[0mScanning /vol/biomedic3/bglocker/ugproj/tk1420/NorthSea1_val/val/labels.cache... 191 images, 309 backgrounds, 0 corrupt: 100%|██████████| 500/500 [00:00<?, ?it/s]\n",
      "                 Class     Images  Instances      Box(P          R      mAP50  mAP50-95): 100%|██████████| 32/32 [00:02<00:00, 11.97it/s]"
     ]
    },
    {
     "name": "stdout",
     "output_type": "stream",
     "text": [
      "                   all        500        191          0          0          0          0\n"
     ]
    },
    {
     "name": "stderr",
     "output_type": "stream",
     "text": [
      "\n"
     ]
    },
    {
     "name": "stdout",
     "output_type": "stream",
     "text": [
      "Speed: 1.1ms preprocess, 2.4ms inference, 0.0ms loss, 0.3ms postprocess per image\n",
      "Results saved to \u001b[1m/vol/biomedic3/bglocker/ugproj/tk1420/SharkTrack-Dev/runs/detect/ns1_eval_p3v6_v8s_1000e_v8s_augs_ns_backgrounds8_val_conf0.1797_\u001b[0m\n",
      "Confusion Matrix for p3v6_v8s_1000e_v8s_augs_ns_backgrounds8 at conf: 0.1797 on North Sea dataset\n",
      "[[          0           0]\n",
      " [        191           0]]\n",
      "Results for p3v6_v8s_1000e_v8s_augs_ns_backgrounds8 on North Sea dataset: 0.0\n",
      "Evaluating model p3v6_v8s_1000e_mosaic0.8_perspective0.0005_cutmix0.1 on North Sea dataset at confidence threshold 0.2109\n",
      "Ultralytics 8.3.0 🚀 Python-3.12.3 torch-2.6.0+cu124 CUDA:0 (NVIDIA GeForce RTX 4080, 16072MiB)\n",
      "Model summary (fused): 168 layers, 11,125,971 parameters, 0 gradients, 28.4 GFLOPs\n"
     ]
    },
    {
     "name": "stderr",
     "output_type": "stream",
     "text": [
      "\u001b[34m\u001b[1mval: \u001b[0mScanning /vol/biomedic3/bglocker/ugproj/tk1420/NorthSea1_val/val/labels.cache... 191 images, 309 backgrounds, 0 corrupt: 100%|██████████| 500/500 [00:00<?, ?it/s]\n",
      "                 Class     Images  Instances      Box(P          R      mAP50  mAP50-95): 100%|██████████| 32/32 [00:02<00:00, 13.98it/s]\n"
     ]
    },
    {
     "name": "stdout",
     "output_type": "stream",
     "text": [
      "                   all        500        191     0.0501     0.0942     0.0216    0.00538\n",
      "Speed: 0.2ms preprocess, 1.0ms inference, 0.0ms loss, 0.9ms postprocess per image\n",
      "Results saved to \u001b[1m/vol/biomedic3/bglocker/ugproj/tk1420/SharkTrack-Dev/runs/detect/ns1_eval_p3v6_v8s_1000e_mosaic0.8_perspective0.0005_cutmix0.1_val_conf0.2109_\u001b[0m\n",
      "Confusion Matrix for p3v6_v8s_1000e_mosaic0.8_perspective0.0005_cutmix0.1 at conf: 0.2109 on North Sea dataset\n",
      "[[         26           3]\n",
      " [        165           0]]\n",
      "Results for p3v6_v8s_1000e_mosaic0.8_perspective0.0005_cutmix0.1 on North Sea dataset: 0.021575817770003076\n",
      "Evaluating model p3v6_v8n_1000e_mosaic0.8_perspective0.0005_cutmix0.15 on North Sea dataset at confidence threshold 0.2500\n",
      "Ultralytics 8.3.0 🚀 Python-3.12.3 torch-2.6.0+cu124 CUDA:0 (NVIDIA GeForce RTX 4080, 16072MiB)\n",
      "Model summary (fused): 168 layers, 3,005,843 parameters, 0 gradients, 8.1 GFLOPs\n"
     ]
    },
    {
     "name": "stderr",
     "output_type": "stream",
     "text": [
      "\u001b[34m\u001b[1mval: \u001b[0mScanning /vol/biomedic3/bglocker/ugproj/tk1420/NorthSea1_val/val/labels.cache... 191 images, 309 backgrounds, 0 corrupt: 100%|██████████| 500/500 [00:00<?, ?it/s]\n",
      "                 Class     Images  Instances      Box(P          R      mAP50  mAP50-95): 100%|██████████| 32/32 [01:23<00:00,  2.59s/it]\n"
     ]
    },
    {
     "name": "stdout",
     "output_type": "stream",
     "text": [
      "                   all        500        191     0.0429     0.0262     0.0117    0.00325\n",
      "Speed: 0.4ms preprocess, 0.6ms inference, 0.0ms loss, 0.8ms postprocess per image\n",
      "Results saved to \u001b[1m/vol/biomedic3/bglocker/ugproj/tk1420/SharkTrack-Dev/runs/detect/ns1_eval_p3v6_v8n_1000e_mosaic0.8_perspective0.0005_cutmix0.15_val_conf0.2500_\u001b[0m\n",
      "Confusion Matrix for p3v6_v8n_1000e_mosaic0.8_perspective0.0005_cutmix0.15 at conf: 0.2500 on North Sea dataset\n",
      "[[         25           7]\n",
      " [        166           0]]\n",
      "Results for p3v6_v8n_1000e_mosaic0.8_perspective0.0005_cutmix0.15 on North Sea dataset: 0.011747632263596021\n",
      "Evaluating model p3v6_v8s_1000e2 on North Sea dataset at confidence threshold 0.0527\n",
      "Ultralytics 8.3.0 🚀 Python-3.12.3 torch-2.6.0+cu124 CUDA:0 (NVIDIA GeForce RTX 4080, 16072MiB)\n",
      "Model summary (fused): 168 layers, 11,125,971 parameters, 0 gradients, 28.4 GFLOPs\n"
     ]
    },
    {
     "name": "stderr",
     "output_type": "stream",
     "text": [
      "\u001b[34m\u001b[1mval: \u001b[0mScanning /vol/biomedic3/bglocker/ugproj/tk1420/NorthSea1_val/val/labels.cache... 191 images, 309 backgrounds, 0 corrupt: 100%|██████████| 500/500 [00:00<?, ?it/s]\n",
      "                 Class     Images  Instances      Box(P          R      mAP50  mAP50-95): 100%|██████████| 32/32 [00:02<00:00, 12.68it/s]\n"
     ]
    },
    {
     "name": "stdout",
     "output_type": "stream",
     "text": [
      "                   all        500        191     0.0203     0.0262     0.0104    0.00187\n",
      "Speed: 0.9ms preprocess, 1.4ms inference, 0.0ms loss, 0.7ms postprocess per image\n",
      "Results saved to \u001b[1m/vol/biomedic3/bglocker/ugproj/tk1420/SharkTrack-Dev/runs/detect/ns1_eval_p3v6_v8s_1000e2_val_conf0.0527_\u001b[0m\n",
      "Confusion Matrix for p3v6_v8s_1000e2 at conf: 0.0527 on North Sea dataset\n",
      "[[          8           0]\n",
      " [        183           0]]\n",
      "Results for p3v6_v8s_1000e2 on North Sea dataset: 0.010448280638433442\n",
      "Evaluating model p3v6_v11_1000e_mosaic0.8_perspective0.0005_cutmix0.1 on North Sea dataset at confidence threshold 0.2500\n",
      "Ultralytics 8.3.0 🚀 Python-3.12.3 torch-2.6.0+cu124 CUDA:0 (NVIDIA GeForce RTX 4080, 16072MiB)\n",
      "YOLO11s summary (fused): 238 layers, 9,413,187 parameters, 0 gradients, 21.3 GFLOPs\n"
     ]
    },
    {
     "name": "stderr",
     "output_type": "stream",
     "text": [
      "\u001b[34m\u001b[1mval: \u001b[0mScanning /vol/biomedic3/bglocker/ugproj/tk1420/NorthSea1_val/val/labels.cache... 191 images, 309 backgrounds, 0 corrupt: 100%|██████████| 500/500 [00:00<?, ?it/s]\n",
      "                 Class     Images  Instances      Box(P          R      mAP50  mAP50-95): 100%|██████████| 32/32 [00:03<00:00, 10.56it/s]\n"
     ]
    },
    {
     "name": "stdout",
     "output_type": "stream",
     "text": [
      "                   all        500        191     0.0399      0.126     0.0235    0.00656\n",
      "Speed: 0.4ms preprocess, 1.7ms inference, 0.0ms loss, 1.1ms postprocess per image\n",
      "Results saved to \u001b[1m/vol/biomedic3/bglocker/ugproj/tk1420/SharkTrack-Dev/runs/detect/ns1_eval_p3v6_v11_1000e_mosaic0.8_perspective0.0005_cutmix0.1_val_conf0.2500_\u001b[0m\n",
      "Confusion Matrix for p3v6_v11_1000e_mosaic0.8_perspective0.0005_cutmix0.1 at conf: 0.2500 on North Sea dataset\n",
      "[[         36           0]\n",
      " [        155           0]]\n",
      "Results for p3v6_v11_1000e_mosaic0.8_perspective0.0005_cutmix0.1 on North Sea dataset: 0.02350218656995743\n"
     ]
    }
   ],
   "source": [
    "ns_data_yaml = '/vol/biomedic3/bglocker/ugproj/tk1420/NorthSea1_val/data_config.yaml'\n",
    "\n",
    "for model_name, conf_threshold in modelToConf.items():\n",
    "    print(f\"Evaluating model {model_name} on North Sea dataset at confidence threshold {conf_threshold:.4f}\")\n",
    "    model = load_model(model_name)\n",
    "    \n",
    "    job_name='ns1_eval'\n",
    "    \n",
    "    # Evaluate the model on the North Sea dataset\n",
    "    results = model.val(name=f\"{job_name}_{model_name}_val_conf{conf_threshold:.4f}_\",\n",
    "                        data=ns_data_yaml,\n",
    "                        conf=conf_threshold,\n",
    "                        plots=True,\n",
    "                        save_json=False,\n",
    "                        verbose=False,\n",
    "                        iou=0.5)\n",
    "\n",
    "    # Print confusion matrix\n",
    "    cm = results.confusion_matrix.matrix\n",
    "    print(f\"Confusion Matrix for {model_name} at conf: {conf_threshold:.4f} on North Sea dataset\")\n",
    "    print(cm)\n",
    "    \n",
    "    print(f\"Results for {model_name} on North Sea dataset: {results.results_dict['metrics/mAP50(B)']}\")\n",
    "    \n",
    "    \n",
    "    # log to wandb\n",
    "    run_name = model_name + f\"_conf{conf_threshold:.4f}_{job_name}\"\n",
    "    wandb.init(project=\"SharkTrack-Dev\", name=run_name, config=modelToParams[model_name], job_type=job_name)\n",
    "    log_data = {}\n",
    "    log_data['map50_ns1'] = results.results_dict['metrics/mAP50(B)']\n",
    "   "
   ]
  }
 ],
 "metadata": {
  "kernelspec": {
   "display_name": ".venv",
   "language": "python",
   "name": "python3"
  },
  "language_info": {
   "codemirror_mode": {
    "name": "ipython",
    "version": 3
   },
   "file_extension": ".py",
   "mimetype": "text/x-python",
   "name": "python",
   "nbconvert_exporter": "python",
   "pygments_lexer": "ipython3",
   "version": "3.12.3"
  }
 },
 "nbformat": 4,
 "nbformat_minor": 5
}
