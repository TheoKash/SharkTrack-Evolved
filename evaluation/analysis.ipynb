{
 "cells": [
  {
   "cell_type": "code",
   "execution_count": 1,
   "metadata": {},
   "outputs": [],
   "source": [
    "import pandas as pd"
   ]
  },
  {
   "cell_type": "code",
   "execution_count": 2,
   "metadata": {},
   "outputs": [],
   "source": [
    "df = pd.read_csv('hyperparameter_tuning.csv')"
   ]
  },
  {
   "cell_type": "code",
   "execution_count": 5,
   "metadata": {},
   "outputs": [
    {
     "name": "stdout",
     "output_type": "stream",
     "text": [
      "    tracker_type  track_high_thresh  track_low_thresh  new_track_thresh  \\\n",
      "456      botsort                0.6               0.4               0.6   \n",
      "276      botsort                0.6               0.1               0.4   \n",
      "436      botsort                0.6               0.4               0.4   \n",
      "376      botsort                0.6               0.2               0.6   \n",
      "416      botsort                0.6               0.4               0.2   \n",
      "136      botsort                0.4               0.1               0.6   \n",
      "256      botsort                0.6               0.1               0.2   \n",
      "296      botsort                0.6               0.1               0.6   \n",
      "16       botsort                0.2               0.1               0.2   \n",
      "336      botsort                0.6               0.2               0.2   \n",
      "196      botsort                0.4               0.2               0.4   \n",
      "176      botsort                0.4               0.2               0.2   \n",
      "116      botsort                0.4               0.1               0.4   \n",
      "56       botsort                0.2               0.1               0.6   \n",
      "216      botsort                0.4               0.2               0.6   \n",
      "356      botsort                0.6               0.2               0.4   \n",
      "96       botsort                0.4               0.1               0.2   \n",
      "36       botsort                0.2               0.1               0.4   \n",
      "148      botsort                0.4               0.1               0.6   \n",
      "264      botsort                0.6               0.1               0.2   \n",
      "\n",
      "     track_buffer  match_thresh  mota  motp  idf1  hota  \n",
      "456             1          0.95  0.41  0.77  0.51  0.51  \n",
      "276             1          0.95  0.41  0.77  0.51  0.51  \n",
      "436             1          0.95  0.41  0.77  0.51  0.51  \n",
      "376             1          0.95  0.41  0.77  0.51  0.51  \n",
      "416             1          0.95  0.41  0.77  0.51  0.51  \n",
      "136             1          0.95  0.41  0.77  0.51  0.51  \n",
      "256             1          0.95  0.41  0.77  0.51  0.51  \n",
      "296             1          0.95  0.41  0.77  0.51  0.51  \n",
      "16              1          0.95  0.41  0.77  0.51  0.51  \n",
      "336             1          0.95  0.41  0.77  0.51  0.51  \n",
      "196             1          0.95  0.41  0.77  0.51  0.51  \n",
      "176             1          0.95  0.41  0.77  0.51  0.51  \n",
      "116             1          0.95  0.41  0.77  0.51  0.51  \n",
      "56              1          0.95  0.41  0.77  0.51  0.51  \n",
      "216             1          0.95  0.41  0.77  0.51  0.51  \n",
      "356             1          0.95  0.41  0.77  0.51  0.51  \n",
      "96              1          0.95  0.41  0.77  0.51  0.51  \n",
      "36              1          0.95  0.41  0.77  0.51  0.51  \n",
      "148             4          0.95  0.40  0.77  0.50  0.51  \n",
      "264             3          0.95  0.40  0.77  0.49  0.51  \n"
     ]
    }
   ],
   "source": [
    "# Show top 5 rows by mota\n",
    "print(df.sort_values(by='mota', ascending=False).head(20))"
   ]
  },
  {
   "cell_type": "code",
   "execution_count": null,
   "metadata": {},
   "outputs": [],
   "source": []
  }
 ],
 "metadata": {
  "kernelspec": {
   "display_name": "default_ml_pytorch",
   "language": "python",
   "name": "python3"
  },
  "language_info": {
   "codemirror_mode": {
    "name": "ipython",
    "version": 3
   },
   "file_extension": ".py",
   "mimetype": "text/x-python",
   "name": "python",
   "nbconvert_exporter": "python",
   "pygments_lexer": "ipython3",
   "version": "3.10.12"
  }
 },
 "nbformat": 4,
 "nbformat_minor": 2
}
