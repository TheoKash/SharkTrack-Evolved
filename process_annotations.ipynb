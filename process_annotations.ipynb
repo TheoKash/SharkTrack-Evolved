{
 "cells": [
  {
   "cell_type": "code",
   "execution_count": 2,
   "metadata": {},
   "outputs": [],
   "source": [
    "import pandas as pd"
   ]
  },
  {
   "cell_type": "code",
   "execution_count": 11,
   "metadata": {},
   "outputs": [],
   "source": [
    "df_2021 = pd.read_csv('annotations/annotations_2021.csv')\n",
    "df_2022 = pd.read_csv('annotations/annotations_2022.csv')\n",
    "df_2023 = pd.read_csv('annotations/annotations_2023.csv')"
   ]
  },
  {
   "cell_type": "code",
   "execution_count": 12,
   "metadata": {},
   "outputs": [
    {
     "name": "stdout",
     "output_type": "stream",
     "text": [
      "Columns for df_2021:\n",
      "Index(['Unnamed: 0', 'Filename', 'Frame', 'Time..mins.', 'Period',\n",
      "       'Period.time..mins.', 'Image.row', 'Image.col', 'Width', 'Height',\n",
      "       'OpCode', 'TapeReader', 'Depth', 'Comment', 'Location_Name',\n",
      "       'Deploy_Year', 'Deploy_Month', 'Deploy_Day', 'Local_Time',\n",
      "       'GPS_Latitude', 'GPS_Longitude', 'Habitat_Code', 'Family', 'Genus',\n",
      "       'Species', 'Code', 'Number', 'Stage', 'Activity', 'Comment.1', 'X',\n",
      "       'X.1'],\n",
      "      dtype='object')\n",
      "Columns for df_2022:\n",
      "Index(['Unnamed: 0', 'Filename', 'Frame', 'Time..mins.', 'Period',\n",
      "       'Period.time..mins.', 'Image.row', 'Image.col', 'Width', 'Height',\n",
      "       'OpCode', 'TapeReader', 'Depth', 'Comment', 'Location_Name',\n",
      "       'Deploy_Year', 'Deploy_Month', 'Deploy_Day', 'Local_Time',\n",
      "       'GPS_Latitude', 'GPS_Longitude', 'Habitat_Code', 'Family', 'Genus',\n",
      "       'Species', 'Code', 'Number', 'Stage', 'Activity', 'Comment.1', 'X',\n",
      "       'X.1'],\n",
      "      dtype='object')\n",
      "Columns for df_2023:\n",
      "Index(['Unnamed: 0', 'Filename', 'Frame', 'Time..mins.', 'Period',\n",
      "       'Period.time..mins.', 'Image.row', 'Image.col', 'Width', 'Height',\n",
      "       'OpCode', 'TapeReader', 'Depth', 'Comment', 'Location_Name', 'Date',\n",
      "       'Deploy_Year', 'Deploy_Month', 'Deploy_Day', 'Local_Time',\n",
      "       'GPS_Latitude', 'GPS_Longitude', 'Family', 'Genus', 'Species', 'Code',\n",
      "       'Number', 'Stage', 'Activity', 'Comment.1', 'X', 'X.1'],\n",
      "      dtype='object')\n"
     ]
    }
   ],
   "source": [
    "print(\"Columns for df_2021:\")\n",
    "print(df_2021.columns)\n",
    "\n",
    "print(\"Columns for df_2022:\")\n",
    "print(df_2022.columns)\n",
    "\n",
    "print(\"Columns for df_2023:\")\n",
    "print(df_2023.columns)\n",
    "\n",
    "# Get the column sets for each dataframe\n",
    "columns_2021 = set(df_2021.columns)\n",
    "columns_2022 = set(df_2022.columns)\n",
    "columns_2023 = set(df_2023.columns)\n",
    "\n",
    "interested_columns = ['Filename', 'Image.row', 'Image.col', 'Width', 'Height', 'Family', 'Genus', 'Species']\n",
    "\n",
    "for col in interested_columns:\n",
    "    if col not in columns_2021:\n",
    "        print(col + \" is not in columns_2021\")\n",
    "    if col not in columns_2022:\n",
    "        print(col + \" is not in columns_2022\")\n",
    "    if col not in columns_2023:\n",
    "        print(col + \" is not in columns_2023\")\n",
    "\n"
   ]
  },
  {
   "cell_type": "code",
   "execution_count": 13,
   "metadata": {},
   "outputs": [],
   "source": [
    "df_2021_filtered = df_2021.loc[:, interested_columns]\n",
    "df_2022_filtered = df_2022.loc[:, interested_columns]\n",
    "df_2023_filtered = df_2023.loc[:, interested_columns]\n"
   ]
  },
  {
   "cell_type": "code",
   "execution_count": 15,
   "metadata": {},
   "outputs": [],
   "source": [
    "df_2021_filtered['Filename'] = \"mwitt_2021_\" + df_2021_filtered['Filename']\n",
    "df_2022_filtered['Filename'] = \"mwitt_2022_\" + df_2022_filtered['Filename']\n",
    "df_2023_filtered['Filename'] = \"mwitt_2023_\" + df_2023_filtered['Filename']"
   ]
  },
  {
   "cell_type": "code",
   "execution_count": 16,
   "metadata": {},
   "outputs": [],
   "source": [
    "concatenated_df = pd.concat([df_2021_filtered, df_2022_filtered, df_2023_filtered])\n"
   ]
  },
  {
   "cell_type": "code",
   "execution_count": 19,
   "metadata": {},
   "outputs": [],
   "source": [
    "concatenated_df.to_csv('mwitt_annotations.csv', index=False)\n"
   ]
  },
  {
   "cell_type": "code",
   "execution_count": null,
   "metadata": {},
   "outputs": [],
   "source": []
  }
 ],
 "metadata": {
  "kernelspec": {
   "display_name": "compvision_tf",
   "language": "python",
   "name": "python3"
  },
  "language_info": {
   "codemirror_mode": {
    "name": "ipython",
    "version": 3
   },
   "file_extension": ".py",
   "mimetype": "text/x-python",
   "name": "python",
   "nbconvert_exporter": "python",
   "pygments_lexer": "ipython3",
   "version": "3.11.5"
  }
 },
 "nbformat": 4,
 "nbformat_minor": 2
}
